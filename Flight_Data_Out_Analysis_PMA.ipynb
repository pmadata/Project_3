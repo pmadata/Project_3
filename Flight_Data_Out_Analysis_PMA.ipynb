{
 "cells": [
  {
   "cell_type": "code",
   "execution_count": 7,
   "id": "3e4268e2-ef14-4532-b9c6-e81f76d19362",
   "metadata": {},
   "outputs": [],
   "source": [
    "%matplotlib inline\n",
    "from matplotlib import style\n",
    "style.use('fivethirtyeight')\n",
    "import matplotlib.pyplot as plt"
   ]
  },
  {
   "cell_type": "code",
   "execution_count": 8,
   "id": "aa25720a-e2dd-4c61-a23d-bbb6e46c732b",
   "metadata": {},
   "outputs": [],
   "source": [
    "import numpy as np\n",
    "import pandas as pd\n",
    "import datetime as dt"
   ]
  },
  {
   "cell_type": "code",
   "execution_count": 14,
   "id": "d274d600-0dc0-4e20-9fce-fa6a709f067a",
   "metadata": {},
   "outputs": [
    {
     "name": "stdout",
     "output_type": "stream",
     "text": [
      "('107767', 'Mar-22', 'O', 'Adelaide', 'Doha', 'Qatar Airways', 'ADL-DOH', 'Qatar', 'Middle East', 'Qatar', 'Middle East', '0', '12', '3396', '2022', '3')\n",
      "('107768', 'Mar-22', 'O', 'Adelaide', 'Kuala Lumpur', 'Malaysia Airlines', 'ADL-KUL', 'Malaysia', 'SE Asia', 'Malaysia', 'SE Asia', '0', '2', '580', '2022', '3')\n",
      "('107769', 'Mar-22', 'O', 'Adelaide', 'New Delhi', 'Qantas Airways', 'MEL-ADL-DEL', 'India', 'S Asia', 'India', 'S Asia', '0', '18', '4512', '2022', '3')\n",
      "('107770', 'Mar-22', 'O', 'Adelaide', 'New Delhi', 'Qantas Airways', 'SYD-ADL-DEL', 'India', 'S Asia', 'India', 'S Asia', '0', '15', '3757', '2022', '3')\n",
      "('107771', 'Mar-22', 'O', 'Adelaide', 'Singapore', 'Singapore Airlines', 'ADL-SIN', 'Singapore', 'SE Asia', 'Singapore', 'SE Asia', '0', '20', '6060', '2022', '3')\n",
      "('107772', 'Mar-22', 'O', 'Brisbane', 'Auckland', 'Air New Zealand', 'BNE-AKL', 'New Zealand', 'New Zealand', 'New Zealand', 'New Zealand', '0', '23', '6299', '2022', '3')\n",
      "('107773', 'Mar-22', 'O', 'Brisbane', 'Christchurch', 'Air New Zealand', 'BNE-CHC', 'New Zealand', 'New Zealand', 'New Zealand', 'New Zealand', '0', '12', '2424', '2022', '3')\n",
      "('107774', 'Mar-22', 'O', 'Brisbane', 'Doha', 'Qatar Airways', 'BNE-DOH', 'Qatar', 'Middle East', 'Qatar', 'Middle East', '0', '31', '10974', '2022', '3')\n",
      "('107775', 'Mar-22', 'O', 'Brisbane', 'Dubai', 'Emirates', 'BNE-DXB', 'United Arab Emirates', 'Middle East', 'United Arab Emirates', 'Middle East', '0', '31', '15834', '2022', '3')\n",
      "('107776', 'Mar-22', 'O', 'Brisbane', 'Honiara', 'Solomon Airlines', 'BNE-HIR', 'Solomon Islands', 'Islands', 'Solomon Islands', 'Islands', '0', '4', '544', '2022', '3')\n",
      "('107777', 'Mar-22', 'O', 'Brisbane', 'Kuala Lumpur', 'Malaysia Airlines', 'BNE-KUL', 'Malaysia', 'SE Asia', 'Malaysia', 'SE Asia', '0', '2', '580', '2022', '3')\n",
      "('107778', 'Mar-22', 'O', 'Brisbane', 'Manila', 'Philippine Airlines', 'BNE-MNL', 'Philippines', 'SE Asia', 'Philippines', 'SE Asia', '0', '4', '672', '2022', '3')\n",
      "('107779', 'Mar-22', 'O', 'Brisbane', 'Nadi', 'Fiji Airways', 'BNE-NAN', 'Fiji', 'Islands', 'Fiji', 'Islands', '0', '13', '2210', '2022', '3')\n",
      "('107780', 'Mar-22', 'O', 'Brisbane', 'Nauru', 'Nauru Airlines', 'BNE-INU', 'Nauru', 'Islands', 'Nauru', 'Islands', '0', '5', '640', '2022', '3')\n",
      "('107781', 'Mar-22', 'O', 'Brisbane', 'Noumea', 'Air Caledonie', 'BNE-NOU', 'New Caledonia', 'Islands', 'New Caledonia', 'Islands', '0', '5', '819', '2022', '3')\n",
      "('107782', 'Mar-22', 'O', 'Brisbane', 'Port Moresby', 'Air Niugini', 'BNE-CNS-POM', 'Papua New Guinea', 'Islands', 'Papua New Guinea', 'Islands', '1', '4', '830', '2022', '3')\n",
      "('107783', 'Mar-22', 'O', 'Brisbane', 'Port Moresby', 'Air Niugini', 'BNE-POM', 'Papua New Guinea', 'Islands', 'Papua New Guinea', 'Islands', '0', '24', '4957', '2022', '3')\n",
      "('107784', 'Mar-22', 'O', 'Brisbane', 'Port Vila', 'Air Vanuatu', 'BNE-VLI', 'Vanuatu', 'Islands', 'Vanuatu', 'Islands', '0', '2', '352', '2022', '3')\n",
      "('107785', 'Mar-22', 'O', 'Brisbane', 'Singapore', 'Qantas Airways', 'BNE-SIN', 'Singapore', 'SE Asia', 'Singapore', 'SE Asia', '0', '2', '500', '2022', '3')\n",
      "('107786', 'Mar-22', 'O', 'Brisbane', 'Singapore', 'Singapore Airlines', 'BNE-SIN', 'Singapore', 'SE Asia', 'Singapore', 'SE Asia', '0', '77', '23081', '2022', '3')\n",
      "('107787', 'Mar-22', 'O', 'Brisbane', 'Taipei', 'China Airlines', 'BNE-TPE', 'Taiwan', 'NE Asia', 'Taiwan', 'NE Asia', '0', '4', '1224', '2022', '3')\n",
      "('107788', 'Mar-22', 'O', 'Brisbane', 'Taipei', 'Eva Air', 'BNE-TPE', 'Taiwan', 'NE Asia', 'Taiwan', 'NE Asia', '0', '2', '608', '2022', '3')\n",
      "('107789', 'Mar-22', 'O', 'Brisbane', 'Wellington', 'Air New Zealand', 'BNE-WLG', 'New Zealand', 'New Zealand', 'New Zealand', 'New Zealand', '0', '1', '210', '2022', '3')\n",
      "('107790', 'Mar-22', 'O', 'Cairns', 'Port Moresby', 'Air Niugini', 'BNE-CNS-POM', 'Papua New Guinea', 'Islands', 'Papua New Guinea', 'Islands', '0', '4', '830', '2022', '3')\n",
      "('107791', 'Mar-22', 'O', 'Cairns', 'Singapore', 'Singapore Airlines', 'CNS-SIN', 'Singapore', 'SE Asia', 'Singapore', 'SE Asia', '0', '2', '324', '2022', '3')\n",
      "('107792', 'Mar-22', 'O', 'Darwin', 'Dili', 'Qantas Airways', 'DRW-DIL', 'East Timor', 'SE Asia', 'East Timor', 'SE Asia', '0', '1', '97', '2022', '3')\n",
      "('107793', 'Mar-22', 'O', 'Darwin', 'London', 'Qantas Airways', 'MEL-DRW-LON', 'UK', 'Europe', 'UK', 'Europe', '0', '29', '5135', '2022', '3')\n",
      "('107794', 'Mar-22', 'O', 'Darwin', 'London', 'Qantas Airways', 'SYD-DRW-LON', 'UK', 'Europe', 'UK', 'Europe', '0', '30', '5477', '2022', '3')\n",
      "('107795', 'Mar-22', 'O', 'Darwin', 'Singapore', 'Jetstar Asia', 'DRW-SIN', 'Singapore', 'SE Asia', 'Singapore', 'SE Asia', '0', '9', '1620', '2022', '3')\n",
      "('107796', 'Mar-22', 'O', 'Darwin', 'Singapore', 'Singapore Airlines', 'DRW-SIN', 'Singapore', 'SE Asia', 'Singapore', 'SE Asia', '0', '1', '162', '2022', '3')\n",
      "('107799', 'Mar-22', 'O', 'Melbourne', 'Abu Dhabi', 'Etihad Airways', 'MEL-AUH', 'United Arab Emirates', 'Middle East', 'United Arab Emirates', 'Middle East', '0', '21', '6048', '2022', '3')\n",
      "('107800', 'Mar-22', 'O', 'Melbourne', 'Auckland', 'Air New Zealand', 'MEL-AKL', 'New Zealand', 'New Zealand', 'New Zealand', 'New Zealand', '0', '33', '9345', '2022', '3')\n",
      "('107801', 'Mar-22', 'O', 'Melbourne', 'Bandar Seri Begawan', 'Royal Brunei Airlines', 'MEL-BWN', 'Brunei', 'SE Asia', 'Brunei', 'SE Asia', '0', '7', '1778', '2022', '3')\n",
      "('107802', 'Mar-22', 'O', 'Melbourne', 'Bangkok', 'Thai Airways International', 'MEL-BKK', 'Thailand', 'SE Asia', 'Thailand', 'SE Asia', '0', '4', '1226', '2022', '3')\n",
      "('107803', 'Mar-22', 'O', 'Melbourne', 'Christchurch', 'Air New Zealand', 'MEL-CHC', 'New Zealand', 'New Zealand', 'New Zealand', 'New Zealand', '0', '14', '2885', '2022', '3')\n",
      "('107804', 'Mar-22', 'O', 'Melbourne', 'Colombo', 'SriLankan Airlines', 'MEL-CMB', 'Sri Lanka', 'S Asia', 'Sri Lanka', 'S Asia', '0', '26', '7540', '2022', '3')\n",
      "('107805', 'Mar-22', 'O', 'Melbourne', 'Denpasar', 'Jetstar', 'MEL-DPS', 'Indonesia', 'SE Asia', 'Indonesia', 'SE Asia', '0', '8', '2680', '2022', '3')\n",
      "('107806', 'Mar-22', 'O', 'Melbourne', 'Doha', 'Qatar Airways', 'MEL-DOH', 'Qatar', 'Middle East', 'Qatar', 'Middle East', '0', '30', '9810', '2022', '3')\n",
      "('107807', 'Mar-22', 'O', 'Melbourne', 'Dubai', 'Emirates', 'MEL-DXB', 'United Arab Emirates', 'Middle East', 'United Arab Emirates', 'Middle East', '0', '31', '15993', '2022', '3')\n",
      "('107808', 'Mar-22', 'O', 'Melbourne', 'Ho Chi Minh City', 'Bamboo Airways', 'MEL-SGN', 'Vietnam', 'SE Asia', 'Vietnam', 'SE Asia', '0', '4', '1168', '2022', '3')\n",
      "('107809', 'Mar-22', 'O', 'Melbourne', 'Ho Chi Minh City', 'Vietnam Airlines', 'MEL-SGN', 'Vietnam', 'SE Asia', 'Vietnam', 'SE Asia', '0', '13', '3636', '2022', '3')\n",
      "('107810', 'Mar-22', 'O', 'Melbourne', 'Honolulu', 'Jetstar', 'MEL-HNL', 'USA', 'N America', 'USA', 'N America', '0', '6', '2010', '2022', '3')\n",
      "('107811', 'Mar-22', 'O', 'Melbourne', 'Kuala Lumpur', 'Malaysia Airlines', 'MEL-KUL', 'Malaysia', 'SE Asia', 'Malaysia', 'SE Asia', '0', '24', '6960', '2022', '3')\n",
      "('107812', 'Mar-22', 'O', 'Melbourne', 'London', 'Qantas Airways', 'MEL-DRW-LON', 'UK', 'Europe', 'UK', 'Europe', '1', '29', '5135', '2022', '3')\n",
      "('107813', 'Mar-22', 'O', 'Melbourne', 'Los Angeles', 'Qantas Airways', 'MEL-LAX', 'USA', 'N America', 'USA', 'N America', '0', '21', '4954', '2022', '3')\n",
      "('107814', 'Mar-22', 'O', 'Melbourne', 'Manila', 'Philippine Airlines', 'MEL-MNL', 'Philippines', 'SE Asia', 'Philippines', 'SE Asia', '0', '9', '1512', '2022', '3')\n",
      "('107815', 'Mar-22', 'O', 'Melbourne', 'Nadi', 'Fiji Airways', 'MEL-NAN', 'Fiji', 'Islands', 'Fiji', 'Islands', '0', '22', '4189', '2022', '3')\n",
      "('107816', 'Mar-22', 'O', 'Melbourne', 'New Delhi', 'Air India', 'MEL-DEL', 'India', 'S Asia', 'India', 'S Asia', '0', '18', '4608', '2022', '3')\n",
      "('107817', 'Mar-22', 'O', 'Melbourne', 'New Delhi', 'Qantas Airways', 'MEL-ADL-DEL', 'India', 'S Asia', 'India', 'S Asia', '1', '18', '4512', '2022', '3')\n",
      "('107818', 'Mar-22', 'O', 'Melbourne', 'Phuket', 'Jetstar', 'MEL-HKT', 'Thailand', 'SE Asia', 'Thailand', 'SE Asia', '0', '9', '3015', '2022', '3')\n",
      "('107819', 'Mar-22', 'O', 'Melbourne', 'Singapore', 'Jetstar', 'MEL-SIN', 'Singapore', 'SE Asia', 'Singapore', 'SE Asia', '0', '13', '4355', '2022', '3')\n",
      "('107820', 'Mar-22', 'O', 'Melbourne', 'Singapore', 'Qantas Airways', 'MEL-SIN', 'Singapore', 'SE Asia', 'Singapore', 'SE Asia', '0', '17', '4996', '2022', '3')\n",
      "('107821', 'Mar-22', 'O', 'Melbourne', 'Singapore', 'Scoot Tigerair', 'MEL-SIN', 'Singapore', 'SE Asia', 'Singapore', 'SE Asia', '0', '32', '12000', '2022', '3')\n",
      "('107822', 'Mar-22', 'O', 'Melbourne', 'Singapore', 'Singapore Airlines', 'MEL-SIN', 'Singapore', 'SE Asia', 'Singapore', 'SE Asia', '0', '93', '27973', '2022', '3')\n",
      "('107823', 'Mar-22', 'O', 'Melbourne', 'Taipei', 'China Airlines', 'MEL-TPE', 'Taiwan', 'NE Asia', 'Taiwan', 'NE Asia', '0', '4', '1224', '2022', '3')\n",
      "('107824', 'Mar-22', 'O', 'Melbourne', 'Tokyo', 'Japan Airlines', 'MEL-TYO', 'Japan', 'NE Asia', 'Japan', 'NE Asia', '0', '9', '1854', '2022', '3')\n",
      "('107825', 'Mar-22', 'O', 'Melbourne', 'Xiamen', 'Xiamen Airlines', 'MEL-XMN', 'China', 'NE Asia', 'China', 'NE Asia', '0', '4', '1112', '2022', '3')\n",
      "('107826', 'Mar-22', 'O', 'Perth', 'Auckland', 'Air New Zealand', 'PER-AKL', 'New Zealand', 'New Zealand', 'New Zealand', 'New Zealand', '0', '5', '1510', '2022', '3')\n",
      "('107827', 'Mar-22', 'O', 'Perth', 'Doha', 'Qatar Airways', 'PER-DOH', 'Qatar', 'Middle East', 'Qatar', 'Middle East', '0', '25', '7359', '2022', '3')\n",
      "('107828', 'Mar-22', 'O', 'Perth', 'Dubai', 'Emirates', 'PER-DXB', 'United Arab Emirates', 'Middle East', 'United Arab Emirates', 'Middle East', '0', '13', '4602', '2022', '3')\n",
      "('107829', 'Mar-22', 'O', 'Perth', 'Kuala Lumpur', 'Malaysia Airlines', 'PER-KUL', 'Malaysia', 'SE Asia', 'Malaysia', 'SE Asia', '0', '7', '1250', '2022', '3')\n",
      "('107830', 'Mar-22', 'O', 'Perth', 'Kuala Lumpur', 'Malindo Air', 'PER-KUL', 'Malaysia', 'SE Asia', 'Malaysia', 'SE Asia', '0', '5', '810', '2022', '3')\n",
      "('107831', 'Mar-22', 'O', 'Perth', 'Singapore', 'Jetstar Asia', 'PER-SIN', 'Singapore', 'SE Asia', 'Singapore', 'SE Asia', '0', '6', '1080', '2022', '3')\n",
      "('107832', 'Mar-22', 'O', 'Perth', 'Singapore', 'Qantas Airways', 'PER-SIN', 'Singapore', 'SE Asia', 'Singapore', 'SE Asia', '0', '1', '297', '2022', '3')\n",
      "('107833', 'Mar-22', 'O', 'Perth', 'Singapore', 'Scoot Tigerair', 'PER-SIN', 'Singapore', 'SE Asia', 'Singapore', 'SE Asia', '0', '31', '11625', '2022', '3')\n",
      "('107834', 'Mar-22', 'O', 'Perth', 'Singapore', 'Singapore Airlines', 'PER-SIN', 'Singapore', 'SE Asia', 'Singapore', 'SE Asia', '0', '80', '25906', '2022', '3')\n",
      "('107835', 'Mar-22', 'O', 'Sydney', 'Abu Dhabi', 'Etihad Airways', 'SYD-AUH', 'United Arab Emirates', 'Middle East', 'United Arab Emirates', 'Middle East', '0', '24', '6960', '2022', '3')\n",
      "('107836', 'Mar-22', 'O', 'Sydney', 'Auckland', 'Air New Zealand', 'SYD-AKL', 'New Zealand', 'New Zealand', 'New Zealand', 'New Zealand', '0', '37', '10367', '2022', '3')\n",
      "('107837', 'Mar-22', 'O', 'Sydney', 'Auckland', 'LATAM Airlines', 'SYD-AKL-SCL', 'New Zealand', 'New Zealand', 'Chile', 'S America', '0', '1', '234', '2022', '3')\n",
      "('107838', 'Mar-22', 'O', 'Sydney', 'Auckland', 'Qantas Airways', 'SYD-AKL', 'New Zealand', 'New Zealand', 'New Zealand', 'New Zealand', '0', '18', '4930', '2022', '3')\n",
      "('107839', 'Mar-22', 'O', 'Sydney', 'Bangkok', 'Qantas Airways', 'SYD-BKK', 'Thailand', 'SE Asia', 'Thailand', 'SE Asia', '0', '14', '4155', '2022', '3')\n",
      "('107840', 'Mar-22', 'O', 'Sydney', 'Bangkok', 'Thai Airways International', 'SYD-BKK', 'Thailand', 'SE Asia', 'Thailand', 'SE Asia', '0', '22', '7656', '2022', '3')\n",
      "('107841', 'Mar-22', 'O', 'Sydney', 'Bangkok', 'Thai Airways International', 'SYD-HKT-BKK', 'Thailand', 'SE Asia', 'Thailand', 'SE Asia', '1', '10', '3480', '2022', '3')\n",
      "('107842', 'Mar-22', 'O', 'Sydney', 'Christchurch', 'Air New Zealand', 'SYD-CHC', 'New Zealand', 'New Zealand', 'New Zealand', 'New Zealand', '0', '13', '2520', '2022', '3')\n",
      "('107843', 'Mar-22', 'O', 'Sydney', 'Colombo', 'SriLankan Airlines', 'SYD-CMB', 'Sri Lanka', 'S Asia', 'Sri Lanka', 'S Asia', '0', '19', '5615', '2022', '3')\n",
      "('107844', 'Mar-22', 'O', 'Sydney', 'Dallas', 'Qantas Airways', 'SYD-DFW', 'USA', 'N America', 'USA', 'N America', '0', '18', '4231', '2022', '3')\n",
      "('107845', 'Mar-22', 'O', 'Sydney', 'Denpasar', 'Garuda Indonesia', 'SYD-DPS', 'Indonesia', 'SE Asia', 'Indonesia', 'SE Asia', '0', '3', '825', '2022', '3')\n",
      "('107846', 'Mar-22', 'O', 'Sydney', 'Doha', 'Qatar Airways', 'SYD-DOH', 'Qatar', 'Middle East', 'Qatar', 'Middle East', '0', '31', '10758', '2022', '3')\n",
      "('107847', 'Mar-22', 'O', 'Sydney', 'Dubai', 'Emirates', 'SYD-DXB', 'United Arab Emirates', 'Middle East', 'United Arab Emirates', 'Middle East', '0', '60', '30960', '2022', '3')\n",
      "('107848', 'Mar-22', 'O', 'Sydney', 'Guangzhou', 'China Southern Airlines', 'SYD-CAN', 'China', 'NE Asia', 'China', 'NE Asia', '0', '4', '1832', '2022', '3')\n",
      "('107849', 'Mar-22', 'O', 'Sydney', 'Hanoi', 'Vietnam Airlines', 'SYD-HAN', 'Vietnam', 'SE Asia', 'Vietnam', 'SE Asia', '0', '4', '1133', '2022', '3')\n",
      "('107850', 'Mar-22', 'O', 'Sydney', 'Ho Chi Minh City', 'Vietnam Airlines', 'SYD-SGN', 'Vietnam', 'SE Asia', 'Vietnam', 'SE Asia', '0', '13', '3754', '2022', '3')\n",
      "('107851', 'Mar-22', 'O', 'Sydney', 'Honolulu', 'Hawaiian Airlines', 'SYD-HNL', 'USA', 'N America', 'USA', 'N America', '0', '18', '4986', '2022', '3')\n",
      "('107852', 'Mar-22', 'O', 'Sydney', 'Honolulu', 'Jetstar', 'SYD-HNL', 'USA', 'N America', 'USA', 'N America', '0', '13', '4355', '2022', '3')\n",
      "('107853', 'Mar-22', 'O', 'Sydney', 'Honolulu', 'Qantas Airways', 'SYD-HNL', 'USA', 'N America', 'USA', 'N America', '0', '3', '891', '2022', '3')\n",
      "('107854', 'Mar-22', 'O', 'Sydney', 'Jakarta', 'Garuda Indonesia', 'SYD-JKT', 'Indonesia', 'SE Asia', 'Indonesia', 'SE Asia', '0', '5', '1570', '2022', '3')\n",
      "('107855', 'Mar-22', 'O', 'Sydney', 'Johannesburg', 'Qantas Airways', 'SYD-JNB', 'South Africa', 'Africa', 'South Africa', 'Africa', '0', '16', '3773', '2022', '3')\n",
      "('107856', 'Mar-22', 'O', 'Sydney', 'Kuala Lumpur', 'AirAsia X', 'SYD-KUL', 'Malaysia', 'SE Asia', 'Malaysia', 'SE Asia', '0', '4', '1508', '2022', '3')\n",
      "('107857', 'Mar-22', 'O', 'Sydney', 'Kuala Lumpur', 'Malaysia Airlines', 'SYD-KUL', 'Malaysia', 'SE Asia', 'Malaysia', 'SE Asia', '0', '17', '4930', '2022', '3')\n",
      "('107858', 'Mar-22', 'O', 'Sydney', 'Kunming', 'China Eastern Airlines', 'SYD-KMG', 'China', 'NE Asia', 'China', 'NE Asia', '0', '2', '632', '2022', '3')\n",
      "('107859', 'Mar-22', 'O', 'Sydney', 'London', 'British Airways', 'SYD-SIN-LON', 'UK', 'Europe', 'UK', 'Europe', '1', '3', '648', '2022', '3')\n",
      "('107860', 'Mar-22', 'O', 'Sydney', 'London', 'Qantas Airways', 'SYD-DRW-LON', 'UK', 'Europe', 'UK', 'Europe', '1', '30', '5477', '2022', '3')\n",
      "('107861', 'Mar-22', 'O', 'Sydney', 'Los Angeles', 'American Airlines', 'SYD-LAX', 'USA', 'N America', 'USA', 'N America', '0', '27', '7668', '2022', '3')\n",
      "('107862', 'Mar-22', 'O', 'Sydney', 'Los Angeles', 'Delta Air Lines', 'SYD-LAX', 'USA', 'N America', 'USA', 'N America', '0', '30', '9030', '2022', '3')\n",
      "('107863', 'Mar-22', 'O', 'Sydney', 'Los Angeles', 'Qantas Airways', 'SYD-LAX', 'USA', 'N America', 'USA', 'N America', '0', '32', '10283', '2022', '3')\n",
      "('107864', 'Mar-22', 'O', 'Sydney', 'Los Angeles', 'United Airlines', 'SYD-LAX', 'USA', 'N America', 'USA', 'N America', '0', '31', '7942', '2022', '3')\n",
      "('107865', 'Mar-22', 'O', 'Sydney', 'Manila', 'Philippine Airlines', 'SYD-MNL', 'Philippines', 'SE Asia', 'Philippines', 'SE Asia', '0', '13', '2748', '2022', '3')\n",
      "('107866', 'Mar-22', 'O', 'Sydney', 'Manila', 'Qantas Airways', 'SYD-MNL', 'Philippines', 'SE Asia', 'Philippines', 'SE Asia', '0', '5', '1439', '2022', '3')\n",
      "('107867', 'Mar-22', 'O', 'Sydney', 'Nadi', 'Fiji Airways', 'SYD-NAN', 'Fiji', 'Islands', 'Fiji', 'Islands', '0', '50', '12520', '2022', '3')\n",
      "('107868', 'Mar-22', 'O', 'Sydney', 'Nadi', 'Jetstar', 'SYD-NAN', 'Fiji', 'Islands', 'Fiji', 'Islands', '0', '12', '2232', '2022', '3')\n",
      "('107869', 'Mar-22', 'O', 'Sydney', 'Nadi', 'Qantas Airways', 'SYD-NAN', 'Fiji', 'Islands', 'Fiji', 'Islands', '0', '9', '1524', '2022', '3')\n",
      "('107870', 'Mar-22', 'O', 'Sydney', 'Nadi', 'Virgin Australia', 'SYD-NAN', 'Fiji', 'Islands', 'Fiji', 'Islands', '0', '13', '2288', '2022', '3')\n",
      "('107871', 'Mar-22', 'O', 'Sydney', 'New Delhi', 'Air India', 'SYD-DEL', 'India', 'S Asia', 'India', 'S Asia', '0', '20', '5120', '2022', '3')\n",
      "('107872', 'Mar-22', 'O', 'Sydney', 'New Delhi', 'Qantas Airways', 'SYD-ADL-DEL', 'India', 'S Asia', 'India', 'S Asia', '1', '15', '3757', '2022', '3')\n",
      "('107873', 'Mar-22', 'O', 'Sydney', 'Noumea', 'Air Caledonie', 'SYD-NOU', 'New Caledonia', 'Islands', 'New Caledonia', 'Islands', '0', '9', '2599', '2022', '3')\n",
      "('107874', 'Mar-22', 'O', 'Sydney', 'Phuket', 'Jetstar', 'SYD-HKT', 'Thailand', 'SE Asia', 'Thailand', 'SE Asia', '0', '4', '1340', '2022', '3')\n",
      "('107875', 'Mar-22', 'O', 'Sydney', 'Phuket', 'Thai Airways International', 'SYD-HKT-BKK', 'Thailand', 'SE Asia', 'Thailand', 'SE Asia', '0', '10', '3480', '2022', '3')\n",
      "('107876', 'Mar-22', 'O', 'Sydney', 'Port Moresby', 'Air Niugini', 'SYD-POM', 'Papua New Guinea', 'Islands', 'Papua New Guinea', 'Islands', '0', '4', '830', '2022', '3')\n",
      "('107877', 'Mar-22', 'O', 'Sydney', 'Port Vila', 'Air Vanuatu', 'SYD-VLI', 'Vanuatu', 'Islands', 'Vanuatu', 'Islands', '0', '1', '176', '2022', '3')\n",
      "('107878', 'Mar-22', 'O', 'Sydney', 'San Francisco', 'United Airlines', 'SYD-SFO', 'USA', 'N America', 'USA', 'N America', '0', '31', '10850', '2022', '3')\n",
      "('107879', 'Mar-22', 'O', 'Sydney', 'Santiago', 'LATAM Airlines', 'SYD-AKL-SCL', 'Chile', 'S America', 'Chile', 'S America', '1', '1', '234', '2022', '3')\n",
      "('107880', 'Mar-22', 'O', 'Sydney', 'Seoul', 'Asiana Airlines', 'SYD-SEL', 'Korea', 'NE Asia', 'Korea', 'NE Asia', '0', '9', '2682', '2022', '3')\n",
      "('107881', 'Mar-22', 'O', 'Sydney', 'Seoul', 'Korean Air', 'SYD-SEL', 'Korea', 'NE Asia', 'Korea', 'NE Asia', '0', '9', '2412', '2022', '3')\n",
      "('107882', 'Mar-22', 'O', 'Sydney', 'Shanghai', 'China Eastern Airlines', 'SYD-SHA', 'China', 'NE Asia', 'China', 'NE Asia', '0', '3', '948', '2022', '3')\n",
      "('107883', 'Mar-22', 'O', 'Sydney', 'Singapore', 'British Airways', 'SYD-SIN-LON', 'Singapore', 'SE Asia', 'UK', 'Europe', '0', '3', '648', '2022', '3')\n",
      "('107884', 'Mar-22', 'O', 'Sydney', 'Singapore', 'Qantas Airways', 'SYD-SIN', 'Singapore', 'SE Asia', 'Singapore', 'SE Asia', '0', '30', '8852', '2022', '3')\n",
      "('107885', 'Mar-22', 'O', 'Sydney', 'Singapore', 'Scoot Tigerair', 'SYD-SIN', 'Singapore', 'SE Asia', 'Singapore', 'SE Asia', '0', '33', '12375', '2022', '3')\n",
      "('107886', 'Mar-22', 'O', 'Sydney', 'Singapore', 'Singapore Airlines', 'SYD-SIN', 'Singapore', 'SE Asia', 'Singapore', 'SE Asia', '0', '97', '33390', '2022', '3')\n",
      "('107887', 'Mar-22', 'O', 'Sydney', 'Taipei', 'China Airlines', 'SYD-TPE', 'Taiwan', 'NE Asia', 'Taiwan', 'NE Asia', '0', '4', '1224', '2022', '3')\n",
      "('107888', 'Mar-22', 'O', 'Sydney', 'Tokyo', 'All Nippon Airways', 'SYD-TYO', 'Japan', 'NE Asia', 'Japan', 'NE Asia', '0', '22', '5280', '2022', '3')\n",
      "('107889', 'Mar-22', 'O', 'Sydney', 'Tokyo', 'Japan Airlines', 'SYD-TYO', 'Japan', 'NE Asia', 'Japan', 'NE Asia', '0', '15', '2790', '2022', '3')\n",
      "('107890', 'Mar-22', 'O', 'Sydney', 'Vancouver', 'Air Canada', 'SYD-YVR', 'Canada', 'N America', 'Canada', 'N America', '0', '14', '4300', '2022', '3')\n",
      "('107891', 'Mar-22', 'O', 'Sydney', 'Vancouver', 'Qantas Airways', 'SYD-YVR', 'Canada', 'N America', 'Canada', 'N America', '0', '12', '2830', '2022', '3')\n",
      "('107892', 'Mar-22', 'O', 'Sydney', 'Xiamen', 'Xiamen Airlines', 'SYD-XMN', 'China', 'NE Asia', 'China', 'NE Asia', '0', '5', '1390', '2022', '3')\n",
      "('107767', 'Mar-22', 'O', 'Adelaide', 'Doha', 'Qatar Airways', 'ADL-DOH', 'Qatar', 'Middle East', 'Qatar', 'Middle East', '0', '12', '3396', '2022', '3')\n",
      "('107768', 'Mar-22', 'O', 'Adelaide', 'Kuala Lumpur', 'Malaysia Airlines', 'ADL-KUL', 'Malaysia', 'SE Asia', 'Malaysia', 'SE Asia', '0', '2', '580', '2022', '3')\n",
      "('107769', 'Mar-22', 'O', 'Adelaide', 'New Delhi', 'Qantas Airways', 'MEL-ADL-DEL', 'India', 'S Asia', 'India', 'S Asia', '0', '18', '4512', '2022', '3')\n",
      "('107770', 'Mar-22', 'O', 'Adelaide', 'New Delhi', 'Qantas Airways', 'SYD-ADL-DEL', 'India', 'S Asia', 'India', 'S Asia', '0', '15', '3757', '2022', '3')\n",
      "('107771', 'Mar-22', 'O', 'Adelaide', 'Singapore', 'Singapore Airlines', 'ADL-SIN', 'Singapore', 'SE Asia', 'Singapore', 'SE Asia', '0', '20', '6060', '2022', '3')\n",
      "('107772', 'Mar-22', 'O', 'Brisbane', 'Auckland', 'Air New Zealand', 'BNE-AKL', 'New Zealand', 'New Zealand', 'New Zealand', 'New Zealand', '0', '23', '6299', '2022', '3')\n",
      "('107773', 'Mar-22', 'O', 'Brisbane', 'Christchurch', 'Air New Zealand', 'BNE-CHC', 'New Zealand', 'New Zealand', 'New Zealand', 'New Zealand', '0', '12', '2424', '2022', '3')\n",
      "('107774', 'Mar-22', 'O', 'Brisbane', 'Doha', 'Qatar Airways', 'BNE-DOH', 'Qatar', 'Middle East', 'Qatar', 'Middle East', '0', '31', '10974', '2022', '3')\n",
      "('107775', 'Mar-22', 'O', 'Brisbane', 'Dubai', 'Emirates', 'BNE-DXB', 'United Arab Emirates', 'Middle East', 'United Arab Emirates', 'Middle East', '0', '31', '15834', '2022', '3')\n",
      "('107776', 'Mar-22', 'O', 'Brisbane', 'Honiara', 'Solomon Airlines', 'BNE-HIR', 'Solomon Islands', 'Islands', 'Solomon Islands', 'Islands', '0', '4', '544', '2022', '3')\n",
      "('107777', 'Mar-22', 'O', 'Brisbane', 'Kuala Lumpur', 'Malaysia Airlines', 'BNE-KUL', 'Malaysia', 'SE Asia', 'Malaysia', 'SE Asia', '0', '2', '580', '2022', '3')\n",
      "('107778', 'Mar-22', 'O', 'Brisbane', 'Manila', 'Philippine Airlines', 'BNE-MNL', 'Philippines', 'SE Asia', 'Philippines', 'SE Asia', '0', '4', '672', '2022', '3')\n",
      "('107779', 'Mar-22', 'O', 'Brisbane', 'Nadi', 'Fiji Airways', 'BNE-NAN', 'Fiji', 'Islands', 'Fiji', 'Islands', '0', '13', '2210', '2022', '3')\n",
      "('107780', 'Mar-22', 'O', 'Brisbane', 'Nauru', 'Nauru Airlines', 'BNE-INU', 'Nauru', 'Islands', 'Nauru', 'Islands', '0', '5', '640', '2022', '3')\n",
      "('107781', 'Mar-22', 'O', 'Brisbane', 'Noumea', 'Air Caledonie', 'BNE-NOU', 'New Caledonia', 'Islands', 'New Caledonia', 'Islands', '0', '5', '819', '2022', '3')\n",
      "('107782', 'Mar-22', 'O', 'Brisbane', 'Port Moresby', 'Air Niugini', 'BNE-CNS-POM', 'Papua New Guinea', 'Islands', 'Papua New Guinea', 'Islands', '1', '4', '830', '2022', '3')\n",
      "('107783', 'Mar-22', 'O', 'Brisbane', 'Port Moresby', 'Air Niugini', 'BNE-POM', 'Papua New Guinea', 'Islands', 'Papua New Guinea', 'Islands', '0', '24', '4957', '2022', '3')\n",
      "('107784', 'Mar-22', 'O', 'Brisbane', 'Port Vila', 'Air Vanuatu', 'BNE-VLI', 'Vanuatu', 'Islands', 'Vanuatu', 'Islands', '0', '2', '352', '2022', '3')\n",
      "('107785', 'Mar-22', 'O', 'Brisbane', 'Singapore', 'Qantas Airways', 'BNE-SIN', 'Singapore', 'SE Asia', 'Singapore', 'SE Asia', '0', '2', '500', '2022', '3')\n",
      "('107786', 'Mar-22', 'O', 'Brisbane', 'Singapore', 'Singapore Airlines', 'BNE-SIN', 'Singapore', 'SE Asia', 'Singapore', 'SE Asia', '0', '77', '23081', '2022', '3')\n",
      "('107787', 'Mar-22', 'O', 'Brisbane', 'Taipei', 'China Airlines', 'BNE-TPE', 'Taiwan', 'NE Asia', 'Taiwan', 'NE Asia', '0', '4', '1224', '2022', '3')\n",
      "('107788', 'Mar-22', 'O', 'Brisbane', 'Taipei', 'Eva Air', 'BNE-TPE', 'Taiwan', 'NE Asia', 'Taiwan', 'NE Asia', '0', '2', '608', '2022', '3')\n",
      "('107789', 'Mar-22', 'O', 'Brisbane', 'Wellington', 'Air New Zealand', 'BNE-WLG', 'New Zealand', 'New Zealand', 'New Zealand', 'New Zealand', '0', '1', '210', '2022', '3')\n",
      "('107790', 'Mar-22', 'O', 'Cairns', 'Port Moresby', 'Air Niugini', 'BNE-CNS-POM', 'Papua New Guinea', 'Islands', 'Papua New Guinea', 'Islands', '0', '4', '830', '2022', '3')\n",
      "('107791', 'Mar-22', 'O', 'Cairns', 'Singapore', 'Singapore Airlines', 'CNS-SIN', 'Singapore', 'SE Asia', 'Singapore', 'SE Asia', '0', '2', '324', '2022', '3')\n",
      "('107792', 'Mar-22', 'O', 'Darwin', 'Dili', 'Qantas Airways', 'DRW-DIL', 'East Timor', 'SE Asia', 'East Timor', 'SE Asia', '0', '1', '97', '2022', '3')\n",
      "('107793', 'Mar-22', 'O', 'Darwin', 'London', 'Qantas Airways', 'MEL-DRW-LON', 'UK', 'Europe', 'UK', 'Europe', '0', '29', '5135', '2022', '3')\n",
      "('107794', 'Mar-22', 'O', 'Darwin', 'London', 'Qantas Airways', 'SYD-DRW-LON', 'UK', 'Europe', 'UK', 'Europe', '0', '30', '5477', '2022', '3')\n",
      "('107795', 'Mar-22', 'O', 'Darwin', 'Singapore', 'Jetstar Asia', 'DRW-SIN', 'Singapore', 'SE Asia', 'Singapore', 'SE Asia', '0', '9', '1620', '2022', '3')\n",
      "('107796', 'Mar-22', 'O', 'Darwin', 'Singapore', 'Singapore Airlines', 'DRW-SIN', 'Singapore', 'SE Asia', 'Singapore', 'SE Asia', '0', '1', '162', '2022', '3')\n",
      "('107799', 'Mar-22', 'O', 'Melbourne', 'Abu Dhabi', 'Etihad Airways', 'MEL-AUH', 'United Arab Emirates', 'Middle East', 'United Arab Emirates', 'Middle East', '0', '21', '6048', '2022', '3')\n",
      "('107800', 'Mar-22', 'O', 'Melbourne', 'Auckland', 'Air New Zealand', 'MEL-AKL', 'New Zealand', 'New Zealand', 'New Zealand', 'New Zealand', '0', '33', '9345', '2022', '3')\n",
      "('107801', 'Mar-22', 'O', 'Melbourne', 'Bandar Seri Begawan', 'Royal Brunei Airlines', 'MEL-BWN', 'Brunei', 'SE Asia', 'Brunei', 'SE Asia', '0', '7', '1778', '2022', '3')\n",
      "('107802', 'Mar-22', 'O', 'Melbourne', 'Bangkok', 'Thai Airways International', 'MEL-BKK', 'Thailand', 'SE Asia', 'Thailand', 'SE Asia', '0', '4', '1226', '2022', '3')\n",
      "('107803', 'Mar-22', 'O', 'Melbourne', 'Christchurch', 'Air New Zealand', 'MEL-CHC', 'New Zealand', 'New Zealand', 'New Zealand', 'New Zealand', '0', '14', '2885', '2022', '3')\n",
      "('107804', 'Mar-22', 'O', 'Melbourne', 'Colombo', 'SriLankan Airlines', 'MEL-CMB', 'Sri Lanka', 'S Asia', 'Sri Lanka', 'S Asia', '0', '26', '7540', '2022', '3')\n",
      "('107805', 'Mar-22', 'O', 'Melbourne', 'Denpasar', 'Jetstar', 'MEL-DPS', 'Indonesia', 'SE Asia', 'Indonesia', 'SE Asia', '0', '8', '2680', '2022', '3')\n",
      "('107806', 'Mar-22', 'O', 'Melbourne', 'Doha', 'Qatar Airways', 'MEL-DOH', 'Qatar', 'Middle East', 'Qatar', 'Middle East', '0', '30', '9810', '2022', '3')\n",
      "('107807', 'Mar-22', 'O', 'Melbourne', 'Dubai', 'Emirates', 'MEL-DXB', 'United Arab Emirates', 'Middle East', 'United Arab Emirates', 'Middle East', '0', '31', '15993', '2022', '3')\n",
      "('107808', 'Mar-22', 'O', 'Melbourne', 'Ho Chi Minh City', 'Bamboo Airways', 'MEL-SGN', 'Vietnam', 'SE Asia', 'Vietnam', 'SE Asia', '0', '4', '1168', '2022', '3')\n",
      "('107809', 'Mar-22', 'O', 'Melbourne', 'Ho Chi Minh City', 'Vietnam Airlines', 'MEL-SGN', 'Vietnam', 'SE Asia', 'Vietnam', 'SE Asia', '0', '13', '3636', '2022', '3')\n",
      "('107810', 'Mar-22', 'O', 'Melbourne', 'Honolulu', 'Jetstar', 'MEL-HNL', 'USA', 'N America', 'USA', 'N America', '0', '6', '2010', '2022', '3')\n",
      "('107811', 'Mar-22', 'O', 'Melbourne', 'Kuala Lumpur', 'Malaysia Airlines', 'MEL-KUL', 'Malaysia', 'SE Asia', 'Malaysia', 'SE Asia', '0', '24', '6960', '2022', '3')\n",
      "('107812', 'Mar-22', 'O', 'Melbourne', 'London', 'Qantas Airways', 'MEL-DRW-LON', 'UK', 'Europe', 'UK', 'Europe', '1', '29', '5135', '2022', '3')\n",
      "('107813', 'Mar-22', 'O', 'Melbourne', 'Los Angeles', 'Qantas Airways', 'MEL-LAX', 'USA', 'N America', 'USA', 'N America', '0', '21', '4954', '2022', '3')\n",
      "('107814', 'Mar-22', 'O', 'Melbourne', 'Manila', 'Philippine Airlines', 'MEL-MNL', 'Philippines', 'SE Asia', 'Philippines', 'SE Asia', '0', '9', '1512', '2022', '3')\n",
      "('107815', 'Mar-22', 'O', 'Melbourne', 'Nadi', 'Fiji Airways', 'MEL-NAN', 'Fiji', 'Islands', 'Fiji', 'Islands', '0', '22', '4189', '2022', '3')\n",
      "('107816', 'Mar-22', 'O', 'Melbourne', 'New Delhi', 'Air India', 'MEL-DEL', 'India', 'S Asia', 'India', 'S Asia', '0', '18', '4608', '2022', '3')\n",
      "('107817', 'Mar-22', 'O', 'Melbourne', 'New Delhi', 'Qantas Airways', 'MEL-ADL-DEL', 'India', 'S Asia', 'India', 'S Asia', '1', '18', '4512', '2022', '3')\n",
      "('107818', 'Mar-22', 'O', 'Melbourne', 'Phuket', 'Jetstar', 'MEL-HKT', 'Thailand', 'SE Asia', 'Thailand', 'SE Asia', '0', '9', '3015', '2022', '3')\n",
      "('107819', 'Mar-22', 'O', 'Melbourne', 'Singapore', 'Jetstar', 'MEL-SIN', 'Singapore', 'SE Asia', 'Singapore', 'SE Asia', '0', '13', '4355', '2022', '3')\n",
      "('107820', 'Mar-22', 'O', 'Melbourne', 'Singapore', 'Qantas Airways', 'MEL-SIN', 'Singapore', 'SE Asia', 'Singapore', 'SE Asia', '0', '17', '4996', '2022', '3')\n",
      "('107821', 'Mar-22', 'O', 'Melbourne', 'Singapore', 'Scoot Tigerair', 'MEL-SIN', 'Singapore', 'SE Asia', 'Singapore', 'SE Asia', '0', '32', '12000', '2022', '3')\n",
      "('107822', 'Mar-22', 'O', 'Melbourne', 'Singapore', 'Singapore Airlines', 'MEL-SIN', 'Singapore', 'SE Asia', 'Singapore', 'SE Asia', '0', '93', '27973', '2022', '3')\n",
      "('107823', 'Mar-22', 'O', 'Melbourne', 'Taipei', 'China Airlines', 'MEL-TPE', 'Taiwan', 'NE Asia', 'Taiwan', 'NE Asia', '0', '4', '1224', '2022', '3')\n",
      "('107824', 'Mar-22', 'O', 'Melbourne', 'Tokyo', 'Japan Airlines', 'MEL-TYO', 'Japan', 'NE Asia', 'Japan', 'NE Asia', '0', '9', '1854', '2022', '3')\n",
      "('107825', 'Mar-22', 'O', 'Melbourne', 'Xiamen', 'Xiamen Airlines', 'MEL-XMN', 'China', 'NE Asia', 'China', 'NE Asia', '0', '4', '1112', '2022', '3')\n",
      "('107826', 'Mar-22', 'O', 'Perth', 'Auckland', 'Air New Zealand', 'PER-AKL', 'New Zealand', 'New Zealand', 'New Zealand', 'New Zealand', '0', '5', '1510', '2022', '3')\n",
      "('107827', 'Mar-22', 'O', 'Perth', 'Doha', 'Qatar Airways', 'PER-DOH', 'Qatar', 'Middle East', 'Qatar', 'Middle East', '0', '25', '7359', '2022', '3')\n",
      "('107828', 'Mar-22', 'O', 'Perth', 'Dubai', 'Emirates', 'PER-DXB', 'United Arab Emirates', 'Middle East', 'United Arab Emirates', 'Middle East', '0', '13', '4602', '2022', '3')\n",
      "('107829', 'Mar-22', 'O', 'Perth', 'Kuala Lumpur', 'Malaysia Airlines', 'PER-KUL', 'Malaysia', 'SE Asia', 'Malaysia', 'SE Asia', '0', '7', '1250', '2022', '3')\n",
      "('107830', 'Mar-22', 'O', 'Perth', 'Kuala Lumpur', 'Malindo Air', 'PER-KUL', 'Malaysia', 'SE Asia', 'Malaysia', 'SE Asia', '0', '5', '810', '2022', '3')\n",
      "('107831', 'Mar-22', 'O', 'Perth', 'Singapore', 'Jetstar Asia', 'PER-SIN', 'Singapore', 'SE Asia', 'Singapore', 'SE Asia', '0', '6', '1080', '2022', '3')\n",
      "('107832', 'Mar-22', 'O', 'Perth', 'Singapore', 'Qantas Airways', 'PER-SIN', 'Singapore', 'SE Asia', 'Singapore', 'SE Asia', '0', '1', '297', '2022', '3')\n",
      "('107833', 'Mar-22', 'O', 'Perth', 'Singapore', 'Scoot Tigerair', 'PER-SIN', 'Singapore', 'SE Asia', 'Singapore', 'SE Asia', '0', '31', '11625', '2022', '3')\n",
      "('107834', 'Mar-22', 'O', 'Perth', 'Singapore', 'Singapore Airlines', 'PER-SIN', 'Singapore', 'SE Asia', 'Singapore', 'SE Asia', '0', '80', '25906', '2022', '3')\n",
      "('107835', 'Mar-22', 'O', 'Sydney', 'Abu Dhabi', 'Etihad Airways', 'SYD-AUH', 'United Arab Emirates', 'Middle East', 'United Arab Emirates', 'Middle East', '0', '24', '6960', '2022', '3')\n",
      "('107836', 'Mar-22', 'O', 'Sydney', 'Auckland', 'Air New Zealand', 'SYD-AKL', 'New Zealand', 'New Zealand', 'New Zealand', 'New Zealand', '0', '37', '10367', '2022', '3')\n",
      "('107837', 'Mar-22', 'O', 'Sydney', 'Auckland', 'LATAM Airlines', 'SYD-AKL-SCL', 'New Zealand', 'New Zealand', 'Chile', 'S America', '0', '1', '234', '2022', '3')\n",
      "('107838', 'Mar-22', 'O', 'Sydney', 'Auckland', 'Qantas Airways', 'SYD-AKL', 'New Zealand', 'New Zealand', 'New Zealand', 'New Zealand', '0', '18', '4930', '2022', '3')\n",
      "('107839', 'Mar-22', 'O', 'Sydney', 'Bangkok', 'Qantas Airways', 'SYD-BKK', 'Thailand', 'SE Asia', 'Thailand', 'SE Asia', '0', '14', '4155', '2022', '3')\n",
      "('107840', 'Mar-22', 'O', 'Sydney', 'Bangkok', 'Thai Airways International', 'SYD-BKK', 'Thailand', 'SE Asia', 'Thailand', 'SE Asia', '0', '22', '7656', '2022', '3')\n",
      "('107841', 'Mar-22', 'O', 'Sydney', 'Bangkok', 'Thai Airways International', 'SYD-HKT-BKK', 'Thailand', 'SE Asia', 'Thailand', 'SE Asia', '1', '10', '3480', '2022', '3')\n",
      "('107842', 'Mar-22', 'O', 'Sydney', 'Christchurch', 'Air New Zealand', 'SYD-CHC', 'New Zealand', 'New Zealand', 'New Zealand', 'New Zealand', '0', '13', '2520', '2022', '3')\n",
      "('107843', 'Mar-22', 'O', 'Sydney', 'Colombo', 'SriLankan Airlines', 'SYD-CMB', 'Sri Lanka', 'S Asia', 'Sri Lanka', 'S Asia', '0', '19', '5615', '2022', '3')\n",
      "('107844', 'Mar-22', 'O', 'Sydney', 'Dallas', 'Qantas Airways', 'SYD-DFW', 'USA', 'N America', 'USA', 'N America', '0', '18', '4231', '2022', '3')\n",
      "('107845', 'Mar-22', 'O', 'Sydney', 'Denpasar', 'Garuda Indonesia', 'SYD-DPS', 'Indonesia', 'SE Asia', 'Indonesia', 'SE Asia', '0', '3', '825', '2022', '3')\n",
      "('107846', 'Mar-22', 'O', 'Sydney', 'Doha', 'Qatar Airways', 'SYD-DOH', 'Qatar', 'Middle East', 'Qatar', 'Middle East', '0', '31', '10758', '2022', '3')\n",
      "('107847', 'Mar-22', 'O', 'Sydney', 'Dubai', 'Emirates', 'SYD-DXB', 'United Arab Emirates', 'Middle East', 'United Arab Emirates', 'Middle East', '0', '60', '30960', '2022', '3')\n",
      "('107848', 'Mar-22', 'O', 'Sydney', 'Guangzhou', 'China Southern Airlines', 'SYD-CAN', 'China', 'NE Asia', 'China', 'NE Asia', '0', '4', '1832', '2022', '3')\n",
      "('107849', 'Mar-22', 'O', 'Sydney', 'Hanoi', 'Vietnam Airlines', 'SYD-HAN', 'Vietnam', 'SE Asia', 'Vietnam', 'SE Asia', '0', '4', '1133', '2022', '3')\n",
      "('107850', 'Mar-22', 'O', 'Sydney', 'Ho Chi Minh City', 'Vietnam Airlines', 'SYD-SGN', 'Vietnam', 'SE Asia', 'Vietnam', 'SE Asia', '0', '13', '3754', '2022', '3')\n",
      "('107851', 'Mar-22', 'O', 'Sydney', 'Honolulu', 'Hawaiian Airlines', 'SYD-HNL', 'USA', 'N America', 'USA', 'N America', '0', '18', '4986', '2022', '3')\n",
      "('107852', 'Mar-22', 'O', 'Sydney', 'Honolulu', 'Jetstar', 'SYD-HNL', 'USA', 'N America', 'USA', 'N America', '0', '13', '4355', '2022', '3')\n",
      "('107853', 'Mar-22', 'O', 'Sydney', 'Honolulu', 'Qantas Airways', 'SYD-HNL', 'USA', 'N America', 'USA', 'N America', '0', '3', '891', '2022', '3')\n",
      "('107854', 'Mar-22', 'O', 'Sydney', 'Jakarta', 'Garuda Indonesia', 'SYD-JKT', 'Indonesia', 'SE Asia', 'Indonesia', 'SE Asia', '0', '5', '1570', '2022', '3')\n",
      "('107855', 'Mar-22', 'O', 'Sydney', 'Johannesburg', 'Qantas Airways', 'SYD-JNB', 'South Africa', 'Africa', 'South Africa', 'Africa', '0', '16', '3773', '2022', '3')\n",
      "('107856', 'Mar-22', 'O', 'Sydney', 'Kuala Lumpur', 'AirAsia X', 'SYD-KUL', 'Malaysia', 'SE Asia', 'Malaysia', 'SE Asia', '0', '4', '1508', '2022', '3')\n",
      "('107857', 'Mar-22', 'O', 'Sydney', 'Kuala Lumpur', 'Malaysia Airlines', 'SYD-KUL', 'Malaysia', 'SE Asia', 'Malaysia', 'SE Asia', '0', '17', '4930', '2022', '3')\n",
      "('107858', 'Mar-22', 'O', 'Sydney', 'Kunming', 'China Eastern Airlines', 'SYD-KMG', 'China', 'NE Asia', 'China', 'NE Asia', '0', '2', '632', '2022', '3')\n",
      "('107859', 'Mar-22', 'O', 'Sydney', 'London', 'British Airways', 'SYD-SIN-LON', 'UK', 'Europe', 'UK', 'Europe', '1', '3', '648', '2022', '3')\n",
      "('107860', 'Mar-22', 'O', 'Sydney', 'London', 'Qantas Airways', 'SYD-DRW-LON', 'UK', 'Europe', 'UK', 'Europe', '1', '30', '5477', '2022', '3')\n",
      "('107861', 'Mar-22', 'O', 'Sydney', 'Los Angeles', 'American Airlines', 'SYD-LAX', 'USA', 'N America', 'USA', 'N America', '0', '27', '7668', '2022', '3')\n",
      "('107862', 'Mar-22', 'O', 'Sydney', 'Los Angeles', 'Delta Air Lines', 'SYD-LAX', 'USA', 'N America', 'USA', 'N America', '0', '30', '9030', '2022', '3')\n",
      "('107863', 'Mar-22', 'O', 'Sydney', 'Los Angeles', 'Qantas Airways', 'SYD-LAX', 'USA', 'N America', 'USA', 'N America', '0', '32', '10283', '2022', '3')\n",
      "('107864', 'Mar-22', 'O', 'Sydney', 'Los Angeles', 'United Airlines', 'SYD-LAX', 'USA', 'N America', 'USA', 'N America', '0', '31', '7942', '2022', '3')\n",
      "('107865', 'Mar-22', 'O', 'Sydney', 'Manila', 'Philippine Airlines', 'SYD-MNL', 'Philippines', 'SE Asia', 'Philippines', 'SE Asia', '0', '13', '2748', '2022', '3')\n",
      "('107866', 'Mar-22', 'O', 'Sydney', 'Manila', 'Qantas Airways', 'SYD-MNL', 'Philippines', 'SE Asia', 'Philippines', 'SE Asia', '0', '5', '1439', '2022', '3')\n",
      "('107867', 'Mar-22', 'O', 'Sydney', 'Nadi', 'Fiji Airways', 'SYD-NAN', 'Fiji', 'Islands', 'Fiji', 'Islands', '0', '50', '12520', '2022', '3')\n",
      "('107868', 'Mar-22', 'O', 'Sydney', 'Nadi', 'Jetstar', 'SYD-NAN', 'Fiji', 'Islands', 'Fiji', 'Islands', '0', '12', '2232', '2022', '3')\n",
      "('107869', 'Mar-22', 'O', 'Sydney', 'Nadi', 'Qantas Airways', 'SYD-NAN', 'Fiji', 'Islands', 'Fiji', 'Islands', '0', '9', '1524', '2022', '3')\n",
      "('107870', 'Mar-22', 'O', 'Sydney', 'Nadi', 'Virgin Australia', 'SYD-NAN', 'Fiji', 'Islands', 'Fiji', 'Islands', '0', '13', '2288', '2022', '3')\n",
      "('107871', 'Mar-22', 'O', 'Sydney', 'New Delhi', 'Air India', 'SYD-DEL', 'India', 'S Asia', 'India', 'S Asia', '0', '20', '5120', '2022', '3')\n",
      "('107872', 'Mar-22', 'O', 'Sydney', 'New Delhi', 'Qantas Airways', 'SYD-ADL-DEL', 'India', 'S Asia', 'India', 'S Asia', '1', '15', '3757', '2022', '3')\n",
      "('107873', 'Mar-22', 'O', 'Sydney', 'Noumea', 'Air Caledonie', 'SYD-NOU', 'New Caledonia', 'Islands', 'New Caledonia', 'Islands', '0', '9', '2599', '2022', '3')\n",
      "('107874', 'Mar-22', 'O', 'Sydney', 'Phuket', 'Jetstar', 'SYD-HKT', 'Thailand', 'SE Asia', 'Thailand', 'SE Asia', '0', '4', '1340', '2022', '3')\n",
      "('107875', 'Mar-22', 'O', 'Sydney', 'Phuket', 'Thai Airways International', 'SYD-HKT-BKK', 'Thailand', 'SE Asia', 'Thailand', 'SE Asia', '0', '10', '3480', '2022', '3')\n",
      "('107876', 'Mar-22', 'O', 'Sydney', 'Port Moresby', 'Air Niugini', 'SYD-POM', 'Papua New Guinea', 'Islands', 'Papua New Guinea', 'Islands', '0', '4', '830', '2022', '3')\n",
      "('107877', 'Mar-22', 'O', 'Sydney', 'Port Vila', 'Air Vanuatu', 'SYD-VLI', 'Vanuatu', 'Islands', 'Vanuatu', 'Islands', '0', '1', '176', '2022', '3')\n",
      "('107878', 'Mar-22', 'O', 'Sydney', 'San Francisco', 'United Airlines', 'SYD-SFO', 'USA', 'N America', 'USA', 'N America', '0', '31', '10850', '2022', '3')\n",
      "('107879', 'Mar-22', 'O', 'Sydney', 'Santiago', 'LATAM Airlines', 'SYD-AKL-SCL', 'Chile', 'S America', 'Chile', 'S America', '1', '1', '234', '2022', '3')\n",
      "('107880', 'Mar-22', 'O', 'Sydney', 'Seoul', 'Asiana Airlines', 'SYD-SEL', 'Korea', 'NE Asia', 'Korea', 'NE Asia', '0', '9', '2682', '2022', '3')\n",
      "('107881', 'Mar-22', 'O', 'Sydney', 'Seoul', 'Korean Air', 'SYD-SEL', 'Korea', 'NE Asia', 'Korea', 'NE Asia', '0', '9', '2412', '2022', '3')\n",
      "('107882', 'Mar-22', 'O', 'Sydney', 'Shanghai', 'China Eastern Airlines', 'SYD-SHA', 'China', 'NE Asia', 'China', 'NE Asia', '0', '3', '948', '2022', '3')\n",
      "('107883', 'Mar-22', 'O', 'Sydney', 'Singapore', 'British Airways', 'SYD-SIN-LON', 'Singapore', 'SE Asia', 'UK', 'Europe', '0', '3', '648', '2022', '3')\n",
      "('107884', 'Mar-22', 'O', 'Sydney', 'Singapore', 'Qantas Airways', 'SYD-SIN', 'Singapore', 'SE Asia', 'Singapore', 'SE Asia', '0', '30', '8852', '2022', '3')\n",
      "('107885', 'Mar-22', 'O', 'Sydney', 'Singapore', 'Scoot Tigerair', 'SYD-SIN', 'Singapore', 'SE Asia', 'Singapore', 'SE Asia', '0', '33', '12375', '2022', '3')\n",
      "('107886', 'Mar-22', 'O', 'Sydney', 'Singapore', 'Singapore Airlines', 'SYD-SIN', 'Singapore', 'SE Asia', 'Singapore', 'SE Asia', '0', '97', '33390', '2022', '3')\n",
      "('107887', 'Mar-22', 'O', 'Sydney', 'Taipei', 'China Airlines', 'SYD-TPE', 'Taiwan', 'NE Asia', 'Taiwan', 'NE Asia', '0', '4', '1224', '2022', '3')\n",
      "('107888', 'Mar-22', 'O', 'Sydney', 'Tokyo', 'All Nippon Airways', 'SYD-TYO', 'Japan', 'NE Asia', 'Japan', 'NE Asia', '0', '22', '5280', '2022', '3')\n",
      "('107889', 'Mar-22', 'O', 'Sydney', 'Tokyo', 'Japan Airlines', 'SYD-TYO', 'Japan', 'NE Asia', 'Japan', 'NE Asia', '0', '15', '2790', '2022', '3')\n",
      "('107890', 'Mar-22', 'O', 'Sydney', 'Vancouver', 'Air Canada', 'SYD-YVR', 'Canada', 'N America', 'Canada', 'N America', '0', '14', '4300', '2022', '3')\n",
      "('107891', 'Mar-22', 'O', 'Sydney', 'Vancouver', 'Qantas Airways', 'SYD-YVR', 'Canada', 'N America', 'Canada', 'N America', '0', '12', '2830', '2022', '3')\n",
      "('107892', 'Mar-22', 'O', 'Sydney', 'Xiamen', 'Xiamen Airlines', 'SYD-XMN', 'China', 'NE Asia', 'China', 'NE Asia', '0', '5', '1390', '2022', '3')\n"
     ]
    }
   ],
   "source": [
    "# Import the dependencies.\n",
    "from sqlalchemy import create_engine, text\n",
    "\n",
    "# Adjust the database path based on your setup.\n",
    "database_path = \"Flights_Data_Out.sqlite\"\n",
    "\n",
    "# Create Engine\n",
    "engine = create_engine(f\"sqlite:///{database_path}\")\n",
    "\n",
    "# Query All Records in the Database\n",
    "query_all = text(\"SELECT * FROM Flights_Data_Out;\")\n",
    "data_all = engine.execute(query_all)\n",
    "for record in data_all:\n",
    "    print(record)\n",
    "\n",
    "# Query Using a Filter\n",
    "query_filter = text(\"SELECT * FROM Flights_Data_Out\")\n",
    "data_filter = engine.execute(query_filter)\n",
    "for record in data_filter:\n",
    "    print(record)"
   ]
  },
  {
   "cell_type": "code",
   "execution_count": 15,
   "id": "d26af699-fac7-4596-a187-987894720dec",
   "metadata": {},
   "outputs": [
    {
     "data": {
      "text/html": [
       "<div>\n",
       "<style scoped>\n",
       "    .dataframe tbody tr th:only-of-type {\n",
       "        vertical-align: middle;\n",
       "    }\n",
       "\n",
       "    .dataframe tbody tr th {\n",
       "        vertical-align: top;\n",
       "    }\n",
       "\n",
       "    .dataframe thead th {\n",
       "        text-align: right;\n",
       "    }\n",
       "</style>\n",
       "<table border=\"1\" class=\"dataframe\">\n",
       "  <thead>\n",
       "    <tr style=\"text-align: right;\">\n",
       "      <th></th>\n",
       "      <th>_id</th>\n",
       "      <th>Month</th>\n",
       "      <th>In_Out</th>\n",
       "      <th>Australian_City</th>\n",
       "      <th>International_City</th>\n",
       "      <th>Airline</th>\n",
       "      <th>Route</th>\n",
       "      <th>Port_Country</th>\n",
       "      <th>Port_Region</th>\n",
       "      <th>Service_Country</th>\n",
       "      <th>Service_Region</th>\n",
       "      <th>Stops</th>\n",
       "      <th>All_Flights</th>\n",
       "      <th>Max_Seats</th>\n",
       "      <th>Year</th>\n",
       "      <th>Month_num</th>\n",
       "    </tr>\n",
       "  </thead>\n",
       "  <tbody>\n",
       "    <tr>\n",
       "      <th>0</th>\n",
       "      <td>107767</td>\n",
       "      <td>Mar-22</td>\n",
       "      <td>O</td>\n",
       "      <td>Adelaide</td>\n",
       "      <td>Doha</td>\n",
       "      <td>Qatar Airways</td>\n",
       "      <td>ADL-DOH</td>\n",
       "      <td>Qatar</td>\n",
       "      <td>Middle East</td>\n",
       "      <td>Qatar</td>\n",
       "      <td>Middle East</td>\n",
       "      <td>0</td>\n",
       "      <td>12</td>\n",
       "      <td>3396</td>\n",
       "      <td>2022</td>\n",
       "      <td>3</td>\n",
       "    </tr>\n",
       "    <tr>\n",
       "      <th>1</th>\n",
       "      <td>107768</td>\n",
       "      <td>Mar-22</td>\n",
       "      <td>O</td>\n",
       "      <td>Adelaide</td>\n",
       "      <td>Kuala Lumpur</td>\n",
       "      <td>Malaysia Airlines</td>\n",
       "      <td>ADL-KUL</td>\n",
       "      <td>Malaysia</td>\n",
       "      <td>SE Asia</td>\n",
       "      <td>Malaysia</td>\n",
       "      <td>SE Asia</td>\n",
       "      <td>0</td>\n",
       "      <td>2</td>\n",
       "      <td>580</td>\n",
       "      <td>2022</td>\n",
       "      <td>3</td>\n",
       "    </tr>\n",
       "    <tr>\n",
       "      <th>2</th>\n",
       "      <td>107769</td>\n",
       "      <td>Mar-22</td>\n",
       "      <td>O</td>\n",
       "      <td>Adelaide</td>\n",
       "      <td>New Delhi</td>\n",
       "      <td>Qantas Airways</td>\n",
       "      <td>MEL-ADL-DEL</td>\n",
       "      <td>India</td>\n",
       "      <td>S Asia</td>\n",
       "      <td>India</td>\n",
       "      <td>S Asia</td>\n",
       "      <td>0</td>\n",
       "      <td>18</td>\n",
       "      <td>4512</td>\n",
       "      <td>2022</td>\n",
       "      <td>3</td>\n",
       "    </tr>\n",
       "    <tr>\n",
       "      <th>3</th>\n",
       "      <td>107770</td>\n",
       "      <td>Mar-22</td>\n",
       "      <td>O</td>\n",
       "      <td>Adelaide</td>\n",
       "      <td>New Delhi</td>\n",
       "      <td>Qantas Airways</td>\n",
       "      <td>SYD-ADL-DEL</td>\n",
       "      <td>India</td>\n",
       "      <td>S Asia</td>\n",
       "      <td>India</td>\n",
       "      <td>S Asia</td>\n",
       "      <td>0</td>\n",
       "      <td>15</td>\n",
       "      <td>3757</td>\n",
       "      <td>2022</td>\n",
       "      <td>3</td>\n",
       "    </tr>\n",
       "    <tr>\n",
       "      <th>4</th>\n",
       "      <td>107771</td>\n",
       "      <td>Mar-22</td>\n",
       "      <td>O</td>\n",
       "      <td>Adelaide</td>\n",
       "      <td>Singapore</td>\n",
       "      <td>Singapore Airlines</td>\n",
       "      <td>ADL-SIN</td>\n",
       "      <td>Singapore</td>\n",
       "      <td>SE Asia</td>\n",
       "      <td>Singapore</td>\n",
       "      <td>SE Asia</td>\n",
       "      <td>0</td>\n",
       "      <td>20</td>\n",
       "      <td>6060</td>\n",
       "      <td>2022</td>\n",
       "      <td>3</td>\n",
       "    </tr>\n",
       "    <tr>\n",
       "      <th>5</th>\n",
       "      <td>107772</td>\n",
       "      <td>Mar-22</td>\n",
       "      <td>O</td>\n",
       "      <td>Brisbane</td>\n",
       "      <td>Auckland</td>\n",
       "      <td>Air New Zealand</td>\n",
       "      <td>BNE-AKL</td>\n",
       "      <td>New Zealand</td>\n",
       "      <td>New Zealand</td>\n",
       "      <td>New Zealand</td>\n",
       "      <td>New Zealand</td>\n",
       "      <td>0</td>\n",
       "      <td>23</td>\n",
       "      <td>6299</td>\n",
       "      <td>2022</td>\n",
       "      <td>3</td>\n",
       "    </tr>\n",
       "    <tr>\n",
       "      <th>6</th>\n",
       "      <td>107773</td>\n",
       "      <td>Mar-22</td>\n",
       "      <td>O</td>\n",
       "      <td>Brisbane</td>\n",
       "      <td>Christchurch</td>\n",
       "      <td>Air New Zealand</td>\n",
       "      <td>BNE-CHC</td>\n",
       "      <td>New Zealand</td>\n",
       "      <td>New Zealand</td>\n",
       "      <td>New Zealand</td>\n",
       "      <td>New Zealand</td>\n",
       "      <td>0</td>\n",
       "      <td>12</td>\n",
       "      <td>2424</td>\n",
       "      <td>2022</td>\n",
       "      <td>3</td>\n",
       "    </tr>\n",
       "    <tr>\n",
       "      <th>7</th>\n",
       "      <td>107774</td>\n",
       "      <td>Mar-22</td>\n",
       "      <td>O</td>\n",
       "      <td>Brisbane</td>\n",
       "      <td>Doha</td>\n",
       "      <td>Qatar Airways</td>\n",
       "      <td>BNE-DOH</td>\n",
       "      <td>Qatar</td>\n",
       "      <td>Middle East</td>\n",
       "      <td>Qatar</td>\n",
       "      <td>Middle East</td>\n",
       "      <td>0</td>\n",
       "      <td>31</td>\n",
       "      <td>10974</td>\n",
       "      <td>2022</td>\n",
       "      <td>3</td>\n",
       "    </tr>\n",
       "    <tr>\n",
       "      <th>8</th>\n",
       "      <td>107775</td>\n",
       "      <td>Mar-22</td>\n",
       "      <td>O</td>\n",
       "      <td>Brisbane</td>\n",
       "      <td>Dubai</td>\n",
       "      <td>Emirates</td>\n",
       "      <td>BNE-DXB</td>\n",
       "      <td>United Arab Emirates</td>\n",
       "      <td>Middle East</td>\n",
       "      <td>United Arab Emirates</td>\n",
       "      <td>Middle East</td>\n",
       "      <td>0</td>\n",
       "      <td>31</td>\n",
       "      <td>15834</td>\n",
       "      <td>2022</td>\n",
       "      <td>3</td>\n",
       "    </tr>\n",
       "    <tr>\n",
       "      <th>9</th>\n",
       "      <td>107776</td>\n",
       "      <td>Mar-22</td>\n",
       "      <td>O</td>\n",
       "      <td>Brisbane</td>\n",
       "      <td>Honiara</td>\n",
       "      <td>Solomon Airlines</td>\n",
       "      <td>BNE-HIR</td>\n",
       "      <td>Solomon Islands</td>\n",
       "      <td>Islands</td>\n",
       "      <td>Solomon Islands</td>\n",
       "      <td>Islands</td>\n",
       "      <td>0</td>\n",
       "      <td>4</td>\n",
       "      <td>544</td>\n",
       "      <td>2022</td>\n",
       "      <td>3</td>\n",
       "    </tr>\n",
       "  </tbody>\n",
       "</table>\n",
       "</div>"
      ],
      "text/plain": [
       "      _id   Month In_Out Australian_City International_City  \\\n",
       "0  107767  Mar-22      O        Adelaide               Doha   \n",
       "1  107768  Mar-22      O        Adelaide       Kuala Lumpur   \n",
       "2  107769  Mar-22      O        Adelaide          New Delhi   \n",
       "3  107770  Mar-22      O        Adelaide          New Delhi   \n",
       "4  107771  Mar-22      O        Adelaide          Singapore   \n",
       "5  107772  Mar-22      O        Brisbane           Auckland   \n",
       "6  107773  Mar-22      O        Brisbane       Christchurch   \n",
       "7  107774  Mar-22      O        Brisbane               Doha   \n",
       "8  107775  Mar-22      O        Brisbane              Dubai   \n",
       "9  107776  Mar-22      O        Brisbane            Honiara   \n",
       "\n",
       "              Airline        Route          Port_Country  Port_Region  \\\n",
       "0       Qatar Airways      ADL-DOH                 Qatar  Middle East   \n",
       "1   Malaysia Airlines      ADL-KUL              Malaysia      SE Asia   \n",
       "2      Qantas Airways  MEL-ADL-DEL                 India       S Asia   \n",
       "3      Qantas Airways  SYD-ADL-DEL                 India       S Asia   \n",
       "4  Singapore Airlines      ADL-SIN             Singapore      SE Asia   \n",
       "5     Air New Zealand      BNE-AKL           New Zealand  New Zealand   \n",
       "6     Air New Zealand      BNE-CHC           New Zealand  New Zealand   \n",
       "7       Qatar Airways      BNE-DOH                 Qatar  Middle East   \n",
       "8            Emirates      BNE-DXB  United Arab Emirates  Middle East   \n",
       "9    Solomon Airlines      BNE-HIR       Solomon Islands      Islands   \n",
       "\n",
       "        Service_Country Service_Region Stops All_Flights Max_Seats  Year  \\\n",
       "0                 Qatar    Middle East     0          12      3396  2022   \n",
       "1              Malaysia        SE Asia     0           2       580  2022   \n",
       "2                 India         S Asia     0          18      4512  2022   \n",
       "3                 India         S Asia     0          15      3757  2022   \n",
       "4             Singapore        SE Asia     0          20      6060  2022   \n",
       "5           New Zealand    New Zealand     0          23      6299  2022   \n",
       "6           New Zealand    New Zealand     0          12      2424  2022   \n",
       "7                 Qatar    Middle East     0          31     10974  2022   \n",
       "8  United Arab Emirates    Middle East     0          31     15834  2022   \n",
       "9       Solomon Islands        Islands     0           4       544  2022   \n",
       "\n",
       "  Month_num  \n",
       "0         3  \n",
       "1         3  \n",
       "2         3  \n",
       "3         3  \n",
       "4         3  \n",
       "5         3  \n",
       "6         3  \n",
       "7         3  \n",
       "8         3  \n",
       "9         3  "
      ]
     },
     "execution_count": 15,
     "metadata": {},
     "output_type": "execute_result"
    }
   ],
   "source": [
    "query_all = \"SELECT * FROM Flights_Data_Out;\"\n",
    "Flights_Out = pd.read_sql_query(query_all, engine)\n",
    "Flights_Out.head(10)"
   ]
  },
  {
   "cell_type": "code",
   "execution_count": 19,
   "id": "b6ee63b6-f1b7-4866-8cc2-41985b5f1c17",
   "metadata": {},
   "outputs": [
    {
     "name": "stdout",
     "output_type": "stream",
     "text": [
      "Data Types of Each Column:\n",
      "_id                    int64\n",
      "Month                 object\n",
      "In_Out                object\n",
      "Australian_City       object\n",
      "International_City    object\n",
      "Airline               object\n",
      "Route                 object\n",
      "Port_Country          object\n",
      "Port_Region           object\n",
      "Service_Country       object\n",
      "Service_Region        object\n",
      "Stops                  int64\n",
      "All_Flights            int64\n",
      "Max_Seats              int64\n",
      "Year                   int64\n",
      "Month_num              int64\n",
      "dtype: object\n"
     ]
    }
   ],
   "source": [
    "# Display the data types of each column\n",
    "data_types = Flights_Out.dtypes\n",
    "print(\"Data Types of Each Column:\")\n",
    "print(data_types)"
   ]
  },
  {
   "cell_type": "code",
   "execution_count": 20,
   "id": "e270091f-7e00-4d89-a79d-9e493399d6f4",
   "metadata": {},
   "outputs": [
    {
     "name": "stdout",
     "output_type": "stream",
     "text": [
      "Updated Data Types of Each Column:\n",
      "_id                    int64\n",
      "Month                 object\n",
      "In_Out                object\n",
      "Australian_City       object\n",
      "International_City    object\n",
      "Airline               object\n",
      "Route                 object\n",
      "Port_Country          object\n",
      "Port_Region           object\n",
      "Service_Country       object\n",
      "Service_Region        object\n",
      "Stops                  int64\n",
      "All_Flights            int64\n",
      "Max_Seats              int64\n",
      "Year                   int64\n",
      "Month_num              int64\n",
      "dtype: object\n"
     ]
    }
   ],
   "source": [
    "# List of columns containing numeric data\n",
    "numeric_columns = ['_id', 'Stops', 'All_Flights', 'Max_Seats', 'Year', 'Month_num']\n",
    "\n",
    "# Convert selected columns to numeric types\n",
    "Flights_Out[numeric_columns] = Flights_Out[numeric_columns].apply(pd.to_numeric, errors='coerce')\n",
    "\n",
    "# Display the updated data types\n",
    "updated_data_types = Flights_Out.dtypes\n",
    "print(\"Updated Data Types of Each Column:\")\n",
    "print(updated_data_types)\n"
   ]
  },
  {
   "cell_type": "markdown",
   "id": "3faea06e-3efa-4f83-8b9e-79704590e499",
   "metadata": {},
   "source": [
    "### List of most popular routes by airlines"
   ]
  },
  {
   "cell_type": "code",
   "execution_count": 33,
   "id": "55e44e4f-52b3-4223-ad48-39bee382d1ac",
   "metadata": {},
   "outputs": [
    {
     "data": {
      "text/html": [
       "<div>\n",
       "<style scoped>\n",
       "    .dataframe tbody tr th:only-of-type {\n",
       "        vertical-align: middle;\n",
       "    }\n",
       "\n",
       "    .dataframe tbody tr th {\n",
       "        vertical-align: top;\n",
       "    }\n",
       "\n",
       "    .dataframe thead th {\n",
       "        text-align: right;\n",
       "    }\n",
       "</style>\n",
       "<table border=\"1\" class=\"dataframe\">\n",
       "  <thead>\n",
       "    <tr style=\"text-align: right;\">\n",
       "      <th></th>\n",
       "      <th>Airline</th>\n",
       "      <th>Route</th>\n",
       "      <th>All_Flights</th>\n",
       "    </tr>\n",
       "  </thead>\n",
       "  <tbody>\n",
       "    <tr>\n",
       "      <th>101</th>\n",
       "      <td>Singapore Airlines</td>\n",
       "      <td>SYD-SIN</td>\n",
       "      <td>97</td>\n",
       "    </tr>\n",
       "    <tr>\n",
       "      <th>99</th>\n",
       "      <td>Singapore Airlines</td>\n",
       "      <td>MEL-SIN</td>\n",
       "      <td>93</td>\n",
       "    </tr>\n",
       "    <tr>\n",
       "      <th>100</th>\n",
       "      <td>Singapore Airlines</td>\n",
       "      <td>PER-SIN</td>\n",
       "      <td>80</td>\n",
       "    </tr>\n",
       "    <tr>\n",
       "      <th>96</th>\n",
       "      <td>Singapore Airlines</td>\n",
       "      <td>BNE-SIN</td>\n",
       "      <td>77</td>\n",
       "    </tr>\n",
       "    <tr>\n",
       "      <th>78</th>\n",
       "      <td>Qantas Airways</td>\n",
       "      <td>SYD-DRW-LON</td>\n",
       "      <td>60</td>\n",
       "    </tr>\n",
       "    <tr>\n",
       "      <th>...</th>\n",
       "      <td>...</td>\n",
       "      <td>...</td>\n",
       "      <td>...</td>\n",
       "    </tr>\n",
       "    <tr>\n",
       "      <th>73</th>\n",
       "      <td>Qantas Airways</td>\n",
       "      <td>PER-SIN</td>\n",
       "      <td>1</td>\n",
       "    </tr>\n",
       "    <tr>\n",
       "      <th>98</th>\n",
       "      <td>Singapore Airlines</td>\n",
       "      <td>DRW-SIN</td>\n",
       "      <td>1</td>\n",
       "    </tr>\n",
       "    <tr>\n",
       "      <th>17</th>\n",
       "      <td>Air Vanuatu</td>\n",
       "      <td>SYD-VLI</td>\n",
       "      <td>1</td>\n",
       "    </tr>\n",
       "    <tr>\n",
       "      <th>7</th>\n",
       "      <td>Air New Zealand</td>\n",
       "      <td>BNE-WLG</td>\n",
       "      <td>1</td>\n",
       "    </tr>\n",
       "    <tr>\n",
       "      <th>68</th>\n",
       "      <td>Qantas Airways</td>\n",
       "      <td>DRW-DIL</td>\n",
       "      <td>1</td>\n",
       "    </tr>\n",
       "  </tbody>\n",
       "</table>\n",
       "<p>116 rows × 3 columns</p>\n",
       "</div>"
      ],
      "text/plain": [
       "                Airline        Route  All_Flights\n",
       "101  Singapore Airlines      SYD-SIN           97\n",
       "99   Singapore Airlines      MEL-SIN           93\n",
       "100  Singapore Airlines      PER-SIN           80\n",
       "96   Singapore Airlines      BNE-SIN           77\n",
       "78       Qantas Airways  SYD-DRW-LON           60\n",
       "..                  ...          ...          ...\n",
       "73       Qantas Airways      PER-SIN            1\n",
       "98   Singapore Airlines      DRW-SIN            1\n",
       "17          Air Vanuatu      SYD-VLI            1\n",
       "7       Air New Zealand      BNE-WLG            1\n",
       "68       Qantas Airways      DRW-DIL            1\n",
       "\n",
       "[116 rows x 3 columns]"
      ]
     },
     "execution_count": 33,
     "metadata": {},
     "output_type": "execute_result"
    }
   ],
   "source": [
    "# Group by Route, Airline and calculate total flights\n",
    "top_routes = Flights_Out.groupby(['Airline', 'Route'])['All_Flights'].sum().reset_index()\n",
    "top_routes = top_routes.sort_values(by='All_Flights', ascending=False)\n",
    "top_routes"
   ]
  },
  {
   "cell_type": "code",
   "execution_count": 36,
   "id": "3df4ddf0",
   "metadata": {},
   "outputs": [
    {
     "data": {
      "application/vnd.plotly.v1+json": {
       "config": {
        "plotlyServerURL": "https://plot.ly"
       },
       "data": [
        {
         "alignmentgroup": "True",
         "customdata": [
          [
           "Singapore Airlines"
          ],
          [
           "Singapore Airlines"
          ],
          [
           "Singapore Airlines"
          ],
          [
           "Singapore Airlines"
          ],
          [
           "Singapore Airlines"
          ],
          [
           "Singapore Airlines"
          ],
          [
           "Singapore Airlines"
          ]
         ],
         "hovertemplate": "Airline=%{customdata[0]}<br>Total Flights=%{y}<extra></extra>",
         "legendgroup": "Singapore Airlines",
         "marker": {
          "color": "#636efa",
          "pattern": {
           "shape": ""
          }
         },
         "name": "Singapore Airlines",
         "offsetgroup": "Singapore Airlines",
         "orientation": "v",
         "showlegend": true,
         "textposition": "auto",
         "type": "bar",
         "x": [
          "SYD-SIN",
          "MEL-SIN",
          "PER-SIN",
          "BNE-SIN",
          "ADL-SIN",
          "CNS-SIN",
          "DRW-SIN"
         ],
         "xaxis": "x",
         "y": [
          97,
          93,
          80,
          77,
          20,
          2,
          1
         ],
         "yaxis": "y"
        },
        {
         "alignmentgroup": "True",
         "customdata": [
          [
           "Qantas Airways"
          ],
          [
           "Qantas Airways"
          ],
          [
           "Qantas Airways"
          ],
          [
           "Qantas Airways"
          ],
          [
           "Qantas Airways"
          ],
          [
           "Qantas Airways"
          ],
          [
           "Qantas Airways"
          ],
          [
           "Qantas Airways"
          ],
          [
           "Qantas Airways"
          ],
          [
           "Qantas Airways"
          ],
          [
           "Qantas Airways"
          ],
          [
           "Qantas Airways"
          ],
          [
           "Qantas Airways"
          ],
          [
           "Qantas Airways"
          ],
          [
           "Qantas Airways"
          ],
          [
           "Qantas Airways"
          ],
          [
           "Qantas Airways"
          ],
          [
           "Qantas Airways"
          ],
          [
           "Qantas Airways"
          ]
         ],
         "hovertemplate": "Airline=%{customdata[0]}<br>Total Flights=%{y}<extra></extra>",
         "legendgroup": "Qantas Airways",
         "marker": {
          "color": "#EF553B",
          "pattern": {
           "shape": ""
          }
         },
         "name": "Qantas Airways",
         "offsetgroup": "Qantas Airways",
         "orientation": "v",
         "showlegend": true,
         "textposition": "auto",
         "type": "bar",
         "x": [
          "SYD-DRW-LON",
          "MEL-DRW-LON",
          "MEL-ADL-DEL",
          "SYD-LAX",
          "SYD-ADL-DEL",
          "SYD-SIN",
          "MEL-LAX",
          "SYD-DFW",
          "SYD-AKL",
          "MEL-SIN",
          "SYD-JNB",
          "SYD-BKK",
          "SYD-YVR",
          "SYD-NAN",
          "SYD-MNL",
          "SYD-HNL",
          "BNE-SIN",
          "PER-SIN",
          "DRW-DIL"
         ],
         "xaxis": "x",
         "y": [
          60,
          58,
          36,
          32,
          30,
          30,
          21,
          18,
          18,
          17,
          16,
          14,
          12,
          9,
          5,
          3,
          2,
          1,
          1
         ],
         "yaxis": "y"
        },
        {
         "alignmentgroup": "True",
         "customdata": [
          [
           "Emirates"
          ],
          [
           "Emirates"
          ],
          [
           "Emirates"
          ],
          [
           "Emirates"
          ]
         ],
         "hovertemplate": "Airline=%{customdata[0]}<br>Total Flights=%{y}<extra></extra>",
         "legendgroup": "Emirates",
         "marker": {
          "color": "#00cc96",
          "pattern": {
           "shape": ""
          }
         },
         "name": "Emirates",
         "offsetgroup": "Emirates",
         "orientation": "v",
         "showlegend": true,
         "textposition": "auto",
         "type": "bar",
         "x": [
          "SYD-DXB",
          "BNE-DXB",
          "MEL-DXB",
          "PER-DXB"
         ],
         "xaxis": "x",
         "y": [
          60,
          31,
          31,
          13
         ],
         "yaxis": "y"
        },
        {
         "alignmentgroup": "True",
         "customdata": [
          [
           "Fiji Airways"
          ],
          [
           "Fiji Airways"
          ],
          [
           "Fiji Airways"
          ]
         ],
         "hovertemplate": "Airline=%{customdata[0]}<br>Total Flights=%{y}<extra></extra>",
         "legendgroup": "Fiji Airways",
         "marker": {
          "color": "#ab63fa",
          "pattern": {
           "shape": ""
          }
         },
         "name": "Fiji Airways",
         "offsetgroup": "Fiji Airways",
         "orientation": "v",
         "showlegend": true,
         "textposition": "auto",
         "type": "bar",
         "x": [
          "SYD-NAN",
          "MEL-NAN",
          "BNE-NAN"
         ],
         "xaxis": "x",
         "y": [
          50,
          22,
          13
         ],
         "yaxis": "y"
        },
        {
         "alignmentgroup": "True",
         "customdata": [
          [
           "Air New Zealand"
          ],
          [
           "Air New Zealand"
          ],
          [
           "Air New Zealand"
          ],
          [
           "Air New Zealand"
          ],
          [
           "Air New Zealand"
          ],
          [
           "Air New Zealand"
          ],
          [
           "Air New Zealand"
          ],
          [
           "Air New Zealand"
          ]
         ],
         "hovertemplate": "Airline=%{customdata[0]}<br>Total Flights=%{y}<extra></extra>",
         "legendgroup": "Air New Zealand",
         "marker": {
          "color": "#FFA15A",
          "pattern": {
           "shape": ""
          }
         },
         "name": "Air New Zealand",
         "offsetgroup": "Air New Zealand",
         "orientation": "v",
         "showlegend": true,
         "textposition": "auto",
         "type": "bar",
         "x": [
          "SYD-AKL",
          "MEL-AKL",
          "BNE-AKL",
          "MEL-CHC",
          "SYD-CHC",
          "BNE-CHC",
          "PER-AKL",
          "BNE-WLG"
         ],
         "xaxis": "x",
         "y": [
          37,
          33,
          23,
          14,
          13,
          12,
          5,
          1
         ],
         "yaxis": "y"
        },
        {
         "alignmentgroup": "True",
         "customdata": [
          [
           "Scoot Tigerair"
          ],
          [
           "Scoot Tigerair"
          ],
          [
           "Scoot Tigerair"
          ]
         ],
         "hovertemplate": "Airline=%{customdata[0]}<br>Total Flights=%{y}<extra></extra>",
         "legendgroup": "Scoot Tigerair",
         "marker": {
          "color": "#19d3f3",
          "pattern": {
           "shape": ""
          }
         },
         "name": "Scoot Tigerair",
         "offsetgroup": "Scoot Tigerair",
         "orientation": "v",
         "showlegend": true,
         "textposition": "auto",
         "type": "bar",
         "x": [
          "SYD-SIN",
          "MEL-SIN",
          "PER-SIN"
         ],
         "xaxis": "x",
         "y": [
          33,
          32,
          31
         ],
         "yaxis": "y"
        },
        {
         "alignmentgroup": "True",
         "customdata": [
          [
           "Qatar Airways"
          ],
          [
           "Qatar Airways"
          ],
          [
           "Qatar Airways"
          ],
          [
           "Qatar Airways"
          ],
          [
           "Qatar Airways"
          ]
         ],
         "hovertemplate": "Airline=%{customdata[0]}<br>Total Flights=%{y}<extra></extra>",
         "legendgroup": "Qatar Airways",
         "marker": {
          "color": "#FF6692",
          "pattern": {
           "shape": ""
          }
         },
         "name": "Qatar Airways",
         "offsetgroup": "Qatar Airways",
         "orientation": "v",
         "showlegend": true,
         "textposition": "auto",
         "type": "bar",
         "x": [
          "BNE-DOH",
          "SYD-DOH",
          "MEL-DOH",
          "PER-DOH",
          "ADL-DOH"
         ],
         "xaxis": "x",
         "y": [
          31,
          31,
          30,
          25,
          12
         ],
         "yaxis": "y"
        },
        {
         "alignmentgroup": "True",
         "customdata": [
          [
           "United Airlines"
          ],
          [
           "United Airlines"
          ]
         ],
         "hovertemplate": "Airline=%{customdata[0]}<br>Total Flights=%{y}<extra></extra>",
         "legendgroup": "United Airlines",
         "marker": {
          "color": "#B6E880",
          "pattern": {
           "shape": ""
          }
         },
         "name": "United Airlines",
         "offsetgroup": "United Airlines",
         "orientation": "v",
         "showlegend": true,
         "textposition": "auto",
         "type": "bar",
         "x": [
          "SYD-SFO",
          "SYD-LAX"
         ],
         "xaxis": "x",
         "y": [
          31,
          31
         ],
         "yaxis": "y"
        },
        {
         "alignmentgroup": "True",
         "customdata": [
          [
           "Delta Air Lines"
          ]
         ],
         "hovertemplate": "Airline=%{customdata[0]}<br>Total Flights=%{y}<extra></extra>",
         "legendgroup": "Delta Air Lines",
         "marker": {
          "color": "#FF97FF",
          "pattern": {
           "shape": ""
          }
         },
         "name": "Delta Air Lines",
         "offsetgroup": "Delta Air Lines",
         "orientation": "v",
         "showlegend": true,
         "textposition": "auto",
         "type": "bar",
         "x": [
          "SYD-LAX"
         ],
         "xaxis": "x",
         "y": [
          30
         ],
         "yaxis": "y"
        },
        {
         "alignmentgroup": "True",
         "customdata": [
          [
           "American Airlines"
          ]
         ],
         "hovertemplate": "Airline=%{customdata[0]}<br>Total Flights=%{y}<extra></extra>",
         "legendgroup": "American Airlines",
         "marker": {
          "color": "#FECB52",
          "pattern": {
           "shape": ""
          }
         },
         "name": "American Airlines",
         "offsetgroup": "American Airlines",
         "orientation": "v",
         "showlegend": true,
         "textposition": "auto",
         "type": "bar",
         "x": [
          "SYD-LAX"
         ],
         "xaxis": "x",
         "y": [
          27
         ],
         "yaxis": "y"
        },
        {
         "alignmentgroup": "True",
         "customdata": [
          [
           "SriLankan Airlines"
          ],
          [
           "SriLankan Airlines"
          ]
         ],
         "hovertemplate": "Airline=%{customdata[0]}<br>Total Flights=%{y}<extra></extra>",
         "legendgroup": "SriLankan Airlines",
         "marker": {
          "color": "#636efa",
          "pattern": {
           "shape": ""
          }
         },
         "name": "SriLankan Airlines",
         "offsetgroup": "SriLankan Airlines",
         "orientation": "v",
         "showlegend": true,
         "textposition": "auto",
         "type": "bar",
         "x": [
          "MEL-CMB",
          "SYD-CMB"
         ],
         "xaxis": "x",
         "y": [
          26,
          19
         ],
         "yaxis": "y"
        },
        {
         "alignmentgroup": "True",
         "customdata": [
          [
           "Air Niugini"
          ],
          [
           "Air Niugini"
          ],
          [
           "Air Niugini"
          ]
         ],
         "hovertemplate": "Airline=%{customdata[0]}<br>Total Flights=%{y}<extra></extra>",
         "legendgroup": "Air Niugini",
         "marker": {
          "color": "#EF553B",
          "pattern": {
           "shape": ""
          }
         },
         "name": "Air Niugini",
         "offsetgroup": "Air Niugini",
         "orientation": "v",
         "showlegend": true,
         "textposition": "auto",
         "type": "bar",
         "x": [
          "BNE-POM",
          "BNE-CNS-POM",
          "SYD-POM"
         ],
         "xaxis": "x",
         "y": [
          24,
          8,
          4
         ],
         "yaxis": "y"
        },
        {
         "alignmentgroup": "True",
         "customdata": [
          [
           "Malaysia Airlines"
          ],
          [
           "Malaysia Airlines"
          ],
          [
           "Malaysia Airlines"
          ],
          [
           "Malaysia Airlines"
          ],
          [
           "Malaysia Airlines"
          ]
         ],
         "hovertemplate": "Airline=%{customdata[0]}<br>Total Flights=%{y}<extra></extra>",
         "legendgroup": "Malaysia Airlines",
         "marker": {
          "color": "#00cc96",
          "pattern": {
           "shape": ""
          }
         },
         "name": "Malaysia Airlines",
         "offsetgroup": "Malaysia Airlines",
         "orientation": "v",
         "showlegend": true,
         "textposition": "auto",
         "type": "bar",
         "x": [
          "MEL-KUL",
          "SYD-KUL",
          "PER-KUL",
          "ADL-KUL",
          "BNE-KUL"
         ],
         "xaxis": "x",
         "y": [
          24,
          17,
          7,
          2,
          2
         ],
         "yaxis": "y"
        },
        {
         "alignmentgroup": "True",
         "customdata": [
          [
           "Etihad Airways"
          ],
          [
           "Etihad Airways"
          ]
         ],
         "hovertemplate": "Airline=%{customdata[0]}<br>Total Flights=%{y}<extra></extra>",
         "legendgroup": "Etihad Airways",
         "marker": {
          "color": "#ab63fa",
          "pattern": {
           "shape": ""
          }
         },
         "name": "Etihad Airways",
         "offsetgroup": "Etihad Airways",
         "orientation": "v",
         "showlegend": true,
         "textposition": "auto",
         "type": "bar",
         "x": [
          "SYD-AUH",
          "MEL-AUH"
         ],
         "xaxis": "x",
         "y": [
          24,
          21
         ],
         "yaxis": "y"
        },
        {
         "alignmentgroup": "True",
         "customdata": [
          [
           "All Nippon Airways"
          ]
         ],
         "hovertemplate": "Airline=%{customdata[0]}<br>Total Flights=%{y}<extra></extra>",
         "legendgroup": "All Nippon Airways",
         "marker": {
          "color": "#FFA15A",
          "pattern": {
           "shape": ""
          }
         },
         "name": "All Nippon Airways",
         "offsetgroup": "All Nippon Airways",
         "orientation": "v",
         "showlegend": true,
         "textposition": "auto",
         "type": "bar",
         "x": [
          "SYD-TYO"
         ],
         "xaxis": "x",
         "y": [
          22
         ],
         "yaxis": "y"
        },
        {
         "alignmentgroup": "True",
         "customdata": [
          [
           "Thai Airways International"
          ],
          [
           "Thai Airways International"
          ],
          [
           "Thai Airways International"
          ]
         ],
         "hovertemplate": "Airline=%{customdata[0]}<br>Total Flights=%{y}<extra></extra>",
         "legendgroup": "Thai Airways International",
         "marker": {
          "color": "#19d3f3",
          "pattern": {
           "shape": ""
          }
         },
         "name": "Thai Airways International",
         "offsetgroup": "Thai Airways International",
         "orientation": "v",
         "showlegend": true,
         "textposition": "auto",
         "type": "bar",
         "x": [
          "SYD-BKK",
          "SYD-HKT-BKK",
          "MEL-BKK"
         ],
         "xaxis": "x",
         "y": [
          22,
          20,
          4
         ],
         "yaxis": "y"
        },
        {
         "alignmentgroup": "True",
         "customdata": [
          [
           "Air India"
          ],
          [
           "Air India"
          ]
         ],
         "hovertemplate": "Airline=%{customdata[0]}<br>Total Flights=%{y}<extra></extra>",
         "legendgroup": "Air India",
         "marker": {
          "color": "#FF6692",
          "pattern": {
           "shape": ""
          }
         },
         "name": "Air India",
         "offsetgroup": "Air India",
         "orientation": "v",
         "showlegend": true,
         "textposition": "auto",
         "type": "bar",
         "x": [
          "SYD-DEL",
          "MEL-DEL"
         ],
         "xaxis": "x",
         "y": [
          20,
          18
         ],
         "yaxis": "y"
        },
        {
         "alignmentgroup": "True",
         "customdata": [
          [
           "Hawaiian Airlines"
          ]
         ],
         "hovertemplate": "Airline=%{customdata[0]}<br>Total Flights=%{y}<extra></extra>",
         "legendgroup": "Hawaiian Airlines",
         "marker": {
          "color": "#B6E880",
          "pattern": {
           "shape": ""
          }
         },
         "name": "Hawaiian Airlines",
         "offsetgroup": "Hawaiian Airlines",
         "orientation": "v",
         "showlegend": true,
         "textposition": "auto",
         "type": "bar",
         "x": [
          "SYD-HNL"
         ],
         "xaxis": "x",
         "y": [
          18
         ],
         "yaxis": "y"
        },
        {
         "alignmentgroup": "True",
         "customdata": [
          [
           "Japan Airlines"
          ],
          [
           "Japan Airlines"
          ]
         ],
         "hovertemplate": "Airline=%{customdata[0]}<br>Total Flights=%{y}<extra></extra>",
         "legendgroup": "Japan Airlines",
         "marker": {
          "color": "#FF97FF",
          "pattern": {
           "shape": ""
          }
         },
         "name": "Japan Airlines",
         "offsetgroup": "Japan Airlines",
         "orientation": "v",
         "showlegend": true,
         "textposition": "auto",
         "type": "bar",
         "x": [
          "SYD-TYO",
          "MEL-TYO"
         ],
         "xaxis": "x",
         "y": [
          15,
          9
         ],
         "yaxis": "y"
        },
        {
         "alignmentgroup": "True",
         "customdata": [
          [
           "Air Canada"
          ]
         ],
         "hovertemplate": "Airline=%{customdata[0]}<br>Total Flights=%{y}<extra></extra>",
         "legendgroup": "Air Canada",
         "marker": {
          "color": "#FECB52",
          "pattern": {
           "shape": ""
          }
         },
         "name": "Air Canada",
         "offsetgroup": "Air Canada",
         "orientation": "v",
         "showlegend": true,
         "textposition": "auto",
         "type": "bar",
         "x": [
          "SYD-YVR"
         ],
         "xaxis": "x",
         "y": [
          14
         ],
         "yaxis": "y"
        },
        {
         "alignmentgroup": "True",
         "customdata": [
          [
           "Vietnam Airlines"
          ],
          [
           "Vietnam Airlines"
          ],
          [
           "Vietnam Airlines"
          ]
         ],
         "hovertemplate": "Airline=%{customdata[0]}<br>Total Flights=%{y}<extra></extra>",
         "legendgroup": "Vietnam Airlines",
         "marker": {
          "color": "#636efa",
          "pattern": {
           "shape": ""
          }
         },
         "name": "Vietnam Airlines",
         "offsetgroup": "Vietnam Airlines",
         "orientation": "v",
         "showlegend": true,
         "textposition": "auto",
         "type": "bar",
         "x": [
          "MEL-SGN",
          "SYD-SGN",
          "SYD-HAN"
         ],
         "xaxis": "x",
         "y": [
          13,
          13,
          4
         ],
         "yaxis": "y"
        },
        {
         "alignmentgroup": "True",
         "customdata": [
          [
           "Virgin Australia"
          ]
         ],
         "hovertemplate": "Airline=%{customdata[0]}<br>Total Flights=%{y}<extra></extra>",
         "legendgroup": "Virgin Australia",
         "marker": {
          "color": "#EF553B",
          "pattern": {
           "shape": ""
          }
         },
         "name": "Virgin Australia",
         "offsetgroup": "Virgin Australia",
         "orientation": "v",
         "showlegend": true,
         "textposition": "auto",
         "type": "bar",
         "x": [
          "SYD-NAN"
         ],
         "xaxis": "x",
         "y": [
          13
         ],
         "yaxis": "y"
        },
        {
         "alignmentgroup": "True",
         "customdata": [
          [
           "Philippine Airlines"
          ],
          [
           "Philippine Airlines"
          ],
          [
           "Philippine Airlines"
          ]
         ],
         "hovertemplate": "Airline=%{customdata[0]}<br>Total Flights=%{y}<extra></extra>",
         "legendgroup": "Philippine Airlines",
         "marker": {
          "color": "#00cc96",
          "pattern": {
           "shape": ""
          }
         },
         "name": "Philippine Airlines",
         "offsetgroup": "Philippine Airlines",
         "orientation": "v",
         "showlegend": true,
         "textposition": "auto",
         "type": "bar",
         "x": [
          "SYD-MNL",
          "MEL-MNL",
          "BNE-MNL"
         ],
         "xaxis": "x",
         "y": [
          13,
          9,
          4
         ],
         "yaxis": "y"
        },
        {
         "alignmentgroup": "True",
         "customdata": [
          [
           "Jetstar"
          ],
          [
           "Jetstar"
          ],
          [
           "Jetstar"
          ],
          [
           "Jetstar"
          ],
          [
           "Jetstar"
          ],
          [
           "Jetstar"
          ],
          [
           "Jetstar"
          ]
         ],
         "hovertemplate": "Airline=%{customdata[0]}<br>Total Flights=%{y}<extra></extra>",
         "legendgroup": "Jetstar",
         "marker": {
          "color": "#ab63fa",
          "pattern": {
           "shape": ""
          }
         },
         "name": "Jetstar",
         "offsetgroup": "Jetstar",
         "orientation": "v",
         "showlegend": true,
         "textposition": "auto",
         "type": "bar",
         "x": [
          "MEL-SIN",
          "SYD-HNL",
          "SYD-NAN",
          "MEL-HKT",
          "MEL-DPS",
          "MEL-HNL",
          "SYD-HKT"
         ],
         "xaxis": "x",
         "y": [
          13,
          13,
          12,
          9,
          8,
          6,
          4
         ],
         "yaxis": "y"
        },
        {
         "alignmentgroup": "True",
         "customdata": [
          [
           "Air Caledonie"
          ],
          [
           "Air Caledonie"
          ]
         ],
         "hovertemplate": "Airline=%{customdata[0]}<br>Total Flights=%{y}<extra></extra>",
         "legendgroup": "Air Caledonie",
         "marker": {
          "color": "#FFA15A",
          "pattern": {
           "shape": ""
          }
         },
         "name": "Air Caledonie",
         "offsetgroup": "Air Caledonie",
         "orientation": "v",
         "showlegend": true,
         "textposition": "auto",
         "type": "bar",
         "x": [
          "SYD-NOU",
          "BNE-NOU"
         ],
         "xaxis": "x",
         "y": [
          9,
          5
         ],
         "yaxis": "y"
        },
        {
         "alignmentgroup": "True",
         "customdata": [
          [
           "Korean Air"
          ]
         ],
         "hovertemplate": "Airline=%{customdata[0]}<br>Total Flights=%{y}<extra></extra>",
         "legendgroup": "Korean Air",
         "marker": {
          "color": "#19d3f3",
          "pattern": {
           "shape": ""
          }
         },
         "name": "Korean Air",
         "offsetgroup": "Korean Air",
         "orientation": "v",
         "showlegend": true,
         "textposition": "auto",
         "type": "bar",
         "x": [
          "SYD-SEL"
         ],
         "xaxis": "x",
         "y": [
          9
         ],
         "yaxis": "y"
        },
        {
         "alignmentgroup": "True",
         "customdata": [
          [
           "Jetstar Asia"
          ],
          [
           "Jetstar Asia"
          ]
         ],
         "hovertemplate": "Airline=%{customdata[0]}<br>Total Flights=%{y}<extra></extra>",
         "legendgroup": "Jetstar Asia",
         "marker": {
          "color": "#FF6692",
          "pattern": {
           "shape": ""
          }
         },
         "name": "Jetstar Asia",
         "offsetgroup": "Jetstar Asia",
         "orientation": "v",
         "showlegend": true,
         "textposition": "auto",
         "type": "bar",
         "x": [
          "DRW-SIN",
          "PER-SIN"
         ],
         "xaxis": "x",
         "y": [
          9,
          6
         ],
         "yaxis": "y"
        },
        {
         "alignmentgroup": "True",
         "customdata": [
          [
           "Asiana Airlines"
          ]
         ],
         "hovertemplate": "Airline=%{customdata[0]}<br>Total Flights=%{y}<extra></extra>",
         "legendgroup": "Asiana Airlines",
         "marker": {
          "color": "#B6E880",
          "pattern": {
           "shape": ""
          }
         },
         "name": "Asiana Airlines",
         "offsetgroup": "Asiana Airlines",
         "orientation": "v",
         "showlegend": true,
         "textposition": "auto",
         "type": "bar",
         "x": [
          "SYD-SEL"
         ],
         "xaxis": "x",
         "y": [
          9
         ],
         "yaxis": "y"
        },
        {
         "alignmentgroup": "True",
         "customdata": [
          [
           "Royal Brunei Airlines"
          ]
         ],
         "hovertemplate": "Airline=%{customdata[0]}<br>Total Flights=%{y}<extra></extra>",
         "legendgroup": "Royal Brunei Airlines",
         "marker": {
          "color": "#FF97FF",
          "pattern": {
           "shape": ""
          }
         },
         "name": "Royal Brunei Airlines",
         "offsetgroup": "Royal Brunei Airlines",
         "orientation": "v",
         "showlegend": true,
         "textposition": "auto",
         "type": "bar",
         "x": [
          "MEL-BWN"
         ],
         "xaxis": "x",
         "y": [
          7
         ],
         "yaxis": "y"
        },
        {
         "alignmentgroup": "True",
         "customdata": [
          [
           "British Airways"
          ]
         ],
         "hovertemplate": "Airline=%{customdata[0]}<br>Total Flights=%{y}<extra></extra>",
         "legendgroup": "British Airways",
         "marker": {
          "color": "#FECB52",
          "pattern": {
           "shape": ""
          }
         },
         "name": "British Airways",
         "offsetgroup": "British Airways",
         "orientation": "v",
         "showlegend": true,
         "textposition": "auto",
         "type": "bar",
         "x": [
          "SYD-SIN-LON"
         ],
         "xaxis": "x",
         "y": [
          6
         ],
         "yaxis": "y"
        },
        {
         "alignmentgroup": "True",
         "customdata": [
          [
           "Xiamen Airlines"
          ],
          [
           "Xiamen Airlines"
          ]
         ],
         "hovertemplate": "Airline=%{customdata[0]}<br>Total Flights=%{y}<extra></extra>",
         "legendgroup": "Xiamen Airlines",
         "marker": {
          "color": "#636efa",
          "pattern": {
           "shape": ""
          }
         },
         "name": "Xiamen Airlines",
         "offsetgroup": "Xiamen Airlines",
         "orientation": "v",
         "showlegend": true,
         "textposition": "auto",
         "type": "bar",
         "x": [
          "SYD-XMN",
          "MEL-XMN"
         ],
         "xaxis": "x",
         "y": [
          5,
          4
         ],
         "yaxis": "y"
        },
        {
         "alignmentgroup": "True",
         "customdata": [
          [
           "Nauru Airlines"
          ]
         ],
         "hovertemplate": "Airline=%{customdata[0]}<br>Total Flights=%{y}<extra></extra>",
         "legendgroup": "Nauru Airlines",
         "marker": {
          "color": "#EF553B",
          "pattern": {
           "shape": ""
          }
         },
         "name": "Nauru Airlines",
         "offsetgroup": "Nauru Airlines",
         "orientation": "v",
         "showlegend": true,
         "textposition": "auto",
         "type": "bar",
         "x": [
          "BNE-INU"
         ],
         "xaxis": "x",
         "y": [
          5
         ],
         "yaxis": "y"
        },
        {
         "alignmentgroup": "True",
         "customdata": [
          [
           "Malindo Air"
          ]
         ],
         "hovertemplate": "Airline=%{customdata[0]}<br>Total Flights=%{y}<extra></extra>",
         "legendgroup": "Malindo Air",
         "marker": {
          "color": "#00cc96",
          "pattern": {
           "shape": ""
          }
         },
         "name": "Malindo Air",
         "offsetgroup": "Malindo Air",
         "orientation": "v",
         "showlegend": true,
         "textposition": "auto",
         "type": "bar",
         "x": [
          "PER-KUL"
         ],
         "xaxis": "x",
         "y": [
          5
         ],
         "yaxis": "y"
        },
        {
         "alignmentgroup": "True",
         "customdata": [
          [
           "Garuda Indonesia"
          ],
          [
           "Garuda Indonesia"
          ]
         ],
         "hovertemplate": "Airline=%{customdata[0]}<br>Total Flights=%{y}<extra></extra>",
         "legendgroup": "Garuda Indonesia",
         "marker": {
          "color": "#ab63fa",
          "pattern": {
           "shape": ""
          }
         },
         "name": "Garuda Indonesia",
         "offsetgroup": "Garuda Indonesia",
         "orientation": "v",
         "showlegend": true,
         "textposition": "auto",
         "type": "bar",
         "x": [
          "SYD-JKT",
          "SYD-DPS"
         ],
         "xaxis": "x",
         "y": [
          5,
          3
         ],
         "yaxis": "y"
        },
        {
         "alignmentgroup": "True",
         "customdata": [
          [
           "AirAsia X"
          ]
         ],
         "hovertemplate": "Airline=%{customdata[0]}<br>Total Flights=%{y}<extra></extra>",
         "legendgroup": "AirAsia X",
         "marker": {
          "color": "#FFA15A",
          "pattern": {
           "shape": ""
          }
         },
         "name": "AirAsia X",
         "offsetgroup": "AirAsia X",
         "orientation": "v",
         "showlegend": true,
         "textposition": "auto",
         "type": "bar",
         "x": [
          "SYD-KUL"
         ],
         "xaxis": "x",
         "y": [
          4
         ],
         "yaxis": "y"
        },
        {
         "alignmentgroup": "True",
         "customdata": [
          [
           "China Airlines"
          ],
          [
           "China Airlines"
          ],
          [
           "China Airlines"
          ]
         ],
         "hovertemplate": "Airline=%{customdata[0]}<br>Total Flights=%{y}<extra></extra>",
         "legendgroup": "China Airlines",
         "marker": {
          "color": "#19d3f3",
          "pattern": {
           "shape": ""
          }
         },
         "name": "China Airlines",
         "offsetgroup": "China Airlines",
         "orientation": "v",
         "showlegend": true,
         "textposition": "auto",
         "type": "bar",
         "x": [
          "MEL-TPE",
          "BNE-TPE",
          "SYD-TPE"
         ],
         "xaxis": "x",
         "y": [
          4,
          4,
          4
         ],
         "yaxis": "y"
        },
        {
         "alignmentgroup": "True",
         "customdata": [
          [
           "China Southern Airlines"
          ]
         ],
         "hovertemplate": "Airline=%{customdata[0]}<br>Total Flights=%{y}<extra></extra>",
         "legendgroup": "China Southern Airlines",
         "marker": {
          "color": "#FF6692",
          "pattern": {
           "shape": ""
          }
         },
         "name": "China Southern Airlines",
         "offsetgroup": "China Southern Airlines",
         "orientation": "v",
         "showlegend": true,
         "textposition": "auto",
         "type": "bar",
         "x": [
          "SYD-CAN"
         ],
         "xaxis": "x",
         "y": [
          4
         ],
         "yaxis": "y"
        },
        {
         "alignmentgroup": "True",
         "customdata": [
          [
           "Bamboo Airways"
          ]
         ],
         "hovertemplate": "Airline=%{customdata[0]}<br>Total Flights=%{y}<extra></extra>",
         "legendgroup": "Bamboo Airways",
         "marker": {
          "color": "#B6E880",
          "pattern": {
           "shape": ""
          }
         },
         "name": "Bamboo Airways",
         "offsetgroup": "Bamboo Airways",
         "orientation": "v",
         "showlegend": true,
         "textposition": "auto",
         "type": "bar",
         "x": [
          "MEL-SGN"
         ],
         "xaxis": "x",
         "y": [
          4
         ],
         "yaxis": "y"
        },
        {
         "alignmentgroup": "True",
         "customdata": [
          [
           "Solomon Airlines"
          ]
         ],
         "hovertemplate": "Airline=%{customdata[0]}<br>Total Flights=%{y}<extra></extra>",
         "legendgroup": "Solomon Airlines",
         "marker": {
          "color": "#FF97FF",
          "pattern": {
           "shape": ""
          }
         },
         "name": "Solomon Airlines",
         "offsetgroup": "Solomon Airlines",
         "orientation": "v",
         "showlegend": true,
         "textposition": "auto",
         "type": "bar",
         "x": [
          "BNE-HIR"
         ],
         "xaxis": "x",
         "y": [
          4
         ],
         "yaxis": "y"
        },
        {
         "alignmentgroup": "True",
         "customdata": [
          [
           "China Eastern Airlines"
          ],
          [
           "China Eastern Airlines"
          ]
         ],
         "hovertemplate": "Airline=%{customdata[0]}<br>Total Flights=%{y}<extra></extra>",
         "legendgroup": "China Eastern Airlines",
         "marker": {
          "color": "#FECB52",
          "pattern": {
           "shape": ""
          }
         },
         "name": "China Eastern Airlines",
         "offsetgroup": "China Eastern Airlines",
         "orientation": "v",
         "showlegend": true,
         "textposition": "auto",
         "type": "bar",
         "x": [
          "SYD-SHA",
          "SYD-KMG"
         ],
         "xaxis": "x",
         "y": [
          3,
          2
         ],
         "yaxis": "y"
        },
        {
         "alignmentgroup": "True",
         "customdata": [
          [
           "Eva Air"
          ]
         ],
         "hovertemplate": "Airline=%{customdata[0]}<br>Total Flights=%{y}<extra></extra>",
         "legendgroup": "Eva Air",
         "marker": {
          "color": "#636efa",
          "pattern": {
           "shape": ""
          }
         },
         "name": "Eva Air",
         "offsetgroup": "Eva Air",
         "orientation": "v",
         "showlegend": true,
         "textposition": "auto",
         "type": "bar",
         "x": [
          "BNE-TPE"
         ],
         "xaxis": "x",
         "y": [
          2
         ],
         "yaxis": "y"
        },
        {
         "alignmentgroup": "True",
         "customdata": [
          [
           "Air Vanuatu"
          ],
          [
           "Air Vanuatu"
          ]
         ],
         "hovertemplate": "Airline=%{customdata[0]}<br>Total Flights=%{y}<extra></extra>",
         "legendgroup": "Air Vanuatu",
         "marker": {
          "color": "#EF553B",
          "pattern": {
           "shape": ""
          }
         },
         "name": "Air Vanuatu",
         "offsetgroup": "Air Vanuatu",
         "orientation": "v",
         "showlegend": true,
         "textposition": "auto",
         "type": "bar",
         "x": [
          "BNE-VLI",
          "SYD-VLI"
         ],
         "xaxis": "x",
         "y": [
          2,
          1
         ],
         "yaxis": "y"
        },
        {
         "alignmentgroup": "True",
         "customdata": [
          [
           "LATAM Airlines"
          ]
         ],
         "hovertemplate": "Airline=%{customdata[0]}<br>Total Flights=%{y}<extra></extra>",
         "legendgroup": "LATAM Airlines",
         "marker": {
          "color": "#00cc96",
          "pattern": {
           "shape": ""
          }
         },
         "name": "LATAM Airlines",
         "offsetgroup": "LATAM Airlines",
         "orientation": "v",
         "showlegend": true,
         "textposition": "auto",
         "type": "bar",
         "x": [
          "SYD-AKL-SCL"
         ],
         "xaxis": "x",
         "y": [
          2
         ],
         "yaxis": "y"
        }
       ],
       "layout": {
        "barmode": "relative",
        "legend": {
         "title": {
          "text": "Airline"
         },
         "tracegroupgap": 0
        },
        "template": {
         "data": {
          "bar": [
           {
            "error_x": {
             "color": "#2a3f5f"
            },
            "error_y": {
             "color": "#2a3f5f"
            },
            "marker": {
             "line": {
              "color": "#E5ECF6",
              "width": 0.5
             },
             "pattern": {
              "fillmode": "overlay",
              "size": 10,
              "solidity": 0.2
             }
            },
            "type": "bar"
           }
          ],
          "barpolar": [
           {
            "marker": {
             "line": {
              "color": "#E5ECF6",
              "width": 0.5
             },
             "pattern": {
              "fillmode": "overlay",
              "size": 10,
              "solidity": 0.2
             }
            },
            "type": "barpolar"
           }
          ],
          "carpet": [
           {
            "aaxis": {
             "endlinecolor": "#2a3f5f",
             "gridcolor": "white",
             "linecolor": "white",
             "minorgridcolor": "white",
             "startlinecolor": "#2a3f5f"
            },
            "baxis": {
             "endlinecolor": "#2a3f5f",
             "gridcolor": "white",
             "linecolor": "white",
             "minorgridcolor": "white",
             "startlinecolor": "#2a3f5f"
            },
            "type": "carpet"
           }
          ],
          "choropleth": [
           {
            "colorbar": {
             "outlinewidth": 0,
             "ticks": ""
            },
            "type": "choropleth"
           }
          ],
          "contour": [
           {
            "colorbar": {
             "outlinewidth": 0,
             "ticks": ""
            },
            "colorscale": [
             [
              0,
              "#0d0887"
             ],
             [
              0.1111111111111111,
              "#46039f"
             ],
             [
              0.2222222222222222,
              "#7201a8"
             ],
             [
              0.3333333333333333,
              "#9c179e"
             ],
             [
              0.4444444444444444,
              "#bd3786"
             ],
             [
              0.5555555555555556,
              "#d8576b"
             ],
             [
              0.6666666666666666,
              "#ed7953"
             ],
             [
              0.7777777777777778,
              "#fb9f3a"
             ],
             [
              0.8888888888888888,
              "#fdca26"
             ],
             [
              1,
              "#f0f921"
             ]
            ],
            "type": "contour"
           }
          ],
          "contourcarpet": [
           {
            "colorbar": {
             "outlinewidth": 0,
             "ticks": ""
            },
            "type": "contourcarpet"
           }
          ],
          "heatmap": [
           {
            "colorbar": {
             "outlinewidth": 0,
             "ticks": ""
            },
            "colorscale": [
             [
              0,
              "#0d0887"
             ],
             [
              0.1111111111111111,
              "#46039f"
             ],
             [
              0.2222222222222222,
              "#7201a8"
             ],
             [
              0.3333333333333333,
              "#9c179e"
             ],
             [
              0.4444444444444444,
              "#bd3786"
             ],
             [
              0.5555555555555556,
              "#d8576b"
             ],
             [
              0.6666666666666666,
              "#ed7953"
             ],
             [
              0.7777777777777778,
              "#fb9f3a"
             ],
             [
              0.8888888888888888,
              "#fdca26"
             ],
             [
              1,
              "#f0f921"
             ]
            ],
            "type": "heatmap"
           }
          ],
          "heatmapgl": [
           {
            "colorbar": {
             "outlinewidth": 0,
             "ticks": ""
            },
            "colorscale": [
             [
              0,
              "#0d0887"
             ],
             [
              0.1111111111111111,
              "#46039f"
             ],
             [
              0.2222222222222222,
              "#7201a8"
             ],
             [
              0.3333333333333333,
              "#9c179e"
             ],
             [
              0.4444444444444444,
              "#bd3786"
             ],
             [
              0.5555555555555556,
              "#d8576b"
             ],
             [
              0.6666666666666666,
              "#ed7953"
             ],
             [
              0.7777777777777778,
              "#fb9f3a"
             ],
             [
              0.8888888888888888,
              "#fdca26"
             ],
             [
              1,
              "#f0f921"
             ]
            ],
            "type": "heatmapgl"
           }
          ],
          "histogram": [
           {
            "marker": {
             "pattern": {
              "fillmode": "overlay",
              "size": 10,
              "solidity": 0.2
             }
            },
            "type": "histogram"
           }
          ],
          "histogram2d": [
           {
            "colorbar": {
             "outlinewidth": 0,
             "ticks": ""
            },
            "colorscale": [
             [
              0,
              "#0d0887"
             ],
             [
              0.1111111111111111,
              "#46039f"
             ],
             [
              0.2222222222222222,
              "#7201a8"
             ],
             [
              0.3333333333333333,
              "#9c179e"
             ],
             [
              0.4444444444444444,
              "#bd3786"
             ],
             [
              0.5555555555555556,
              "#d8576b"
             ],
             [
              0.6666666666666666,
              "#ed7953"
             ],
             [
              0.7777777777777778,
              "#fb9f3a"
             ],
             [
              0.8888888888888888,
              "#fdca26"
             ],
             [
              1,
              "#f0f921"
             ]
            ],
            "type": "histogram2d"
           }
          ],
          "histogram2dcontour": [
           {
            "colorbar": {
             "outlinewidth": 0,
             "ticks": ""
            },
            "colorscale": [
             [
              0,
              "#0d0887"
             ],
             [
              0.1111111111111111,
              "#46039f"
             ],
             [
              0.2222222222222222,
              "#7201a8"
             ],
             [
              0.3333333333333333,
              "#9c179e"
             ],
             [
              0.4444444444444444,
              "#bd3786"
             ],
             [
              0.5555555555555556,
              "#d8576b"
             ],
             [
              0.6666666666666666,
              "#ed7953"
             ],
             [
              0.7777777777777778,
              "#fb9f3a"
             ],
             [
              0.8888888888888888,
              "#fdca26"
             ],
             [
              1,
              "#f0f921"
             ]
            ],
            "type": "histogram2dcontour"
           }
          ],
          "mesh3d": [
           {
            "colorbar": {
             "outlinewidth": 0,
             "ticks": ""
            },
            "type": "mesh3d"
           }
          ],
          "parcoords": [
           {
            "line": {
             "colorbar": {
              "outlinewidth": 0,
              "ticks": ""
             }
            },
            "type": "parcoords"
           }
          ],
          "pie": [
           {
            "automargin": true,
            "type": "pie"
           }
          ],
          "scatter": [
           {
            "fillpattern": {
             "fillmode": "overlay",
             "size": 10,
             "solidity": 0.2
            },
            "type": "scatter"
           }
          ],
          "scatter3d": [
           {
            "line": {
             "colorbar": {
              "outlinewidth": 0,
              "ticks": ""
             }
            },
            "marker": {
             "colorbar": {
              "outlinewidth": 0,
              "ticks": ""
             }
            },
            "type": "scatter3d"
           }
          ],
          "scattercarpet": [
           {
            "marker": {
             "colorbar": {
              "outlinewidth": 0,
              "ticks": ""
             }
            },
            "type": "scattercarpet"
           }
          ],
          "scattergeo": [
           {
            "marker": {
             "colorbar": {
              "outlinewidth": 0,
              "ticks": ""
             }
            },
            "type": "scattergeo"
           }
          ],
          "scattergl": [
           {
            "marker": {
             "colorbar": {
              "outlinewidth": 0,
              "ticks": ""
             }
            },
            "type": "scattergl"
           }
          ],
          "scattermapbox": [
           {
            "marker": {
             "colorbar": {
              "outlinewidth": 0,
              "ticks": ""
             }
            },
            "type": "scattermapbox"
           }
          ],
          "scatterpolar": [
           {
            "marker": {
             "colorbar": {
              "outlinewidth": 0,
              "ticks": ""
             }
            },
            "type": "scatterpolar"
           }
          ],
          "scatterpolargl": [
           {
            "marker": {
             "colorbar": {
              "outlinewidth": 0,
              "ticks": ""
             }
            },
            "type": "scatterpolargl"
           }
          ],
          "scatterternary": [
           {
            "marker": {
             "colorbar": {
              "outlinewidth": 0,
              "ticks": ""
             }
            },
            "type": "scatterternary"
           }
          ],
          "surface": [
           {
            "colorbar": {
             "outlinewidth": 0,
             "ticks": ""
            },
            "colorscale": [
             [
              0,
              "#0d0887"
             ],
             [
              0.1111111111111111,
              "#46039f"
             ],
             [
              0.2222222222222222,
              "#7201a8"
             ],
             [
              0.3333333333333333,
              "#9c179e"
             ],
             [
              0.4444444444444444,
              "#bd3786"
             ],
             [
              0.5555555555555556,
              "#d8576b"
             ],
             [
              0.6666666666666666,
              "#ed7953"
             ],
             [
              0.7777777777777778,
              "#fb9f3a"
             ],
             [
              0.8888888888888888,
              "#fdca26"
             ],
             [
              1,
              "#f0f921"
             ]
            ],
            "type": "surface"
           }
          ],
          "table": [
           {
            "cells": {
             "fill": {
              "color": "#EBF0F8"
             },
             "line": {
              "color": "white"
             }
            },
            "header": {
             "fill": {
              "color": "#C8D4E3"
             },
             "line": {
              "color": "white"
             }
            },
            "type": "table"
           }
          ]
         },
         "layout": {
          "annotationdefaults": {
           "arrowcolor": "#2a3f5f",
           "arrowhead": 0,
           "arrowwidth": 1
          },
          "autotypenumbers": "strict",
          "coloraxis": {
           "colorbar": {
            "outlinewidth": 0,
            "ticks": ""
           }
          },
          "colorscale": {
           "diverging": [
            [
             0,
             "#8e0152"
            ],
            [
             0.1,
             "#c51b7d"
            ],
            [
             0.2,
             "#de77ae"
            ],
            [
             0.3,
             "#f1b6da"
            ],
            [
             0.4,
             "#fde0ef"
            ],
            [
             0.5,
             "#f7f7f7"
            ],
            [
             0.6,
             "#e6f5d0"
            ],
            [
             0.7,
             "#b8e186"
            ],
            [
             0.8,
             "#7fbc41"
            ],
            [
             0.9,
             "#4d9221"
            ],
            [
             1,
             "#276419"
            ]
           ],
           "sequential": [
            [
             0,
             "#0d0887"
            ],
            [
             0.1111111111111111,
             "#46039f"
            ],
            [
             0.2222222222222222,
             "#7201a8"
            ],
            [
             0.3333333333333333,
             "#9c179e"
            ],
            [
             0.4444444444444444,
             "#bd3786"
            ],
            [
             0.5555555555555556,
             "#d8576b"
            ],
            [
             0.6666666666666666,
             "#ed7953"
            ],
            [
             0.7777777777777778,
             "#fb9f3a"
            ],
            [
             0.8888888888888888,
             "#fdca26"
            ],
            [
             1,
             "#f0f921"
            ]
           ],
           "sequentialminus": [
            [
             0,
             "#0d0887"
            ],
            [
             0.1111111111111111,
             "#46039f"
            ],
            [
             0.2222222222222222,
             "#7201a8"
            ],
            [
             0.3333333333333333,
             "#9c179e"
            ],
            [
             0.4444444444444444,
             "#bd3786"
            ],
            [
             0.5555555555555556,
             "#d8576b"
            ],
            [
             0.6666666666666666,
             "#ed7953"
            ],
            [
             0.7777777777777778,
             "#fb9f3a"
            ],
            [
             0.8888888888888888,
             "#fdca26"
            ],
            [
             1,
             "#f0f921"
            ]
           ]
          },
          "colorway": [
           "#636efa",
           "#EF553B",
           "#00cc96",
           "#ab63fa",
           "#FFA15A",
           "#19d3f3",
           "#FF6692",
           "#B6E880",
           "#FF97FF",
           "#FECB52"
          ],
          "font": {
           "color": "#2a3f5f"
          },
          "geo": {
           "bgcolor": "white",
           "lakecolor": "white",
           "landcolor": "#E5ECF6",
           "showlakes": true,
           "showland": true,
           "subunitcolor": "white"
          },
          "hoverlabel": {
           "align": "left"
          },
          "hovermode": "closest",
          "mapbox": {
           "style": "light"
          },
          "paper_bgcolor": "white",
          "plot_bgcolor": "#E5ECF6",
          "polar": {
           "angularaxis": {
            "gridcolor": "white",
            "linecolor": "white",
            "ticks": ""
           },
           "bgcolor": "#E5ECF6",
           "radialaxis": {
            "gridcolor": "white",
            "linecolor": "white",
            "ticks": ""
           }
          },
          "scene": {
           "xaxis": {
            "backgroundcolor": "#E5ECF6",
            "gridcolor": "white",
            "gridwidth": 2,
            "linecolor": "white",
            "showbackground": true,
            "ticks": "",
            "zerolinecolor": "white"
           },
           "yaxis": {
            "backgroundcolor": "#E5ECF6",
            "gridcolor": "white",
            "gridwidth": 2,
            "linecolor": "white",
            "showbackground": true,
            "ticks": "",
            "zerolinecolor": "white"
           },
           "zaxis": {
            "backgroundcolor": "#E5ECF6",
            "gridcolor": "white",
            "gridwidth": 2,
            "linecolor": "white",
            "showbackground": true,
            "ticks": "",
            "zerolinecolor": "white"
           }
          },
          "shapedefaults": {
           "line": {
            "color": "#2a3f5f"
           }
          },
          "ternary": {
           "aaxis": {
            "gridcolor": "white",
            "linecolor": "white",
            "ticks": ""
           },
           "baxis": {
            "gridcolor": "white",
            "linecolor": "white",
            "ticks": ""
           },
           "bgcolor": "#E5ECF6",
           "caxis": {
            "gridcolor": "white",
            "linecolor": "white",
            "ticks": ""
           }
          },
          "title": {
           "x": 0.05
          },
          "xaxis": {
           "automargin": true,
           "gridcolor": "white",
           "linecolor": "white",
           "ticks": "",
           "title": {
            "standoff": 15
           },
           "zerolinecolor": "white",
           "zerolinewidth": 2
          },
          "yaxis": {
           "automargin": true,
           "gridcolor": "white",
           "linecolor": "white",
           "ticks": "",
           "title": {
            "standoff": 15
           },
           "zerolinecolor": "white",
           "zerolinewidth": 2
          }
         }
        },
        "title": {
         "text": "Total Flights per Route per Airline"
        },
        "xaxis": {
         "anchor": "y",
         "domain": [
          0,
          1
         ],
         "title": {
          "text": "Route"
         }
        },
        "yaxis": {
         "anchor": "x",
         "domain": [
          0,
          1
         ],
         "title": {
          "text": "Total Flights"
         }
        }
       }
      },
      "text/html": [
       "<div>                            <div id=\"a8b8fe77-3655-4dfb-b20f-f0a90fbab9ad\" class=\"plotly-graph-div\" style=\"height:525px; width:100%;\"></div>            <script type=\"text/javascript\">                require([\"plotly\"], function(Plotly) {                    window.PLOTLYENV=window.PLOTLYENV || {};                                    if (document.getElementById(\"a8b8fe77-3655-4dfb-b20f-f0a90fbab9ad\")) {                    Plotly.newPlot(                        \"a8b8fe77-3655-4dfb-b20f-f0a90fbab9ad\",                        [{\"alignmentgroup\":\"True\",\"customdata\":[[\"Singapore Airlines\"],[\"Singapore Airlines\"],[\"Singapore Airlines\"],[\"Singapore Airlines\"],[\"Singapore Airlines\"],[\"Singapore Airlines\"],[\"Singapore Airlines\"]],\"hovertemplate\":\"Airline=%{customdata[0]}<br>Total Flights=%{y}<extra></extra>\",\"legendgroup\":\"Singapore Airlines\",\"marker\":{\"color\":\"#636efa\",\"pattern\":{\"shape\":\"\"}},\"name\":\"Singapore Airlines\",\"offsetgroup\":\"Singapore Airlines\",\"orientation\":\"v\",\"showlegend\":true,\"textposition\":\"auto\",\"x\":[\"SYD-SIN\",\"MEL-SIN\",\"PER-SIN\",\"BNE-SIN\",\"ADL-SIN\",\"CNS-SIN\",\"DRW-SIN\"],\"xaxis\":\"x\",\"y\":[97,93,80,77,20,2,1],\"yaxis\":\"y\",\"type\":\"bar\"},{\"alignmentgroup\":\"True\",\"customdata\":[[\"Qantas Airways\"],[\"Qantas Airways\"],[\"Qantas Airways\"],[\"Qantas Airways\"],[\"Qantas Airways\"],[\"Qantas Airways\"],[\"Qantas Airways\"],[\"Qantas Airways\"],[\"Qantas Airways\"],[\"Qantas Airways\"],[\"Qantas Airways\"],[\"Qantas Airways\"],[\"Qantas Airways\"],[\"Qantas Airways\"],[\"Qantas Airways\"],[\"Qantas Airways\"],[\"Qantas Airways\"],[\"Qantas Airways\"],[\"Qantas Airways\"]],\"hovertemplate\":\"Airline=%{customdata[0]}<br>Total Flights=%{y}<extra></extra>\",\"legendgroup\":\"Qantas Airways\",\"marker\":{\"color\":\"#EF553B\",\"pattern\":{\"shape\":\"\"}},\"name\":\"Qantas Airways\",\"offsetgroup\":\"Qantas Airways\",\"orientation\":\"v\",\"showlegend\":true,\"textposition\":\"auto\",\"x\":[\"SYD-DRW-LON\",\"MEL-DRW-LON\",\"MEL-ADL-DEL\",\"SYD-LAX\",\"SYD-ADL-DEL\",\"SYD-SIN\",\"MEL-LAX\",\"SYD-DFW\",\"SYD-AKL\",\"MEL-SIN\",\"SYD-JNB\",\"SYD-BKK\",\"SYD-YVR\",\"SYD-NAN\",\"SYD-MNL\",\"SYD-HNL\",\"BNE-SIN\",\"PER-SIN\",\"DRW-DIL\"],\"xaxis\":\"x\",\"y\":[60,58,36,32,30,30,21,18,18,17,16,14,12,9,5,3,2,1,1],\"yaxis\":\"y\",\"type\":\"bar\"},{\"alignmentgroup\":\"True\",\"customdata\":[[\"Emirates\"],[\"Emirates\"],[\"Emirates\"],[\"Emirates\"]],\"hovertemplate\":\"Airline=%{customdata[0]}<br>Total Flights=%{y}<extra></extra>\",\"legendgroup\":\"Emirates\",\"marker\":{\"color\":\"#00cc96\",\"pattern\":{\"shape\":\"\"}},\"name\":\"Emirates\",\"offsetgroup\":\"Emirates\",\"orientation\":\"v\",\"showlegend\":true,\"textposition\":\"auto\",\"x\":[\"SYD-DXB\",\"BNE-DXB\",\"MEL-DXB\",\"PER-DXB\"],\"xaxis\":\"x\",\"y\":[60,31,31,13],\"yaxis\":\"y\",\"type\":\"bar\"},{\"alignmentgroup\":\"True\",\"customdata\":[[\"Fiji Airways\"],[\"Fiji Airways\"],[\"Fiji Airways\"]],\"hovertemplate\":\"Airline=%{customdata[0]}<br>Total Flights=%{y}<extra></extra>\",\"legendgroup\":\"Fiji Airways\",\"marker\":{\"color\":\"#ab63fa\",\"pattern\":{\"shape\":\"\"}},\"name\":\"Fiji Airways\",\"offsetgroup\":\"Fiji Airways\",\"orientation\":\"v\",\"showlegend\":true,\"textposition\":\"auto\",\"x\":[\"SYD-NAN\",\"MEL-NAN\",\"BNE-NAN\"],\"xaxis\":\"x\",\"y\":[50,22,13],\"yaxis\":\"y\",\"type\":\"bar\"},{\"alignmentgroup\":\"True\",\"customdata\":[[\"Air New Zealand\"],[\"Air New Zealand\"],[\"Air New Zealand\"],[\"Air New Zealand\"],[\"Air New Zealand\"],[\"Air New Zealand\"],[\"Air New Zealand\"],[\"Air New Zealand\"]],\"hovertemplate\":\"Airline=%{customdata[0]}<br>Total Flights=%{y}<extra></extra>\",\"legendgroup\":\"Air New Zealand\",\"marker\":{\"color\":\"#FFA15A\",\"pattern\":{\"shape\":\"\"}},\"name\":\"Air New Zealand\",\"offsetgroup\":\"Air New Zealand\",\"orientation\":\"v\",\"showlegend\":true,\"textposition\":\"auto\",\"x\":[\"SYD-AKL\",\"MEL-AKL\",\"BNE-AKL\",\"MEL-CHC\",\"SYD-CHC\",\"BNE-CHC\",\"PER-AKL\",\"BNE-WLG\"],\"xaxis\":\"x\",\"y\":[37,33,23,14,13,12,5,1],\"yaxis\":\"y\",\"type\":\"bar\"},{\"alignmentgroup\":\"True\",\"customdata\":[[\"Scoot Tigerair\"],[\"Scoot Tigerair\"],[\"Scoot Tigerair\"]],\"hovertemplate\":\"Airline=%{customdata[0]}<br>Total Flights=%{y}<extra></extra>\",\"legendgroup\":\"Scoot Tigerair\",\"marker\":{\"color\":\"#19d3f3\",\"pattern\":{\"shape\":\"\"}},\"name\":\"Scoot Tigerair\",\"offsetgroup\":\"Scoot Tigerair\",\"orientation\":\"v\",\"showlegend\":true,\"textposition\":\"auto\",\"x\":[\"SYD-SIN\",\"MEL-SIN\",\"PER-SIN\"],\"xaxis\":\"x\",\"y\":[33,32,31],\"yaxis\":\"y\",\"type\":\"bar\"},{\"alignmentgroup\":\"True\",\"customdata\":[[\"Qatar Airways\"],[\"Qatar Airways\"],[\"Qatar Airways\"],[\"Qatar Airways\"],[\"Qatar Airways\"]],\"hovertemplate\":\"Airline=%{customdata[0]}<br>Total Flights=%{y}<extra></extra>\",\"legendgroup\":\"Qatar Airways\",\"marker\":{\"color\":\"#FF6692\",\"pattern\":{\"shape\":\"\"}},\"name\":\"Qatar Airways\",\"offsetgroup\":\"Qatar Airways\",\"orientation\":\"v\",\"showlegend\":true,\"textposition\":\"auto\",\"x\":[\"BNE-DOH\",\"SYD-DOH\",\"MEL-DOH\",\"PER-DOH\",\"ADL-DOH\"],\"xaxis\":\"x\",\"y\":[31,31,30,25,12],\"yaxis\":\"y\",\"type\":\"bar\"},{\"alignmentgroup\":\"True\",\"customdata\":[[\"United Airlines\"],[\"United Airlines\"]],\"hovertemplate\":\"Airline=%{customdata[0]}<br>Total Flights=%{y}<extra></extra>\",\"legendgroup\":\"United Airlines\",\"marker\":{\"color\":\"#B6E880\",\"pattern\":{\"shape\":\"\"}},\"name\":\"United Airlines\",\"offsetgroup\":\"United Airlines\",\"orientation\":\"v\",\"showlegend\":true,\"textposition\":\"auto\",\"x\":[\"SYD-SFO\",\"SYD-LAX\"],\"xaxis\":\"x\",\"y\":[31,31],\"yaxis\":\"y\",\"type\":\"bar\"},{\"alignmentgroup\":\"True\",\"customdata\":[[\"Delta Air Lines\"]],\"hovertemplate\":\"Airline=%{customdata[0]}<br>Total Flights=%{y}<extra></extra>\",\"legendgroup\":\"Delta Air Lines\",\"marker\":{\"color\":\"#FF97FF\",\"pattern\":{\"shape\":\"\"}},\"name\":\"Delta Air Lines\",\"offsetgroup\":\"Delta Air Lines\",\"orientation\":\"v\",\"showlegend\":true,\"textposition\":\"auto\",\"x\":[\"SYD-LAX\"],\"xaxis\":\"x\",\"y\":[30],\"yaxis\":\"y\",\"type\":\"bar\"},{\"alignmentgroup\":\"True\",\"customdata\":[[\"American Airlines\"]],\"hovertemplate\":\"Airline=%{customdata[0]}<br>Total Flights=%{y}<extra></extra>\",\"legendgroup\":\"American Airlines\",\"marker\":{\"color\":\"#FECB52\",\"pattern\":{\"shape\":\"\"}},\"name\":\"American Airlines\",\"offsetgroup\":\"American Airlines\",\"orientation\":\"v\",\"showlegend\":true,\"textposition\":\"auto\",\"x\":[\"SYD-LAX\"],\"xaxis\":\"x\",\"y\":[27],\"yaxis\":\"y\",\"type\":\"bar\"},{\"alignmentgroup\":\"True\",\"customdata\":[[\"SriLankan Airlines\"],[\"SriLankan Airlines\"]],\"hovertemplate\":\"Airline=%{customdata[0]}<br>Total Flights=%{y}<extra></extra>\",\"legendgroup\":\"SriLankan Airlines\",\"marker\":{\"color\":\"#636efa\",\"pattern\":{\"shape\":\"\"}},\"name\":\"SriLankan Airlines\",\"offsetgroup\":\"SriLankan Airlines\",\"orientation\":\"v\",\"showlegend\":true,\"textposition\":\"auto\",\"x\":[\"MEL-CMB\",\"SYD-CMB\"],\"xaxis\":\"x\",\"y\":[26,19],\"yaxis\":\"y\",\"type\":\"bar\"},{\"alignmentgroup\":\"True\",\"customdata\":[[\"Air Niugini\"],[\"Air Niugini\"],[\"Air Niugini\"]],\"hovertemplate\":\"Airline=%{customdata[0]}<br>Total Flights=%{y}<extra></extra>\",\"legendgroup\":\"Air Niugini\",\"marker\":{\"color\":\"#EF553B\",\"pattern\":{\"shape\":\"\"}},\"name\":\"Air Niugini\",\"offsetgroup\":\"Air Niugini\",\"orientation\":\"v\",\"showlegend\":true,\"textposition\":\"auto\",\"x\":[\"BNE-POM\",\"BNE-CNS-POM\",\"SYD-POM\"],\"xaxis\":\"x\",\"y\":[24,8,4],\"yaxis\":\"y\",\"type\":\"bar\"},{\"alignmentgroup\":\"True\",\"customdata\":[[\"Malaysia Airlines\"],[\"Malaysia Airlines\"],[\"Malaysia Airlines\"],[\"Malaysia Airlines\"],[\"Malaysia Airlines\"]],\"hovertemplate\":\"Airline=%{customdata[0]}<br>Total Flights=%{y}<extra></extra>\",\"legendgroup\":\"Malaysia Airlines\",\"marker\":{\"color\":\"#00cc96\",\"pattern\":{\"shape\":\"\"}},\"name\":\"Malaysia Airlines\",\"offsetgroup\":\"Malaysia Airlines\",\"orientation\":\"v\",\"showlegend\":true,\"textposition\":\"auto\",\"x\":[\"MEL-KUL\",\"SYD-KUL\",\"PER-KUL\",\"ADL-KUL\",\"BNE-KUL\"],\"xaxis\":\"x\",\"y\":[24,17,7,2,2],\"yaxis\":\"y\",\"type\":\"bar\"},{\"alignmentgroup\":\"True\",\"customdata\":[[\"Etihad Airways\"],[\"Etihad Airways\"]],\"hovertemplate\":\"Airline=%{customdata[0]}<br>Total Flights=%{y}<extra></extra>\",\"legendgroup\":\"Etihad Airways\",\"marker\":{\"color\":\"#ab63fa\",\"pattern\":{\"shape\":\"\"}},\"name\":\"Etihad Airways\",\"offsetgroup\":\"Etihad Airways\",\"orientation\":\"v\",\"showlegend\":true,\"textposition\":\"auto\",\"x\":[\"SYD-AUH\",\"MEL-AUH\"],\"xaxis\":\"x\",\"y\":[24,21],\"yaxis\":\"y\",\"type\":\"bar\"},{\"alignmentgroup\":\"True\",\"customdata\":[[\"All Nippon Airways\"]],\"hovertemplate\":\"Airline=%{customdata[0]}<br>Total Flights=%{y}<extra></extra>\",\"legendgroup\":\"All Nippon Airways\",\"marker\":{\"color\":\"#FFA15A\",\"pattern\":{\"shape\":\"\"}},\"name\":\"All Nippon Airways\",\"offsetgroup\":\"All Nippon Airways\",\"orientation\":\"v\",\"showlegend\":true,\"textposition\":\"auto\",\"x\":[\"SYD-TYO\"],\"xaxis\":\"x\",\"y\":[22],\"yaxis\":\"y\",\"type\":\"bar\"},{\"alignmentgroup\":\"True\",\"customdata\":[[\"Thai Airways International\"],[\"Thai Airways International\"],[\"Thai Airways International\"]],\"hovertemplate\":\"Airline=%{customdata[0]}<br>Total Flights=%{y}<extra></extra>\",\"legendgroup\":\"Thai Airways International\",\"marker\":{\"color\":\"#19d3f3\",\"pattern\":{\"shape\":\"\"}},\"name\":\"Thai Airways International\",\"offsetgroup\":\"Thai Airways International\",\"orientation\":\"v\",\"showlegend\":true,\"textposition\":\"auto\",\"x\":[\"SYD-BKK\",\"SYD-HKT-BKK\",\"MEL-BKK\"],\"xaxis\":\"x\",\"y\":[22,20,4],\"yaxis\":\"y\",\"type\":\"bar\"},{\"alignmentgroup\":\"True\",\"customdata\":[[\"Air India\"],[\"Air India\"]],\"hovertemplate\":\"Airline=%{customdata[0]}<br>Total Flights=%{y}<extra></extra>\",\"legendgroup\":\"Air India\",\"marker\":{\"color\":\"#FF6692\",\"pattern\":{\"shape\":\"\"}},\"name\":\"Air India\",\"offsetgroup\":\"Air India\",\"orientation\":\"v\",\"showlegend\":true,\"textposition\":\"auto\",\"x\":[\"SYD-DEL\",\"MEL-DEL\"],\"xaxis\":\"x\",\"y\":[20,18],\"yaxis\":\"y\",\"type\":\"bar\"},{\"alignmentgroup\":\"True\",\"customdata\":[[\"Hawaiian Airlines\"]],\"hovertemplate\":\"Airline=%{customdata[0]}<br>Total Flights=%{y}<extra></extra>\",\"legendgroup\":\"Hawaiian Airlines\",\"marker\":{\"color\":\"#B6E880\",\"pattern\":{\"shape\":\"\"}},\"name\":\"Hawaiian Airlines\",\"offsetgroup\":\"Hawaiian Airlines\",\"orientation\":\"v\",\"showlegend\":true,\"textposition\":\"auto\",\"x\":[\"SYD-HNL\"],\"xaxis\":\"x\",\"y\":[18],\"yaxis\":\"y\",\"type\":\"bar\"},{\"alignmentgroup\":\"True\",\"customdata\":[[\"Japan Airlines\"],[\"Japan Airlines\"]],\"hovertemplate\":\"Airline=%{customdata[0]}<br>Total Flights=%{y}<extra></extra>\",\"legendgroup\":\"Japan Airlines\",\"marker\":{\"color\":\"#FF97FF\",\"pattern\":{\"shape\":\"\"}},\"name\":\"Japan Airlines\",\"offsetgroup\":\"Japan Airlines\",\"orientation\":\"v\",\"showlegend\":true,\"textposition\":\"auto\",\"x\":[\"SYD-TYO\",\"MEL-TYO\"],\"xaxis\":\"x\",\"y\":[15,9],\"yaxis\":\"y\",\"type\":\"bar\"},{\"alignmentgroup\":\"True\",\"customdata\":[[\"Air Canada\"]],\"hovertemplate\":\"Airline=%{customdata[0]}<br>Total Flights=%{y}<extra></extra>\",\"legendgroup\":\"Air Canada\",\"marker\":{\"color\":\"#FECB52\",\"pattern\":{\"shape\":\"\"}},\"name\":\"Air Canada\",\"offsetgroup\":\"Air Canada\",\"orientation\":\"v\",\"showlegend\":true,\"textposition\":\"auto\",\"x\":[\"SYD-YVR\"],\"xaxis\":\"x\",\"y\":[14],\"yaxis\":\"y\",\"type\":\"bar\"},{\"alignmentgroup\":\"True\",\"customdata\":[[\"Vietnam Airlines\"],[\"Vietnam Airlines\"],[\"Vietnam Airlines\"]],\"hovertemplate\":\"Airline=%{customdata[0]}<br>Total Flights=%{y}<extra></extra>\",\"legendgroup\":\"Vietnam Airlines\",\"marker\":{\"color\":\"#636efa\",\"pattern\":{\"shape\":\"\"}},\"name\":\"Vietnam Airlines\",\"offsetgroup\":\"Vietnam Airlines\",\"orientation\":\"v\",\"showlegend\":true,\"textposition\":\"auto\",\"x\":[\"MEL-SGN\",\"SYD-SGN\",\"SYD-HAN\"],\"xaxis\":\"x\",\"y\":[13,13,4],\"yaxis\":\"y\",\"type\":\"bar\"},{\"alignmentgroup\":\"True\",\"customdata\":[[\"Virgin Australia\"]],\"hovertemplate\":\"Airline=%{customdata[0]}<br>Total Flights=%{y}<extra></extra>\",\"legendgroup\":\"Virgin Australia\",\"marker\":{\"color\":\"#EF553B\",\"pattern\":{\"shape\":\"\"}},\"name\":\"Virgin Australia\",\"offsetgroup\":\"Virgin Australia\",\"orientation\":\"v\",\"showlegend\":true,\"textposition\":\"auto\",\"x\":[\"SYD-NAN\"],\"xaxis\":\"x\",\"y\":[13],\"yaxis\":\"y\",\"type\":\"bar\"},{\"alignmentgroup\":\"True\",\"customdata\":[[\"Philippine Airlines\"],[\"Philippine Airlines\"],[\"Philippine Airlines\"]],\"hovertemplate\":\"Airline=%{customdata[0]}<br>Total Flights=%{y}<extra></extra>\",\"legendgroup\":\"Philippine Airlines\",\"marker\":{\"color\":\"#00cc96\",\"pattern\":{\"shape\":\"\"}},\"name\":\"Philippine Airlines\",\"offsetgroup\":\"Philippine Airlines\",\"orientation\":\"v\",\"showlegend\":true,\"textposition\":\"auto\",\"x\":[\"SYD-MNL\",\"MEL-MNL\",\"BNE-MNL\"],\"xaxis\":\"x\",\"y\":[13,9,4],\"yaxis\":\"y\",\"type\":\"bar\"},{\"alignmentgroup\":\"True\",\"customdata\":[[\"Jetstar\"],[\"Jetstar\"],[\"Jetstar\"],[\"Jetstar\"],[\"Jetstar\"],[\"Jetstar\"],[\"Jetstar\"]],\"hovertemplate\":\"Airline=%{customdata[0]}<br>Total Flights=%{y}<extra></extra>\",\"legendgroup\":\"Jetstar\",\"marker\":{\"color\":\"#ab63fa\",\"pattern\":{\"shape\":\"\"}},\"name\":\"Jetstar\",\"offsetgroup\":\"Jetstar\",\"orientation\":\"v\",\"showlegend\":true,\"textposition\":\"auto\",\"x\":[\"MEL-SIN\",\"SYD-HNL\",\"SYD-NAN\",\"MEL-HKT\",\"MEL-DPS\",\"MEL-HNL\",\"SYD-HKT\"],\"xaxis\":\"x\",\"y\":[13,13,12,9,8,6,4],\"yaxis\":\"y\",\"type\":\"bar\"},{\"alignmentgroup\":\"True\",\"customdata\":[[\"Air Caledonie\"],[\"Air Caledonie\"]],\"hovertemplate\":\"Airline=%{customdata[0]}<br>Total Flights=%{y}<extra></extra>\",\"legendgroup\":\"Air Caledonie\",\"marker\":{\"color\":\"#FFA15A\",\"pattern\":{\"shape\":\"\"}},\"name\":\"Air Caledonie\",\"offsetgroup\":\"Air Caledonie\",\"orientation\":\"v\",\"showlegend\":true,\"textposition\":\"auto\",\"x\":[\"SYD-NOU\",\"BNE-NOU\"],\"xaxis\":\"x\",\"y\":[9,5],\"yaxis\":\"y\",\"type\":\"bar\"},{\"alignmentgroup\":\"True\",\"customdata\":[[\"Korean Air\"]],\"hovertemplate\":\"Airline=%{customdata[0]}<br>Total Flights=%{y}<extra></extra>\",\"legendgroup\":\"Korean Air\",\"marker\":{\"color\":\"#19d3f3\",\"pattern\":{\"shape\":\"\"}},\"name\":\"Korean Air\",\"offsetgroup\":\"Korean Air\",\"orientation\":\"v\",\"showlegend\":true,\"textposition\":\"auto\",\"x\":[\"SYD-SEL\"],\"xaxis\":\"x\",\"y\":[9],\"yaxis\":\"y\",\"type\":\"bar\"},{\"alignmentgroup\":\"True\",\"customdata\":[[\"Jetstar Asia\"],[\"Jetstar Asia\"]],\"hovertemplate\":\"Airline=%{customdata[0]}<br>Total Flights=%{y}<extra></extra>\",\"legendgroup\":\"Jetstar Asia\",\"marker\":{\"color\":\"#FF6692\",\"pattern\":{\"shape\":\"\"}},\"name\":\"Jetstar Asia\",\"offsetgroup\":\"Jetstar Asia\",\"orientation\":\"v\",\"showlegend\":true,\"textposition\":\"auto\",\"x\":[\"DRW-SIN\",\"PER-SIN\"],\"xaxis\":\"x\",\"y\":[9,6],\"yaxis\":\"y\",\"type\":\"bar\"},{\"alignmentgroup\":\"True\",\"customdata\":[[\"Asiana Airlines\"]],\"hovertemplate\":\"Airline=%{customdata[0]}<br>Total Flights=%{y}<extra></extra>\",\"legendgroup\":\"Asiana Airlines\",\"marker\":{\"color\":\"#B6E880\",\"pattern\":{\"shape\":\"\"}},\"name\":\"Asiana Airlines\",\"offsetgroup\":\"Asiana Airlines\",\"orientation\":\"v\",\"showlegend\":true,\"textposition\":\"auto\",\"x\":[\"SYD-SEL\"],\"xaxis\":\"x\",\"y\":[9],\"yaxis\":\"y\",\"type\":\"bar\"},{\"alignmentgroup\":\"True\",\"customdata\":[[\"Royal Brunei Airlines\"]],\"hovertemplate\":\"Airline=%{customdata[0]}<br>Total Flights=%{y}<extra></extra>\",\"legendgroup\":\"Royal Brunei Airlines\",\"marker\":{\"color\":\"#FF97FF\",\"pattern\":{\"shape\":\"\"}},\"name\":\"Royal Brunei Airlines\",\"offsetgroup\":\"Royal Brunei Airlines\",\"orientation\":\"v\",\"showlegend\":true,\"textposition\":\"auto\",\"x\":[\"MEL-BWN\"],\"xaxis\":\"x\",\"y\":[7],\"yaxis\":\"y\",\"type\":\"bar\"},{\"alignmentgroup\":\"True\",\"customdata\":[[\"British Airways\"]],\"hovertemplate\":\"Airline=%{customdata[0]}<br>Total Flights=%{y}<extra></extra>\",\"legendgroup\":\"British Airways\",\"marker\":{\"color\":\"#FECB52\",\"pattern\":{\"shape\":\"\"}},\"name\":\"British Airways\",\"offsetgroup\":\"British Airways\",\"orientation\":\"v\",\"showlegend\":true,\"textposition\":\"auto\",\"x\":[\"SYD-SIN-LON\"],\"xaxis\":\"x\",\"y\":[6],\"yaxis\":\"y\",\"type\":\"bar\"},{\"alignmentgroup\":\"True\",\"customdata\":[[\"Xiamen Airlines\"],[\"Xiamen Airlines\"]],\"hovertemplate\":\"Airline=%{customdata[0]}<br>Total Flights=%{y}<extra></extra>\",\"legendgroup\":\"Xiamen Airlines\",\"marker\":{\"color\":\"#636efa\",\"pattern\":{\"shape\":\"\"}},\"name\":\"Xiamen Airlines\",\"offsetgroup\":\"Xiamen Airlines\",\"orientation\":\"v\",\"showlegend\":true,\"textposition\":\"auto\",\"x\":[\"SYD-XMN\",\"MEL-XMN\"],\"xaxis\":\"x\",\"y\":[5,4],\"yaxis\":\"y\",\"type\":\"bar\"},{\"alignmentgroup\":\"True\",\"customdata\":[[\"Nauru Airlines\"]],\"hovertemplate\":\"Airline=%{customdata[0]}<br>Total Flights=%{y}<extra></extra>\",\"legendgroup\":\"Nauru Airlines\",\"marker\":{\"color\":\"#EF553B\",\"pattern\":{\"shape\":\"\"}},\"name\":\"Nauru Airlines\",\"offsetgroup\":\"Nauru Airlines\",\"orientation\":\"v\",\"showlegend\":true,\"textposition\":\"auto\",\"x\":[\"BNE-INU\"],\"xaxis\":\"x\",\"y\":[5],\"yaxis\":\"y\",\"type\":\"bar\"},{\"alignmentgroup\":\"True\",\"customdata\":[[\"Malindo Air\"]],\"hovertemplate\":\"Airline=%{customdata[0]}<br>Total Flights=%{y}<extra></extra>\",\"legendgroup\":\"Malindo Air\",\"marker\":{\"color\":\"#00cc96\",\"pattern\":{\"shape\":\"\"}},\"name\":\"Malindo Air\",\"offsetgroup\":\"Malindo Air\",\"orientation\":\"v\",\"showlegend\":true,\"textposition\":\"auto\",\"x\":[\"PER-KUL\"],\"xaxis\":\"x\",\"y\":[5],\"yaxis\":\"y\",\"type\":\"bar\"},{\"alignmentgroup\":\"True\",\"customdata\":[[\"Garuda Indonesia\"],[\"Garuda Indonesia\"]],\"hovertemplate\":\"Airline=%{customdata[0]}<br>Total Flights=%{y}<extra></extra>\",\"legendgroup\":\"Garuda Indonesia\",\"marker\":{\"color\":\"#ab63fa\",\"pattern\":{\"shape\":\"\"}},\"name\":\"Garuda Indonesia\",\"offsetgroup\":\"Garuda Indonesia\",\"orientation\":\"v\",\"showlegend\":true,\"textposition\":\"auto\",\"x\":[\"SYD-JKT\",\"SYD-DPS\"],\"xaxis\":\"x\",\"y\":[5,3],\"yaxis\":\"y\",\"type\":\"bar\"},{\"alignmentgroup\":\"True\",\"customdata\":[[\"AirAsia X\"]],\"hovertemplate\":\"Airline=%{customdata[0]}<br>Total Flights=%{y}<extra></extra>\",\"legendgroup\":\"AirAsia X\",\"marker\":{\"color\":\"#FFA15A\",\"pattern\":{\"shape\":\"\"}},\"name\":\"AirAsia X\",\"offsetgroup\":\"AirAsia X\",\"orientation\":\"v\",\"showlegend\":true,\"textposition\":\"auto\",\"x\":[\"SYD-KUL\"],\"xaxis\":\"x\",\"y\":[4],\"yaxis\":\"y\",\"type\":\"bar\"},{\"alignmentgroup\":\"True\",\"customdata\":[[\"China Airlines\"],[\"China Airlines\"],[\"China Airlines\"]],\"hovertemplate\":\"Airline=%{customdata[0]}<br>Total Flights=%{y}<extra></extra>\",\"legendgroup\":\"China Airlines\",\"marker\":{\"color\":\"#19d3f3\",\"pattern\":{\"shape\":\"\"}},\"name\":\"China Airlines\",\"offsetgroup\":\"China Airlines\",\"orientation\":\"v\",\"showlegend\":true,\"textposition\":\"auto\",\"x\":[\"MEL-TPE\",\"BNE-TPE\",\"SYD-TPE\"],\"xaxis\":\"x\",\"y\":[4,4,4],\"yaxis\":\"y\",\"type\":\"bar\"},{\"alignmentgroup\":\"True\",\"customdata\":[[\"China Southern Airlines\"]],\"hovertemplate\":\"Airline=%{customdata[0]}<br>Total Flights=%{y}<extra></extra>\",\"legendgroup\":\"China Southern Airlines\",\"marker\":{\"color\":\"#FF6692\",\"pattern\":{\"shape\":\"\"}},\"name\":\"China Southern Airlines\",\"offsetgroup\":\"China Southern Airlines\",\"orientation\":\"v\",\"showlegend\":true,\"textposition\":\"auto\",\"x\":[\"SYD-CAN\"],\"xaxis\":\"x\",\"y\":[4],\"yaxis\":\"y\",\"type\":\"bar\"},{\"alignmentgroup\":\"True\",\"customdata\":[[\"Bamboo Airways\"]],\"hovertemplate\":\"Airline=%{customdata[0]}<br>Total Flights=%{y}<extra></extra>\",\"legendgroup\":\"Bamboo Airways\",\"marker\":{\"color\":\"#B6E880\",\"pattern\":{\"shape\":\"\"}},\"name\":\"Bamboo Airways\",\"offsetgroup\":\"Bamboo Airways\",\"orientation\":\"v\",\"showlegend\":true,\"textposition\":\"auto\",\"x\":[\"MEL-SGN\"],\"xaxis\":\"x\",\"y\":[4],\"yaxis\":\"y\",\"type\":\"bar\"},{\"alignmentgroup\":\"True\",\"customdata\":[[\"Solomon Airlines\"]],\"hovertemplate\":\"Airline=%{customdata[0]}<br>Total Flights=%{y}<extra></extra>\",\"legendgroup\":\"Solomon Airlines\",\"marker\":{\"color\":\"#FF97FF\",\"pattern\":{\"shape\":\"\"}},\"name\":\"Solomon Airlines\",\"offsetgroup\":\"Solomon Airlines\",\"orientation\":\"v\",\"showlegend\":true,\"textposition\":\"auto\",\"x\":[\"BNE-HIR\"],\"xaxis\":\"x\",\"y\":[4],\"yaxis\":\"y\",\"type\":\"bar\"},{\"alignmentgroup\":\"True\",\"customdata\":[[\"China Eastern Airlines\"],[\"China Eastern Airlines\"]],\"hovertemplate\":\"Airline=%{customdata[0]}<br>Total Flights=%{y}<extra></extra>\",\"legendgroup\":\"China Eastern Airlines\",\"marker\":{\"color\":\"#FECB52\",\"pattern\":{\"shape\":\"\"}},\"name\":\"China Eastern Airlines\",\"offsetgroup\":\"China Eastern Airlines\",\"orientation\":\"v\",\"showlegend\":true,\"textposition\":\"auto\",\"x\":[\"SYD-SHA\",\"SYD-KMG\"],\"xaxis\":\"x\",\"y\":[3,2],\"yaxis\":\"y\",\"type\":\"bar\"},{\"alignmentgroup\":\"True\",\"customdata\":[[\"Eva Air\"]],\"hovertemplate\":\"Airline=%{customdata[0]}<br>Total Flights=%{y}<extra></extra>\",\"legendgroup\":\"Eva Air\",\"marker\":{\"color\":\"#636efa\",\"pattern\":{\"shape\":\"\"}},\"name\":\"Eva Air\",\"offsetgroup\":\"Eva Air\",\"orientation\":\"v\",\"showlegend\":true,\"textposition\":\"auto\",\"x\":[\"BNE-TPE\"],\"xaxis\":\"x\",\"y\":[2],\"yaxis\":\"y\",\"type\":\"bar\"},{\"alignmentgroup\":\"True\",\"customdata\":[[\"Air Vanuatu\"],[\"Air Vanuatu\"]],\"hovertemplate\":\"Airline=%{customdata[0]}<br>Total Flights=%{y}<extra></extra>\",\"legendgroup\":\"Air Vanuatu\",\"marker\":{\"color\":\"#EF553B\",\"pattern\":{\"shape\":\"\"}},\"name\":\"Air Vanuatu\",\"offsetgroup\":\"Air Vanuatu\",\"orientation\":\"v\",\"showlegend\":true,\"textposition\":\"auto\",\"x\":[\"BNE-VLI\",\"SYD-VLI\"],\"xaxis\":\"x\",\"y\":[2,1],\"yaxis\":\"y\",\"type\":\"bar\"},{\"alignmentgroup\":\"True\",\"customdata\":[[\"LATAM Airlines\"]],\"hovertemplate\":\"Airline=%{customdata[0]}<br>Total Flights=%{y}<extra></extra>\",\"legendgroup\":\"LATAM Airlines\",\"marker\":{\"color\":\"#00cc96\",\"pattern\":{\"shape\":\"\"}},\"name\":\"LATAM Airlines\",\"offsetgroup\":\"LATAM Airlines\",\"orientation\":\"v\",\"showlegend\":true,\"textposition\":\"auto\",\"x\":[\"SYD-AKL-SCL\"],\"xaxis\":\"x\",\"y\":[2],\"yaxis\":\"y\",\"type\":\"bar\"}],                        {\"template\":{\"data\":{\"histogram2dcontour\":[{\"type\":\"histogram2dcontour\",\"colorbar\":{\"outlinewidth\":0,\"ticks\":\"\"},\"colorscale\":[[0.0,\"#0d0887\"],[0.1111111111111111,\"#46039f\"],[0.2222222222222222,\"#7201a8\"],[0.3333333333333333,\"#9c179e\"],[0.4444444444444444,\"#bd3786\"],[0.5555555555555556,\"#d8576b\"],[0.6666666666666666,\"#ed7953\"],[0.7777777777777778,\"#fb9f3a\"],[0.8888888888888888,\"#fdca26\"],[1.0,\"#f0f921\"]]}],\"choropleth\":[{\"type\":\"choropleth\",\"colorbar\":{\"outlinewidth\":0,\"ticks\":\"\"}}],\"histogram2d\":[{\"type\":\"histogram2d\",\"colorbar\":{\"outlinewidth\":0,\"ticks\":\"\"},\"colorscale\":[[0.0,\"#0d0887\"],[0.1111111111111111,\"#46039f\"],[0.2222222222222222,\"#7201a8\"],[0.3333333333333333,\"#9c179e\"],[0.4444444444444444,\"#bd3786\"],[0.5555555555555556,\"#d8576b\"],[0.6666666666666666,\"#ed7953\"],[0.7777777777777778,\"#fb9f3a\"],[0.8888888888888888,\"#fdca26\"],[1.0,\"#f0f921\"]]}],\"heatmap\":[{\"type\":\"heatmap\",\"colorbar\":{\"outlinewidth\":0,\"ticks\":\"\"},\"colorscale\":[[0.0,\"#0d0887\"],[0.1111111111111111,\"#46039f\"],[0.2222222222222222,\"#7201a8\"],[0.3333333333333333,\"#9c179e\"],[0.4444444444444444,\"#bd3786\"],[0.5555555555555556,\"#d8576b\"],[0.6666666666666666,\"#ed7953\"],[0.7777777777777778,\"#fb9f3a\"],[0.8888888888888888,\"#fdca26\"],[1.0,\"#f0f921\"]]}],\"heatmapgl\":[{\"type\":\"heatmapgl\",\"colorbar\":{\"outlinewidth\":0,\"ticks\":\"\"},\"colorscale\":[[0.0,\"#0d0887\"],[0.1111111111111111,\"#46039f\"],[0.2222222222222222,\"#7201a8\"],[0.3333333333333333,\"#9c179e\"],[0.4444444444444444,\"#bd3786\"],[0.5555555555555556,\"#d8576b\"],[0.6666666666666666,\"#ed7953\"],[0.7777777777777778,\"#fb9f3a\"],[0.8888888888888888,\"#fdca26\"],[1.0,\"#f0f921\"]]}],\"contourcarpet\":[{\"type\":\"contourcarpet\",\"colorbar\":{\"outlinewidth\":0,\"ticks\":\"\"}}],\"contour\":[{\"type\":\"contour\",\"colorbar\":{\"outlinewidth\":0,\"ticks\":\"\"},\"colorscale\":[[0.0,\"#0d0887\"],[0.1111111111111111,\"#46039f\"],[0.2222222222222222,\"#7201a8\"],[0.3333333333333333,\"#9c179e\"],[0.4444444444444444,\"#bd3786\"],[0.5555555555555556,\"#d8576b\"],[0.6666666666666666,\"#ed7953\"],[0.7777777777777778,\"#fb9f3a\"],[0.8888888888888888,\"#fdca26\"],[1.0,\"#f0f921\"]]}],\"surface\":[{\"type\":\"surface\",\"colorbar\":{\"outlinewidth\":0,\"ticks\":\"\"},\"colorscale\":[[0.0,\"#0d0887\"],[0.1111111111111111,\"#46039f\"],[0.2222222222222222,\"#7201a8\"],[0.3333333333333333,\"#9c179e\"],[0.4444444444444444,\"#bd3786\"],[0.5555555555555556,\"#d8576b\"],[0.6666666666666666,\"#ed7953\"],[0.7777777777777778,\"#fb9f3a\"],[0.8888888888888888,\"#fdca26\"],[1.0,\"#f0f921\"]]}],\"mesh3d\":[{\"type\":\"mesh3d\",\"colorbar\":{\"outlinewidth\":0,\"ticks\":\"\"}}],\"scatter\":[{\"fillpattern\":{\"fillmode\":\"overlay\",\"size\":10,\"solidity\":0.2},\"type\":\"scatter\"}],\"parcoords\":[{\"type\":\"parcoords\",\"line\":{\"colorbar\":{\"outlinewidth\":0,\"ticks\":\"\"}}}],\"scatterpolargl\":[{\"type\":\"scatterpolargl\",\"marker\":{\"colorbar\":{\"outlinewidth\":0,\"ticks\":\"\"}}}],\"bar\":[{\"error_x\":{\"color\":\"#2a3f5f\"},\"error_y\":{\"color\":\"#2a3f5f\"},\"marker\":{\"line\":{\"color\":\"#E5ECF6\",\"width\":0.5},\"pattern\":{\"fillmode\":\"overlay\",\"size\":10,\"solidity\":0.2}},\"type\":\"bar\"}],\"scattergeo\":[{\"type\":\"scattergeo\",\"marker\":{\"colorbar\":{\"outlinewidth\":0,\"ticks\":\"\"}}}],\"scatterpolar\":[{\"type\":\"scatterpolar\",\"marker\":{\"colorbar\":{\"outlinewidth\":0,\"ticks\":\"\"}}}],\"histogram\":[{\"marker\":{\"pattern\":{\"fillmode\":\"overlay\",\"size\":10,\"solidity\":0.2}},\"type\":\"histogram\"}],\"scattergl\":[{\"type\":\"scattergl\",\"marker\":{\"colorbar\":{\"outlinewidth\":0,\"ticks\":\"\"}}}],\"scatter3d\":[{\"type\":\"scatter3d\",\"line\":{\"colorbar\":{\"outlinewidth\":0,\"ticks\":\"\"}},\"marker\":{\"colorbar\":{\"outlinewidth\":0,\"ticks\":\"\"}}}],\"scattermapbox\":[{\"type\":\"scattermapbox\",\"marker\":{\"colorbar\":{\"outlinewidth\":0,\"ticks\":\"\"}}}],\"scatterternary\":[{\"type\":\"scatterternary\",\"marker\":{\"colorbar\":{\"outlinewidth\":0,\"ticks\":\"\"}}}],\"scattercarpet\":[{\"type\":\"scattercarpet\",\"marker\":{\"colorbar\":{\"outlinewidth\":0,\"ticks\":\"\"}}}],\"carpet\":[{\"aaxis\":{\"endlinecolor\":\"#2a3f5f\",\"gridcolor\":\"white\",\"linecolor\":\"white\",\"minorgridcolor\":\"white\",\"startlinecolor\":\"#2a3f5f\"},\"baxis\":{\"endlinecolor\":\"#2a3f5f\",\"gridcolor\":\"white\",\"linecolor\":\"white\",\"minorgridcolor\":\"white\",\"startlinecolor\":\"#2a3f5f\"},\"type\":\"carpet\"}],\"table\":[{\"cells\":{\"fill\":{\"color\":\"#EBF0F8\"},\"line\":{\"color\":\"white\"}},\"header\":{\"fill\":{\"color\":\"#C8D4E3\"},\"line\":{\"color\":\"white\"}},\"type\":\"table\"}],\"barpolar\":[{\"marker\":{\"line\":{\"color\":\"#E5ECF6\",\"width\":0.5},\"pattern\":{\"fillmode\":\"overlay\",\"size\":10,\"solidity\":0.2}},\"type\":\"barpolar\"}],\"pie\":[{\"automargin\":true,\"type\":\"pie\"}]},\"layout\":{\"autotypenumbers\":\"strict\",\"colorway\":[\"#636efa\",\"#EF553B\",\"#00cc96\",\"#ab63fa\",\"#FFA15A\",\"#19d3f3\",\"#FF6692\",\"#B6E880\",\"#FF97FF\",\"#FECB52\"],\"font\":{\"color\":\"#2a3f5f\"},\"hovermode\":\"closest\",\"hoverlabel\":{\"align\":\"left\"},\"paper_bgcolor\":\"white\",\"plot_bgcolor\":\"#E5ECF6\",\"polar\":{\"bgcolor\":\"#E5ECF6\",\"angularaxis\":{\"gridcolor\":\"white\",\"linecolor\":\"white\",\"ticks\":\"\"},\"radialaxis\":{\"gridcolor\":\"white\",\"linecolor\":\"white\",\"ticks\":\"\"}},\"ternary\":{\"bgcolor\":\"#E5ECF6\",\"aaxis\":{\"gridcolor\":\"white\",\"linecolor\":\"white\",\"ticks\":\"\"},\"baxis\":{\"gridcolor\":\"white\",\"linecolor\":\"white\",\"ticks\":\"\"},\"caxis\":{\"gridcolor\":\"white\",\"linecolor\":\"white\",\"ticks\":\"\"}},\"coloraxis\":{\"colorbar\":{\"outlinewidth\":0,\"ticks\":\"\"}},\"colorscale\":{\"sequential\":[[0.0,\"#0d0887\"],[0.1111111111111111,\"#46039f\"],[0.2222222222222222,\"#7201a8\"],[0.3333333333333333,\"#9c179e\"],[0.4444444444444444,\"#bd3786\"],[0.5555555555555556,\"#d8576b\"],[0.6666666666666666,\"#ed7953\"],[0.7777777777777778,\"#fb9f3a\"],[0.8888888888888888,\"#fdca26\"],[1.0,\"#f0f921\"]],\"sequentialminus\":[[0.0,\"#0d0887\"],[0.1111111111111111,\"#46039f\"],[0.2222222222222222,\"#7201a8\"],[0.3333333333333333,\"#9c179e\"],[0.4444444444444444,\"#bd3786\"],[0.5555555555555556,\"#d8576b\"],[0.6666666666666666,\"#ed7953\"],[0.7777777777777778,\"#fb9f3a\"],[0.8888888888888888,\"#fdca26\"],[1.0,\"#f0f921\"]],\"diverging\":[[0,\"#8e0152\"],[0.1,\"#c51b7d\"],[0.2,\"#de77ae\"],[0.3,\"#f1b6da\"],[0.4,\"#fde0ef\"],[0.5,\"#f7f7f7\"],[0.6,\"#e6f5d0\"],[0.7,\"#b8e186\"],[0.8,\"#7fbc41\"],[0.9,\"#4d9221\"],[1,\"#276419\"]]},\"xaxis\":{\"gridcolor\":\"white\",\"linecolor\":\"white\",\"ticks\":\"\",\"title\":{\"standoff\":15},\"zerolinecolor\":\"white\",\"automargin\":true,\"zerolinewidth\":2},\"yaxis\":{\"gridcolor\":\"white\",\"linecolor\":\"white\",\"ticks\":\"\",\"title\":{\"standoff\":15},\"zerolinecolor\":\"white\",\"automargin\":true,\"zerolinewidth\":2},\"scene\":{\"xaxis\":{\"backgroundcolor\":\"#E5ECF6\",\"gridcolor\":\"white\",\"linecolor\":\"white\",\"showbackground\":true,\"ticks\":\"\",\"zerolinecolor\":\"white\",\"gridwidth\":2},\"yaxis\":{\"backgroundcolor\":\"#E5ECF6\",\"gridcolor\":\"white\",\"linecolor\":\"white\",\"showbackground\":true,\"ticks\":\"\",\"zerolinecolor\":\"white\",\"gridwidth\":2},\"zaxis\":{\"backgroundcolor\":\"#E5ECF6\",\"gridcolor\":\"white\",\"linecolor\":\"white\",\"showbackground\":true,\"ticks\":\"\",\"zerolinecolor\":\"white\",\"gridwidth\":2}},\"shapedefaults\":{\"line\":{\"color\":\"#2a3f5f\"}},\"annotationdefaults\":{\"arrowcolor\":\"#2a3f5f\",\"arrowhead\":0,\"arrowwidth\":1},\"geo\":{\"bgcolor\":\"white\",\"landcolor\":\"#E5ECF6\",\"subunitcolor\":\"white\",\"showland\":true,\"showlakes\":true,\"lakecolor\":\"white\"},\"title\":{\"x\":0.05},\"mapbox\":{\"style\":\"light\"}}},\"xaxis\":{\"anchor\":\"y\",\"domain\":[0.0,1.0],\"title\":{\"text\":\"Route\"}},\"yaxis\":{\"anchor\":\"x\",\"domain\":[0.0,1.0],\"title\":{\"text\":\"Total Flights\"}},\"legend\":{\"title\":{\"text\":\"Airline\"},\"tracegroupgap\":0},\"title\":{\"text\":\"Total Flights per Route per Airline\"},\"barmode\":\"relative\"},                        {\"responsive\": true}                    ).then(function(){\n",
       "                            \n",
       "var gd = document.getElementById('a8b8fe77-3655-4dfb-b20f-f0a90fbab9ad');\n",
       "var x = new MutationObserver(function (mutations, observer) {{\n",
       "        var display = window.getComputedStyle(gd).display;\n",
       "        if (!display || display === 'none') {{\n",
       "            console.log([gd, 'removed!']);\n",
       "            Plotly.purge(gd);\n",
       "            observer.disconnect();\n",
       "        }}\n",
       "}});\n",
       "\n",
       "// Listen for the removal of the full notebook cells\n",
       "var notebookContainer = gd.closest('#notebook-container');\n",
       "if (notebookContainer) {{\n",
       "    x.observe(notebookContainer, {childList: true});\n",
       "}}\n",
       "\n",
       "// Listen for the clearing of the current output cell\n",
       "var outputEl = gd.closest('.output');\n",
       "if (outputEl) {{\n",
       "    x.observe(outputEl, {childList: true});\n",
       "}}\n",
       "\n",
       "                        })                };                });            </script>        </div>"
      ]
     },
     "metadata": {},
     "output_type": "display_data"
    }
   ],
   "source": [
    "import plotly.express as px\n",
    "\n",
    "\n",
    "\n",
    "fig = px.bar(top_routes, x='Route', y='All_Flights', color='Airline', \n",
    "             title='Total Flights per Route per Airline',\n",
    "             labels={'All_Flights': 'Total Flights', 'Route': 'Route'},\n",
    "             hover_data={'Route': False, 'Airline': True, 'All_Flights': True})\n",
    "\n",
    "fig.update_layout(xaxis_title='Route', yaxis_title='Total Flights')\n",
    "\n",
    "fig.show()"
   ]
  },
  {
   "cell_type": "code",
   "execution_count": null,
   "id": "ac965c98",
   "metadata": {},
   "outputs": [],
   "source": [
    "top_routes = Flights_Out.groupby('Route', )['All_Flights'].sum().reset_index()\n",
    "\n",
    "# Sort by total flights and get the top 5 routes\n",
    "top_5_routes = top_routes.sort_values(by='All_Flights', ascending=False).head(5)\n",
    "top_5_routes"
   ]
  },
  {
   "cell_type": "markdown",
   "id": "c0c03e0a-ef59-49c7-8624-a768906668e9",
   "metadata": {},
   "source": [
    "### Busiest Airports "
   ]
  },
  {
   "cell_type": "code",
   "execution_count": 132,
   "id": "a8527f23-af62-4978-9795-af5c3a7dd0ae",
   "metadata": {},
   "outputs": [
    {
     "data": {
      "text/html": [
       "<div>\n",
       "<style scoped>\n",
       "    .dataframe tbody tr th:only-of-type {\n",
       "        vertical-align: middle;\n",
       "    }\n",
       "\n",
       "    .dataframe tbody tr th {\n",
       "        vertical-align: top;\n",
       "    }\n",
       "\n",
       "    .dataframe thead th {\n",
       "        text-align: right;\n",
       "    }\n",
       "</style>\n",
       "<table border=\"1\" class=\"dataframe\">\n",
       "  <thead>\n",
       "    <tr style=\"text-align: right;\">\n",
       "      <th></th>\n",
       "      <th>Australian_City</th>\n",
       "      <th>All_Flights</th>\n",
       "    </tr>\n",
       "  </thead>\n",
       "  <tbody>\n",
       "    <tr>\n",
       "      <th>0</th>\n",
       "      <td>Adelaide</td>\n",
       "      <td>67</td>\n",
       "    </tr>\n",
       "    <tr>\n",
       "      <th>1</th>\n",
       "      <td>Brisbane</td>\n",
       "      <td>246</td>\n",
       "    </tr>\n",
       "    <tr>\n",
       "      <th>2</th>\n",
       "      <td>Cairns</td>\n",
       "      <td>6</td>\n",
       "    </tr>\n",
       "    <tr>\n",
       "      <th>3</th>\n",
       "      <td>Darwin</td>\n",
       "      <td>70</td>\n",
       "    </tr>\n",
       "    <tr>\n",
       "      <th>4</th>\n",
       "      <td>Melbourne</td>\n",
       "      <td>519</td>\n",
       "    </tr>\n",
       "    <tr>\n",
       "      <th>5</th>\n",
       "      <td>Perth</td>\n",
       "      <td>173</td>\n",
       "    </tr>\n",
       "    <tr>\n",
       "      <th>6</th>\n",
       "      <td>Sydney</td>\n",
       "      <td>975</td>\n",
       "    </tr>\n",
       "  </tbody>\n",
       "</table>\n",
       "</div>"
      ],
      "text/plain": [
       "  Australian_City  All_Flights\n",
       "0        Adelaide           67\n",
       "1        Brisbane          246\n",
       "2          Cairns            6\n",
       "3          Darwin           70\n",
       "4       Melbourne          519\n",
       "5           Perth          173\n",
       "6          Sydney          975"
      ]
     },
     "execution_count": 132,
     "metadata": {},
     "output_type": "execute_result"
    }
   ],
   "source": [
    "# All flights and group by airport\n",
    "busiest_airports = Flights_Out.groupby('Australian_City')['All_Flights'].sum().reset_index()\n",
    "\n",
    "# Sort by total flights and display the result\n",
    "busiest_airports_sorted = busiest_airports.sort_values(by='All_Flights', ascending=False)\n",
    "busiest_airports"
   ]
  },
  {
   "cell_type": "markdown",
   "id": "f3495270-bd5d-46ee-9bfe-aad715d828ec",
   "metadata": {},
   "source": [
    "### Top Routes based on Airlines"
   ]
  },
  {
   "cell_type": "code",
   "execution_count": 133,
   "id": "636a680f-a316-4e06-80b1-97de94f3be59",
   "metadata": {},
   "outputs": [
    {
     "data": {
      "text/html": [
       "<div>\n",
       "<style scoped>\n",
       "    .dataframe tbody tr th:only-of-type {\n",
       "        vertical-align: middle;\n",
       "    }\n",
       "\n",
       "    .dataframe tbody tr th {\n",
       "        vertical-align: top;\n",
       "    }\n",
       "\n",
       "    .dataframe thead th {\n",
       "        text-align: right;\n",
       "    }\n",
       "</style>\n",
       "<table border=\"1\" class=\"dataframe\">\n",
       "  <thead>\n",
       "    <tr style=\"text-align: right;\">\n",
       "      <th></th>\n",
       "      <th>Route</th>\n",
       "      <th>All_Flights</th>\n",
       "    </tr>\n",
       "  </thead>\n",
       "  <tbody>\n",
       "    <tr>\n",
       "      <th>11</th>\n",
       "      <td>SYD-DRW-LON</td>\n",
       "      <td>60</td>\n",
       "    </tr>\n",
       "    <tr>\n",
       "      <th>3</th>\n",
       "      <td>MEL-DRW-LON</td>\n",
       "      <td>58</td>\n",
       "    </tr>\n",
       "    <tr>\n",
       "      <th>2</th>\n",
       "      <td>MEL-ADL-DEL</td>\n",
       "      <td>36</td>\n",
       "    </tr>\n",
       "    <tr>\n",
       "      <th>14</th>\n",
       "      <td>SYD-LAX</td>\n",
       "      <td>32</td>\n",
       "    </tr>\n",
       "    <tr>\n",
       "      <th>17</th>\n",
       "      <td>SYD-SIN</td>\n",
       "      <td>30</td>\n",
       "    </tr>\n",
       "  </tbody>\n",
       "</table>\n",
       "</div>"
      ],
      "text/plain": [
       "          Route  All_Flights\n",
       "11  SYD-DRW-LON           60\n",
       "3   MEL-DRW-LON           58\n",
       "2   MEL-ADL-DEL           36\n",
       "14      SYD-LAX           32\n",
       "17      SYD-SIN           30"
      ]
     },
     "execution_count": 133,
     "metadata": {},
     "output_type": "execute_result"
    }
   ],
   "source": [
    "# Fill in any airline of interest\n",
    "airline_of_interest = 'Qantas Airways'\n",
    "\n",
    "# Filter the DataFrame for the specific airline\n",
    "airline_data = Flights_Out[Flights_Out['Airline'] == airline_of_interest]\n",
    "\n",
    "# Group by Route and calculate total flights\n",
    "top_routes_airline = airline_data.groupby('Route')['All_Flights'].sum().reset_index()\n",
    "\n",
    "# Sort by total flights and get the top routes\n",
    "top_routes_airline = top_routes_airline.sort_values(by='All_Flights', ascending=False).head(5)\n",
    "top_routes_airline\n"
   ]
  },
  {
   "cell_type": "markdown",
   "id": "bd0d2c70-f16f-4d17-bb25-b6e48f34179b",
   "metadata": {},
   "source": [
    "### Popular Destinations"
   ]
  },
  {
   "cell_type": "code",
   "execution_count": 134,
   "id": "e5a82e09-c421-41e8-96c4-4afee16b39ca",
   "metadata": {},
   "outputs": [
    {
     "data": {
      "text/html": [
       "<div>\n",
       "<style scoped>\n",
       "    .dataframe tbody tr th:only-of-type {\n",
       "        vertical-align: middle;\n",
       "    }\n",
       "\n",
       "    .dataframe tbody tr th {\n",
       "        vertical-align: top;\n",
       "    }\n",
       "\n",
       "    .dataframe thead th {\n",
       "        text-align: right;\n",
       "    }\n",
       "</style>\n",
       "<table border=\"1\" class=\"dataframe\">\n",
       "  <thead>\n",
       "    <tr style=\"text-align: right;\">\n",
       "      <th></th>\n",
       "      <th>International_City</th>\n",
       "      <th>All_Flights</th>\n",
       "    </tr>\n",
       "  </thead>\n",
       "  <tbody>\n",
       "    <tr>\n",
       "      <th>34</th>\n",
       "      <td>Singapore</td>\n",
       "      <td>547</td>\n",
       "    </tr>\n",
       "    <tr>\n",
       "      <th>21</th>\n",
       "      <td>Los Angeles</td>\n",
       "      <td>141</td>\n",
       "    </tr>\n",
       "    <tr>\n",
       "      <th>10</th>\n",
       "      <td>Dubai</td>\n",
       "      <td>135</td>\n",
       "    </tr>\n",
       "    <tr>\n",
       "      <th>9</th>\n",
       "      <td>Doha</td>\n",
       "      <td>129</td>\n",
       "    </tr>\n",
       "    <tr>\n",
       "      <th>20</th>\n",
       "      <td>London</td>\n",
       "      <td>121</td>\n",
       "    </tr>\n",
       "    <tr>\n",
       "      <th>23</th>\n",
       "      <td>Nadi</td>\n",
       "      <td>119</td>\n",
       "    </tr>\n",
       "    <tr>\n",
       "      <th>1</th>\n",
       "      <td>Auckland</td>\n",
       "      <td>117</td>\n",
       "    </tr>\n",
       "    <tr>\n",
       "      <th>25</th>\n",
       "      <td>New Delhi</td>\n",
       "      <td>104</td>\n",
       "    </tr>\n",
       "    <tr>\n",
       "      <th>18</th>\n",
       "      <td>Kuala Lumpur</td>\n",
       "      <td>61</td>\n",
       "    </tr>\n",
       "    <tr>\n",
       "      <th>3</th>\n",
       "      <td>Bangkok</td>\n",
       "      <td>50</td>\n",
       "    </tr>\n",
       "    <tr>\n",
       "      <th>36</th>\n",
       "      <td>Tokyo</td>\n",
       "      <td>46</td>\n",
       "    </tr>\n",
       "    <tr>\n",
       "      <th>0</th>\n",
       "      <td>Abu Dhabi</td>\n",
       "      <td>45</td>\n",
       "    </tr>\n",
       "    <tr>\n",
       "      <th>5</th>\n",
       "      <td>Colombo</td>\n",
       "      <td>45</td>\n",
       "    </tr>\n",
       "    <tr>\n",
       "      <th>15</th>\n",
       "      <td>Honolulu</td>\n",
       "      <td>40</td>\n",
       "    </tr>\n",
       "    <tr>\n",
       "      <th>4</th>\n",
       "      <td>Christchurch</td>\n",
       "      <td>39</td>\n",
       "    </tr>\n",
       "    <tr>\n",
       "      <th>28</th>\n",
       "      <td>Port Moresby</td>\n",
       "      <td>36</td>\n",
       "    </tr>\n",
       "    <tr>\n",
       "      <th>30</th>\n",
       "      <td>San Francisco</td>\n",
       "      <td>31</td>\n",
       "    </tr>\n",
       "    <tr>\n",
       "      <th>22</th>\n",
       "      <td>Manila</td>\n",
       "      <td>31</td>\n",
       "    </tr>\n",
       "    <tr>\n",
       "      <th>13</th>\n",
       "      <td>Ho Chi Minh City</td>\n",
       "      <td>30</td>\n",
       "    </tr>\n",
       "    <tr>\n",
       "      <th>37</th>\n",
       "      <td>Vancouver</td>\n",
       "      <td>26</td>\n",
       "    </tr>\n",
       "    <tr>\n",
       "      <th>27</th>\n",
       "      <td>Phuket</td>\n",
       "      <td>23</td>\n",
       "    </tr>\n",
       "    <tr>\n",
       "      <th>32</th>\n",
       "      <td>Seoul</td>\n",
       "      <td>18</td>\n",
       "    </tr>\n",
       "    <tr>\n",
       "      <th>6</th>\n",
       "      <td>Dallas</td>\n",
       "      <td>18</td>\n",
       "    </tr>\n",
       "    <tr>\n",
       "      <th>17</th>\n",
       "      <td>Johannesburg</td>\n",
       "      <td>16</td>\n",
       "    </tr>\n",
       "    <tr>\n",
       "      <th>26</th>\n",
       "      <td>Noumea</td>\n",
       "      <td>14</td>\n",
       "    </tr>\n",
       "    <tr>\n",
       "      <th>35</th>\n",
       "      <td>Taipei</td>\n",
       "      <td>14</td>\n",
       "    </tr>\n",
       "    <tr>\n",
       "      <th>7</th>\n",
       "      <td>Denpasar</td>\n",
       "      <td>11</td>\n",
       "    </tr>\n",
       "    <tr>\n",
       "      <th>39</th>\n",
       "      <td>Xiamen</td>\n",
       "      <td>9</td>\n",
       "    </tr>\n",
       "    <tr>\n",
       "      <th>2</th>\n",
       "      <td>Bandar Seri Begawan</td>\n",
       "      <td>7</td>\n",
       "    </tr>\n",
       "    <tr>\n",
       "      <th>24</th>\n",
       "      <td>Nauru</td>\n",
       "      <td>5</td>\n",
       "    </tr>\n",
       "    <tr>\n",
       "      <th>16</th>\n",
       "      <td>Jakarta</td>\n",
       "      <td>5</td>\n",
       "    </tr>\n",
       "    <tr>\n",
       "      <th>11</th>\n",
       "      <td>Guangzhou</td>\n",
       "      <td>4</td>\n",
       "    </tr>\n",
       "    <tr>\n",
       "      <th>14</th>\n",
       "      <td>Honiara</td>\n",
       "      <td>4</td>\n",
       "    </tr>\n",
       "    <tr>\n",
       "      <th>12</th>\n",
       "      <td>Hanoi</td>\n",
       "      <td>4</td>\n",
       "    </tr>\n",
       "    <tr>\n",
       "      <th>29</th>\n",
       "      <td>Port Vila</td>\n",
       "      <td>3</td>\n",
       "    </tr>\n",
       "    <tr>\n",
       "      <th>33</th>\n",
       "      <td>Shanghai</td>\n",
       "      <td>3</td>\n",
       "    </tr>\n",
       "    <tr>\n",
       "      <th>19</th>\n",
       "      <td>Kunming</td>\n",
       "      <td>2</td>\n",
       "    </tr>\n",
       "    <tr>\n",
       "      <th>8</th>\n",
       "      <td>Dili</td>\n",
       "      <td>1</td>\n",
       "    </tr>\n",
       "    <tr>\n",
       "      <th>31</th>\n",
       "      <td>Santiago</td>\n",
       "      <td>1</td>\n",
       "    </tr>\n",
       "    <tr>\n",
       "      <th>38</th>\n",
       "      <td>Wellington</td>\n",
       "      <td>1</td>\n",
       "    </tr>\n",
       "  </tbody>\n",
       "</table>\n",
       "</div>"
      ],
      "text/plain": [
       "     International_City  All_Flights\n",
       "34            Singapore          547\n",
       "21          Los Angeles          141\n",
       "10                Dubai          135\n",
       "9                  Doha          129\n",
       "20               London          121\n",
       "23                 Nadi          119\n",
       "1              Auckland          117\n",
       "25            New Delhi          104\n",
       "18         Kuala Lumpur           61\n",
       "3               Bangkok           50\n",
       "36                Tokyo           46\n",
       "0             Abu Dhabi           45\n",
       "5               Colombo           45\n",
       "15             Honolulu           40\n",
       "4          Christchurch           39\n",
       "28         Port Moresby           36\n",
       "30        San Francisco           31\n",
       "22               Manila           31\n",
       "13     Ho Chi Minh City           30\n",
       "37            Vancouver           26\n",
       "27               Phuket           23\n",
       "32                Seoul           18\n",
       "6                Dallas           18\n",
       "17         Johannesburg           16\n",
       "26               Noumea           14\n",
       "35               Taipei           14\n",
       "7              Denpasar           11\n",
       "39               Xiamen            9\n",
       "2   Bandar Seri Begawan            7\n",
       "24                Nauru            5\n",
       "16              Jakarta            5\n",
       "11            Guangzhou            4\n",
       "14              Honiara            4\n",
       "12                Hanoi            4\n",
       "29            Port Vila            3\n",
       "33             Shanghai            3\n",
       "19              Kunming            2\n",
       "8                  Dili            1\n",
       "31             Santiago            1\n",
       "38           Wellington            1"
      ]
     },
     "execution_count": 134,
     "metadata": {},
     "output_type": "execute_result"
    }
   ],
   "source": [
    "# Group by International City and calculate total flights to each destination\n",
    "popular_destinations = Flights_Out.groupby('International_City')['All_Flights'].sum().reset_index()\n",
    "\n",
    "# Sort by total flights in descending order to find popular destinations\n",
    "popular_destinations = popular_destinations.sort_values(by='All_Flights', ascending=False)\n",
    "popular_destinations\n"
   ]
  },
  {
   "cell_type": "code",
   "execution_count": 38,
   "id": "fda811d9",
   "metadata": {},
   "outputs": [
    {
     "name": "stdout",
     "output_type": "stream",
     "text": [
      "Defaulting to user installation because normal site-packages is not writeable\n",
      "Collecting folium\n",
      "  Obtaining dependency information for folium from https://files.pythonhosted.org/packages/18/09/8569904c8ce5679cc02826d98de633c07abcd2443a23181e5f71ff9dacbc/folium-0.15.1-py2.py3-none-any.whl.metadata\n",
      "  Downloading folium-0.15.1-py2.py3-none-any.whl.metadata (3.4 kB)\n",
      "Collecting branca>=0.6.0 (from folium)\n",
      "  Obtaining dependency information for branca>=0.6.0 from https://files.pythonhosted.org/packages/2f/e7/603b136221de923055716d23e3047da71f92e0d8ba2c4517ce49a54fe768/branca-0.7.0-py3-none-any.whl.metadata\n",
      "  Downloading branca-0.7.0-py3-none-any.whl.metadata (1.5 kB)\n",
      "Requirement already satisfied: jinja2>=2.9 in c:\\anaconda3\\lib\\site-packages (from folium) (3.1.2)\n",
      "Requirement already satisfied: numpy in c:\\anaconda3\\lib\\site-packages (from folium) (1.24.3)\n",
      "Requirement already satisfied: requests in c:\\anaconda3\\lib\\site-packages (from folium) (2.31.0)\n",
      "Requirement already satisfied: xyzservices in c:\\anaconda3\\lib\\site-packages (from folium) (2022.9.0)\n",
      "Requirement already satisfied: MarkupSafe>=2.0 in c:\\anaconda3\\lib\\site-packages (from jinja2>=2.9->folium) (2.1.1)\n",
      "Requirement already satisfied: charset-normalizer<4,>=2 in c:\\anaconda3\\lib\\site-packages (from requests->folium) (2.0.4)\n",
      "Requirement already satisfied: idna<4,>=2.5 in c:\\anaconda3\\lib\\site-packages (from requests->folium) (3.4)\n",
      "Requirement already satisfied: urllib3<3,>=1.21.1 in c:\\anaconda3\\lib\\site-packages (from requests->folium) (1.26.16)\n",
      "Requirement already satisfied: certifi>=2017.4.17 in c:\\anaconda3\\lib\\site-packages (from requests->folium) (2023.7.22)\n",
      "Downloading folium-0.15.1-py2.py3-none-any.whl (97 kB)\n",
      "   ---------------------------------------- 0.0/97.0 kB ? eta -:--:--\n",
      "   ---------------- ----------------------- 41.0/97.0 kB 960.0 kB/s eta 0:00:01\n",
      "   ---------------------------------------- 97.0/97.0 kB 1.4 MB/s eta 0:00:00\n",
      "Downloading branca-0.7.0-py3-none-any.whl (25 kB)\n",
      "Installing collected packages: branca, folium\n",
      "Successfully installed branca-0.7.0 folium-0.15.1\n"
     ]
    }
   ],
   "source": [
    "\n",
    "#!pip install folium"
   ]
  },
  {
   "cell_type": "code",
   "execution_count": 39,
   "id": "96276c5c",
   "metadata": {},
   "outputs": [
    {
     "ename": "NameError",
     "evalue": "name 'latitude' is not defined",
     "output_type": "error",
     "traceback": [
      "\u001b[1;31m---------------------------------------------------------------------------\u001b[0m",
      "\u001b[1;31mNameError\u001b[0m                                 Traceback (most recent call last)",
      "Cell \u001b[1;32mIn[39], line 6\u001b[0m\n\u001b[0;32m      1\u001b[0m \u001b[38;5;28;01mimport\u001b[39;00m \u001b[38;5;21;01mfolium\u001b[39;00m\n\u001b[0;32m      3\u001b[0m \u001b[38;5;66;03m# Assuming you have the popular_destinations DataFrame with columns 'International_City' and 'All_Flights'\u001b[39;00m\n\u001b[0;32m      4\u001b[0m \n\u001b[0;32m      5\u001b[0m \u001b[38;5;66;03m# Create a map centered at a specific location, for example, the coordinates of a major city\u001b[39;00m\n\u001b[1;32m----> 6\u001b[0m m \u001b[38;5;241m=\u001b[39m folium\u001b[38;5;241m.\u001b[39mMap(location\u001b[38;5;241m=\u001b[39m[latitude, longitude], zoom_start\u001b[38;5;241m=\u001b[39m\u001b[38;5;241m4\u001b[39m)\n\u001b[0;32m      8\u001b[0m \u001b[38;5;66;03m# Add markers for each popular destination\u001b[39;00m\n\u001b[0;32m      9\u001b[0m \u001b[38;5;28;01mfor\u001b[39;00m index, row \u001b[38;5;129;01min\u001b[39;00m popular_destinations\u001b[38;5;241m.\u001b[39miterrows():\n",
      "\u001b[1;31mNameError\u001b[0m: name 'latitude' is not defined"
     ]
    }
   ],
   "source": [
    "import folium\n",
    "\n",
    "# Assuming you have the popular_destinations DataFrame with columns 'International_City' and 'All_Flights'\n",
    "\n",
    "# Create a map centered at a specific location, for example, the coordinates of a major city\n",
    "m = folium.Map(location=[20.632428, 1.245601], zoom_start=4)\n",
    "\n",
    "# Add markers for each popular destination\n",
    "for index, row in popular_destinations.iterrows():\n",
    "    city = row['International_City']\n",
    "    flights = row['All_Flights']\n",
    "    # Assuming you have the latitude and longitude for each city in the DataFrame\n",
    "    marker = folium.Marker([city_latitude, city_longitude], popup=f\"{city}: {flights} flights\")\n",
    "    marker.add_to(m)\n",
    "\n",
    "m"
   ]
  },
  {
   "cell_type": "markdown",
   "id": "a93345f7-2184-46e1-979b-d368a204b872",
   "metadata": {},
   "source": [
    "### Top Airlines based on the amount of Flights"
   ]
  },
  {
   "cell_type": "code",
   "execution_count": 135,
   "id": "7e9660bd-aca5-415e-8f9e-df9c354808ce",
   "metadata": {},
   "outputs": [
    {
     "data": {
      "text/html": [
       "<div>\n",
       "<style scoped>\n",
       "    .dataframe tbody tr th:only-of-type {\n",
       "        vertical-align: middle;\n",
       "    }\n",
       "\n",
       "    .dataframe tbody tr th {\n",
       "        vertical-align: top;\n",
       "    }\n",
       "\n",
       "    .dataframe thead th {\n",
       "        text-align: right;\n",
       "    }\n",
       "</style>\n",
       "<table border=\"1\" class=\"dataframe\">\n",
       "  <thead>\n",
       "    <tr style=\"text-align: right;\">\n",
       "      <th></th>\n",
       "      <th>Airline</th>\n",
       "      <th>All_Flights</th>\n",
       "    </tr>\n",
       "  </thead>\n",
       "  <tbody>\n",
       "    <tr>\n",
       "      <th>31</th>\n",
       "      <td>Qantas Airways</td>\n",
       "      <td>383</td>\n",
       "    </tr>\n",
       "    <tr>\n",
       "      <th>35</th>\n",
       "      <td>Singapore Airlines</td>\n",
       "      <td>370</td>\n",
       "    </tr>\n",
       "    <tr>\n",
       "      <th>3</th>\n",
       "      <td>Air New Zealand</td>\n",
       "      <td>138</td>\n",
       "    </tr>\n",
       "    <tr>\n",
       "      <th>16</th>\n",
       "      <td>Emirates</td>\n",
       "      <td>135</td>\n",
       "    </tr>\n",
       "    <tr>\n",
       "      <th>32</th>\n",
       "      <td>Qatar Airways</td>\n",
       "      <td>129</td>\n",
       "    </tr>\n",
       "    <tr>\n",
       "      <th>34</th>\n",
       "      <td>Scoot Tigerair</td>\n",
       "      <td>96</td>\n",
       "    </tr>\n",
       "    <tr>\n",
       "      <th>19</th>\n",
       "      <td>Fiji Airways</td>\n",
       "      <td>85</td>\n",
       "    </tr>\n",
       "    <tr>\n",
       "      <th>23</th>\n",
       "      <td>Jetstar</td>\n",
       "      <td>65</td>\n",
       "    </tr>\n",
       "    <tr>\n",
       "      <th>39</th>\n",
       "      <td>United Airlines</td>\n",
       "      <td>62</td>\n",
       "    </tr>\n",
       "    <tr>\n",
       "      <th>27</th>\n",
       "      <td>Malaysia Airlines</td>\n",
       "      <td>52</td>\n",
       "    </tr>\n",
       "  </tbody>\n",
       "</table>\n",
       "</div>"
      ],
      "text/plain": [
       "               Airline  All_Flights\n",
       "31      Qantas Airways          383\n",
       "35  Singapore Airlines          370\n",
       "3      Air New Zealand          138\n",
       "16            Emirates          135\n",
       "32       Qatar Airways          129\n",
       "34      Scoot Tigerair           96\n",
       "19        Fiji Airways           85\n",
       "23             Jetstar           65\n",
       "39     United Airlines           62\n",
       "27   Malaysia Airlines           52"
      ]
     },
     "execution_count": 135,
     "metadata": {},
     "output_type": "execute_result"
    }
   ],
   "source": [
    "top_airlines_total_flights = Flights_Out.groupby('Airline')['All_Flights'].sum().reset_index()\n",
    "top_airlines_total_flights = top_airlines_total_flights.sort_values(by='All_Flights', ascending=False).head(10)\n",
    "\n",
    "top_airlines_total_flights"
   ]
  }
 ],
 "metadata": {
  "kernelspec": {
   "display_name": "Python 3 (ipykernel)",
   "language": "python",
   "name": "python3"
  },
  "language_info": {
   "codemirror_mode": {
    "name": "ipython",
    "version": 3
   },
   "file_extension": ".py",
   "mimetype": "text/x-python",
   "name": "python",
   "nbconvert_exporter": "python",
   "pygments_lexer": "ipython3",
   "version": "3.11.5"
  }
 },
 "nbformat": 4,
 "nbformat_minor": 5
}
