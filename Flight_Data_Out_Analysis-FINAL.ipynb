{
 "cells": [
  {
   "cell_type": "markdown",
   "id": "8ae772f3-35ce-4171-a159-515eb62da074",
   "metadata": {},
   "source": [
    "# Part 1: Reading and Cleaning the Data"
   ]
  },
  {
   "cell_type": "code",
   "execution_count": 30,
   "id": "d274d600-0dc0-4e20-9fce-fa6a709f067a",
   "metadata": {},
   "outputs": [],
   "source": [
    "from sqlalchemy import create_engine, text\n",
    "import numpy as np\n",
    "import pandas as pd\n",
    "import datetime as dt\n",
    "\n",
    "# Set up database path\n",
    "database_path = \"sqlite:///C:/Users/sooki/OneDrive/Desktop/Project_3/Flights_Data_Out.sqlite\"\n",
    "\n",
    "# Create Engine\n",
    "engine = create_engine(database_path)\n",
    "\n",
    "# Query All Records in the Database\n",
    "query_all = text(\"SELECT * FROM Flights_Data_Out;\")\n",
    "data_all = engine.execute(query_all)"
   ]
  },
  {
   "cell_type": "code",
   "execution_count": 31,
   "id": "d26af699-fac7-4596-a187-987894720dec",
   "metadata": {},
   "outputs": [
    {
     "data": {
      "text/html": [
       "<div>\n",
       "<style scoped>\n",
       "    .dataframe tbody tr th:only-of-type {\n",
       "        vertical-align: middle;\n",
       "    }\n",
       "\n",
       "    .dataframe tbody tr th {\n",
       "        vertical-align: top;\n",
       "    }\n",
       "\n",
       "    .dataframe thead th {\n",
       "        text-align: right;\n",
       "    }\n",
       "</style>\n",
       "<table border=\"1\" class=\"dataframe\">\n",
       "  <thead>\n",
       "    <tr style=\"text-align: right;\">\n",
       "      <th></th>\n",
       "      <th>_id</th>\n",
       "      <th>Month</th>\n",
       "      <th>In_Out</th>\n",
       "      <th>Australian_City</th>\n",
       "      <th>International_City</th>\n",
       "      <th>Airline</th>\n",
       "      <th>Route</th>\n",
       "      <th>Port_Country</th>\n",
       "      <th>Port_Region</th>\n",
       "      <th>Service_Country</th>\n",
       "      <th>Service_Region</th>\n",
       "      <th>Stops</th>\n",
       "      <th>All_Flights</th>\n",
       "      <th>Max_Seats</th>\n",
       "      <th>Year</th>\n",
       "      <th>Month_num</th>\n",
       "    </tr>\n",
       "  </thead>\n",
       "  <tbody>\n",
       "    <tr>\n",
       "      <th>0</th>\n",
       "      <td>107767</td>\n",
       "      <td>Mar-22</td>\n",
       "      <td>O</td>\n",
       "      <td>Adelaide</td>\n",
       "      <td>Doha</td>\n",
       "      <td>Qatar Airways</td>\n",
       "      <td>ADL-DOH</td>\n",
       "      <td>Qatar</td>\n",
       "      <td>Middle East</td>\n",
       "      <td>Qatar</td>\n",
       "      <td>Middle East</td>\n",
       "      <td>0</td>\n",
       "      <td>12</td>\n",
       "      <td>3396</td>\n",
       "      <td>2022</td>\n",
       "      <td>3</td>\n",
       "    </tr>\n",
       "    <tr>\n",
       "      <th>1</th>\n",
       "      <td>107768</td>\n",
       "      <td>Mar-22</td>\n",
       "      <td>O</td>\n",
       "      <td>Adelaide</td>\n",
       "      <td>Kuala Lumpur</td>\n",
       "      <td>Malaysia Airlines</td>\n",
       "      <td>ADL-KUL</td>\n",
       "      <td>Malaysia</td>\n",
       "      <td>SE Asia</td>\n",
       "      <td>Malaysia</td>\n",
       "      <td>SE Asia</td>\n",
       "      <td>0</td>\n",
       "      <td>2</td>\n",
       "      <td>580</td>\n",
       "      <td>2022</td>\n",
       "      <td>3</td>\n",
       "    </tr>\n",
       "    <tr>\n",
       "      <th>2</th>\n",
       "      <td>107769</td>\n",
       "      <td>Mar-22</td>\n",
       "      <td>O</td>\n",
       "      <td>Adelaide</td>\n",
       "      <td>New Delhi</td>\n",
       "      <td>Qantas Airways</td>\n",
       "      <td>MEL-ADL-DEL</td>\n",
       "      <td>India</td>\n",
       "      <td>S Asia</td>\n",
       "      <td>India</td>\n",
       "      <td>S Asia</td>\n",
       "      <td>0</td>\n",
       "      <td>18</td>\n",
       "      <td>4512</td>\n",
       "      <td>2022</td>\n",
       "      <td>3</td>\n",
       "    </tr>\n",
       "    <tr>\n",
       "      <th>3</th>\n",
       "      <td>107770</td>\n",
       "      <td>Mar-22</td>\n",
       "      <td>O</td>\n",
       "      <td>Adelaide</td>\n",
       "      <td>New Delhi</td>\n",
       "      <td>Qantas Airways</td>\n",
       "      <td>SYD-ADL-DEL</td>\n",
       "      <td>India</td>\n",
       "      <td>S Asia</td>\n",
       "      <td>India</td>\n",
       "      <td>S Asia</td>\n",
       "      <td>0</td>\n",
       "      <td>15</td>\n",
       "      <td>3757</td>\n",
       "      <td>2022</td>\n",
       "      <td>3</td>\n",
       "    </tr>\n",
       "    <tr>\n",
       "      <th>4</th>\n",
       "      <td>107771</td>\n",
       "      <td>Mar-22</td>\n",
       "      <td>O</td>\n",
       "      <td>Adelaide</td>\n",
       "      <td>Singapore</td>\n",
       "      <td>Singapore Airlines</td>\n",
       "      <td>ADL-SIN</td>\n",
       "      <td>Singapore</td>\n",
       "      <td>SE Asia</td>\n",
       "      <td>Singapore</td>\n",
       "      <td>SE Asia</td>\n",
       "      <td>0</td>\n",
       "      <td>20</td>\n",
       "      <td>6060</td>\n",
       "      <td>2022</td>\n",
       "      <td>3</td>\n",
       "    </tr>\n",
       "  </tbody>\n",
       "</table>\n",
       "</div>"
      ],
      "text/plain": [
       "      _id   Month In_Out Australian_City International_City  \\\n",
       "0  107767  Mar-22      O        Adelaide               Doha   \n",
       "1  107768  Mar-22      O        Adelaide       Kuala Lumpur   \n",
       "2  107769  Mar-22      O        Adelaide          New Delhi   \n",
       "3  107770  Mar-22      O        Adelaide          New Delhi   \n",
       "4  107771  Mar-22      O        Adelaide          Singapore   \n",
       "\n",
       "              Airline        Route Port_Country  Port_Region Service_Country  \\\n",
       "0       Qatar Airways      ADL-DOH        Qatar  Middle East           Qatar   \n",
       "1   Malaysia Airlines      ADL-KUL     Malaysia      SE Asia        Malaysia   \n",
       "2      Qantas Airways  MEL-ADL-DEL        India       S Asia           India   \n",
       "3      Qantas Airways  SYD-ADL-DEL        India       S Asia           India   \n",
       "4  Singapore Airlines      ADL-SIN    Singapore      SE Asia       Singapore   \n",
       "\n",
       "  Service_Region Stops All_Flights Max_Seats  Year Month_num  \n",
       "0    Middle East     0          12      3396  2022         3  \n",
       "1        SE Asia     0           2       580  2022         3  \n",
       "2         S Asia     0          18      4512  2022         3  \n",
       "3         S Asia     0          15      3757  2022         3  \n",
       "4        SE Asia     0          20      6060  2022         3  "
      ]
     },
     "execution_count": 31,
     "metadata": {},
     "output_type": "execute_result"
    }
   ],
   "source": [
    "# Display the first 5 rows of the data\n",
    "query_all = \"SELECT * FROM Flights_Data_Out;\"\n",
    "Flights_Out = pd.read_sql_query(query_all, engine)\n",
    "Flights_Out.head()"
   ]
  },
  {
   "cell_type": "code",
   "execution_count": 32,
   "id": "b6ee63b6-f1b7-4866-8cc2-41985b5f1c17",
   "metadata": {},
   "outputs": [
    {
     "name": "stdout",
     "output_type": "stream",
     "text": [
      "Data Types of Each Column:\n"
     ]
    },
    {
     "data": {
      "text/plain": [
       "_id                   object\n",
       "Month                 object\n",
       "In_Out                object\n",
       "Australian_City       object\n",
       "International_City    object\n",
       "Airline               object\n",
       "Route                 object\n",
       "Port_Country          object\n",
       "Port_Region           object\n",
       "Service_Country       object\n",
       "Service_Region        object\n",
       "Stops                 object\n",
       "All_Flights           object\n",
       "Max_Seats             object\n",
       "Year                  object\n",
       "Month_num             object\n",
       "dtype: object"
      ]
     },
     "execution_count": 32,
     "metadata": {},
     "output_type": "execute_result"
    }
   ],
   "source": [
    "# Find out the data types of each columns of this dataset\n",
    "data_types = Flights_Out.dtypes\n",
    "\n",
    "print(\"Data Types of Each Column:\")\n",
    "data_types"
   ]
  },
  {
   "cell_type": "code",
   "execution_count": 33,
   "id": "e270091f-7e00-4d89-a79d-9e493399d6f4",
   "metadata": {},
   "outputs": [
    {
     "name": "stdout",
     "output_type": "stream",
     "text": [
      "Updated Data Types of Each Column:\n"
     ]
    },
    {
     "data": {
      "text/plain": [
       "_id                    int64\n",
       "Month                 object\n",
       "In_Out                object\n",
       "Australian_City       object\n",
       "International_City    object\n",
       "Airline               object\n",
       "Route                 object\n",
       "Port_Country          object\n",
       "Port_Region           object\n",
       "Service_Country       object\n",
       "Service_Region        object\n",
       "Stops                  int64\n",
       "All_Flights            int64\n",
       "Max_Seats              int64\n",
       "Year                   int64\n",
       "Month_num              int64\n",
       "dtype: object"
      ]
     },
     "execution_count": 33,
     "metadata": {},
     "output_type": "execute_result"
    }
   ],
   "source": [
    "# List of columns containing numeric data\n",
    "numeric_columns = ['_id', 'Stops', 'All_Flights', 'Max_Seats', 'Year', 'Month_num']\n",
    "\n",
    "# Convert selected columns to numeric types for analysis and filtering purposes\n",
    "Flights_Out[numeric_columns] = Flights_Out[numeric_columns].apply(pd.to_numeric, errors='coerce')\n",
    "\n",
    "# Display the updated data types\n",
    "updated_data_types = Flights_Out.dtypes\n",
    "\n",
    "print(\"Updated Data Types of Each Column:\")\n",
    "updated_data_types\n"
   ]
  },
  {
   "cell_type": "markdown",
   "id": "c9e97c7d-5106-48d5-917b-1cb9a673d754",
   "metadata": {},
   "source": [
    "# Part 2: Visualisations"
   ]
  },
  {
   "cell_type": "code",
   "execution_count": 34,
   "id": "c53b9b32-25ef-43a0-adca-6b88fabd3c9e",
   "metadata": {},
   "outputs": [],
   "source": [
    "%matplotlib inline\n",
    "from matplotlib import style\n",
    "style.use('fivethirtyeight')\n",
    "import matplotlib.pyplot as plt\n",
    "import seaborn as sns\n",
    "import plotly.express as px"
   ]
  },
  {
   "cell_type": "markdown",
   "id": "c38bc0f1-2576-4d41-9159-7ef0fb7a2b92",
   "metadata": {},
   "source": [
    "## 1) Top Airlines Departing from Australia - Patricia\n",
    "- matplotlib"
   ]
  },
  {
   "cell_type": "code",
   "execution_count": 35,
   "id": "17e1b8c4-d3f9-4d49-b135-f2f41a0fd304",
   "metadata": {},
   "outputs": [
    {
     "data": {
      "image/png": "[encoded data removed]",
      "text/plain": [
       "<Figure size 1000x500 with 1 Axes>"
      ]
     },
     "metadata": {},
     "output_type": "display_data"
    }
   ],
   "source": [
    "# Group by 'Airline', calculate the sum of 'All Flights'\n",
    "# Sort in descending order based on tatol flights and find out the top 5 airlines\n",
    "top_airlines_total_flights = Flights_Out.groupby('Airline')['All_Flights'].sum().reset_index()\n",
    "top_airlines_total_flights = top_airlines_total_flights.sort_values(by='All_Flights', ascending=False).head(5)\n",
    "\n",
    "# Plot the bar chart\n",
    "plt.figure(figsize=(10, 5))\n",
    "plt.barh(top_airlines_total_flights['Airline'], top_airlines_total_flights['All_Flights'], color='skyblue')\n",
    "plt.gca().invert_yaxis()  \n",
    "    \n",
    "plt.title('Top 5 Airlines Departing from Australia')\n",
    "plt.xlabel('Total Flights')\n",
    "plt.ylabel('Airline')\n",
    "\n",
    "plt.show()"
   ]
  },
  {
   "cell_type": "markdown",
   "id": "0dd83d5a-715c-4c76-84d1-048bac0ec615",
   "metadata": {},
   "source": [
    "## 2) Popular Destinations by Total Flights - Shenae\n",
    "- plotly.express"
   ]
  },
  {
   "cell_type": "code",
   "execution_count": 36,
   "id": "84ea0b3c-f721-4a72-bb43-bfde63d7a310",
   "metadata": {},
   "outputs": [
    {
     "data": {
      "application/vnd.plotly.v1+json": {
       "config": {
        "plotlyServerURL": "https://plot.ly"
       },
       "data": [
        {
         "alignmentgroup": "True",
         "hovertemplate": "International City=%{x}<br>Total Flights=%{marker.color}<extra></extra>",
         "legendgroup": "",
         "marker": {
          "color": [
           547,
           141,
           135,
           129,
           121,
           119,
           117,
           104,
           61,
           50,
           46,
           45,
           45,
           40,
           39,
           36,
           31,
           31,
           30,
           26,
           23,
           18,
           18,
           16,
           14,
           14,
           11,
           9,
           7,
           5,
           5,
           4,
           4,
           4,
           3,
           3,
           2,
           1,
           1,
           1
          ],
          "coloraxis": "coloraxis",
          "pattern": {
           "shape": ""
          }
         },
         "name": "",
         "offsetgroup": "",
         "orientation": "v",
         "showlegend": false,
         "textposition": "auto",
         "type": "bar",
         "x": [
          "Singapore",
          "Los Angeles",
          "Dubai",
          "Doha",
          "London",
          "Nadi",
          "Auckland",
          "New Delhi",
          "Kuala Lumpur",
          "Bangkok",
          "Tokyo",
          "Abu Dhabi",
          "Colombo",
          "Honolulu",
          "Christchurch",
          "Port Moresby",
          "San Francisco",
          "Manila",
          "Ho Chi Minh City",
          "Vancouver",
          "Phuket",
          "Seoul",
          "Dallas",
          "Johannesburg",
          "Noumea",
          "Taipei",
          "Denpasar",
          "Xiamen",
          "Bandar Seri Begawan",
          "Nauru",
          "Jakarta",
          "Guangzhou",
          "Honiara",
          "Hanoi",
          "Port Vila",
          "Shanghai",
          "Kunming",
          "Dili",
          "Santiago",
          "Wellington"
         ],
         "xaxis": "x",
         "y": [
          547,
          141,
          135,
          129,
          121,
          119,
          117,
          104,
          61,
          50,
          46,
          45,
          45,
          40,
          39,
          36,
          31,
          31,
          30,
          26,
          23,
          18,
          18,
          16,
          14,
          14,
          11,
          9,
          7,
          5,
          5,
          4,
          4,
          4,
          3,
          3,
          2,
          1,
          1,
          1
         ],
         "yaxis": "y"
        }
       ],
       "layout": {
        "autosize": true,
        "barmode": "relative",
        "coloraxis": {
         "colorbar": {
          "title": {
           "text": "Total Flights"
          }
         },
         "colorscale": [
          [
           0,
           "#0d0887"
          ],
          [
           0.1111111111111111,
           "#46039f"
          ],
          [
           0.2222222222222222,
           "#7201a8"
          ],
          [
           0.3333333333333333,
           "#9c179e"
          ],
          [
           0.4444444444444444,
           "#bd3786"
          ],
          [
           0.5555555555555556,
           "#d8576b"
          ],
          [
           0.6666666666666666,
           "#ed7953"
          ],
          [
           0.7777777777777778,
           "#fb9f3a"
          ],
          [
           0.8888888888888888,
           "#fdca26"
          ],
          [
           1,
           "#f0f921"
          ]
         ]
        },
        "legend": {
         "tracegroupgap": 0
        },
        "template": {
         "data": {
          "bar": [
           {
            "error_x": {
             "color": "#2a3f5f"
            },
            "error_y": {
             "color": "#2a3f5f"
            },
            "marker": {
             "line": {
              "color": "#E5ECF6",
              "width": 0.5
             },
             "pattern": {
              "fillmode": "overlay",
              "size": 10,
              "solidity": 0.2
             }
            },
            "type": "bar"
           }
          ],
          "barpolar": [
           {
            "marker": {
             "line": {
              "color": "#E5ECF6",
              "width": 0.5
             },
             "pattern": {
              "fillmode": "overlay",
              "size": 10,
              "solidity": 0.2
             }
            },
            "type": "barpolar"
           }
          ],
          "carpet": [
           {
            "aaxis": {
             "endlinecolor": "#2a3f5f",
             "gridcolor": "white",
             "linecolor": "white",
             "minorgridcolor": "white",
             "startlinecolor": "#2a3f5f"
            },
            "baxis": {
             "endlinecolor": "#2a3f5f",
             "gridcolor": "white",
             "linecolor": "white",
             "minorgridcolor": "white",
             "startlinecolor": "#2a3f5f"
            },
            "type": "carpet"
           }
          ],
          "choropleth": [
           {
            "colorbar": {
             "outlinewidth": 0,
             "ticks": ""
            },
            "type": "choropleth"
           }
          ],
          "contour": [
           {
            "colorbar": {
             "outlinewidth": 0,
             "ticks": ""
            },
            "colorscale": [
             [
              0,
              "#0d0887"
             ],
             [
              0.1111111111111111,
              "#46039f"
             ],
             [
              0.2222222222222222,
              "#7201a8"
             ],
             [
              0.3333333333333333,
              "#9c179e"
             ],
             [
              0.4444444444444444,
              "#bd3786"
             ],
             [
              0.5555555555555556,
              "#d8576b"
             ],
             [
              0.6666666666666666,
              "#ed7953"
             ],
             [
              0.7777777777777778,
              "#fb9f3a"
             ],
             [
              0.8888888888888888,
              "#fdca26"
             ],
             [
              1,
              "#f0f921"
             ]
            ],
            "type": "contour"
           }
          ],
          "contourcarpet": [
           {
            "colorbar": {
             "outlinewidth": 0,
             "ticks": ""
            },
            "type": "contourcarpet"
           }
          ],
          "heatmap": [
           {
            "colorbar": {
             "outlinewidth": 0,
             "ticks": ""
            },
            "colorscale": [
             [
              0,
              "#0d0887"
             ],
             [
              0.1111111111111111,
              "#46039f"
             ],
             [
              0.2222222222222222,
              "#7201a8"
             ],
             [
              0.3333333333333333,
              "#9c179e"
             ],
             [
              0.4444444444444444,
              "#bd3786"
             ],
             [
              0.5555555555555556,
              "#d8576b"
             ],
             [
              0.6666666666666666,
              "#ed7953"
             ],
             [
              0.7777777777777778,
              "#fb9f3a"
             ],
             [
              0.8888888888888888,
              "#fdca26"
             ],
             [
              1,
              "#f0f921"
             ]
            ],
            "type": "heatmap"
           }
          ],
          "heatmapgl": [
           {
            "colorbar": {
             "outlinewidth": 0,
             "ticks": ""
            },
            "colorscale": [
             [
              0,
              "#0d0887"
             ],
             [
              0.1111111111111111,
              "#46039f"
             ],
             [
              0.2222222222222222,
              "#7201a8"
             ],
             [
              0.3333333333333333,
              "#9c179e"
             ],
             [
              0.4444444444444444,
              "#bd3786"
             ],
             [
              0.5555555555555556,
              "#d8576b"
             ],
             [
              0.6666666666666666,
              "#ed7953"
             ],
             [
              0.7777777777777778,
              "#fb9f3a"
             ],
             [
              0.8888888888888888,
              "#fdca26"
             ],
             [
              1,
              "#f0f921"
             ]
            ],
            "type": "heatmapgl"
           }
          ],
          "histogram": [
           {
            "marker": {
             "pattern": {
              "fillmode": "overlay",
              "size": 10,
              "solidity": 0.2
             }
            },
            "type": "histogram"
           }
          ],
          "histogram2d": [
           {
            "colorbar": {
             "outlinewidth": 0,
             "ticks": ""
            },
            "colorscale": [
             [
              0,
              "#0d0887"
             ],
             [
              0.1111111111111111,
              "#46039f"
             ],
             [
              0.2222222222222222,
              "#7201a8"
             ],
             [
              0.3333333333333333,
              "#9c179e"
             ],
             [
              0.4444444444444444,
              "#bd3786"
             ],
             [
              0.5555555555555556,
              "#d8576b"
             ],
             [
              0.6666666666666666,
              "#ed7953"
             ],
             [
              0.7777777777777778,
              "#fb9f3a"
             ],
             [
              0.8888888888888888,
              "#fdca26"
             ],
             [
              1,
              "#f0f921"
             ]
            ],
            "type": "histogram2d"
           }
          ],
          "histogram2dcontour": [
           {
            "colorbar": {
             "outlinewidth": 0,
             "ticks": ""
            },
            "colorscale": [
             [
              0,
              "#0d0887"
             ],
             [
              0.1111111111111111,
              "#46039f"
             ],
             [
              0.2222222222222222,
              "#7201a8"
             ],
             [
              0.3333333333333333,
              "#9c179e"
             ],
             [
              0.4444444444444444,
              "#bd3786"
             ],
             [
              0.5555555555555556,
              "#d8576b"
             ],
             [
              0.6666666666666666,
              "#ed7953"
             ],
             [
              0.7777777777777778,
              "#fb9f3a"
             ],
             [
              0.8888888888888888,
              "#fdca26"
             ],
             [
              1,
              "#f0f921"
             ]
            ],
            "type": "histogram2dcontour"
           }
          ],
          "mesh3d": [
           {
            "colorbar": {
             "outlinewidth": 0,
             "ticks": ""
            },
            "type": "mesh3d"
           }
          ],
          "parcoords": [
           {
            "line": {
             "colorbar": {
              "outlinewidth": 0,
              "ticks": ""
             }
            },
            "type": "parcoords"
           }
          ],
          "pie": [
           {
            "automargin": true,
            "type": "pie"
           }
          ],
          "scatter": [
           {
            "fillpattern": {
             "fillmode": "overlay",
             "size": 10,
             "solidity": 0.2
            },
            "type": "scatter"
           }
          ],
          "scatter3d": [
           {
            "line": {
             "colorbar": {
              "outlinewidth": 0,
              "ticks": ""
             }
            },
            "marker": {
             "colorbar": {
              "outlinewidth": 0,
              "ticks": ""
             }
            },
            "type": "scatter3d"
           }
          ],
          "scattercarpet": [
           {
            "marker": {
             "colorbar": {
              "outlinewidth": 0,
              "ticks": ""
             }
            },
            "type": "scattercarpet"
           }
          ],
          "scattergeo": [
           {
            "marker": {
             "colorbar": {
              "outlinewidth": 0,
              "ticks": ""
             }
            },
            "type": "scattergeo"
           }
          ],
          "scattergl": [
           {
            "marker": {
             "colorbar": {
              "outlinewidth": 0,
              "ticks": ""
             }
            },
            "type": "scattergl"
           }
          ],
          "scattermapbox": [
           {
            "marker": {
             "colorbar": {
              "outlinewidth": 0,
              "ticks": ""
             }
            },
            "type": "scattermapbox"
           }
          ],
          "scatterpolar": [
           {
            "marker": {
             "colorbar": {
              "outlinewidth": 0,
              "ticks": ""
             }
            },
            "type": "scatterpolar"
           }
          ],
          "scatterpolargl": [
           {
            "marker": {
             "colorbar": {
              "outlinewidth": 0,
              "ticks": ""
             }
            },
            "type": "scatterpolargl"
           }
          ],
          "scatterternary": [
           {
            "marker": {
             "colorbar": {
              "outlinewidth": 0,
              "ticks": ""
             }
            },
            "type": "scatterternary"
           }
          ],
          "surface": [
           {
            "colorbar": {
             "outlinewidth": 0,
             "ticks": ""
            },
            "colorscale": [
             [
              0,
              "#0d0887"
             ],
             [
              0.1111111111111111,
              "#46039f"
             ],
             [
              0.2222222222222222,
              "#7201a8"
             ],
             [
              0.3333333333333333,
              "#9c179e"
             ],
             [
              0.4444444444444444,
              "#bd3786"
             ],
             [
              0.5555555555555556,
              "#d8576b"
             ],
             [
              0.6666666666666666,
              "#ed7953"
             ],
             [
              0.7777777777777778,
              "#fb9f3a"
             ],
             [
              0.8888888888888888,
              "#fdca26"
             ],
             [
              1,
              "#f0f921"
             ]
            ],
            "type": "surface"
           }
          ],
          "table": [
           {
            "cells": {
             "fill": {
              "color": "#EBF0F8"
             },
             "line": {
              "color": "white"
             }
            },
            "header": {
             "fill": {
              "color": "#C8D4E3"
             },
             "line": {
              "color": "white"
             }
            },
            "type": "table"
           }
          ]
         },
         "layout": {
          "annotationdefaults": {
           "arrowcolor": "#2a3f5f",
           "arrowhead": 0,
           "arrowwidth": 1
          },
          "autotypenumbers": "strict",
          "coloraxis": {
           "colorbar": {
            "outlinewidth": 0,
            "ticks": ""
           }
          },
          "colorscale": {
           "diverging": [
            [
             0,
             "#8e0152"
            ],
            [
             0.1,
             "#c51b7d"
            ],
            [
             0.2,
             "#de77ae"
            ],
            [
             0.3,
             "#f1b6da"
            ],
            [
             0.4,
             "#fde0ef"
            ],
            [
             0.5,
             "#f7f7f7"
            ],
            [
             0.6,
             "#e6f5d0"
            ],
            [
             0.7,
             "#b8e186"
            ],
            [
             0.8,
             "#7fbc41"
            ],
            [
             0.9,
             "#4d9221"
            ],
            [
             1,
             "#276419"
            ]
           ],
           "sequential": [
            [
             0,
             "#0d0887"
            ],
            [
             0.1111111111111111,
             "#46039f"
            ],
            [
             0.2222222222222222,
             "#7201a8"
            ],
            [
             0.3333333333333333,
             "#9c179e"
            ],
            [
             0.4444444444444444,
             "#bd3786"
            ],
            [
             0.5555555555555556,
             "#d8576b"
            ],
            [
             0.6666666666666666,
             "#ed7953"
            ],
            [
             0.7777777777777778,
             "#fb9f3a"
            ],
            [
             0.8888888888888888,
             "#fdca26"
            ],
            [
             1,
             "#f0f921"
            ]
           ],
           "sequentialminus": [
            [
             0,
             "#0d0887"
            ],
            [
             0.1111111111111111,
             "#46039f"
            ],
            [
             0.2222222222222222,
             "#7201a8"
            ],
            [
             0.3333333333333333,
             "#9c179e"
            ],
            [
             0.4444444444444444,
             "#bd3786"
            ],
            [
             0.5555555555555556,
             "#d8576b"
            ],
            [
             0.6666666666666666,
             "#ed7953"
            ],
            [
             0.7777777777777778,
             "#fb9f3a"
            ],
            [
             0.8888888888888888,
             "#fdca26"
            ],
            [
             1,
             "#f0f921"
            ]
           ]
          },
          "colorway": [
           "#636efa",
           "#EF553B",
           "#00cc96",
           "#ab63fa",
           "#FFA15A",
           "#19d3f3",
           "#FF6692",
           "#B6E880",
           "#FF97FF",
           "#FECB52"
          ],
          "font": {
           "color": "#2a3f5f"
          },
          "geo": {
           "bgcolor": "white",
           "lakecolor": "white",
           "landcolor": "#E5ECF6",
           "showlakes": true,
           "showland": true,
           "subunitcolor": "white"
          },
          "hoverlabel": {
           "align": "left"
          },
          "hovermode": "closest",
          "mapbox": {
           "style": "light"
          },
          "paper_bgcolor": "white",
          "plot_bgcolor": "#E5ECF6",
          "polar": {
           "angularaxis": {
            "gridcolor": "white",
            "linecolor": "white",
            "ticks": ""
           },
           "bgcolor": "#E5ECF6",
           "radialaxis": {
            "gridcolor": "white",
            "linecolor": "white",
            "ticks": ""
           }
          },
          "scene": {
           "xaxis": {
            "backgroundcolor": "#E5ECF6",
            "gridcolor": "white",
            "gridwidth": 2,
            "linecolor": "white",
            "showbackground": true,
            "ticks": "",
            "zerolinecolor": "white"
           },
           "yaxis": {
            "backgroundcolor": "#E5ECF6",
            "gridcolor": "white",
            "gridwidth": 2,
            "linecolor": "white",
            "showbackground": true,
            "ticks": "",
            "zerolinecolor": "white"
           },
           "zaxis": {
            "backgroundcolor": "#E5ECF6",
            "gridcolor": "white",
            "gridwidth": 2,
            "linecolor": "white",
            "showbackground": true,
            "ticks": "",
            "zerolinecolor": "white"
           }
          },
          "shapedefaults": {
           "line": {
            "color": "#2a3f5f"
           }
          },
          "ternary": {
           "aaxis": {
            "gridcolor": "white",
            "linecolor": "white",
            "ticks": ""
           },
           "baxis": {
            "gridcolor": "white",
            "linecolor": "white",
            "ticks": ""
           },
           "bgcolor": "#E5ECF6",
           "caxis": {
            "gridcolor": "white",
            "linecolor": "white",
            "ticks": ""
           }
          },
          "title": {
           "x": 0.05
          },
          "xaxis": {
           "automargin": true,
           "gridcolor": "white",
           "linecolor": "white",
           "ticks": "",
           "title": {
            "standoff": 15
           },
           "zerolinecolor": "white",
           "zerolinewidth": 2
          },
          "yaxis": {
           "automargin": true,
           "gridcolor": "white",
           "linecolor": "white",
           "ticks": "",
           "title": {
            "standoff": 15
           },
           "zerolinecolor": "white",
           "zerolinewidth": 2
          }
         }
        },
        "title": {
         "text": "Popular Destinations by Total Flights"
        },
        "xaxis": {
         "anchor": "y",
         "autorange": true,
         "domain": [
          0,
          1
         ],
         "range": [
          -0.5,
          39.5
         ],
         "title": {
          "text": "International City"
         },
         "type": "category"
        },
        "yaxis": {
         "anchor": "x",
         "autorange": true,
         "domain": [
          0,
          1
         ],
         "range": [
          0,
          575.7894736842105
         ],
         "title": {
          "text": "Total Flights"
         },
         "type": "linear"
        }
       }
      },
      "image/png": "[encoded data removed]",
      "text/html": [
       "<div>                            <div id=\"2d4878aa-f8b1-4c02-a103-8b03c83270bd\" class=\"plotly-graph-div\" style=\"height:700px; width:100%;\"></div>            <script type=\"text/javascript\">                require([\"plotly\"], function(Plotly) {                    window.PLOTLYENV=window.PLOTLYENV || {};                                    if (document.getElementById(\"2d4878aa-f8b1-4c02-a103-8b03c83270bd\")) {                    Plotly.newPlot(                        \"2d4878aa-f8b1-4c02-a103-8b03c83270bd\",                        [{\"alignmentgroup\":\"True\",\"hovertemplate\":\"International City=%{x}\\u003cbr\\u003eTotal Flights=%{marker.color}\\u003cextra\\u003e\\u003c\\u002fextra\\u003e\",\"legendgroup\":\"\",\"marker\":{\"color\":[547,141,135,129,121,119,117,104,61,50,46,45,45,40,39,36,31,31,30,26,23,18,18,16,14,14,11,9,7,5,5,4,4,4,3,3,2,1,1,1],\"coloraxis\":\"coloraxis\",\"pattern\":{\"shape\":\"\"}},\"name\":\"\",\"offsetgroup\":\"\",\"orientation\":\"v\",\"showlegend\":false,\"textposition\":\"auto\",\"x\":[\"Singapore\",\"Los Angeles\",\"Dubai\",\"Doha\",\"London\",\"Nadi\",\"Auckland\",\"New Delhi\",\"Kuala Lumpur\",\"Bangkok\",\"Tokyo\",\"Abu Dhabi\",\"Colombo\",\"Honolulu\",\"Christchurch\",\"Port Moresby\",\"San Francisco\",\"Manila\",\"Ho Chi Minh City\",\"Vancouver\",\"Phuket\",\"Seoul\",\"Dallas\",\"Johannesburg\",\"Noumea\",\"Taipei\",\"Denpasar\",\"Xiamen\",\"Bandar Seri Begawan\",\"Nauru\",\"Jakarta\",\"Guangzhou\",\"Honiara\",\"Hanoi\",\"Port Vila\",\"Shanghai\",\"Kunming\",\"Dili\",\"Santiago\",\"Wellington\"],\"xaxis\":\"x\",\"y\":[547,141,135,129,121,119,117,104,61,50,46,45,45,40,39,36,31,31,30,26,23,18,18,16,14,14,11,9,7,5,5,4,4,4,3,3,2,1,1,1],\"yaxis\":\"y\",\"type\":\"bar\"}],                        {\"template\":{\"data\":{\"histogram2dcontour\":[{\"type\":\"histogram2dcontour\",\"colorbar\":{\"outlinewidth\":0,\"ticks\":\"\"},\"colorscale\":[[0.0,\"#0d0887\"],[0.1111111111111111,\"#46039f\"],[0.2222222222222222,\"#7201a8\"],[0.3333333333333333,\"#9c179e\"],[0.4444444444444444,\"#bd3786\"],[0.5555555555555556,\"#d8576b\"],[0.6666666666666666,\"#ed7953\"],[0.7777777777777778,\"#fb9f3a\"],[0.8888888888888888,\"#fdca26\"],[1.0,\"#f0f921\"]]}],\"choropleth\":[{\"type\":\"choropleth\",\"colorbar\":{\"outlinewidth\":0,\"ticks\":\"\"}}],\"histogram2d\":[{\"type\":\"histogram2d\",\"colorbar\":{\"outlinewidth\":0,\"ticks\":\"\"},\"colorscale\":[[0.0,\"#0d0887\"],[0.1111111111111111,\"#46039f\"],[0.2222222222222222,\"#7201a8\"],[0.3333333333333333,\"#9c179e\"],[0.4444444444444444,\"#bd3786\"],[0.5555555555555556,\"#d8576b\"],[0.6666666666666666,\"#ed7953\"],[0.7777777777777778,\"#fb9f3a\"],[0.8888888888888888,\"#fdca26\"],[1.0,\"#f0f921\"]]}],\"heatmap\":[{\"type\":\"heatmap\",\"colorbar\":{\"outlinewidth\":0,\"ticks\":\"\"},\"colorscale\":[[0.0,\"#0d0887\"],[0.1111111111111111,\"#46039f\"],[0.2222222222222222,\"#7201a8\"],[0.3333333333333333,\"#9c179e\"],[0.4444444444444444,\"#bd3786\"],[0.5555555555555556,\"#d8576b\"],[0.6666666666666666,\"#ed7953\"],[0.7777777777777778,\"#fb9f3a\"],[0.8888888888888888,\"#fdca26\"],[1.0,\"#f0f921\"]]}],\"heatmapgl\":[{\"type\":\"heatmapgl\",\"colorbar\":{\"outlinewidth\":0,\"ticks\":\"\"},\"colorscale\":[[0.0,\"#0d0887\"],[0.1111111111111111,\"#46039f\"],[0.2222222222222222,\"#7201a8\"],[0.3333333333333333,\"#9c179e\"],[0.4444444444444444,\"#bd3786\"],[0.5555555555555556,\"#d8576b\"],[0.6666666666666666,\"#ed7953\"],[0.7777777777777778,\"#fb9f3a\"],[0.8888888888888888,\"#fdca26\"],[1.0,\"#f0f921\"]]}],\"contourcarpet\":[{\"type\":\"contourcarpet\",\"colorbar\":{\"outlinewidth\":0,\"ticks\":\"\"}}],\"contour\":[{\"type\":\"contour\",\"colorbar\":{\"outlinewidth\":0,\"ticks\":\"\"},\"colorscale\":[[0.0,\"#0d0887\"],[0.1111111111111111,\"#46039f\"],[0.2222222222222222,\"#7201a8\"],[0.3333333333333333,\"#9c179e\"],[0.4444444444444444,\"#bd3786\"],[0.5555555555555556,\"#d8576b\"],[0.6666666666666666,\"#ed7953\"],[0.7777777777777778,\"#fb9f3a\"],[0.8888888888888888,\"#fdca26\"],[1.0,\"#f0f921\"]]}],\"surface\":[{\"type\":\"surface\",\"colorbar\":{\"outlinewidth\":0,\"ticks\":\"\"},\"colorscale\":[[0.0,\"#0d0887\"],[0.1111111111111111,\"#46039f\"],[0.2222222222222222,\"#7201a8\"],[0.3333333333333333,\"#9c179e\"],[0.4444444444444444,\"#bd3786\"],[0.5555555555555556,\"#d8576b\"],[0.6666666666666666,\"#ed7953\"],[0.7777777777777778,\"#fb9f3a\"],[0.8888888888888888,\"#fdca26\"],[1.0,\"#f0f921\"]]}],\"mesh3d\":[{\"type\":\"mesh3d\",\"colorbar\":{\"outlinewidth\":0,\"ticks\":\"\"}}],\"scatter\":[{\"fillpattern\":{\"fillmode\":\"overlay\",\"size\":10,\"solidity\":0.2},\"type\":\"scatter\"}],\"parcoords\":[{\"type\":\"parcoords\",\"line\":{\"colorbar\":{\"outlinewidth\":0,\"ticks\":\"\"}}}],\"scatterpolargl\":[{\"type\":\"scatterpolargl\",\"marker\":{\"colorbar\":{\"outlinewidth\":0,\"ticks\":\"\"}}}],\"bar\":[{\"error_x\":{\"color\":\"#2a3f5f\"},\"error_y\":{\"color\":\"#2a3f5f\"},\"marker\":{\"line\":{\"color\":\"#E5ECF6\",\"width\":0.5},\"pattern\":{\"fillmode\":\"overlay\",\"size\":10,\"solidity\":0.2}},\"type\":\"bar\"}],\"scattergeo\":[{\"type\":\"scattergeo\",\"marker\":{\"colorbar\":{\"outlinewidth\":0,\"ticks\":\"\"}}}],\"scatterpolar\":[{\"type\":\"scatterpolar\",\"marker\":{\"colorbar\":{\"outlinewidth\":0,\"ticks\":\"\"}}}],\"histogram\":[{\"marker\":{\"pattern\":{\"fillmode\":\"overlay\",\"size\":10,\"solidity\":0.2}},\"type\":\"histogram\"}],\"scattergl\":[{\"type\":\"scattergl\",\"marker\":{\"colorbar\":{\"outlinewidth\":0,\"ticks\":\"\"}}}],\"scatter3d\":[{\"type\":\"scatter3d\",\"line\":{\"colorbar\":{\"outlinewidth\":0,\"ticks\":\"\"}},\"marker\":{\"colorbar\":{\"outlinewidth\":0,\"ticks\":\"\"}}}],\"scattermapbox\":[{\"type\":\"scattermapbox\",\"marker\":{\"colorbar\":{\"outlinewidth\":0,\"ticks\":\"\"}}}],\"scatterternary\":[{\"type\":\"scatterternary\",\"marker\":{\"colorbar\":{\"outlinewidth\":0,\"ticks\":\"\"}}}],\"scattercarpet\":[{\"type\":\"scattercarpet\",\"marker\":{\"colorbar\":{\"outlinewidth\":0,\"ticks\":\"\"}}}],\"carpet\":[{\"aaxis\":{\"endlinecolor\":\"#2a3f5f\",\"gridcolor\":\"white\",\"linecolor\":\"white\",\"minorgridcolor\":\"white\",\"startlinecolor\":\"#2a3f5f\"},\"baxis\":{\"endlinecolor\":\"#2a3f5f\",\"gridcolor\":\"white\",\"linecolor\":\"white\",\"minorgridcolor\":\"white\",\"startlinecolor\":\"#2a3f5f\"},\"type\":\"carpet\"}],\"table\":[{\"cells\":{\"fill\":{\"color\":\"#EBF0F8\"},\"line\":{\"color\":\"white\"}},\"header\":{\"fill\":{\"color\":\"#C8D4E3\"},\"line\":{\"color\":\"white\"}},\"type\":\"table\"}],\"barpolar\":[{\"marker\":{\"line\":{\"color\":\"#E5ECF6\",\"width\":0.5},\"pattern\":{\"fillmode\":\"overlay\",\"size\":10,\"solidity\":0.2}},\"type\":\"barpolar\"}],\"pie\":[{\"automargin\":true,\"type\":\"pie\"}]},\"layout\":{\"autotypenumbers\":\"strict\",\"colorway\":[\"#636efa\",\"#EF553B\",\"#00cc96\",\"#ab63fa\",\"#FFA15A\",\"#19d3f3\",\"#FF6692\",\"#B6E880\",\"#FF97FF\",\"#FECB52\"],\"font\":{\"color\":\"#2a3f5f\"},\"hovermode\":\"closest\",\"hoverlabel\":{\"align\":\"left\"},\"paper_bgcolor\":\"white\",\"plot_bgcolor\":\"#E5ECF6\",\"polar\":{\"bgcolor\":\"#E5ECF6\",\"angularaxis\":{\"gridcolor\":\"white\",\"linecolor\":\"white\",\"ticks\":\"\"},\"radialaxis\":{\"gridcolor\":\"white\",\"linecolor\":\"white\",\"ticks\":\"\"}},\"ternary\":{\"bgcolor\":\"#E5ECF6\",\"aaxis\":{\"gridcolor\":\"white\",\"linecolor\":\"white\",\"ticks\":\"\"},\"baxis\":{\"gridcolor\":\"white\",\"linecolor\":\"white\",\"ticks\":\"\"},\"caxis\":{\"gridcolor\":\"white\",\"linecolor\":\"white\",\"ticks\":\"\"}},\"coloraxis\":{\"colorbar\":{\"outlinewidth\":0,\"ticks\":\"\"}},\"colorscale\":{\"sequential\":[[0.0,\"#0d0887\"],[0.1111111111111111,\"#46039f\"],[0.2222222222222222,\"#7201a8\"],[0.3333333333333333,\"#9c179e\"],[0.4444444444444444,\"#bd3786\"],[0.5555555555555556,\"#d8576b\"],[0.6666666666666666,\"#ed7953\"],[0.7777777777777778,\"#fb9f3a\"],[0.8888888888888888,\"#fdca26\"],[1.0,\"#f0f921\"]],\"sequentialminus\":[[0.0,\"#0d0887\"],[0.1111111111111111,\"#46039f\"],[0.2222222222222222,\"#7201a8\"],[0.3333333333333333,\"#9c179e\"],[0.4444444444444444,\"#bd3786\"],[0.5555555555555556,\"#d8576b\"],[0.6666666666666666,\"#ed7953\"],[0.7777777777777778,\"#fb9f3a\"],[0.8888888888888888,\"#fdca26\"],[1.0,\"#f0f921\"]],\"diverging\":[[0,\"#8e0152\"],[0.1,\"#c51b7d\"],[0.2,\"#de77ae\"],[0.3,\"#f1b6da\"],[0.4,\"#fde0ef\"],[0.5,\"#f7f7f7\"],[0.6,\"#e6f5d0\"],[0.7,\"#b8e186\"],[0.8,\"#7fbc41\"],[0.9,\"#4d9221\"],[1,\"#276419\"]]},\"xaxis\":{\"gridcolor\":\"white\",\"linecolor\":\"white\",\"ticks\":\"\",\"title\":{\"standoff\":15},\"zerolinecolor\":\"white\",\"automargin\":true,\"zerolinewidth\":2},\"yaxis\":{\"gridcolor\":\"white\",\"linecolor\":\"white\",\"ticks\":\"\",\"title\":{\"standoff\":15},\"zerolinecolor\":\"white\",\"automargin\":true,\"zerolinewidth\":2},\"scene\":{\"xaxis\":{\"backgroundcolor\":\"#E5ECF6\",\"gridcolor\":\"white\",\"linecolor\":\"white\",\"showbackground\":true,\"ticks\":\"\",\"zerolinecolor\":\"white\",\"gridwidth\":2},\"yaxis\":{\"backgroundcolor\":\"#E5ECF6\",\"gridcolor\":\"white\",\"linecolor\":\"white\",\"showbackground\":true,\"ticks\":\"\",\"zerolinecolor\":\"white\",\"gridwidth\":2},\"zaxis\":{\"backgroundcolor\":\"#E5ECF6\",\"gridcolor\":\"white\",\"linecolor\":\"white\",\"showbackground\":true,\"ticks\":\"\",\"zerolinecolor\":\"white\",\"gridwidth\":2}},\"shapedefaults\":{\"line\":{\"color\":\"#2a3f5f\"}},\"annotationdefaults\":{\"arrowcolor\":\"#2a3f5f\",\"arrowhead\":0,\"arrowwidth\":1},\"geo\":{\"bgcolor\":\"white\",\"landcolor\":\"#E5ECF6\",\"subunitcolor\":\"white\",\"showland\":true,\"showlakes\":true,\"lakecolor\":\"white\"},\"title\":{\"x\":0.05},\"mapbox\":{\"style\":\"light\"}}},\"xaxis\":{\"anchor\":\"y\",\"domain\":[0.0,1.0],\"title\":{\"text\":\"International City\"}},\"yaxis\":{\"anchor\":\"x\",\"domain\":[0.0,1.0],\"title\":{\"text\":\"Total Flights\"}},\"coloraxis\":{\"colorbar\":{\"title\":{\"text\":\"Total Flights\"}},\"colorscale\":[[0.0,\"#0d0887\"],[0.1111111111111111,\"#46039f\"],[0.2222222222222222,\"#7201a8\"],[0.3333333333333333,\"#9c179e\"],[0.4444444444444444,\"#bd3786\"],[0.5555555555555556,\"#d8576b\"],[0.6666666666666666,\"#ed7953\"],[0.7777777777777778,\"#fb9f3a\"],[0.8888888888888888,\"#fdca26\"],[1.0,\"#f0f921\"]]},\"legend\":{\"tracegroupgap\":0},\"title\":{\"text\":\"Popular Destinations by Total Flights\"},\"barmode\":\"relative\",\"height\":700},                        {\"responsive\": true}                    ).then(function(){\n",
       "                            \n",
       "var gd = document.getElementById('2d4878aa-f8b1-4c02-a103-8b03c83270bd');\n",
       "var x = new MutationObserver(function (mutations, observer) {{\n",
       "        var display = window.getComputedStyle(gd).display;\n",
       "        if (!display || display === 'none') {{\n",
       "            console.log([gd, 'removed!']);\n",
       "            Plotly.purge(gd);\n",
       "            observer.disconnect();\n",
       "        }}\n",
       "}});\n",
       "\n",
       "// Listen for the removal of the full notebook cells\n",
       "var notebookContainer = gd.closest('#notebook-container');\n",
       "if (notebookContainer) {{\n",
       "    x.observe(notebookContainer, {childList: true});\n",
       "}}\n",
       "\n",
       "// Listen for the clearing of the current output cell\n",
       "var outputEl = gd.closest('.output');\n",
       "if (outputEl) {{\n",
       "    x.observe(outputEl, {childList: true});\n",
       "}}\n",
       "\n",
       "                        })                };                });            </script>        </div>"
      ]
     },
     "metadata": {},
     "output_type": "display_data"
    }
   ],
   "source": [
    "# Group by International City and calculate total flights to each destination\n",
    "popular_destinations = Flights_Out.groupby('International_City')['All_Flights'].sum().reset_index()\n",
    "\n",
    "# Sort by total flights in descending order to find popular destinations\n",
    "popular_destinations = popular_destinations.sort_values(by='All_Flights', ascending=False)\n",
    "\n",
    "# Create a bar chart using Plotly Express\n",
    "fig = px.bar(popular_destinations, x='International_City', y='All_Flights',\n",
    "             title='Popular Destinations by Total Flights',\n",
    "             labels={'All_Flights': 'Total Flights', 'International_City': 'International City'},\n",
    "             color='All_Flights')\n",
    "\n",
    "fig.update_layout(height=700)\n",
    "\n",
    "fig.show()"
   ]
  },
  {
   "cell_type": "markdown",
   "id": "ceb5d205-8ee9-4b7f-8fef-1db7e65ad732",
   "metadata": {},
   "source": [
    "##  3) Total Flights per Route per Airline - Partricia\n",
    "- plotly.express"
   ]
  },
  {
   "cell_type": "code",
   "execution_count": 37,
   "id": "1fe8dd16-6b15-44d3-a62b-6a2d4dc7519c",
   "metadata": {},
   "outputs": [
    {
     "data": {
      "application/vnd.plotly.v1+json": {
       "config": {
        "plotlyServerURL": "https://plot.ly"
       },
       "data": [
        {
         "alignmentgroup": "True",
         "customdata": [
          [
           "Singapore Airlines"
          ],
          [
           "Singapore Airlines"
          ],
          [
           "Singapore Airlines"
          ],
          [
           "Singapore Airlines"
          ],
          [
           "Singapore Airlines"
          ],
          [
           "Singapore Airlines"
          ],
          [
           "Singapore Airlines"
          ]
         ],
         "hovertemplate": "Airline=%{customdata[0]}<br>Total Flights=%{y}<extra></extra>",
         "legendgroup": "Singapore Airlines",
         "marker": {
          "color": "#636efa",
          "pattern": {
           "shape": ""
          }
         },
         "name": "Singapore Airlines",
         "offsetgroup": "Singapore Airlines",
         "orientation": "v",
         "showlegend": true,
         "textposition": "auto",
         "type": "bar",
         "x": [
          "SYD-SIN",
          "MEL-SIN",
          "PER-SIN",
          "BNE-SIN",
          "ADL-SIN",
          "CNS-SIN",
          "DRW-SIN"
         ],
         "xaxis": "x",
         "y": [
          97,
          93,
          80,
          77,
          20,
          2,
          1
         ],
         "yaxis": "y"
        },
        {
         "alignmentgroup": "True",
         "customdata": [
          [
           "Qantas Airways"
          ],
          [
           "Qantas Airways"
          ],
          [
           "Qantas Airways"
          ],
          [
           "Qantas Airways"
          ],
          [
           "Qantas Airways"
          ],
          [
           "Qantas Airways"
          ],
          [
           "Qantas Airways"
          ],
          [
           "Qantas Airways"
          ],
          [
           "Qantas Airways"
          ],
          [
           "Qantas Airways"
          ],
          [
           "Qantas Airways"
          ],
          [
           "Qantas Airways"
          ],
          [
           "Qantas Airways"
          ],
          [
           "Qantas Airways"
          ],
          [
           "Qantas Airways"
          ],
          [
           "Qantas Airways"
          ],
          [
           "Qantas Airways"
          ],
          [
           "Qantas Airways"
          ],
          [
           "Qantas Airways"
          ]
         ],
         "hovertemplate": "Airline=%{customdata[0]}<br>Total Flights=%{y}<extra></extra>",
         "legendgroup": "Qantas Airways",
         "marker": {
          "color": "#EF553B",
          "pattern": {
           "shape": ""
          }
         },
         "name": "Qantas Airways",
         "offsetgroup": "Qantas Airways",
         "orientation": "v",
         "showlegend": true,
         "textposition": "auto",
         "type": "bar",
         "x": [
          "SYD-DRW-LON",
          "MEL-DRW-LON",
          "MEL-ADL-DEL",
          "SYD-LAX",
          "SYD-ADL-DEL",
          "SYD-SIN",
          "MEL-LAX",
          "SYD-DFW",
          "SYD-AKL",
          "MEL-SIN",
          "SYD-JNB",
          "SYD-BKK",
          "SYD-YVR",
          "SYD-NAN",
          "SYD-MNL",
          "SYD-HNL",
          "BNE-SIN",
          "PER-SIN",
          "DRW-DIL"
         ],
         "xaxis": "x",
         "y": [
          60,
          58,
          36,
          32,
          30,
          30,
          21,
          18,
          18,
          17,
          16,
          14,
          12,
          9,
          5,
          3,
          2,
          1,
          1
         ],
         "yaxis": "y"
        },
        {
         "alignmentgroup": "True",
         "customdata": [
          [
           "Emirates"
          ],
          [
           "Emirates"
          ],
          [
           "Emirates"
          ],
          [
           "Emirates"
          ]
         ],
         "hovertemplate": "Airline=%{customdata[0]}<br>Total Flights=%{y}<extra></extra>",
         "legendgroup": "Emirates",
         "marker": {
          "color": "#00cc96",
          "pattern": {
           "shape": ""
          }
         },
         "name": "Emirates",
         "offsetgroup": "Emirates",
         "orientation": "v",
         "showlegend": true,
         "textposition": "auto",
         "type": "bar",
         "x": [
          "SYD-DXB",
          "BNE-DXB",
          "MEL-DXB",
          "PER-DXB"
         ],
         "xaxis": "x",
         "y": [
          60,
          31,
          31,
          13
         ],
         "yaxis": "y"
        },
        {
         "alignmentgroup": "True",
         "customdata": [
          [
           "Fiji Airways"
          ],
          [
           "Fiji Airways"
          ],
          [
           "Fiji Airways"
          ]
         ],
         "hovertemplate": "Airline=%{customdata[0]}<br>Total Flights=%{y}<extra></extra>",
         "legendgroup": "Fiji Airways",
         "marker": {
          "color": "#ab63fa",
          "pattern": {
           "shape": ""
          }
         },
         "name": "Fiji Airways",
         "offsetgroup": "Fiji Airways",
         "orientation": "v",
         "showlegend": true,
         "textposition": "auto",
         "type": "bar",
         "x": [
          "SYD-NAN",
          "MEL-NAN",
          "BNE-NAN"
         ],
         "xaxis": "x",
         "y": [
          50,
          22,
          13
         ],
         "yaxis": "y"
        },
        {
         "alignmentgroup": "True",
         "customdata": [
          [
           "Air New Zealand"
          ],
          [
           "Air New Zealand"
          ],
          [
           "Air New Zealand"
          ],
          [
           "Air New Zealand"
          ],
          [
           "Air New Zealand"
          ],
          [
           "Air New Zealand"
          ],
          [
           "Air New Zealand"
          ],
          [
           "Air New Zealand"
          ]
         ],
         "hovertemplate": "Airline=%{customdata[0]}<br>Total Flights=%{y}<extra></extra>",
         "legendgroup": "Air New Zealand",
         "marker": {
          "color": "#FFA15A",
          "pattern": {
           "shape": ""
          }
         },
         "name": "Air New Zealand",
         "offsetgroup": "Air New Zealand",
         "orientation": "v",
         "showlegend": true,
         "textposition": "auto",
         "type": "bar",
         "x": [
          "SYD-AKL",
          "MEL-AKL",
          "BNE-AKL",
          "MEL-CHC",
          "SYD-CHC",
          "BNE-CHC",
          "PER-AKL",
          "BNE-WLG"
         ],
         "xaxis": "x",
         "y": [
          37,
          33,
          23,
          14,
          13,
          12,
          5,
          1
         ],
         "yaxis": "y"
        },
        {
         "alignmentgroup": "True",
         "customdata": [
          [
           "Scoot Tigerair"
          ],
          [
           "Scoot Tigerair"
          ],
          [
           "Scoot Tigerair"
          ]
         ],
         "hovertemplate": "Airline=%{customdata[0]}<br>Total Flights=%{y}<extra></extra>",
         "legendgroup": "Scoot Tigerair",
         "marker": {
          "color": "#19d3f3",
          "pattern": {
           "shape": ""
          }
         },
         "name": "Scoot Tigerair",
         "offsetgroup": "Scoot Tigerair",
         "orientation": "v",
         "showlegend": true,
         "textposition": "auto",
         "type": "bar",
         "x": [
          "SYD-SIN",
          "MEL-SIN",
          "PER-SIN"
         ],
         "xaxis": "x",
         "y": [
          33,
          32,
          31
         ],
         "yaxis": "y"
        },
        {
         "alignmentgroup": "True",
         "customdata": [
          [
           "Qatar Airways"
          ],
          [
           "Qatar Airways"
          ],
          [
           "Qatar Airways"
          ],
          [
           "Qatar Airways"
          ],
          [
           "Qatar Airways"
          ]
         ],
         "hovertemplate": "Airline=%{customdata[0]}<br>Total Flights=%{y}<extra></extra>",
         "legendgroup": "Qatar Airways",
         "marker": {
          "color": "#FF6692",
          "pattern": {
           "shape": ""
          }
         },
         "name": "Qatar Airways",
         "offsetgroup": "Qatar Airways",
         "orientation": "v",
         "showlegend": true,
         "textposition": "auto",
         "type": "bar",
         "x": [
          "BNE-DOH",
          "SYD-DOH",
          "MEL-DOH",
          "PER-DOH",
          "ADL-DOH"
         ],
         "xaxis": "x",
         "y": [
          31,
          31,
          30,
          25,
          12
         ],
         "yaxis": "y"
        },
        {
         "alignmentgroup": "True",
         "customdata": [
          [
           "United Airlines"
          ],
          [
           "United Airlines"
          ]
         ],
         "hovertemplate": "Airline=%{customdata[0]}<br>Total Flights=%{y}<extra></extra>",
         "legendgroup": "United Airlines",
         "marker": {
          "color": "#B6E880",
          "pattern": {
           "shape": ""
          }
         },
         "name": "United Airlines",
         "offsetgroup": "United Airlines",
         "orientation": "v",
         "showlegend": true,
         "textposition": "auto",
         "type": "bar",
         "x": [
          "SYD-SFO",
          "SYD-LAX"
         ],
         "xaxis": "x",
         "y": [
          31,
          31
         ],
         "yaxis": "y"
        },
        {
         "alignmentgroup": "True",
         "customdata": [
          [
           "Delta Air Lines"
          ]
         ],
         "hovertemplate": "Airline=%{customdata[0]}<br>Total Flights=%{y}<extra></extra>",
         "legendgroup": "Delta Air Lines",
         "marker": {
          "color": "#FF97FF",
          "pattern": {
           "shape": ""
          }
         },
         "name": "Delta Air Lines",
         "offsetgroup": "Delta Air Lines",
         "orientation": "v",
         "showlegend": true,
         "textposition": "auto",
         "type": "bar",
         "x": [
          "SYD-LAX"
         ],
         "xaxis": "x",
         "y": [
          30
         ],
         "yaxis": "y"
        },
        {
         "alignmentgroup": "True",
         "customdata": [
          [
           "American Airlines"
          ]
         ],
         "hovertemplate": "Airline=%{customdata[0]}<br>Total Flights=%{y}<extra></extra>",
         "legendgroup": "American Airlines",
         "marker": {
          "color": "#FECB52",
          "pattern": {
           "shape": ""
          }
         },
         "name": "American Airlines",
         "offsetgroup": "American Airlines",
         "orientation": "v",
         "showlegend": true,
         "textposition": "auto",
         "type": "bar",
         "x": [
          "SYD-LAX"
         ],
         "xaxis": "x",
         "y": [
          27
         ],
         "yaxis": "y"
        },
        {
         "alignmentgroup": "True",
         "customdata": [
          [
           "SriLankan Airlines"
          ],
          [
           "SriLankan Airlines"
          ]
         ],
         "hovertemplate": "Airline=%{customdata[0]}<br>Total Flights=%{y}<extra></extra>",
         "legendgroup": "SriLankan Airlines",
         "marker": {
          "color": "#636efa",
          "pattern": {
           "shape": ""
          }
         },
         "name": "SriLankan Airlines",
         "offsetgroup": "SriLankan Airlines",
         "orientation": "v",
         "showlegend": true,
         "textposition": "auto",
         "type": "bar",
         "x": [
          "MEL-CMB",
          "SYD-CMB"
         ],
         "xaxis": "x",
         "y": [
          26,
          19
         ],
         "yaxis": "y"
        },
        {
         "alignmentgroup": "True",
         "customdata": [
          [
           "Air Niugini"
          ],
          [
           "Air Niugini"
          ],
          [
           "Air Niugini"
          ]
         ],
         "hovertemplate": "Airline=%{customdata[0]}<br>Total Flights=%{y}<extra></extra>",
         "legendgroup": "Air Niugini",
         "marker": {
          "color": "#EF553B",
          "pattern": {
           "shape": ""
          }
         },
         "name": "Air Niugini",
         "offsetgroup": "Air Niugini",
         "orientation": "v",
         "showlegend": true,
         "textposition": "auto",
         "type": "bar",
         "x": [
          "BNE-POM",
          "BNE-CNS-POM",
          "SYD-POM"
         ],
         "xaxis": "x",
         "y": [
          24,
          8,
          4
         ],
         "yaxis": "y"
        },
        {
         "alignmentgroup": "True",
         "customdata": [
          [
           "Malaysia Airlines"
          ],
          [
           "Malaysia Airlines"
          ],
          [
           "Malaysia Airlines"
          ],
          [
           "Malaysia Airlines"
          ],
          [
           "Malaysia Airlines"
          ]
         ],
         "hovertemplate": "Airline=%{customdata[0]}<br>Total Flights=%{y}<extra></extra>",
         "legendgroup": "Malaysia Airlines",
         "marker": {
          "color": "#00cc96",
          "pattern": {
           "shape": ""
          }
         },
         "name": "Malaysia Airlines",
         "offsetgroup": "Malaysia Airlines",
         "orientation": "v",
         "showlegend": true,
         "textposition": "auto",
         "type": "bar",
         "x": [
          "MEL-KUL",
          "SYD-KUL",
          "PER-KUL",
          "ADL-KUL",
          "BNE-KUL"
         ],
         "xaxis": "x",
         "y": [
          24,
          17,
          7,
          2,
          2
         ],
         "yaxis": "y"
        },
        {
         "alignmentgroup": "True",
         "customdata": [
          [
           "Etihad Airways"
          ],
          [
           "Etihad Airways"
          ]
         ],
         "hovertemplate": "Airline=%{customdata[0]}<br>Total Flights=%{y}<extra></extra>",
         "legendgroup": "Etihad Airways",
         "marker": {
          "color": "#ab63fa",
          "pattern": {
           "shape": ""
          }
         },
         "name": "Etihad Airways",
         "offsetgroup": "Etihad Airways",
         "orientation": "v",
         "showlegend": true,
         "textposition": "auto",
         "type": "bar",
         "x": [
          "SYD-AUH",
          "MEL-AUH"
         ],
         "xaxis": "x",
         "y": [
          24,
          21
         ],
         "yaxis": "y"
        },
        {
         "alignmentgroup": "True",
         "customdata": [
          [
           "All Nippon Airways"
          ]
         ],
         "hovertemplate": "Airline=%{customdata[0]}<br>Total Flights=%{y}<extra></extra>",
         "legendgroup": "All Nippon Airways",
         "marker": {
          "color": "#FFA15A",
          "pattern": {
           "shape": ""
          }
         },
         "name": "All Nippon Airways",
         "offsetgroup": "All Nippon Airways",
         "orientation": "v",
         "showlegend": true,
         "textposition": "auto",
         "type": "bar",
         "x": [
          "SYD-TYO"
         ],
         "xaxis": "x",
         "y": [
          22
         ],
         "yaxis": "y"
        },
        {
         "alignmentgroup": "True",
         "customdata": [
          [
           "Thai Airways International"
          ],
          [
           "Thai Airways International"
          ],
          [
           "Thai Airways International"
          ]
         ],
         "hovertemplate": "Airline=%{customdata[0]}<br>Total Flights=%{y}<extra></extra>",
         "legendgroup": "Thai Airways International",
         "marker": {
          "color": "#19d3f3",
          "pattern": {
           "shape": ""
          }
         },
         "name": "Thai Airways International",
         "offsetgroup": "Thai Airways International",
         "orientation": "v",
         "showlegend": true,
         "textposition": "auto",
         "type": "bar",
         "x": [
          "SYD-BKK",
          "SYD-HKT-BKK",
          "MEL-BKK"
         ],
         "xaxis": "x",
         "y": [
          22,
          20,
          4
         ],
         "yaxis": "y"
        },
        {
         "alignmentgroup": "True",
         "customdata": [
          [
           "Air India"
          ],
          [
           "Air India"
          ]
         ],
         "hovertemplate": "Airline=%{customdata[0]}<br>Total Flights=%{y}<extra></extra>",
         "legendgroup": "Air India",
         "marker": {
          "color": "#FF6692",
          "pattern": {
           "shape": ""
          }
         },
         "name": "Air India",
         "offsetgroup": "Air India",
         "orientation": "v",
         "showlegend": true,
         "textposition": "auto",
         "type": "bar",
         "x": [
          "SYD-DEL",
          "MEL-DEL"
         ],
         "xaxis": "x",
         "y": [
          20,
          18
         ],
         "yaxis": "y"
        },
        {
         "alignmentgroup": "True",
         "customdata": [
          [
           "Hawaiian Airlines"
          ]
         ],
         "hovertemplate": "Airline=%{customdata[0]}<br>Total Flights=%{y}<extra></extra>",
         "legendgroup": "Hawaiian Airlines",
         "marker": {
          "color": "#B6E880",
          "pattern": {
           "shape": ""
          }
         },
         "name": "Hawaiian Airlines",
         "offsetgroup": "Hawaiian Airlines",
         "orientation": "v",
         "showlegend": true,
         "textposition": "auto",
         "type": "bar",
         "x": [
          "SYD-HNL"
         ],
         "xaxis": "x",
         "y": [
          18
         ],
         "yaxis": "y"
        },
        {
         "alignmentgroup": "True",
         "customdata": [
          [
           "Japan Airlines"
          ],
          [
           "Japan Airlines"
          ]
         ],
         "hovertemplate": "Airline=%{customdata[0]}<br>Total Flights=%{y}<extra></extra>",
         "legendgroup": "Japan Airlines",
         "marker": {
          "color": "#FF97FF",
          "pattern": {
           "shape": ""
          }
         },
         "name": "Japan Airlines",
         "offsetgroup": "Japan Airlines",
         "orientation": "v",
         "showlegend": true,
         "textposition": "auto",
         "type": "bar",
         "x": [
          "SYD-TYO",
          "MEL-TYO"
         ],
         "xaxis": "x",
         "y": [
          15,
          9
         ],
         "yaxis": "y"
        },
        {
         "alignmentgroup": "True",
         "customdata": [
          [
           "Air Canada"
          ]
         ],
         "hovertemplate": "Airline=%{customdata[0]}<br>Total Flights=%{y}<extra></extra>",
         "legendgroup": "Air Canada",
         "marker": {
          "color": "#FECB52",
          "pattern": {
           "shape": ""
          }
         },
         "name": "Air Canada",
         "offsetgroup": "Air Canada",
         "orientation": "v",
         "showlegend": true,
         "textposition": "auto",
         "type": "bar",
         "x": [
          "SYD-YVR"
         ],
         "xaxis": "x",
         "y": [
          14
         ],
         "yaxis": "y"
        },
        {
         "alignmentgroup": "True",
         "customdata": [
          [
           "Vietnam Airlines"
          ],
          [
           "Vietnam Airlines"
          ],
          [
           "Vietnam Airlines"
          ]
         ],
         "hovertemplate": "Airline=%{customdata[0]}<br>Total Flights=%{y}<extra></extra>",
         "legendgroup": "Vietnam Airlines",
         "marker": {
          "color": "#636efa",
          "pattern": {
           "shape": ""
          }
         },
         "name": "Vietnam Airlines",
         "offsetgroup": "Vietnam Airlines",
         "orientation": "v",
         "showlegend": true,
         "textposition": "auto",
         "type": "bar",
         "x": [
          "MEL-SGN",
          "SYD-SGN",
          "SYD-HAN"
         ],
         "xaxis": "x",
         "y": [
          13,
          13,
          4
         ],
         "yaxis": "y"
        },
        {
         "alignmentgroup": "True",
         "customdata": [
          [
           "Virgin Australia"
          ]
         ],
         "hovertemplate": "Airline=%{customdata[0]}<br>Total Flights=%{y}<extra></extra>",
         "legendgroup": "Virgin Australia",
         "marker": {
          "color": "#EF553B",
          "pattern": {
           "shape": ""
          }
         },
         "name": "Virgin Australia",
         "offsetgroup": "Virgin Australia",
         "orientation": "v",
         "showlegend": true,
         "textposition": "auto",
         "type": "bar",
         "x": [
          "SYD-NAN"
         ],
         "xaxis": "x",
         "y": [
          13
         ],
         "yaxis": "y"
        },
        {
         "alignmentgroup": "True",
         "customdata": [
          [
           "Philippine Airlines"
          ],
          [
           "Philippine Airlines"
          ],
          [
           "Philippine Airlines"
          ]
         ],
         "hovertemplate": "Airline=%{customdata[0]}<br>Total Flights=%{y}<extra></extra>",
         "legendgroup": "Philippine Airlines",
         "marker": {
          "color": "#00cc96",
          "pattern": {
           "shape": ""
          }
         },
         "name": "Philippine Airlines",
         "offsetgroup": "Philippine Airlines",
         "orientation": "v",
         "showlegend": true,
         "textposition": "auto",
         "type": "bar",
         "x": [
          "SYD-MNL",
          "MEL-MNL",
          "BNE-MNL"
         ],
         "xaxis": "x",
         "y": [
          13,
          9,
          4
         ],
         "yaxis": "y"
        },
        {
         "alignmentgroup": "True",
         "customdata": [
          [
           "Jetstar"
          ],
          [
           "Jetstar"
          ],
          [
           "Jetstar"
          ],
          [
           "Jetstar"
          ],
          [
           "Jetstar"
          ],
          [
           "Jetstar"
          ],
          [
           "Jetstar"
          ]
         ],
         "hovertemplate": "Airline=%{customdata[0]}<br>Total Flights=%{y}<extra></extra>",
         "legendgroup": "Jetstar",
         "marker": {
          "color": "#ab63fa",
          "pattern": {
           "shape": ""
          }
         },
         "name": "Jetstar",
         "offsetgroup": "Jetstar",
         "orientation": "v",
         "showlegend": true,
         "textposition": "auto",
         "type": "bar",
         "x": [
          "MEL-SIN",
          "SYD-HNL",
          "SYD-NAN",
          "MEL-HKT",
          "MEL-DPS",
          "MEL-HNL",
          "SYD-HKT"
         ],
         "xaxis": "x",
         "y": [
          13,
          13,
          12,
          9,
          8,
          6,
          4
         ],
         "yaxis": "y"
        },
        {
         "alignmentgroup": "True",
         "customdata": [
          [
           "Air Caledonie"
          ],
          [
           "Air Caledonie"
          ]
         ],
         "hovertemplate": "Airline=%{customdata[0]}<br>Total Flights=%{y}<extra></extra>",
         "legendgroup": "Air Caledonie",
         "marker": {
          "color": "#FFA15A",
          "pattern": {
           "shape": ""
          }
         },
         "name": "Air Caledonie",
         "offsetgroup": "Air Caledonie",
         "orientation": "v",
         "showlegend": true,
         "textposition": "auto",
         "type": "bar",
         "x": [
          "SYD-NOU",
          "BNE-NOU"
         ],
         "xaxis": "x",
         "y": [
          9,
          5
         ],
         "yaxis": "y"
        },
        {
         "alignmentgroup": "True",
         "customdata": [
          [
           "Korean Air"
          ]
         ],
         "hovertemplate": "Airline=%{customdata[0]}<br>Total Flights=%{y}<extra></extra>",
         "legendgroup": "Korean Air",
         "marker": {
          "color": "#19d3f3",
          "pattern": {
           "shape": ""
          }
         },
         "name": "Korean Air",
         "offsetgroup": "Korean Air",
         "orientation": "v",
         "showlegend": true,
         "textposition": "auto",
         "type": "bar",
         "x": [
          "SYD-SEL"
         ],
         "xaxis": "x",
         "y": [
          9
         ],
         "yaxis": "y"
        },
        {
         "alignmentgroup": "True",
         "customdata": [
          [
           "Jetstar Asia"
          ],
          [
           "Jetstar Asia"
          ]
         ],
         "hovertemplate": "Airline=%{customdata[0]}<br>Total Flights=%{y}<extra></extra>",
         "legendgroup": "Jetstar Asia",
         "marker": {
          "color": "#FF6692",
          "pattern": {
           "shape": ""
          }
         },
         "name": "Jetstar Asia",
         "offsetgroup": "Jetstar Asia",
         "orientation": "v",
         "showlegend": true,
         "textposition": "auto",
         "type": "bar",
         "x": [
          "DRW-SIN",
          "PER-SIN"
         ],
         "xaxis": "x",
         "y": [
          9,
          6
         ],
         "yaxis": "y"
        },
        {
         "alignmentgroup": "True",
         "customdata": [
          [
           "Asiana Airlines"
          ]
         ],
         "hovertemplate": "Airline=%{customdata[0]}<br>Total Flights=%{y}<extra></extra>",
         "legendgroup": "Asiana Airlines",
         "marker": {
          "color": "#B6E880",
          "pattern": {
           "shape": ""
          }
         },
         "name": "Asiana Airlines",
         "offsetgroup": "Asiana Airlines",
         "orientation": "v",
         "showlegend": true,
         "textposition": "auto",
         "type": "bar",
         "x": [
          "SYD-SEL"
         ],
         "xaxis": "x",
         "y": [
          9
         ],
         "yaxis": "y"
        },
        {
         "alignmentgroup": "True",
         "customdata": [
          [
           "Royal Brunei Airlines"
          ]
         ],
         "hovertemplate": "Airline=%{customdata[0]}<br>Total Flights=%{y}<extra></extra>",
         "legendgroup": "Royal Brunei Airlines",
         "marker": {
          "color": "#FF97FF",
          "pattern": {
           "shape": ""
          }
         },
         "name": "Royal Brunei Airlines",
         "offsetgroup": "Royal Brunei Airlines",
         "orientation": "v",
         "showlegend": true,
         "textposition": "auto",
         "type": "bar",
         "x": [
          "MEL-BWN"
         ],
         "xaxis": "x",
         "y": [
          7
         ],
         "yaxis": "y"
        },
        {
         "alignmentgroup": "True",
         "customdata": [
          [
           "British Airways"
          ]
         ],
         "hovertemplate": "Airline=%{customdata[0]}<br>Total Flights=%{y}<extra></extra>",
         "legendgroup": "British Airways",
         "marker": {
          "color": "#FECB52",
          "pattern": {
           "shape": ""
          }
         },
         "name": "British Airways",
         "offsetgroup": "British Airways",
         "orientation": "v",
         "showlegend": true,
         "textposition": "auto",
         "type": "bar",
         "x": [
          "SYD-SIN-LON"
         ],
         "xaxis": "x",
         "y": [
          6
         ],
         "yaxis": "y"
        },
        {
         "alignmentgroup": "True",
         "customdata": [
          [
           "Xiamen Airlines"
          ],
          [
           "Xiamen Airlines"
          ]
         ],
         "hovertemplate": "Airline=%{customdata[0]}<br>Total Flights=%{y}<extra></extra>",
         "legendgroup": "Xiamen Airlines",
         "marker": {
          "color": "#636efa",
          "pattern": {
           "shape": ""
          }
         },
         "name": "Xiamen Airlines",
         "offsetgroup": "Xiamen Airlines",
         "orientation": "v",
         "showlegend": true,
         "textposition": "auto",
         "type": "bar",
         "x": [
          "SYD-XMN",
          "MEL-XMN"
         ],
         "xaxis": "x",
         "y": [
          5,
          4
         ],
         "yaxis": "y"
        },
        {
         "alignmentgroup": "True",
         "customdata": [
          [
           "Nauru Airlines"
          ]
         ],
         "hovertemplate": "Airline=%{customdata[0]}<br>Total Flights=%{y}<extra></extra>",
         "legendgroup": "Nauru Airlines",
         "marker": {
          "color": "#EF553B",
          "pattern": {
           "shape": ""
          }
         },
         "name": "Nauru Airlines",
         "offsetgroup": "Nauru Airlines",
         "orientation": "v",
         "showlegend": true,
         "textposition": "auto",
         "type": "bar",
         "x": [
          "BNE-INU"
         ],
         "xaxis": "x",
         "y": [
          5
         ],
         "yaxis": "y"
        },
        {
         "alignmentgroup": "True",
         "customdata": [
          [
           "Malindo Air"
          ]
         ],
         "hovertemplate": "Airline=%{customdata[0]}<br>Total Flights=%{y}<extra></extra>",
         "legendgroup": "Malindo Air",
         "marker": {
          "color": "#00cc96",
          "pattern": {
           "shape": ""
          }
         },
         "name": "Malindo Air",
         "offsetgroup": "Malindo Air",
         "orientation": "v",
         "showlegend": true,
         "textposition": "auto",
         "type": "bar",
         "x": [
          "PER-KUL"
         ],
         "xaxis": "x",
         "y": [
          5
         ],
         "yaxis": "y"
        },
        {
         "alignmentgroup": "True",
         "customdata": [
          [
           "Garuda Indonesia"
          ],
          [
           "Garuda Indonesia"
          ]
         ],
         "hovertemplate": "Airline=%{customdata[0]}<br>Total Flights=%{y}<extra></extra>",
         "legendgroup": "Garuda Indonesia",
         "marker": {
          "color": "#ab63fa",
          "pattern": {
           "shape": ""
          }
         },
         "name": "Garuda Indonesia",
         "offsetgroup": "Garuda Indonesia",
         "orientation": "v",
         "showlegend": true,
         "textposition": "auto",
         "type": "bar",
         "x": [
          "SYD-JKT",
          "SYD-DPS"
         ],
         "xaxis": "x",
         "y": [
          5,
          3
         ],
         "yaxis": "y"
        },
        {
         "alignmentgroup": "True",
         "customdata": [
          [
           "AirAsia X"
          ]
         ],
         "hovertemplate": "Airline=%{customdata[0]}<br>Total Flights=%{y}<extra></extra>",
         "legendgroup": "AirAsia X",
         "marker": {
          "color": "#FFA15A",
          "pattern": {
           "shape": ""
          }
         },
         "name": "AirAsia X",
         "offsetgroup": "AirAsia X",
         "orientation": "v",
         "showlegend": true,
         "textposition": "auto",
         "type": "bar",
         "x": [
          "SYD-KUL"
         ],
         "xaxis": "x",
         "y": [
          4
         ],
         "yaxis": "y"
        },
        {
         "alignmentgroup": "True",
         "customdata": [
          [
           "China Airlines"
          ],
          [
           "China Airlines"
          ],
          [
           "China Airlines"
          ]
         ],
         "hovertemplate": "Airline=%{customdata[0]}<br>Total Flights=%{y}<extra></extra>",
         "legendgroup": "China Airlines",
         "marker": {
          "color": "#19d3f3",
          "pattern": {
           "shape": ""
          }
         },
         "name": "China Airlines",
         "offsetgroup": "China Airlines",
         "orientation": "v",
         "showlegend": true,
         "textposition": "auto",
         "type": "bar",
         "x": [
          "MEL-TPE",
          "BNE-TPE",
          "SYD-TPE"
         ],
         "xaxis": "x",
         "y": [
          4,
          4,
          4
         ],
         "yaxis": "y"
        },
        {
         "alignmentgroup": "True",
         "customdata": [
          [
           "China Southern Airlines"
          ]
         ],
         "hovertemplate": "Airline=%{customdata[0]}<br>Total Flights=%{y}<extra></extra>",
         "legendgroup": "China Southern Airlines",
         "marker": {
          "color": "#FF6692",
          "pattern": {
           "shape": ""
          }
         },
         "name": "China Southern Airlines",
         "offsetgroup": "China Southern Airlines",
         "orientation": "v",
         "showlegend": true,
         "textposition": "auto",
         "type": "bar",
         "x": [
          "SYD-CAN"
         ],
         "xaxis": "x",
         "y": [
          4
         ],
         "yaxis": "y"
        },
        {
         "alignmentgroup": "True",
         "customdata": [
          [
           "Bamboo Airways"
          ]
         ],
         "hovertemplate": "Airline=%{customdata[0]}<br>Total Flights=%{y}<extra></extra>",
         "legendgroup": "Bamboo Airways",
         "marker": {
          "color": "#B6E880",
          "pattern": {
           "shape": ""
          }
         },
         "name": "Bamboo Airways",
         "offsetgroup": "Bamboo Airways",
         "orientation": "v",
         "showlegend": true,
         "textposition": "auto",
         "type": "bar",
         "x": [
          "MEL-SGN"
         ],
         "xaxis": "x",
         "y": [
          4
         ],
         "yaxis": "y"
        },
        {
         "alignmentgroup": "True",
         "customdata": [
          [
           "Solomon Airlines"
          ]
         ],
         "hovertemplate": "Airline=%{customdata[0]}<br>Total Flights=%{y}<extra></extra>",
         "legendgroup": "Solomon Airlines",
         "marker": {
          "color": "#FF97FF",
          "pattern": {
           "shape": ""
          }
         },
         "name": "Solomon Airlines",
         "offsetgroup": "Solomon Airlines",
         "orientation": "v",
         "showlegend": true,
         "textposition": "auto",
         "type": "bar",
         "x": [
          "BNE-HIR"
         ],
         "xaxis": "x",
         "y": [
          4
         ],
         "yaxis": "y"
        },
        {
         "alignmentgroup": "True",
         "customdata": [
          [
           "China Eastern Airlines"
          ],
          [
           "China Eastern Airlines"
          ]
         ],
         "hovertemplate": "Airline=%{customdata[0]}<br>Total Flights=%{y}<extra></extra>",
         "legendgroup": "China Eastern Airlines",
         "marker": {
          "color": "#FECB52",
          "pattern": {
           "shape": ""
          }
         },
         "name": "China Eastern Airlines",
         "offsetgroup": "China Eastern Airlines",
         "orientation": "v",
         "showlegend": true,
         "textposition": "auto",
         "type": "bar",
         "x": [
          "SYD-SHA",
          "SYD-KMG"
         ],
         "xaxis": "x",
         "y": [
          3,
          2
         ],
         "yaxis": "y"
        },
        {
         "alignmentgroup": "True",
         "customdata": [
          [
           "Eva Air"
          ]
         ],
         "hovertemplate": "Airline=%{customdata[0]}<br>Total Flights=%{y}<extra></extra>",
         "legendgroup": "Eva Air",
         "marker": {
          "color": "#636efa",
          "pattern": {
           "shape": ""
          }
         },
         "name": "Eva Air",
         "offsetgroup": "Eva Air",
         "orientation": "v",
         "showlegend": true,
         "textposition": "auto",
         "type": "bar",
         "x": [
          "BNE-TPE"
         ],
         "xaxis": "x",
         "y": [
          2
         ],
         "yaxis": "y"
        },
        {
         "alignmentgroup": "True",
         "customdata": [
          [
           "Air Vanuatu"
          ],
          [
           "Air Vanuatu"
          ]
         ],
         "hovertemplate": "Airline=%{customdata[0]}<br>Total Flights=%{y}<extra></extra>",
         "legendgroup": "Air Vanuatu",
         "marker": {
          "color": "#EF553B",
          "pattern": {
           "shape": ""
          }
         },
         "name": "Air Vanuatu",
         "offsetgroup": "Air Vanuatu",
         "orientation": "v",
         "showlegend": true,
         "textposition": "auto",
         "type": "bar",
         "x": [
          "BNE-VLI",
          "SYD-VLI"
         ],
         "xaxis": "x",
         "y": [
          2,
          1
         ],
         "yaxis": "y"
        },
        {
         "alignmentgroup": "True",
         "customdata": [
          [
           "LATAM Airlines"
          ]
         ],
         "hovertemplate": "Airline=%{customdata[0]}<br>Total Flights=%{y}<extra></extra>",
         "legendgroup": "LATAM Airlines",
         "marker": {
          "color": "#00cc96",
          "pattern": {
           "shape": ""
          }
         },
         "name": "LATAM Airlines",
         "offsetgroup": "LATAM Airlines",
         "orientation": "v",
         "showlegend": true,
         "textposition": "auto",
         "type": "bar",
         "x": [
          "SYD-AKL-SCL"
         ],
         "xaxis": "x",
         "y": [
          2
         ],
         "yaxis": "y"
        }
       ],
       "layout": {
        "autosize": true,
        "barmode": "relative",
        "legend": {
         "title": {
          "text": "Airline"
         },
         "tracegroupgap": 0
        },
        "margin": {
         "b": 20,
         "l": 30,
         "r": 30,
         "t": 70
        },
        "template": {
         "data": {
          "bar": [
           {
            "error_x": {
             "color": "#2a3f5f"
            },
            "error_y": {
             "color": "#2a3f5f"
            },
            "marker": {
             "line": {
              "color": "#E5ECF6",
              "width": 0.5
             },
             "pattern": {
              "fillmode": "overlay",
              "size": 10,
              "solidity": 0.2
             }
            },
            "type": "bar"
           }
          ],
          "barpolar": [
           {
            "marker": {
             "line": {
              "color": "#E5ECF6",
              "width": 0.5
             },
             "pattern": {
              "fillmode": "overlay",
              "size": 10,
              "solidity": 0.2
             }
            },
            "type": "barpolar"
           }
          ],
          "carpet": [
           {
            "aaxis": {
             "endlinecolor": "#2a3f5f",
             "gridcolor": "white",
             "linecolor": "white",
             "minorgridcolor": "white",
             "startlinecolor": "#2a3f5f"
            },
            "baxis": {
             "endlinecolor": "#2a3f5f",
             "gridcolor": "white",
             "linecolor": "white",
             "minorgridcolor": "white",
             "startlinecolor": "#2a3f5f"
            },
            "type": "carpet"
           }
          ],
          "choropleth": [
           {
            "colorbar": {
             "outlinewidth": 0,
             "ticks": ""
            },
            "type": "choropleth"
           }
          ],
          "contour": [
           {
            "colorbar": {
             "outlinewidth": 0,
             "ticks": ""
            },
            "colorscale": [
             [
              0,
              "#0d0887"
             ],
             [
              0.1111111111111111,
              "#46039f"
             ],
             [
              0.2222222222222222,
              "#7201a8"
             ],
             [
              0.3333333333333333,
              "#9c179e"
             ],
             [
              0.4444444444444444,
              "#bd3786"
             ],
             [
              0.5555555555555556,
              "#d8576b"
             ],
             [
              0.6666666666666666,
              "#ed7953"
             ],
             [
              0.7777777777777778,
              "#fb9f3a"
             ],
             [
              0.8888888888888888,
              "#fdca26"
             ],
             [
              1,
              "#f0f921"
             ]
            ],
            "type": "contour"
           }
          ],
          "contourcarpet": [
           {
            "colorbar": {
             "outlinewidth": 0,
             "ticks": ""
            },
            "type": "contourcarpet"
           }
          ],
          "heatmap": [
           {
            "colorbar": {
             "outlinewidth": 0,
             "ticks": ""
            },
            "colorscale": [
             [
              0,
              "#0d0887"
             ],
             [
              0.1111111111111111,
              "#46039f"
             ],
             [
              0.2222222222222222,
              "#7201a8"
             ],
             [
              0.3333333333333333,
              "#9c179e"
             ],
             [
              0.4444444444444444,
              "#bd3786"
             ],
             [
              0.5555555555555556,
              "#d8576b"
             ],
             [
              0.6666666666666666,
              "#ed7953"
             ],
             [
              0.7777777777777778,
              "#fb9f3a"
             ],
             [
              0.8888888888888888,
              "#fdca26"
             ],
             [
              1,
              "#f0f921"
             ]
            ],
            "type": "heatmap"
           }
          ],
          "heatmapgl": [
           {
            "colorbar": {
             "outlinewidth": 0,
             "ticks": ""
            },
            "colorscale": [
             [
              0,
              "#0d0887"
             ],
             [
              0.1111111111111111,
              "#46039f"
             ],
             [
              0.2222222222222222,
              "#7201a8"
             ],
             [
              0.3333333333333333,
              "#9c179e"
             ],
             [
              0.4444444444444444,
              "#bd3786"
             ],
             [
              0.5555555555555556,
              "#d8576b"
             ],
             [
              0.6666666666666666,
              "#ed7953"
             ],
             [
              0.7777777777777778,
              "#fb9f3a"
             ],
             [
              0.8888888888888888,
              "#fdca26"
             ],
             [
              1,
              "#f0f921"
             ]
            ],
            "type": "heatmapgl"
           }
          ],
          "histogram": [
           {
            "marker": {
             "pattern": {
              "fillmode": "overlay",
              "size": 10,
              "solidity": 0.2
             }
            },
            "type": "histogram"
           }
          ],
          "histogram2d": [
           {
            "colorbar": {
             "outlinewidth": 0,
             "ticks": ""
            },
            "colorscale": [
             [
              0,
              "#0d0887"
             ],
             [
              0.1111111111111111,
              "#46039f"
             ],
             [
              0.2222222222222222,
              "#7201a8"
             ],
             [
              0.3333333333333333,
              "#9c179e"
             ],
             [
              0.4444444444444444,
              "#bd3786"
             ],
             [
              0.5555555555555556,
              "#d8576b"
             ],
             [
              0.6666666666666666,
              "#ed7953"
             ],
             [
              0.7777777777777778,
              "#fb9f3a"
             ],
             [
              0.8888888888888888,
              "#fdca26"
             ],
             [
              1,
              "#f0f921"
             ]
            ],
            "type": "histogram2d"
           }
          ],
          "histogram2dcontour": [
           {
            "colorbar": {
             "outlinewidth": 0,
             "ticks": ""
            },
            "colorscale": [
             [
              0,
              "#0d0887"
             ],
             [
              0.1111111111111111,
              "#46039f"
             ],
             [
              0.2222222222222222,
              "#7201a8"
             ],
             [
              0.3333333333333333,
              "#9c179e"
             ],
             [
              0.4444444444444444,
              "#bd3786"
             ],
             [
              0.5555555555555556,
              "#d8576b"
             ],
             [
              0.6666666666666666,
              "#ed7953"
             ],
             [
              0.7777777777777778,
              "#fb9f3a"
             ],
             [
              0.8888888888888888,
              "#fdca26"
             ],
             [
              1,
              "#f0f921"
             ]
            ],
            "type": "histogram2dcontour"
           }
          ],
          "mesh3d": [
           {
            "colorbar": {
             "outlinewidth": 0,
             "ticks": ""
            },
            "type": "mesh3d"
           }
          ],
          "parcoords": [
           {
            "line": {
             "colorbar": {
              "outlinewidth": 0,
              "ticks": ""
             }
            },
            "type": "parcoords"
           }
          ],
          "pie": [
           {
            "automargin": true,
            "type": "pie"
           }
          ],
          "scatter": [
           {
            "fillpattern": {
             "fillmode": "overlay",
             "size": 10,
             "solidity": 0.2
            },
            "type": "scatter"
           }
          ],
          "scatter3d": [
           {
            "line": {
             "colorbar": {
              "outlinewidth": 0,
              "ticks": ""
             }
            },
            "marker": {
             "colorbar": {
              "outlinewidth": 0,
              "ticks": ""
             }
            },
            "type": "scatter3d"
           }
          ],
          "scattercarpet": [
           {
            "marker": {
             "colorbar": {
              "outlinewidth": 0,
              "ticks": ""
             }
            },
            "type": "scattercarpet"
           }
          ],
          "scattergeo": [
           {
            "marker": {
             "colorbar": {
              "outlinewidth": 0,
              "ticks": ""
             }
            },
            "type": "scattergeo"
           }
          ],
          "scattergl": [
           {
            "marker": {
             "colorbar": {
              "outlinewidth": 0,
              "ticks": ""
             }
            },
            "type": "scattergl"
           }
          ],
          "scattermapbox": [
           {
            "marker": {
             "colorbar": {
              "outlinewidth": 0,
              "ticks": ""
             }
            },
            "type": "scattermapbox"
           }
          ],
          "scatterpolar": [
           {
            "marker": {
             "colorbar": {
              "outlinewidth": 0,
              "ticks": ""
             }
            },
            "type": "scatterpolar"
           }
          ],
          "scatterpolargl": [
           {
            "marker": {
             "colorbar": {
              "outlinewidth": 0,
              "ticks": ""
             }
            },
            "type": "scatterpolargl"
           }
          ],
          "scatterternary": [
           {
            "marker": {
             "colorbar": {
              "outlinewidth": 0,
              "ticks": ""
             }
            },
            "type": "scatterternary"
           }
          ],
          "surface": [
           {
            "colorbar": {
             "outlinewidth": 0,
             "ticks": ""
            },
            "colorscale": [
             [
              0,
              "#0d0887"
             ],
             [
              0.1111111111111111,
              "#46039f"
             ],
             [
              0.2222222222222222,
              "#7201a8"
             ],
             [
              0.3333333333333333,
              "#9c179e"
             ],
             [
              0.4444444444444444,
              "#bd3786"
             ],
             [
              0.5555555555555556,
              "#d8576b"
             ],
             [
              0.6666666666666666,
              "#ed7953"
             ],
             [
              0.7777777777777778,
              "#fb9f3a"
             ],
             [
              0.8888888888888888,
              "#fdca26"
             ],
             [
              1,
              "#f0f921"
             ]
            ],
            "type": "surface"
           }
          ],
          "table": [
           {
            "cells": {
             "fill": {
              "color": "#EBF0F8"
             },
             "line": {
              "color": "white"
             }
            },
            "header": {
             "fill": {
              "color": "#C8D4E3"
             },
             "line": {
              "color": "white"
             }
            },
            "type": "table"
           }
          ]
         },
         "layout": {
          "annotationdefaults": {
           "arrowcolor": "#2a3f5f",
           "arrowhead": 0,
           "arrowwidth": 1
          },
          "autotypenumbers": "strict",
          "coloraxis": {
           "colorbar": {
            "outlinewidth": 0,
            "ticks": ""
           }
          },
          "colorscale": {
           "diverging": [
            [
             0,
             "#8e0152"
            ],
            [
             0.1,
             "#c51b7d"
            ],
            [
             0.2,
             "#de77ae"
            ],
            [
             0.3,
             "#f1b6da"
            ],
            [
             0.4,
             "#fde0ef"
            ],
            [
             0.5,
             "#f7f7f7"
            ],
            [
             0.6,
             "#e6f5d0"
            ],
            [
             0.7,
             "#b8e186"
            ],
            [
             0.8,
             "#7fbc41"
            ],
            [
             0.9,
             "#4d9221"
            ],
            [
             1,
             "#276419"
            ]
           ],
           "sequential": [
            [
             0,
             "#0d0887"
            ],
            [
             0.1111111111111111,
             "#46039f"
            ],
            [
             0.2222222222222222,
             "#7201a8"
            ],
            [
             0.3333333333333333,
             "#9c179e"
            ],
            [
             0.4444444444444444,
             "#bd3786"
            ],
            [
             0.5555555555555556,
             "#d8576b"
            ],
            [
             0.6666666666666666,
             "#ed7953"
            ],
            [
             0.7777777777777778,
             "#fb9f3a"
            ],
            [
             0.8888888888888888,
             "#fdca26"
            ],
            [
             1,
             "#f0f921"
            ]
           ],
           "sequentialminus": [
            [
             0,
             "#0d0887"
            ],
            [
             0.1111111111111111,
             "#46039f"
            ],
            [
             0.2222222222222222,
             "#7201a8"
            ],
            [
             0.3333333333333333,
             "#9c179e"
            ],
            [
             0.4444444444444444,
             "#bd3786"
            ],
            [
             0.5555555555555556,
             "#d8576b"
            ],
            [
             0.6666666666666666,
             "#ed7953"
            ],
            [
             0.7777777777777778,
             "#fb9f3a"
            ],
            [
             0.8888888888888888,
             "#fdca26"
            ],
            [
             1,
             "#f0f921"
            ]
           ]
          },
          "colorway": [
           "#636efa",
           "#EF553B",
           "#00cc96",
           "#ab63fa",
           "#FFA15A",
           "#19d3f3",
           "#FF6692",
           "#B6E880",
           "#FF97FF",
           "#FECB52"
          ],
          "font": {
           "color": "#2a3f5f"
          },
          "geo": {
           "bgcolor": "white",
           "lakecolor": "white",
           "landcolor": "#E5ECF6",
           "showlakes": true,
           "showland": true,
           "subunitcolor": "white"
          },
          "hoverlabel": {
           "align": "left"
          },
          "hovermode": "closest",
          "mapbox": {
           "style": "light"
          },
          "paper_bgcolor": "white",
          "plot_bgcolor": "#E5ECF6",
          "polar": {
           "angularaxis": {
            "gridcolor": "white",
            "linecolor": "white",
            "ticks": ""
           },
           "bgcolor": "#E5ECF6",
           "radialaxis": {
            "gridcolor": "white",
            "linecolor": "white",
            "ticks": ""
           }
          },
          "scene": {
           "xaxis": {
            "backgroundcolor": "#E5ECF6",
            "gridcolor": "white",
            "gridwidth": 2,
            "linecolor": "white",
            "showbackground": true,
            "ticks": "",
            "zerolinecolor": "white"
           },
           "yaxis": {
            "backgroundcolor": "#E5ECF6",
            "gridcolor": "white",
            "gridwidth": 2,
            "linecolor": "white",
            "showbackground": true,
            "ticks": "",
            "zerolinecolor": "white"
           },
           "zaxis": {
            "backgroundcolor": "#E5ECF6",
            "gridcolor": "white",
            "gridwidth": 2,
            "linecolor": "white",
            "showbackground": true,
            "ticks": "",
            "zerolinecolor": "white"
           }
          },
          "shapedefaults": {
           "line": {
            "color": "#2a3f5f"
           }
          },
          "ternary": {
           "aaxis": {
            "gridcolor": "white",
            "linecolor": "white",
            "ticks": ""
           },
           "baxis": {
            "gridcolor": "white",
            "linecolor": "white",
            "ticks": ""
           },
           "bgcolor": "#E5ECF6",
           "caxis": {
            "gridcolor": "white",
            "linecolor": "white",
            "ticks": ""
           }
          },
          "title": {
           "x": 0.05
          },
          "xaxis": {
           "automargin": true,
           "gridcolor": "white",
           "linecolor": "white",
           "ticks": "",
           "title": {
            "standoff": 15
           },
           "zerolinecolor": "white",
           "zerolinewidth": 2
          },
          "yaxis": {
           "automargin": true,
           "gridcolor": "white",
           "linecolor": "white",
           "ticks": "",
           "title": {
            "standoff": 15
           },
           "zerolinecolor": "white",
           "zerolinewidth": 2
          }
         }
        },
        "title": {
         "text": "Total Flights Distribution Across Routes by Airline (Total Flights per Route per Airline)"
        },
        "xaxis": {
         "anchor": "y",
         "autorange": true,
         "domain": [
          0,
          1
         ],
         "range": [
          -0.5,
          87.5
         ],
         "title": {
          "text": "Route"
         },
         "type": "category"
        },
        "yaxis": {
         "anchor": "x",
         "autorange": true,
         "domain": [
          0,
          1
         ],
         "range": [
          0,
          168.42105263157896
         ],
         "title": {
          "text": "Total Flights"
         },
         "type": "linear"
        }
       }
      },
      "image/png": "[encoded data removed]",
      "text/html": [
       "<div>                            <div id=\"cc4eaa1b-651f-472c-812e-5439eb2beeaa\" class=\"plotly-graph-div\" style=\"height:700px; width:100%;\"></div>            <script type=\"text/javascript\">                require([\"plotly\"], function(Plotly) {                    window.PLOTLYENV=window.PLOTLYENV || {};                                    if (document.getElementById(\"cc4eaa1b-651f-472c-812e-5439eb2beeaa\")) {                    Plotly.newPlot(                        \"cc4eaa1b-651f-472c-812e-5439eb2beeaa\",                        [{\"alignmentgroup\":\"True\",\"customdata\":[[\"Singapore Airlines\"],[\"Singapore Airlines\"],[\"Singapore Airlines\"],[\"Singapore Airlines\"],[\"Singapore Airlines\"],[\"Singapore Airlines\"],[\"Singapore Airlines\"]],\"hovertemplate\":\"Airline=%{customdata[0]}\\u003cbr\\u003eTotal Flights=%{y}\\u003cextra\\u003e\\u003c\\u002fextra\\u003e\",\"legendgroup\":\"Singapore Airlines\",\"marker\":{\"color\":\"#636efa\",\"pattern\":{\"shape\":\"\"}},\"name\":\"Singapore Airlines\",\"offsetgroup\":\"Singapore Airlines\",\"orientation\":\"v\",\"showlegend\":true,\"textposition\":\"auto\",\"x\":[\"SYD-SIN\",\"MEL-SIN\",\"PER-SIN\",\"BNE-SIN\",\"ADL-SIN\",\"CNS-SIN\",\"DRW-SIN\"],\"xaxis\":\"x\",\"y\":[97,93,80,77,20,2,1],\"yaxis\":\"y\",\"type\":\"bar\"},{\"alignmentgroup\":\"True\",\"customdata\":[[\"Qantas Airways\"],[\"Qantas Airways\"],[\"Qantas Airways\"],[\"Qantas Airways\"],[\"Qantas Airways\"],[\"Qantas Airways\"],[\"Qantas Airways\"],[\"Qantas Airways\"],[\"Qantas Airways\"],[\"Qantas Airways\"],[\"Qantas Airways\"],[\"Qantas Airways\"],[\"Qantas Airways\"],[\"Qantas Airways\"],[\"Qantas Airways\"],[\"Qantas Airways\"],[\"Qantas Airways\"],[\"Qantas Airways\"],[\"Qantas Airways\"]],\"hovertemplate\":\"Airline=%{customdata[0]}\\u003cbr\\u003eTotal Flights=%{y}\\u003cextra\\u003e\\u003c\\u002fextra\\u003e\",\"legendgroup\":\"Qantas Airways\",\"marker\":{\"color\":\"#EF553B\",\"pattern\":{\"shape\":\"\"}},\"name\":\"Qantas Airways\",\"offsetgroup\":\"Qantas Airways\",\"orientation\":\"v\",\"showlegend\":true,\"textposition\":\"auto\",\"x\":[\"SYD-DRW-LON\",\"MEL-DRW-LON\",\"MEL-ADL-DEL\",\"SYD-LAX\",\"SYD-ADL-DEL\",\"SYD-SIN\",\"MEL-LAX\",\"SYD-DFW\",\"SYD-AKL\",\"MEL-SIN\",\"SYD-JNB\",\"SYD-BKK\",\"SYD-YVR\",\"SYD-NAN\",\"SYD-MNL\",\"SYD-HNL\",\"BNE-SIN\",\"PER-SIN\",\"DRW-DIL\"],\"xaxis\":\"x\",\"y\":[60,58,36,32,30,30,21,18,18,17,16,14,12,9,5,3,2,1,1],\"yaxis\":\"y\",\"type\":\"bar\"},{\"alignmentgroup\":\"True\",\"customdata\":[[\"Emirates\"],[\"Emirates\"],[\"Emirates\"],[\"Emirates\"]],\"hovertemplate\":\"Airline=%{customdata[0]}\\u003cbr\\u003eTotal Flights=%{y}\\u003cextra\\u003e\\u003c\\u002fextra\\u003e\",\"legendgroup\":\"Emirates\",\"marker\":{\"color\":\"#00cc96\",\"pattern\":{\"shape\":\"\"}},\"name\":\"Emirates\",\"offsetgroup\":\"Emirates\",\"orientation\":\"v\",\"showlegend\":true,\"textposition\":\"auto\",\"x\":[\"SYD-DXB\",\"BNE-DXB\",\"MEL-DXB\",\"PER-DXB\"],\"xaxis\":\"x\",\"y\":[60,31,31,13],\"yaxis\":\"y\",\"type\":\"bar\"},{\"alignmentgroup\":\"True\",\"customdata\":[[\"Fiji Airways\"],[\"Fiji Airways\"],[\"Fiji Airways\"]],\"hovertemplate\":\"Airline=%{customdata[0]}\\u003cbr\\u003eTotal Flights=%{y}\\u003cextra\\u003e\\u003c\\u002fextra\\u003e\",\"legendgroup\":\"Fiji Airways\",\"marker\":{\"color\":\"#ab63fa\",\"pattern\":{\"shape\":\"\"}},\"name\":\"Fiji Airways\",\"offsetgroup\":\"Fiji Airways\",\"orientation\":\"v\",\"showlegend\":true,\"textposition\":\"auto\",\"x\":[\"SYD-NAN\",\"MEL-NAN\",\"BNE-NAN\"],\"xaxis\":\"x\",\"y\":[50,22,13],\"yaxis\":\"y\",\"type\":\"bar\"},{\"alignmentgroup\":\"True\",\"customdata\":[[\"Air New Zealand\"],[\"Air New Zealand\"],[\"Air New Zealand\"],[\"Air New Zealand\"],[\"Air New Zealand\"],[\"Air New Zealand\"],[\"Air New Zealand\"],[\"Air New Zealand\"]],\"hovertemplate\":\"Airline=%{customdata[0]}\\u003cbr\\u003eTotal Flights=%{y}\\u003cextra\\u003e\\u003c\\u002fextra\\u003e\",\"legendgroup\":\"Air New Zealand\",\"marker\":{\"color\":\"#FFA15A\",\"pattern\":{\"shape\":\"\"}},\"name\":\"Air New Zealand\",\"offsetgroup\":\"Air New Zealand\",\"orientation\":\"v\",\"showlegend\":true,\"textposition\":\"auto\",\"x\":[\"SYD-AKL\",\"MEL-AKL\",\"BNE-AKL\",\"MEL-CHC\",\"SYD-CHC\",\"BNE-CHC\",\"PER-AKL\",\"BNE-WLG\"],\"xaxis\":\"x\",\"y\":[37,33,23,14,13,12,5,1],\"yaxis\":\"y\",\"type\":\"bar\"},{\"alignmentgroup\":\"True\",\"customdata\":[[\"Scoot Tigerair\"],[\"Scoot Tigerair\"],[\"Scoot Tigerair\"]],\"hovertemplate\":\"Airline=%{customdata[0]}\\u003cbr\\u003eTotal Flights=%{y}\\u003cextra\\u003e\\u003c\\u002fextra\\u003e\",\"legendgroup\":\"Scoot Tigerair\",\"marker\":{\"color\":\"#19d3f3\",\"pattern\":{\"shape\":\"\"}},\"name\":\"Scoot Tigerair\",\"offsetgroup\":\"Scoot Tigerair\",\"orientation\":\"v\",\"showlegend\":true,\"textposition\":\"auto\",\"x\":[\"SYD-SIN\",\"MEL-SIN\",\"PER-SIN\"],\"xaxis\":\"x\",\"y\":[33,32,31],\"yaxis\":\"y\",\"type\":\"bar\"},{\"alignmentgroup\":\"True\",\"customdata\":[[\"Qatar Airways\"],[\"Qatar Airways\"],[\"Qatar Airways\"],[\"Qatar Airways\"],[\"Qatar Airways\"]],\"hovertemplate\":\"Airline=%{customdata[0]}\\u003cbr\\u003eTotal Flights=%{y}\\u003cextra\\u003e\\u003c\\u002fextra\\u003e\",\"legendgroup\":\"Qatar Airways\",\"marker\":{\"color\":\"#FF6692\",\"pattern\":{\"shape\":\"\"}},\"name\":\"Qatar Airways\",\"offsetgroup\":\"Qatar Airways\",\"orientation\":\"v\",\"showlegend\":true,\"textposition\":\"auto\",\"x\":[\"BNE-DOH\",\"SYD-DOH\",\"MEL-DOH\",\"PER-DOH\",\"ADL-DOH\"],\"xaxis\":\"x\",\"y\":[31,31,30,25,12],\"yaxis\":\"y\",\"type\":\"bar\"},{\"alignmentgroup\":\"True\",\"customdata\":[[\"United Airlines\"],[\"United Airlines\"]],\"hovertemplate\":\"Airline=%{customdata[0]}\\u003cbr\\u003eTotal Flights=%{y}\\u003cextra\\u003e\\u003c\\u002fextra\\u003e\",\"legendgroup\":\"United Airlines\",\"marker\":{\"color\":\"#B6E880\",\"pattern\":{\"shape\":\"\"}},\"name\":\"United Airlines\",\"offsetgroup\":\"United Airlines\",\"orientation\":\"v\",\"showlegend\":true,\"textposition\":\"auto\",\"x\":[\"SYD-SFO\",\"SYD-LAX\"],\"xaxis\":\"x\",\"y\":[31,31],\"yaxis\":\"y\",\"type\":\"bar\"},{\"alignmentgroup\":\"True\",\"customdata\":[[\"Delta Air Lines\"]],\"hovertemplate\":\"Airline=%{customdata[0]}\\u003cbr\\u003eTotal Flights=%{y}\\u003cextra\\u003e\\u003c\\u002fextra\\u003e\",\"legendgroup\":\"Delta Air Lines\",\"marker\":{\"color\":\"#FF97FF\",\"pattern\":{\"shape\":\"\"}},\"name\":\"Delta Air Lines\",\"offsetgroup\":\"Delta Air Lines\",\"orientation\":\"v\",\"showlegend\":true,\"textposition\":\"auto\",\"x\":[\"SYD-LAX\"],\"xaxis\":\"x\",\"y\":[30],\"yaxis\":\"y\",\"type\":\"bar\"},{\"alignmentgroup\":\"True\",\"customdata\":[[\"American Airlines\"]],\"hovertemplate\":\"Airline=%{customdata[0]}\\u003cbr\\u003eTotal Flights=%{y}\\u003cextra\\u003e\\u003c\\u002fextra\\u003e\",\"legendgroup\":\"American Airlines\",\"marker\":{\"color\":\"#FECB52\",\"pattern\":{\"shape\":\"\"}},\"name\":\"American Airlines\",\"offsetgroup\":\"American Airlines\",\"orientation\":\"v\",\"showlegend\":true,\"textposition\":\"auto\",\"x\":[\"SYD-LAX\"],\"xaxis\":\"x\",\"y\":[27],\"yaxis\":\"y\",\"type\":\"bar\"},{\"alignmentgroup\":\"True\",\"customdata\":[[\"SriLankan Airlines\"],[\"SriLankan Airlines\"]],\"hovertemplate\":\"Airline=%{customdata[0]}\\u003cbr\\u003eTotal Flights=%{y}\\u003cextra\\u003e\\u003c\\u002fextra\\u003e\",\"legendgroup\":\"SriLankan Airlines\",\"marker\":{\"color\":\"#636efa\",\"pattern\":{\"shape\":\"\"}},\"name\":\"SriLankan Airlines\",\"offsetgroup\":\"SriLankan Airlines\",\"orientation\":\"v\",\"showlegend\":true,\"textposition\":\"auto\",\"x\":[\"MEL-CMB\",\"SYD-CMB\"],\"xaxis\":\"x\",\"y\":[26,19],\"yaxis\":\"y\",\"type\":\"bar\"},{\"alignmentgroup\":\"True\",\"customdata\":[[\"Air Niugini\"],[\"Air Niugini\"],[\"Air Niugini\"]],\"hovertemplate\":\"Airline=%{customdata[0]}\\u003cbr\\u003eTotal Flights=%{y}\\u003cextra\\u003e\\u003c\\u002fextra\\u003e\",\"legendgroup\":\"Air Niugini\",\"marker\":{\"color\":\"#EF553B\",\"pattern\":{\"shape\":\"\"}},\"name\":\"Air Niugini\",\"offsetgroup\":\"Air Niugini\",\"orientation\":\"v\",\"showlegend\":true,\"textposition\":\"auto\",\"x\":[\"BNE-POM\",\"BNE-CNS-POM\",\"SYD-POM\"],\"xaxis\":\"x\",\"y\":[24,8,4],\"yaxis\":\"y\",\"type\":\"bar\"},{\"alignmentgroup\":\"True\",\"customdata\":[[\"Malaysia Airlines\"],[\"Malaysia Airlines\"],[\"Malaysia Airlines\"],[\"Malaysia Airlines\"],[\"Malaysia Airlines\"]],\"hovertemplate\":\"Airline=%{customdata[0]}\\u003cbr\\u003eTotal Flights=%{y}\\u003cextra\\u003e\\u003c\\u002fextra\\u003e\",\"legendgroup\":\"Malaysia Airlines\",\"marker\":{\"color\":\"#00cc96\",\"pattern\":{\"shape\":\"\"}},\"name\":\"Malaysia Airlines\",\"offsetgroup\":\"Malaysia Airlines\",\"orientation\":\"v\",\"showlegend\":true,\"textposition\":\"auto\",\"x\":[\"MEL-KUL\",\"SYD-KUL\",\"PER-KUL\",\"ADL-KUL\",\"BNE-KUL\"],\"xaxis\":\"x\",\"y\":[24,17,7,2,2],\"yaxis\":\"y\",\"type\":\"bar\"},{\"alignmentgroup\":\"True\",\"customdata\":[[\"Etihad Airways\"],[\"Etihad Airways\"]],\"hovertemplate\":\"Airline=%{customdata[0]}\\u003cbr\\u003eTotal Flights=%{y}\\u003cextra\\u003e\\u003c\\u002fextra\\u003e\",\"legendgroup\":\"Etihad Airways\",\"marker\":{\"color\":\"#ab63fa\",\"pattern\":{\"shape\":\"\"}},\"name\":\"Etihad Airways\",\"offsetgroup\":\"Etihad Airways\",\"orientation\":\"v\",\"showlegend\":true,\"textposition\":\"auto\",\"x\":[\"SYD-AUH\",\"MEL-AUH\"],\"xaxis\":\"x\",\"y\":[24,21],\"yaxis\":\"y\",\"type\":\"bar\"},{\"alignmentgroup\":\"True\",\"customdata\":[[\"All Nippon Airways\"]],\"hovertemplate\":\"Airline=%{customdata[0]}\\u003cbr\\u003eTotal Flights=%{y}\\u003cextra\\u003e\\u003c\\u002fextra\\u003e\",\"legendgroup\":\"All Nippon Airways\",\"marker\":{\"color\":\"#FFA15A\",\"pattern\":{\"shape\":\"\"}},\"name\":\"All Nippon Airways\",\"offsetgroup\":\"All Nippon Airways\",\"orientation\":\"v\",\"showlegend\":true,\"textposition\":\"auto\",\"x\":[\"SYD-TYO\"],\"xaxis\":\"x\",\"y\":[22],\"yaxis\":\"y\",\"type\":\"bar\"},{\"alignmentgroup\":\"True\",\"customdata\":[[\"Thai Airways International\"],[\"Thai Airways International\"],[\"Thai Airways International\"]],\"hovertemplate\":\"Airline=%{customdata[0]}\\u003cbr\\u003eTotal Flights=%{y}\\u003cextra\\u003e\\u003c\\u002fextra\\u003e\",\"legendgroup\":\"Thai Airways International\",\"marker\":{\"color\":\"#19d3f3\",\"pattern\":{\"shape\":\"\"}},\"name\":\"Thai Airways International\",\"offsetgroup\":\"Thai Airways International\",\"orientation\":\"v\",\"showlegend\":true,\"textposition\":\"auto\",\"x\":[\"SYD-BKK\",\"SYD-HKT-BKK\",\"MEL-BKK\"],\"xaxis\":\"x\",\"y\":[22,20,4],\"yaxis\":\"y\",\"type\":\"bar\"},{\"alignmentgroup\":\"True\",\"customdata\":[[\"Air India\"],[\"Air India\"]],\"hovertemplate\":\"Airline=%{customdata[0]}\\u003cbr\\u003eTotal Flights=%{y}\\u003cextra\\u003e\\u003c\\u002fextra\\u003e\",\"legendgroup\":\"Air India\",\"marker\":{\"color\":\"#FF6692\",\"pattern\":{\"shape\":\"\"}},\"name\":\"Air India\",\"offsetgroup\":\"Air India\",\"orientation\":\"v\",\"showlegend\":true,\"textposition\":\"auto\",\"x\":[\"SYD-DEL\",\"MEL-DEL\"],\"xaxis\":\"x\",\"y\":[20,18],\"yaxis\":\"y\",\"type\":\"bar\"},{\"alignmentgroup\":\"True\",\"customdata\":[[\"Hawaiian Airlines\"]],\"hovertemplate\":\"Airline=%{customdata[0]}\\u003cbr\\u003eTotal Flights=%{y}\\u003cextra\\u003e\\u003c\\u002fextra\\u003e\",\"legendgroup\":\"Hawaiian Airlines\",\"marker\":{\"color\":\"#B6E880\",\"pattern\":{\"shape\":\"\"}},\"name\":\"Hawaiian Airlines\",\"offsetgroup\":\"Hawaiian Airlines\",\"orientation\":\"v\",\"showlegend\":true,\"textposition\":\"auto\",\"x\":[\"SYD-HNL\"],\"xaxis\":\"x\",\"y\":[18],\"yaxis\":\"y\",\"type\":\"bar\"},{\"alignmentgroup\":\"True\",\"customdata\":[[\"Japan Airlines\"],[\"Japan Airlines\"]],\"hovertemplate\":\"Airline=%{customdata[0]}\\u003cbr\\u003eTotal Flights=%{y}\\u003cextra\\u003e\\u003c\\u002fextra\\u003e\",\"legendgroup\":\"Japan Airlines\",\"marker\":{\"color\":\"#FF97FF\",\"pattern\":{\"shape\":\"\"}},\"name\":\"Japan Airlines\",\"offsetgroup\":\"Japan Airlines\",\"orientation\":\"v\",\"showlegend\":true,\"textposition\":\"auto\",\"x\":[\"SYD-TYO\",\"MEL-TYO\"],\"xaxis\":\"x\",\"y\":[15,9],\"yaxis\":\"y\",\"type\":\"bar\"},{\"alignmentgroup\":\"True\",\"customdata\":[[\"Air Canada\"]],\"hovertemplate\":\"Airline=%{customdata[0]}\\u003cbr\\u003eTotal Flights=%{y}\\u003cextra\\u003e\\u003c\\u002fextra\\u003e\",\"legendgroup\":\"Air Canada\",\"marker\":{\"color\":\"#FECB52\",\"pattern\":{\"shape\":\"\"}},\"name\":\"Air Canada\",\"offsetgroup\":\"Air Canada\",\"orientation\":\"v\",\"showlegend\":true,\"textposition\":\"auto\",\"x\":[\"SYD-YVR\"],\"xaxis\":\"x\",\"y\":[14],\"yaxis\":\"y\",\"type\":\"bar\"},{\"alignmentgroup\":\"True\",\"customdata\":[[\"Vietnam Airlines\"],[\"Vietnam Airlines\"],[\"Vietnam Airlines\"]],\"hovertemplate\":\"Airline=%{customdata[0]}\\u003cbr\\u003eTotal Flights=%{y}\\u003cextra\\u003e\\u003c\\u002fextra\\u003e\",\"legendgroup\":\"Vietnam Airlines\",\"marker\":{\"color\":\"#636efa\",\"pattern\":{\"shape\":\"\"}},\"name\":\"Vietnam Airlines\",\"offsetgroup\":\"Vietnam Airlines\",\"orientation\":\"v\",\"showlegend\":true,\"textposition\":\"auto\",\"x\":[\"MEL-SGN\",\"SYD-SGN\",\"SYD-HAN\"],\"xaxis\":\"x\",\"y\":[13,13,4],\"yaxis\":\"y\",\"type\":\"bar\"},{\"alignmentgroup\":\"True\",\"customdata\":[[\"Virgin Australia\"]],\"hovertemplate\":\"Airline=%{customdata[0]}\\u003cbr\\u003eTotal Flights=%{y}\\u003cextra\\u003e\\u003c\\u002fextra\\u003e\",\"legendgroup\":\"Virgin Australia\",\"marker\":{\"color\":\"#EF553B\",\"pattern\":{\"shape\":\"\"}},\"name\":\"Virgin Australia\",\"offsetgroup\":\"Virgin Australia\",\"orientation\":\"v\",\"showlegend\":true,\"textposition\":\"auto\",\"x\":[\"SYD-NAN\"],\"xaxis\":\"x\",\"y\":[13],\"yaxis\":\"y\",\"type\":\"bar\"},{\"alignmentgroup\":\"True\",\"customdata\":[[\"Philippine Airlines\"],[\"Philippine Airlines\"],[\"Philippine Airlines\"]],\"hovertemplate\":\"Airline=%{customdata[0]}\\u003cbr\\u003eTotal Flights=%{y}\\u003cextra\\u003e\\u003c\\u002fextra\\u003e\",\"legendgroup\":\"Philippine Airlines\",\"marker\":{\"color\":\"#00cc96\",\"pattern\":{\"shape\":\"\"}},\"name\":\"Philippine Airlines\",\"offsetgroup\":\"Philippine Airlines\",\"orientation\":\"v\",\"showlegend\":true,\"textposition\":\"auto\",\"x\":[\"SYD-MNL\",\"MEL-MNL\",\"BNE-MNL\"],\"xaxis\":\"x\",\"y\":[13,9,4],\"yaxis\":\"y\",\"type\":\"bar\"},{\"alignmentgroup\":\"True\",\"customdata\":[[\"Jetstar\"],[\"Jetstar\"],[\"Jetstar\"],[\"Jetstar\"],[\"Jetstar\"],[\"Jetstar\"],[\"Jetstar\"]],\"hovertemplate\":\"Airline=%{customdata[0]}\\u003cbr\\u003eTotal Flights=%{y}\\u003cextra\\u003e\\u003c\\u002fextra\\u003e\",\"legendgroup\":\"Jetstar\",\"marker\":{\"color\":\"#ab63fa\",\"pattern\":{\"shape\":\"\"}},\"name\":\"Jetstar\",\"offsetgroup\":\"Jetstar\",\"orientation\":\"v\",\"showlegend\":true,\"textposition\":\"auto\",\"x\":[\"MEL-SIN\",\"SYD-HNL\",\"SYD-NAN\",\"MEL-HKT\",\"MEL-DPS\",\"MEL-HNL\",\"SYD-HKT\"],\"xaxis\":\"x\",\"y\":[13,13,12,9,8,6,4],\"yaxis\":\"y\",\"type\":\"bar\"},{\"alignmentgroup\":\"True\",\"customdata\":[[\"Air Caledonie\"],[\"Air Caledonie\"]],\"hovertemplate\":\"Airline=%{customdata[0]}\\u003cbr\\u003eTotal Flights=%{y}\\u003cextra\\u003e\\u003c\\u002fextra\\u003e\",\"legendgroup\":\"Air Caledonie\",\"marker\":{\"color\":\"#FFA15A\",\"pattern\":{\"shape\":\"\"}},\"name\":\"Air Caledonie\",\"offsetgroup\":\"Air Caledonie\",\"orientation\":\"v\",\"showlegend\":true,\"textposition\":\"auto\",\"x\":[\"SYD-NOU\",\"BNE-NOU\"],\"xaxis\":\"x\",\"y\":[9,5],\"yaxis\":\"y\",\"type\":\"bar\"},{\"alignmentgroup\":\"True\",\"customdata\":[[\"Korean Air\"]],\"hovertemplate\":\"Airline=%{customdata[0]}\\u003cbr\\u003eTotal Flights=%{y}\\u003cextra\\u003e\\u003c\\u002fextra\\u003e\",\"legendgroup\":\"Korean Air\",\"marker\":{\"color\":\"#19d3f3\",\"pattern\":{\"shape\":\"\"}},\"name\":\"Korean Air\",\"offsetgroup\":\"Korean Air\",\"orientation\":\"v\",\"showlegend\":true,\"textposition\":\"auto\",\"x\":[\"SYD-SEL\"],\"xaxis\":\"x\",\"y\":[9],\"yaxis\":\"y\",\"type\":\"bar\"},{\"alignmentgroup\":\"True\",\"customdata\":[[\"Jetstar Asia\"],[\"Jetstar Asia\"]],\"hovertemplate\":\"Airline=%{customdata[0]}\\u003cbr\\u003eTotal Flights=%{y}\\u003cextra\\u003e\\u003c\\u002fextra\\u003e\",\"legendgroup\":\"Jetstar Asia\",\"marker\":{\"color\":\"#FF6692\",\"pattern\":{\"shape\":\"\"}},\"name\":\"Jetstar Asia\",\"offsetgroup\":\"Jetstar Asia\",\"orientation\":\"v\",\"showlegend\":true,\"textposition\":\"auto\",\"x\":[\"DRW-SIN\",\"PER-SIN\"],\"xaxis\":\"x\",\"y\":[9,6],\"yaxis\":\"y\",\"type\":\"bar\"},{\"alignmentgroup\":\"True\",\"customdata\":[[\"Asiana Airlines\"]],\"hovertemplate\":\"Airline=%{customdata[0]}\\u003cbr\\u003eTotal Flights=%{y}\\u003cextra\\u003e\\u003c\\u002fextra\\u003e\",\"legendgroup\":\"Asiana Airlines\",\"marker\":{\"color\":\"#B6E880\",\"pattern\":{\"shape\":\"\"}},\"name\":\"Asiana Airlines\",\"offsetgroup\":\"Asiana Airlines\",\"orientation\":\"v\",\"showlegend\":true,\"textposition\":\"auto\",\"x\":[\"SYD-SEL\"],\"xaxis\":\"x\",\"y\":[9],\"yaxis\":\"y\",\"type\":\"bar\"},{\"alignmentgroup\":\"True\",\"customdata\":[[\"Royal Brunei Airlines\"]],\"hovertemplate\":\"Airline=%{customdata[0]}\\u003cbr\\u003eTotal Flights=%{y}\\u003cextra\\u003e\\u003c\\u002fextra\\u003e\",\"legendgroup\":\"Royal Brunei Airlines\",\"marker\":{\"color\":\"#FF97FF\",\"pattern\":{\"shape\":\"\"}},\"name\":\"Royal Brunei Airlines\",\"offsetgroup\":\"Royal Brunei Airlines\",\"orientation\":\"v\",\"showlegend\":true,\"textposition\":\"auto\",\"x\":[\"MEL-BWN\"],\"xaxis\":\"x\",\"y\":[7],\"yaxis\":\"y\",\"type\":\"bar\"},{\"alignmentgroup\":\"True\",\"customdata\":[[\"British Airways\"]],\"hovertemplate\":\"Airline=%{customdata[0]}\\u003cbr\\u003eTotal Flights=%{y}\\u003cextra\\u003e\\u003c\\u002fextra\\u003e\",\"legendgroup\":\"British Airways\",\"marker\":{\"color\":\"#FECB52\",\"pattern\":{\"shape\":\"\"}},\"name\":\"British Airways\",\"offsetgroup\":\"British Airways\",\"orientation\":\"v\",\"showlegend\":true,\"textposition\":\"auto\",\"x\":[\"SYD-SIN-LON\"],\"xaxis\":\"x\",\"y\":[6],\"yaxis\":\"y\",\"type\":\"bar\"},{\"alignmentgroup\":\"True\",\"customdata\":[[\"Xiamen Airlines\"],[\"Xiamen Airlines\"]],\"hovertemplate\":\"Airline=%{customdata[0]}\\u003cbr\\u003eTotal Flights=%{y}\\u003cextra\\u003e\\u003c\\u002fextra\\u003e\",\"legendgroup\":\"Xiamen Airlines\",\"marker\":{\"color\":\"#636efa\",\"pattern\":{\"shape\":\"\"}},\"name\":\"Xiamen Airlines\",\"offsetgroup\":\"Xiamen Airlines\",\"orientation\":\"v\",\"showlegend\":true,\"textposition\":\"auto\",\"x\":[\"SYD-XMN\",\"MEL-XMN\"],\"xaxis\":\"x\",\"y\":[5,4],\"yaxis\":\"y\",\"type\":\"bar\"},{\"alignmentgroup\":\"True\",\"customdata\":[[\"Nauru Airlines\"]],\"hovertemplate\":\"Airline=%{customdata[0]}\\u003cbr\\u003eTotal Flights=%{y}\\u003cextra\\u003e\\u003c\\u002fextra\\u003e\",\"legendgroup\":\"Nauru Airlines\",\"marker\":{\"color\":\"#EF553B\",\"pattern\":{\"shape\":\"\"}},\"name\":\"Nauru Airlines\",\"offsetgroup\":\"Nauru Airlines\",\"orientation\":\"v\",\"showlegend\":true,\"textposition\":\"auto\",\"x\":[\"BNE-INU\"],\"xaxis\":\"x\",\"y\":[5],\"yaxis\":\"y\",\"type\":\"bar\"},{\"alignmentgroup\":\"True\",\"customdata\":[[\"Malindo Air\"]],\"hovertemplate\":\"Airline=%{customdata[0]}\\u003cbr\\u003eTotal Flights=%{y}\\u003cextra\\u003e\\u003c\\u002fextra\\u003e\",\"legendgroup\":\"Malindo Air\",\"marker\":{\"color\":\"#00cc96\",\"pattern\":{\"shape\":\"\"}},\"name\":\"Malindo Air\",\"offsetgroup\":\"Malindo Air\",\"orientation\":\"v\",\"showlegend\":true,\"textposition\":\"auto\",\"x\":[\"PER-KUL\"],\"xaxis\":\"x\",\"y\":[5],\"yaxis\":\"y\",\"type\":\"bar\"},{\"alignmentgroup\":\"True\",\"customdata\":[[\"Garuda Indonesia\"],[\"Garuda Indonesia\"]],\"hovertemplate\":\"Airline=%{customdata[0]}\\u003cbr\\u003eTotal Flights=%{y}\\u003cextra\\u003e\\u003c\\u002fextra\\u003e\",\"legendgroup\":\"Garuda Indonesia\",\"marker\":{\"color\":\"#ab63fa\",\"pattern\":{\"shape\":\"\"}},\"name\":\"Garuda Indonesia\",\"offsetgroup\":\"Garuda Indonesia\",\"orientation\":\"v\",\"showlegend\":true,\"textposition\":\"auto\",\"x\":[\"SYD-JKT\",\"SYD-DPS\"],\"xaxis\":\"x\",\"y\":[5,3],\"yaxis\":\"y\",\"type\":\"bar\"},{\"alignmentgroup\":\"True\",\"customdata\":[[\"AirAsia X\"]],\"hovertemplate\":\"Airline=%{customdata[0]}\\u003cbr\\u003eTotal Flights=%{y}\\u003cextra\\u003e\\u003c\\u002fextra\\u003e\",\"legendgroup\":\"AirAsia X\",\"marker\":{\"color\":\"#FFA15A\",\"pattern\":{\"shape\":\"\"}},\"name\":\"AirAsia X\",\"offsetgroup\":\"AirAsia X\",\"orientation\":\"v\",\"showlegend\":true,\"textposition\":\"auto\",\"x\":[\"SYD-KUL\"],\"xaxis\":\"x\",\"y\":[4],\"yaxis\":\"y\",\"type\":\"bar\"},{\"alignmentgroup\":\"True\",\"customdata\":[[\"China Airlines\"],[\"China Airlines\"],[\"China Airlines\"]],\"hovertemplate\":\"Airline=%{customdata[0]}\\u003cbr\\u003eTotal Flights=%{y}\\u003cextra\\u003e\\u003c\\u002fextra\\u003e\",\"legendgroup\":\"China Airlines\",\"marker\":{\"color\":\"#19d3f3\",\"pattern\":{\"shape\":\"\"}},\"name\":\"China Airlines\",\"offsetgroup\":\"China Airlines\",\"orientation\":\"v\",\"showlegend\":true,\"textposition\":\"auto\",\"x\":[\"MEL-TPE\",\"BNE-TPE\",\"SYD-TPE\"],\"xaxis\":\"x\",\"y\":[4,4,4],\"yaxis\":\"y\",\"type\":\"bar\"},{\"alignmentgroup\":\"True\",\"customdata\":[[\"China Southern Airlines\"]],\"hovertemplate\":\"Airline=%{customdata[0]}\\u003cbr\\u003eTotal Flights=%{y}\\u003cextra\\u003e\\u003c\\u002fextra\\u003e\",\"legendgroup\":\"China Southern Airlines\",\"marker\":{\"color\":\"#FF6692\",\"pattern\":{\"shape\":\"\"}},\"name\":\"China Southern Airlines\",\"offsetgroup\":\"China Southern Airlines\",\"orientation\":\"v\",\"showlegend\":true,\"textposition\":\"auto\",\"x\":[\"SYD-CAN\"],\"xaxis\":\"x\",\"y\":[4],\"yaxis\":\"y\",\"type\":\"bar\"},{\"alignmentgroup\":\"True\",\"customdata\":[[\"Bamboo Airways\"]],\"hovertemplate\":\"Airline=%{customdata[0]}\\u003cbr\\u003eTotal Flights=%{y}\\u003cextra\\u003e\\u003c\\u002fextra\\u003e\",\"legendgroup\":\"Bamboo Airways\",\"marker\":{\"color\":\"#B6E880\",\"pattern\":{\"shape\":\"\"}},\"name\":\"Bamboo Airways\",\"offsetgroup\":\"Bamboo Airways\",\"orientation\":\"v\",\"showlegend\":true,\"textposition\":\"auto\",\"x\":[\"MEL-SGN\"],\"xaxis\":\"x\",\"y\":[4],\"yaxis\":\"y\",\"type\":\"bar\"},{\"alignmentgroup\":\"True\",\"customdata\":[[\"Solomon Airlines\"]],\"hovertemplate\":\"Airline=%{customdata[0]}\\u003cbr\\u003eTotal Flights=%{y}\\u003cextra\\u003e\\u003c\\u002fextra\\u003e\",\"legendgroup\":\"Solomon Airlines\",\"marker\":{\"color\":\"#FF97FF\",\"pattern\":{\"shape\":\"\"}},\"name\":\"Solomon Airlines\",\"offsetgroup\":\"Solomon Airlines\",\"orientation\":\"v\",\"showlegend\":true,\"textposition\":\"auto\",\"x\":[\"BNE-HIR\"],\"xaxis\":\"x\",\"y\":[4],\"yaxis\":\"y\",\"type\":\"bar\"},{\"alignmentgroup\":\"True\",\"customdata\":[[\"China Eastern Airlines\"],[\"China Eastern Airlines\"]],\"hovertemplate\":\"Airline=%{customdata[0]}\\u003cbr\\u003eTotal Flights=%{y}\\u003cextra\\u003e\\u003c\\u002fextra\\u003e\",\"legendgroup\":\"China Eastern Airlines\",\"marker\":{\"color\":\"#FECB52\",\"pattern\":{\"shape\":\"\"}},\"name\":\"China Eastern Airlines\",\"offsetgroup\":\"China Eastern Airlines\",\"orientation\":\"v\",\"showlegend\":true,\"textposition\":\"auto\",\"x\":[\"SYD-SHA\",\"SYD-KMG\"],\"xaxis\":\"x\",\"y\":[3,2],\"yaxis\":\"y\",\"type\":\"bar\"},{\"alignmentgroup\":\"True\",\"customdata\":[[\"Eva Air\"]],\"hovertemplate\":\"Airline=%{customdata[0]}\\u003cbr\\u003eTotal Flights=%{y}\\u003cextra\\u003e\\u003c\\u002fextra\\u003e\",\"legendgroup\":\"Eva Air\",\"marker\":{\"color\":\"#636efa\",\"pattern\":{\"shape\":\"\"}},\"name\":\"Eva Air\",\"offsetgroup\":\"Eva Air\",\"orientation\":\"v\",\"showlegend\":true,\"textposition\":\"auto\",\"x\":[\"BNE-TPE\"],\"xaxis\":\"x\",\"y\":[2],\"yaxis\":\"y\",\"type\":\"bar\"},{\"alignmentgroup\":\"True\",\"customdata\":[[\"Air Vanuatu\"],[\"Air Vanuatu\"]],\"hovertemplate\":\"Airline=%{customdata[0]}\\u003cbr\\u003eTotal Flights=%{y}\\u003cextra\\u003e\\u003c\\u002fextra\\u003e\",\"legendgroup\":\"Air Vanuatu\",\"marker\":{\"color\":\"#EF553B\",\"pattern\":{\"shape\":\"\"}},\"name\":\"Air Vanuatu\",\"offsetgroup\":\"Air Vanuatu\",\"orientation\":\"v\",\"showlegend\":true,\"textposition\":\"auto\",\"x\":[\"BNE-VLI\",\"SYD-VLI\"],\"xaxis\":\"x\",\"y\":[2,1],\"yaxis\":\"y\",\"type\":\"bar\"},{\"alignmentgroup\":\"True\",\"customdata\":[[\"LATAM Airlines\"]],\"hovertemplate\":\"Airline=%{customdata[0]}\\u003cbr\\u003eTotal Flights=%{y}\\u003cextra\\u003e\\u003c\\u002fextra\\u003e\",\"legendgroup\":\"LATAM Airlines\",\"marker\":{\"color\":\"#00cc96\",\"pattern\":{\"shape\":\"\"}},\"name\":\"LATAM Airlines\",\"offsetgroup\":\"LATAM Airlines\",\"orientation\":\"v\",\"showlegend\":true,\"textposition\":\"auto\",\"x\":[\"SYD-AKL-SCL\"],\"xaxis\":\"x\",\"y\":[2],\"yaxis\":\"y\",\"type\":\"bar\"}],                        {\"template\":{\"data\":{\"histogram2dcontour\":[{\"type\":\"histogram2dcontour\",\"colorbar\":{\"outlinewidth\":0,\"ticks\":\"\"},\"colorscale\":[[0.0,\"#0d0887\"],[0.1111111111111111,\"#46039f\"],[0.2222222222222222,\"#7201a8\"],[0.3333333333333333,\"#9c179e\"],[0.4444444444444444,\"#bd3786\"],[0.5555555555555556,\"#d8576b\"],[0.6666666666666666,\"#ed7953\"],[0.7777777777777778,\"#fb9f3a\"],[0.8888888888888888,\"#fdca26\"],[1.0,\"#f0f921\"]]}],\"choropleth\":[{\"type\":\"choropleth\",\"colorbar\":{\"outlinewidth\":0,\"ticks\":\"\"}}],\"histogram2d\":[{\"type\":\"histogram2d\",\"colorbar\":{\"outlinewidth\":0,\"ticks\":\"\"},\"colorscale\":[[0.0,\"#0d0887\"],[0.1111111111111111,\"#46039f\"],[0.2222222222222222,\"#7201a8\"],[0.3333333333333333,\"#9c179e\"],[0.4444444444444444,\"#bd3786\"],[0.5555555555555556,\"#d8576b\"],[0.6666666666666666,\"#ed7953\"],[0.7777777777777778,\"#fb9f3a\"],[0.8888888888888888,\"#fdca26\"],[1.0,\"#f0f921\"]]}],\"heatmap\":[{\"type\":\"heatmap\",\"colorbar\":{\"outlinewidth\":0,\"ticks\":\"\"},\"colorscale\":[[0.0,\"#0d0887\"],[0.1111111111111111,\"#46039f\"],[0.2222222222222222,\"#7201a8\"],[0.3333333333333333,\"#9c179e\"],[0.4444444444444444,\"#bd3786\"],[0.5555555555555556,\"#d8576b\"],[0.6666666666666666,\"#ed7953\"],[0.7777777777777778,\"#fb9f3a\"],[0.8888888888888888,\"#fdca26\"],[1.0,\"#f0f921\"]]}],\"heatmapgl\":[{\"type\":\"heatmapgl\",\"colorbar\":{\"outlinewidth\":0,\"ticks\":\"\"},\"colorscale\":[[0.0,\"#0d0887\"],[0.1111111111111111,\"#46039f\"],[0.2222222222222222,\"#7201a8\"],[0.3333333333333333,\"#9c179e\"],[0.4444444444444444,\"#bd3786\"],[0.5555555555555556,\"#d8576b\"],[0.6666666666666666,\"#ed7953\"],[0.7777777777777778,\"#fb9f3a\"],[0.8888888888888888,\"#fdca26\"],[1.0,\"#f0f921\"]]}],\"contourcarpet\":[{\"type\":\"contourcarpet\",\"colorbar\":{\"outlinewidth\":0,\"ticks\":\"\"}}],\"contour\":[{\"type\":\"contour\",\"colorbar\":{\"outlinewidth\":0,\"ticks\":\"\"},\"colorscale\":[[0.0,\"#0d0887\"],[0.1111111111111111,\"#46039f\"],[0.2222222222222222,\"#7201a8\"],[0.3333333333333333,\"#9c179e\"],[0.4444444444444444,\"#bd3786\"],[0.5555555555555556,\"#d8576b\"],[0.6666666666666666,\"#ed7953\"],[0.7777777777777778,\"#fb9f3a\"],[0.8888888888888888,\"#fdca26\"],[1.0,\"#f0f921\"]]}],\"surface\":[{\"type\":\"surface\",\"colorbar\":{\"outlinewidth\":0,\"ticks\":\"\"},\"colorscale\":[[0.0,\"#0d0887\"],[0.1111111111111111,\"#46039f\"],[0.2222222222222222,\"#7201a8\"],[0.3333333333333333,\"#9c179e\"],[0.4444444444444444,\"#bd3786\"],[0.5555555555555556,\"#d8576b\"],[0.6666666666666666,\"#ed7953\"],[0.7777777777777778,\"#fb9f3a\"],[0.8888888888888888,\"#fdca26\"],[1.0,\"#f0f921\"]]}],\"mesh3d\":[{\"type\":\"mesh3d\",\"colorbar\":{\"outlinewidth\":0,\"ticks\":\"\"}}],\"scatter\":[{\"fillpattern\":{\"fillmode\":\"overlay\",\"size\":10,\"solidity\":0.2},\"type\":\"scatter\"}],\"parcoords\":[{\"type\":\"parcoords\",\"line\":{\"colorbar\":{\"outlinewidth\":0,\"ticks\":\"\"}}}],\"scatterpolargl\":[{\"type\":\"scatterpolargl\",\"marker\":{\"colorbar\":{\"outlinewidth\":0,\"ticks\":\"\"}}}],\"bar\":[{\"error_x\":{\"color\":\"#2a3f5f\"},\"error_y\":{\"color\":\"#2a3f5f\"},\"marker\":{\"line\":{\"color\":\"#E5ECF6\",\"width\":0.5},\"pattern\":{\"fillmode\":\"overlay\",\"size\":10,\"solidity\":0.2}},\"type\":\"bar\"}],\"scattergeo\":[{\"type\":\"scattergeo\",\"marker\":{\"colorbar\":{\"outlinewidth\":0,\"ticks\":\"\"}}}],\"scatterpolar\":[{\"type\":\"scatterpolar\",\"marker\":{\"colorbar\":{\"outlinewidth\":0,\"ticks\":\"\"}}}],\"histogram\":[{\"marker\":{\"pattern\":{\"fillmode\":\"overlay\",\"size\":10,\"solidity\":0.2}},\"type\":\"histogram\"}],\"scattergl\":[{\"type\":\"scattergl\",\"marker\":{\"colorbar\":{\"outlinewidth\":0,\"ticks\":\"\"}}}],\"scatter3d\":[{\"type\":\"scatter3d\",\"line\":{\"colorbar\":{\"outlinewidth\":0,\"ticks\":\"\"}},\"marker\":{\"colorbar\":{\"outlinewidth\":0,\"ticks\":\"\"}}}],\"scattermapbox\":[{\"type\":\"scattermapbox\",\"marker\":{\"colorbar\":{\"outlinewidth\":0,\"ticks\":\"\"}}}],\"scatterternary\":[{\"type\":\"scatterternary\",\"marker\":{\"colorbar\":{\"outlinewidth\":0,\"ticks\":\"\"}}}],\"scattercarpet\":[{\"type\":\"scattercarpet\",\"marker\":{\"colorbar\":{\"outlinewidth\":0,\"ticks\":\"\"}}}],\"carpet\":[{\"aaxis\":{\"endlinecolor\":\"#2a3f5f\",\"gridcolor\":\"white\",\"linecolor\":\"white\",\"minorgridcolor\":\"white\",\"startlinecolor\":\"#2a3f5f\"},\"baxis\":{\"endlinecolor\":\"#2a3f5f\",\"gridcolor\":\"white\",\"linecolor\":\"white\",\"minorgridcolor\":\"white\",\"startlinecolor\":\"#2a3f5f\"},\"type\":\"carpet\"}],\"table\":[{\"cells\":{\"fill\":{\"color\":\"#EBF0F8\"},\"line\":{\"color\":\"white\"}},\"header\":{\"fill\":{\"color\":\"#C8D4E3\"},\"line\":{\"color\":\"white\"}},\"type\":\"table\"}],\"barpolar\":[{\"marker\":{\"line\":{\"color\":\"#E5ECF6\",\"width\":0.5},\"pattern\":{\"fillmode\":\"overlay\",\"size\":10,\"solidity\":0.2}},\"type\":\"barpolar\"}],\"pie\":[{\"automargin\":true,\"type\":\"pie\"}]},\"layout\":{\"autotypenumbers\":\"strict\",\"colorway\":[\"#636efa\",\"#EF553B\",\"#00cc96\",\"#ab63fa\",\"#FFA15A\",\"#19d3f3\",\"#FF6692\",\"#B6E880\",\"#FF97FF\",\"#FECB52\"],\"font\":{\"color\":\"#2a3f5f\"},\"hovermode\":\"closest\",\"hoverlabel\":{\"align\":\"left\"},\"paper_bgcolor\":\"white\",\"plot_bgcolor\":\"#E5ECF6\",\"polar\":{\"bgcolor\":\"#E5ECF6\",\"angularaxis\":{\"gridcolor\":\"white\",\"linecolor\":\"white\",\"ticks\":\"\"},\"radialaxis\":{\"gridcolor\":\"white\",\"linecolor\":\"white\",\"ticks\":\"\"}},\"ternary\":{\"bgcolor\":\"#E5ECF6\",\"aaxis\":{\"gridcolor\":\"white\",\"linecolor\":\"white\",\"ticks\":\"\"},\"baxis\":{\"gridcolor\":\"white\",\"linecolor\":\"white\",\"ticks\":\"\"},\"caxis\":{\"gridcolor\":\"white\",\"linecolor\":\"white\",\"ticks\":\"\"}},\"coloraxis\":{\"colorbar\":{\"outlinewidth\":0,\"ticks\":\"\"}},\"colorscale\":{\"sequential\":[[0.0,\"#0d0887\"],[0.1111111111111111,\"#46039f\"],[0.2222222222222222,\"#7201a8\"],[0.3333333333333333,\"#9c179e\"],[0.4444444444444444,\"#bd3786\"],[0.5555555555555556,\"#d8576b\"],[0.6666666666666666,\"#ed7953\"],[0.7777777777777778,\"#fb9f3a\"],[0.8888888888888888,\"#fdca26\"],[1.0,\"#f0f921\"]],\"sequentialminus\":[[0.0,\"#0d0887\"],[0.1111111111111111,\"#46039f\"],[0.2222222222222222,\"#7201a8\"],[0.3333333333333333,\"#9c179e\"],[0.4444444444444444,\"#bd3786\"],[0.5555555555555556,\"#d8576b\"],[0.6666666666666666,\"#ed7953\"],[0.7777777777777778,\"#fb9f3a\"],[0.8888888888888888,\"#fdca26\"],[1.0,\"#f0f921\"]],\"diverging\":[[0,\"#8e0152\"],[0.1,\"#c51b7d\"],[0.2,\"#de77ae\"],[0.3,\"#f1b6da\"],[0.4,\"#fde0ef\"],[0.5,\"#f7f7f7\"],[0.6,\"#e6f5d0\"],[0.7,\"#b8e186\"],[0.8,\"#7fbc41\"],[0.9,\"#4d9221\"],[1,\"#276419\"]]},\"xaxis\":{\"gridcolor\":\"white\",\"linecolor\":\"white\",\"ticks\":\"\",\"title\":{\"standoff\":15},\"zerolinecolor\":\"white\",\"automargin\":true,\"zerolinewidth\":2},\"yaxis\":{\"gridcolor\":\"white\",\"linecolor\":\"white\",\"ticks\":\"\",\"title\":{\"standoff\":15},\"zerolinecolor\":\"white\",\"automargin\":true,\"zerolinewidth\":2},\"scene\":{\"xaxis\":{\"backgroundcolor\":\"#E5ECF6\",\"gridcolor\":\"white\",\"linecolor\":\"white\",\"showbackground\":true,\"ticks\":\"\",\"zerolinecolor\":\"white\",\"gridwidth\":2},\"yaxis\":{\"backgroundcolor\":\"#E5ECF6\",\"gridcolor\":\"white\",\"linecolor\":\"white\",\"showbackground\":true,\"ticks\":\"\",\"zerolinecolor\":\"white\",\"gridwidth\":2},\"zaxis\":{\"backgroundcolor\":\"#E5ECF6\",\"gridcolor\":\"white\",\"linecolor\":\"white\",\"showbackground\":true,\"ticks\":\"\",\"zerolinecolor\":\"white\",\"gridwidth\":2}},\"shapedefaults\":{\"line\":{\"color\":\"#2a3f5f\"}},\"annotationdefaults\":{\"arrowcolor\":\"#2a3f5f\",\"arrowhead\":0,\"arrowwidth\":1},\"geo\":{\"bgcolor\":\"white\",\"landcolor\":\"#E5ECF6\",\"subunitcolor\":\"white\",\"showland\":true,\"showlakes\":true,\"lakecolor\":\"white\"},\"title\":{\"x\":0.05},\"mapbox\":{\"style\":\"light\"}}},\"xaxis\":{\"anchor\":\"y\",\"domain\":[0.0,1.0],\"title\":{\"text\":\"Route\"}},\"yaxis\":{\"anchor\":\"x\",\"domain\":[0.0,1.0],\"title\":{\"text\":\"Total Flights\"}},\"legend\":{\"title\":{\"text\":\"Airline\"},\"tracegroupgap\":0},\"title\":{\"text\":\"Total Flights Distribution Across Routes by Airline (Total Flights per Route per Airline)\"},\"barmode\":\"relative\",\"margin\":{\"l\":30,\"r\":30,\"t\":70,\"b\":20},\"height\":700},                        {\"responsive\": true}                    ).then(function(){\n",
       "                            \n",
       "var gd = document.getElementById('cc4eaa1b-651f-472c-812e-5439eb2beeaa');\n",
       "var x = new MutationObserver(function (mutations, observer) {{\n",
       "        var display = window.getComputedStyle(gd).display;\n",
       "        if (!display || display === 'none') {{\n",
       "            console.log([gd, 'removed!']);\n",
       "            Plotly.purge(gd);\n",
       "            observer.disconnect();\n",
       "        }}\n",
       "}});\n",
       "\n",
       "// Listen for the removal of the full notebook cells\n",
       "var notebookContainer = gd.closest('#notebook-container');\n",
       "if (notebookContainer) {{\n",
       "    x.observe(notebookContainer, {childList: true});\n",
       "}}\n",
       "\n",
       "// Listen for the clearing of the current output cell\n",
       "var outputEl = gd.closest('.output');\n",
       "if (outputEl) {{\n",
       "    x.observe(outputEl, {childList: true});\n",
       "}}\n",
       "\n",
       "                        })                };                });            </script>        </div>"
      ]
     },
     "metadata": {},
     "output_type": "display_data"
    }
   ],
   "source": [
    "# Group by Route, Airline and calculate total flights\n",
    "top_routes = Flights_Out.groupby(['Airline', 'Route'])['All_Flights'].sum().reset_index()\n",
    "top_routes = top_routes.sort_values(by='All_Flights', ascending=False)\n",
    "\n",
    "# Plots\n",
    "fig = px.bar(top_routes, x='Route', y='All_Flights', color='Airline', \n",
    "             title='Total Flights Distribution Across Routes by Airline (Total Flights per Route per Airline)',\n",
    "             labels={'All_Flights': 'Total Flights', 'Route': 'Route'},\n",
    "             hover_data={'Route': False, 'Airline': True, 'All_Flights': True})\n",
    "\n",
    "fig.update_layout(xaxis_title='Route', yaxis_title='Total Flights')\n",
    "fig.update_layout(height=700, margin=dict(l=30, r=30, t=70, b=20))\n",
    "\n",
    "fig.show()"
   ]
  },
  {
   "cell_type": "markdown",
   "id": "3faea06e-3efa-4f83-8b9e-79704590e499",
   "metadata": {},
   "source": [
    "## 4) Airline Routes Distribution - Shenae\n",
    "- plotly.express"
   ]
  },
  {
   "cell_type": "code",
   "execution_count": 38,
   "id": "66a2a016-5dbe-4b3c-9d99-d8476489a05e",
   "metadata": {},
   "outputs": [
    {
     "data": {
      "application/vnd.plotly.v1+json": {
       "config": {
        "plotlyServerURL": "https://plot.ly"
       },
       "data": [
        {
         "branchvalues": "total",
         "domain": {
          "x": [
           0,
           1
          ],
          "y": [
           0,
           1
          ]
         },
         "hovertemplate": "labels=%{label}<br>Total Flights=%{value}<br>parent=%{parent}<br>id=%{id}<extra></extra>",
         "ids": [
          "Qatar Airways/ADL-DOH",
          "Malaysia Airlines/ADL-KUL",
          "Singapore Airlines/ADL-SIN",
          "Air New Zealand/BNE-AKL",
          "Air New Zealand/BNE-CHC",
          "Air Niugini/BNE-CNS-POM",
          "Qatar Airways/BNE-DOH",
          "Emirates/BNE-DXB",
          "Solomon Airlines/BNE-HIR",
          "Nauru Airlines/BNE-INU",
          "Malaysia Airlines/BNE-KUL",
          "Philippine Airlines/BNE-MNL",
          "Fiji Airways/BNE-NAN",
          "Air Caledonie/BNE-NOU",
          "Air Niugini/BNE-POM",
          "Qantas Airways/BNE-SIN",
          "Singapore Airlines/BNE-SIN",
          "China Airlines/BNE-TPE",
          "Eva Air/BNE-TPE",
          "Air Vanuatu/BNE-VLI",
          "Air New Zealand/BNE-WLG",
          "Singapore Airlines/CNS-SIN",
          "Qantas Airways/DRW-DIL",
          "Jetstar Asia/DRW-SIN",
          "Singapore Airlines/DRW-SIN",
          "Qantas Airways/MEL-ADL-DEL",
          "Air New Zealand/MEL-AKL",
          "Etihad Airways/MEL-AUH",
          "Thai Airways International/MEL-BKK",
          "Royal Brunei Airlines/MEL-BWN",
          "Air New Zealand/MEL-CHC",
          "SriLankan Airlines/MEL-CMB",
          "Air India/MEL-DEL",
          "Qatar Airways/MEL-DOH",
          "Jetstar/MEL-DPS",
          "Qantas Airways/MEL-DRW-LON",
          "Emirates/MEL-DXB",
          "Jetstar/MEL-HKT",
          "Jetstar/MEL-HNL",
          "Malaysia Airlines/MEL-KUL",
          "Qantas Airways/MEL-LAX",
          "Philippine Airlines/MEL-MNL",
          "Fiji Airways/MEL-NAN",
          "Bamboo Airways/MEL-SGN",
          "Vietnam Airlines/MEL-SGN",
          "Jetstar/MEL-SIN",
          "Qantas Airways/MEL-SIN",
          "Scoot Tigerair/MEL-SIN",
          "Singapore Airlines/MEL-SIN",
          "China Airlines/MEL-TPE",
          "Japan Airlines/MEL-TYO",
          "Xiamen Airlines/MEL-XMN",
          "Air New Zealand/PER-AKL",
          "Qatar Airways/PER-DOH",
          "Emirates/PER-DXB",
          "Malaysia Airlines/PER-KUL",
          "Malindo Air/PER-KUL",
          "Jetstar Asia/PER-SIN",
          "Qantas Airways/PER-SIN",
          "Scoot Tigerair/PER-SIN",
          "Singapore Airlines/PER-SIN",
          "Qantas Airways/SYD-ADL-DEL",
          "Air New Zealand/SYD-AKL",
          "Qantas Airways/SYD-AKL",
          "LATAM Airlines/SYD-AKL-SCL",
          "Etihad Airways/SYD-AUH",
          "Qantas Airways/SYD-BKK",
          "Thai Airways International/SYD-BKK",
          "China Southern Airlines/SYD-CAN",
          "Air New Zealand/SYD-CHC",
          "SriLankan Airlines/SYD-CMB",
          "Air India/SYD-DEL",
          "Qantas Airways/SYD-DFW",
          "Qatar Airways/SYD-DOH",
          "Garuda Indonesia/SYD-DPS",
          "Qantas Airways/SYD-DRW-LON",
          "Emirates/SYD-DXB",
          "Vietnam Airlines/SYD-HAN",
          "Jetstar/SYD-HKT",
          "Thai Airways International/SYD-HKT-BKK",
          "Hawaiian Airlines/SYD-HNL",
          "Jetstar/SYD-HNL",
          "Qantas Airways/SYD-HNL",
          "Garuda Indonesia/SYD-JKT",
          "Qantas Airways/SYD-JNB",
          "China Eastern Airlines/SYD-KMG",
          "AirAsia X/SYD-KUL",
          "Malaysia Airlines/SYD-KUL",
          "American Airlines/SYD-LAX",
          "Delta Air Lines/SYD-LAX",
          "Qantas Airways/SYD-LAX",
          "United Airlines/SYD-LAX",
          "Philippine Airlines/SYD-MNL",
          "Qantas Airways/SYD-MNL",
          "Fiji Airways/SYD-NAN",
          "Jetstar/SYD-NAN",
          "Qantas Airways/SYD-NAN",
          "Virgin Australia/SYD-NAN",
          "Air Caledonie/SYD-NOU",
          "Air Niugini/SYD-POM",
          "Asiana Airlines/SYD-SEL",
          "Korean Air/SYD-SEL",
          "United Airlines/SYD-SFO",
          "Vietnam Airlines/SYD-SGN",
          "China Eastern Airlines/SYD-SHA",
          "Qantas Airways/SYD-SIN",
          "Scoot Tigerair/SYD-SIN",
          "Singapore Airlines/SYD-SIN",
          "British Airways/SYD-SIN-LON",
          "China Airlines/SYD-TPE",
          "All Nippon Airways/SYD-TYO",
          "Japan Airlines/SYD-TYO",
          "Air Vanuatu/SYD-VLI",
          "Xiamen Airlines/SYD-XMN",
          "Air Canada/SYD-YVR",
          "Qantas Airways/SYD-YVR",
          "Air Caledonie",
          "Air Canada",
          "Air India",
          "Air New Zealand",
          "Air Niugini",
          "Air Vanuatu",
          "AirAsia X",
          "All Nippon Airways",
          "American Airlines",
          "Asiana Airlines",
          "Bamboo Airways",
          "British Airways",
          "China Airlines",
          "China Eastern Airlines",
          "China Southern Airlines",
          "Delta Air Lines",
          "Emirates",
          "Etihad Airways",
          "Eva Air",
          "Fiji Airways",
          "Garuda Indonesia",
          "Hawaiian Airlines",
          "Japan Airlines",
          "Jetstar",
          "Jetstar Asia",
          "Korean Air",
          "LATAM Airlines",
          "Malaysia Airlines",
          "Malindo Air",
          "Nauru Airlines",
          "Philippine Airlines",
          "Qantas Airways",
          "Qatar Airways",
          "Royal Brunei Airlines",
          "Scoot Tigerair",
          "Singapore Airlines",
          "Solomon Airlines",
          "SriLankan Airlines",
          "Thai Airways International",
          "United Airlines",
          "Vietnam Airlines",
          "Virgin Australia",
          "Xiamen Airlines"
         ],
         "labels": [
          "ADL-DOH",
          "ADL-KUL",
          "ADL-SIN",
          "BNE-AKL",
          "BNE-CHC",
          "BNE-CNS-POM",
          "BNE-DOH",
          "BNE-DXB",
          "BNE-HIR",
          "BNE-INU",
          "BNE-KUL",
          "BNE-MNL",
          "BNE-NAN",
          "BNE-NOU",
          "BNE-POM",
          "BNE-SIN",
          "BNE-SIN",
          "BNE-TPE",
          "BNE-TPE",
          "BNE-VLI",
          "BNE-WLG",
          "CNS-SIN",
          "DRW-DIL",
          "DRW-SIN",
          "DRW-SIN",
          "MEL-ADL-DEL",
          "MEL-AKL",
          "MEL-AUH",
          "MEL-BKK",
          "MEL-BWN",
          "MEL-CHC",
          "MEL-CMB",
          "MEL-DEL",
          "MEL-DOH",
          "MEL-DPS",
          "MEL-DRW-LON",
          "MEL-DXB",
          "MEL-HKT",
          "MEL-HNL",
          "MEL-KUL",
          "MEL-LAX",
          "MEL-MNL",
          "MEL-NAN",
          "MEL-SGN",
          "MEL-SGN",
          "MEL-SIN",
          "MEL-SIN",
          "MEL-SIN",
          "MEL-SIN",
          "MEL-TPE",
          "MEL-TYO",
          "MEL-XMN",
          "PER-AKL",
          "PER-DOH",
          "PER-DXB",
          "PER-KUL",
          "PER-KUL",
          "PER-SIN",
          "PER-SIN",
          "PER-SIN",
          "PER-SIN",
          "SYD-ADL-DEL",
          "SYD-AKL",
          "SYD-AKL",
          "SYD-AKL-SCL",
          "SYD-AUH",
          "SYD-BKK",
          "SYD-BKK",
          "SYD-CAN",
          "SYD-CHC",
          "SYD-CMB",
          "SYD-DEL",
          "SYD-DFW",
          "SYD-DOH",
          "SYD-DPS",
          "SYD-DRW-LON",
          "SYD-DXB",
          "SYD-HAN",
          "SYD-HKT",
          "SYD-HKT-BKK",
          "SYD-HNL",
          "SYD-HNL",
          "SYD-HNL",
          "SYD-JKT",
          "SYD-JNB",
          "SYD-KMG",
          "SYD-KUL",
          "SYD-KUL",
          "SYD-LAX",
          "SYD-LAX",
          "SYD-LAX",
          "SYD-LAX",
          "SYD-MNL",
          "SYD-MNL",
          "SYD-NAN",
          "SYD-NAN",
          "SYD-NAN",
          "SYD-NAN",
          "SYD-NOU",
          "SYD-POM",
          "SYD-SEL",
          "SYD-SEL",
          "SYD-SFO",
          "SYD-SGN",
          "SYD-SHA",
          "SYD-SIN",
          "SYD-SIN",
          "SYD-SIN",
          "SYD-SIN-LON",
          "SYD-TPE",
          "SYD-TYO",
          "SYD-TYO",
          "SYD-VLI",
          "SYD-XMN",
          "SYD-YVR",
          "SYD-YVR",
          "Air Caledonie",
          "Air Canada",
          "Air India",
          "Air New Zealand",
          "Air Niugini",
          "Air Vanuatu",
          "AirAsia X",
          "All Nippon Airways",
          "American Airlines",
          "Asiana Airlines",
          "Bamboo Airways",
          "British Airways",
          "China Airlines",
          "China Eastern Airlines",
          "China Southern Airlines",
          "Delta Air Lines",
          "Emirates",
          "Etihad Airways",
          "Eva Air",
          "Fiji Airways",
          "Garuda Indonesia",
          "Hawaiian Airlines",
          "Japan Airlines",
          "Jetstar",
          "Jetstar Asia",
          "Korean Air",
          "LATAM Airlines",
          "Malaysia Airlines",
          "Malindo Air",
          "Nauru Airlines",
          "Philippine Airlines",
          "Qantas Airways",
          "Qatar Airways",
          "Royal Brunei Airlines",
          "Scoot Tigerair",
          "Singapore Airlines",
          "Solomon Airlines",
          "SriLankan Airlines",
          "Thai Airways International",
          "United Airlines",
          "Vietnam Airlines",
          "Virgin Australia",
          "Xiamen Airlines"
         ],
         "name": "",
         "parents": [
          "Qatar Airways",
          "Malaysia Airlines",
          "Singapore Airlines",
          "Air New Zealand",
          "Air New Zealand",
          "Air Niugini",
          "Qatar Airways",
          "Emirates",
          "Solomon Airlines",
          "Nauru Airlines",
          "Malaysia Airlines",
          "Philippine Airlines",
          "Fiji Airways",
          "Air Caledonie",
          "Air Niugini",
          "Qantas Airways",
          "Singapore Airlines",
          "China Airlines",
          "Eva Air",
          "Air Vanuatu",
          "Air New Zealand",
          "Singapore Airlines",
          "Qantas Airways",
          "Jetstar Asia",
          "Singapore Airlines",
          "Qantas Airways",
          "Air New Zealand",
          "Etihad Airways",
          "Thai Airways International",
          "Royal Brunei Airlines",
          "Air New Zealand",
          "SriLankan Airlines",
          "Air India",
          "Qatar Airways",
          "Jetstar",
          "Qantas Airways",
          "Emirates",
          "Jetstar",
          "Jetstar",
          "Malaysia Airlines",
          "Qantas Airways",
          "Philippine Airlines",
          "Fiji Airways",
          "Bamboo Airways",
          "Vietnam Airlines",
          "Jetstar",
          "Qantas Airways",
          "Scoot Tigerair",
          "Singapore Airlines",
          "China Airlines",
          "Japan Airlines",
          "Xiamen Airlines",
          "Air New Zealand",
          "Qatar Airways",
          "Emirates",
          "Malaysia Airlines",
          "Malindo Air",
          "Jetstar Asia",
          "Qantas Airways",
          "Scoot Tigerair",
          "Singapore Airlines",
          "Qantas Airways",
          "Air New Zealand",
          "Qantas Airways",
          "LATAM Airlines",
          "Etihad Airways",
          "Qantas Airways",
          "Thai Airways International",
          "China Southern Airlines",
          "Air New Zealand",
          "SriLankan Airlines",
          "Air India",
          "Qantas Airways",
          "Qatar Airways",
          "Garuda Indonesia",
          "Qantas Airways",
          "Emirates",
          "Vietnam Airlines",
          "Jetstar",
          "Thai Airways International",
          "Hawaiian Airlines",
          "Jetstar",
          "Qantas Airways",
          "Garuda Indonesia",
          "Qantas Airways",
          "China Eastern Airlines",
          "AirAsia X",
          "Malaysia Airlines",
          "American Airlines",
          "Delta Air Lines",
          "Qantas Airways",
          "United Airlines",
          "Philippine Airlines",
          "Qantas Airways",
          "Fiji Airways",
          "Jetstar",
          "Qantas Airways",
          "Virgin Australia",
          "Air Caledonie",
          "Air Niugini",
          "Asiana Airlines",
          "Korean Air",
          "United Airlines",
          "Vietnam Airlines",
          "China Eastern Airlines",
          "Qantas Airways",
          "Scoot Tigerair",
          "Singapore Airlines",
          "British Airways",
          "China Airlines",
          "All Nippon Airways",
          "Japan Airlines",
          "Air Vanuatu",
          "Xiamen Airlines",
          "Air Canada",
          "Qantas Airways",
          "",
          "",
          "",
          "",
          "",
          "",
          "",
          "",
          "",
          "",
          "",
          "",
          "",
          "",
          "",
          "",
          "",
          "",
          "",
          "",
          "",
          "",
          "",
          "",
          "",
          "",
          "",
          "",
          "",
          "",
          "",
          "",
          "",
          "",
          "",
          "",
          "",
          "",
          "",
          "",
          "",
          "",
          ""
         ],
         "type": "sunburst",
         "values": [
          12,
          2,
          20,
          23,
          12,
          8,
          31,
          31,
          4,
          5,
          2,
          4,
          13,
          5,
          24,
          2,
          77,
          4,
          2,
          2,
          1,
          2,
          1,
          9,
          1,
          36,
          33,
          21,
          4,
          7,
          14,
          26,
          18,
          30,
          8,
          58,
          31,
          9,
          6,
          24,
          21,
          9,
          22,
          4,
          13,
          13,
          17,
          32,
          93,
          4,
          9,
          4,
          5,
          25,
          13,
          7,
          5,
          6,
          1,
          31,
          80,
          30,
          37,
          18,
          2,
          24,
          14,
          22,
          4,
          13,
          19,
          20,
          18,
          31,
          3,
          60,
          60,
          4,
          4,
          20,
          18,
          13,
          3,
          5,
          16,
          2,
          4,
          17,
          27,
          30,
          32,
          31,
          13,
          5,
          50,
          12,
          9,
          13,
          9,
          4,
          9,
          9,
          31,
          13,
          3,
          30,
          33,
          97,
          6,
          4,
          22,
          15,
          1,
          5,
          14,
          12,
          14,
          14,
          38,
          138,
          36,
          3,
          4,
          22,
          27,
          9,
          4,
          6,
          12,
          5,
          4,
          30,
          135,
          45,
          2,
          85,
          8,
          18,
          24,
          65,
          15,
          9,
          2,
          52,
          5,
          5,
          26,
          383,
          129,
          7,
          96,
          370,
          4,
          45,
          46,
          62,
          30,
          13,
          9
         ]
        }
       ],
       "layout": {
        "height": 900,
        "legend": {
         "tracegroupgap": 0
        },
        "template": {
         "data": {
          "bar": [
           {
            "error_x": {
             "color": "#2a3f5f"
            },
            "error_y": {
             "color": "#2a3f5f"
            },
            "marker": {
             "line": {
              "color": "#E5ECF6",
              "width": 0.5
             },
             "pattern": {
              "fillmode": "overlay",
              "size": 10,
              "solidity": 0.2
             }
            },
            "type": "bar"
           }
          ],
          "barpolar": [
           {
            "marker": {
             "line": {
              "color": "#E5ECF6",
              "width": 0.5
             },
             "pattern": {
              "fillmode": "overlay",
              "size": 10,
              "solidity": 0.2
             }
            },
            "type": "barpolar"
           }
          ],
          "carpet": [
           {
            "aaxis": {
             "endlinecolor": "#2a3f5f",
             "gridcolor": "white",
             "linecolor": "white",
             "minorgridcolor": "white",
             "startlinecolor": "#2a3f5f"
            },
            "baxis": {
             "endlinecolor": "#2a3f5f",
             "gridcolor": "white",
             "linecolor": "white",
             "minorgridcolor": "white",
             "startlinecolor": "#2a3f5f"
            },
            "type": "carpet"
           }
          ],
          "choropleth": [
           {
            "colorbar": {
             "outlinewidth": 0,
             "ticks": ""
            },
            "type": "choropleth"
           }
          ],
          "contour": [
           {
            "colorbar": {
             "outlinewidth": 0,
             "ticks": ""
            },
            "colorscale": [
             [
              0,
              "#0d0887"
             ],
             [
              0.1111111111111111,
              "#46039f"
             ],
             [
              0.2222222222222222,
              "#7201a8"
             ],
             [
              0.3333333333333333,
              "#9c179e"
             ],
             [
              0.4444444444444444,
              "#bd3786"
             ],
             [
              0.5555555555555556,
              "#d8576b"
             ],
             [
              0.6666666666666666,
              "#ed7953"
             ],
             [
              0.7777777777777778,
              "#fb9f3a"
             ],
             [
              0.8888888888888888,
              "#fdca26"
             ],
             [
              1,
              "#f0f921"
             ]
            ],
            "type": "contour"
           }
          ],
          "contourcarpet": [
           {
            "colorbar": {
             "outlinewidth": 0,
             "ticks": ""
            },
            "type": "contourcarpet"
           }
          ],
          "heatmap": [
           {
            "colorbar": {
             "outlinewidth": 0,
             "ticks": ""
            },
            "colorscale": [
             [
              0,
              "#0d0887"
             ],
             [
              0.1111111111111111,
              "#46039f"
             ],
             [
              0.2222222222222222,
              "#7201a8"
             ],
             [
              0.3333333333333333,
              "#9c179e"
             ],
             [
              0.4444444444444444,
              "#bd3786"
             ],
             [
              0.5555555555555556,
              "#d8576b"
             ],
             [
              0.6666666666666666,
              "#ed7953"
             ],
             [
              0.7777777777777778,
              "#fb9f3a"
             ],
             [
              0.8888888888888888,
              "#fdca26"
             ],
             [
              1,
              "#f0f921"
             ]
            ],
            "type": "heatmap"
           }
          ],
          "heatmapgl": [
           {
            "colorbar": {
             "outlinewidth": 0,
             "ticks": ""
            },
            "colorscale": [
             [
              0,
              "#0d0887"
             ],
             [
              0.1111111111111111,
              "#46039f"
             ],
             [
              0.2222222222222222,
              "#7201a8"
             ],
             [
              0.3333333333333333,
              "#9c179e"
             ],
             [
              0.4444444444444444,
              "#bd3786"
             ],
             [
              0.5555555555555556,
              "#d8576b"
             ],
             [
              0.6666666666666666,
              "#ed7953"
             ],
             [
              0.7777777777777778,
              "#fb9f3a"
             ],
             [
              0.8888888888888888,
              "#fdca26"
             ],
             [
              1,
              "#f0f921"
             ]
            ],
            "type": "heatmapgl"
           }
          ],
          "histogram": [
           {
            "marker": {
             "pattern": {
              "fillmode": "overlay",
              "size": 10,
              "solidity": 0.2
             }
            },
            "type": "histogram"
           }
          ],
          "histogram2d": [
           {
            "colorbar": {
             "outlinewidth": 0,
             "ticks": ""
            },
            "colorscale": [
             [
              0,
              "#0d0887"
             ],
             [
              0.1111111111111111,
              "#46039f"
             ],
             [
              0.2222222222222222,
              "#7201a8"
             ],
             [
              0.3333333333333333,
              "#9c179e"
             ],
             [
              0.4444444444444444,
              "#bd3786"
             ],
             [
              0.5555555555555556,
              "#d8576b"
             ],
             [
              0.6666666666666666,
              "#ed7953"
             ],
             [
              0.7777777777777778,
              "#fb9f3a"
             ],
             [
              0.8888888888888888,
              "#fdca26"
             ],
             [
              1,
              "#f0f921"
             ]
            ],
            "type": "histogram2d"
           }
          ],
          "histogram2dcontour": [
           {
            "colorbar": {
             "outlinewidth": 0,
             "ticks": ""
            },
            "colorscale": [
             [
              0,
              "#0d0887"
             ],
             [
              0.1111111111111111,
              "#46039f"
             ],
             [
              0.2222222222222222,
              "#7201a8"
             ],
             [
              0.3333333333333333,
              "#9c179e"
             ],
             [
              0.4444444444444444,
              "#bd3786"
             ],
             [
              0.5555555555555556,
              "#d8576b"
             ],
             [
              0.6666666666666666,
              "#ed7953"
             ],
             [
              0.7777777777777778,
              "#fb9f3a"
             ],
             [
              0.8888888888888888,
              "#fdca26"
             ],
             [
              1,
              "#f0f921"
             ]
            ],
            "type": "histogram2dcontour"
           }
          ],
          "mesh3d": [
           {
            "colorbar": {
             "outlinewidth": 0,
             "ticks": ""
            },
            "type": "mesh3d"
           }
          ],
          "parcoords": [
           {
            "line": {
             "colorbar": {
              "outlinewidth": 0,
              "ticks": ""
             }
            },
            "type": "parcoords"
           }
          ],
          "pie": [
           {
            "automargin": true,
            "type": "pie"
           }
          ],
          "scatter": [
           {
            "fillpattern": {
             "fillmode": "overlay",
             "size": 10,
             "solidity": 0.2
            },
            "type": "scatter"
           }
          ],
          "scatter3d": [
           {
            "line": {
             "colorbar": {
              "outlinewidth": 0,
              "ticks": ""
             }
            },
            "marker": {
             "colorbar": {
              "outlinewidth": 0,
              "ticks": ""
             }
            },
            "type": "scatter3d"
           }
          ],
          "scattercarpet": [
           {
            "marker": {
             "colorbar": {
              "outlinewidth": 0,
              "ticks": ""
             }
            },
            "type": "scattercarpet"
           }
          ],
          "scattergeo": [
           {
            "marker": {
             "colorbar": {
              "outlinewidth": 0,
              "ticks": ""
             }
            },
            "type": "scattergeo"
           }
          ],
          "scattergl": [
           {
            "marker": {
             "colorbar": {
              "outlinewidth": 0,
              "ticks": ""
             }
            },
            "type": "scattergl"
           }
          ],
          "scattermapbox": [
           {
            "marker": {
             "colorbar": {
              "outlinewidth": 0,
              "ticks": ""
             }
            },
            "type": "scattermapbox"
           }
          ],
          "scatterpolar": [
           {
            "marker": {
             "colorbar": {
              "outlinewidth": 0,
              "ticks": ""
             }
            },
            "type": "scatterpolar"
           }
          ],
          "scatterpolargl": [
           {
            "marker": {
             "colorbar": {
              "outlinewidth": 0,
              "ticks": ""
             }
            },
            "type": "scatterpolargl"
           }
          ],
          "scatterternary": [
           {
            "marker": {
             "colorbar": {
              "outlinewidth": 0,
              "ticks": ""
             }
            },
            "type": "scatterternary"
           }
          ],
          "surface": [
           {
            "colorbar": {
             "outlinewidth": 0,
             "ticks": ""
            },
            "colorscale": [
             [
              0,
              "#0d0887"
             ],
             [
              0.1111111111111111,
              "#46039f"
             ],
             [
              0.2222222222222222,
              "#7201a8"
             ],
             [
              0.3333333333333333,
              "#9c179e"
             ],
             [
              0.4444444444444444,
              "#bd3786"
             ],
             [
              0.5555555555555556,
              "#d8576b"
             ],
             [
              0.6666666666666666,
              "#ed7953"
             ],
             [
              0.7777777777777778,
              "#fb9f3a"
             ],
             [
              0.8888888888888888,
              "#fdca26"
             ],
             [
              1,
              "#f0f921"
             ]
            ],
            "type": "surface"
           }
          ],
          "table": [
           {
            "cells": {
             "fill": {
              "color": "#EBF0F8"
             },
             "line": {
              "color": "white"
             }
            },
            "header": {
             "fill": {
              "color": "#C8D4E3"
             },
             "line": {
              "color": "white"
             }
            },
            "type": "table"
           }
          ]
         },
         "layout": {
          "annotationdefaults": {
           "arrowcolor": "#2a3f5f",
           "arrowhead": 0,
           "arrowwidth": 1
          },
          "autotypenumbers": "strict",
          "coloraxis": {
           "colorbar": {
            "outlinewidth": 0,
            "ticks": ""
           }
          },
          "colorscale": {
           "diverging": [
            [
             0,
             "#8e0152"
            ],
            [
             0.1,
             "#c51b7d"
            ],
            [
             0.2,
             "#de77ae"
            ],
            [
             0.3,
             "#f1b6da"
            ],
            [
             0.4,
             "#fde0ef"
            ],
            [
             0.5,
             "#f7f7f7"
            ],
            [
             0.6,
             "#e6f5d0"
            ],
            [
             0.7,
             "#b8e186"
            ],
            [
             0.8,
             "#7fbc41"
            ],
            [
             0.9,
             "#4d9221"
            ],
            [
             1,
             "#276419"
            ]
           ],
           "sequential": [
            [
             0,
             "#0d0887"
            ],
            [
             0.1111111111111111,
             "#46039f"
            ],
            [
             0.2222222222222222,
             "#7201a8"
            ],
            [
             0.3333333333333333,
             "#9c179e"
            ],
            [
             0.4444444444444444,
             "#bd3786"
            ],
            [
             0.5555555555555556,
             "#d8576b"
            ],
            [
             0.6666666666666666,
             "#ed7953"
            ],
            [
             0.7777777777777778,
             "#fb9f3a"
            ],
            [
             0.8888888888888888,
             "#fdca26"
            ],
            [
             1,
             "#f0f921"
            ]
           ],
           "sequentialminus": [
            [
             0,
             "#0d0887"
            ],
            [
             0.1111111111111111,
             "#46039f"
            ],
            [
             0.2222222222222222,
             "#7201a8"
            ],
            [
             0.3333333333333333,
             "#9c179e"
            ],
            [
             0.4444444444444444,
             "#bd3786"
            ],
            [
             0.5555555555555556,
             "#d8576b"
            ],
            [
             0.6666666666666666,
             "#ed7953"
            ],
            [
             0.7777777777777778,
             "#fb9f3a"
            ],
            [
             0.8888888888888888,
             "#fdca26"
            ],
            [
             1,
             "#f0f921"
            ]
           ]
          },
          "colorway": [
           "#636efa",
           "#EF553B",
           "#00cc96",
           "#ab63fa",
           "#FFA15A",
           "#19d3f3",
           "#FF6692",
           "#B6E880",
           "#FF97FF",
           "#FECB52"
          ],
          "font": {
           "color": "#2a3f5f"
          },
          "geo": {
           "bgcolor": "white",
           "lakecolor": "white",
           "landcolor": "#E5ECF6",
           "showlakes": true,
           "showland": true,
           "subunitcolor": "white"
          },
          "hoverlabel": {
           "align": "left"
          },
          "hovermode": "closest",
          "mapbox": {
           "style": "light"
          },
          "paper_bgcolor": "white",
          "plot_bgcolor": "#E5ECF6",
          "polar": {
           "angularaxis": {
            "gridcolor": "white",
            "linecolor": "white",
            "ticks": ""
           },
           "bgcolor": "#E5ECF6",
           "radialaxis": {
            "gridcolor": "white",
            "linecolor": "white",
            "ticks": ""
           }
          },
          "scene": {
           "xaxis": {
            "backgroundcolor": "#E5ECF6",
            "gridcolor": "white",
            "gridwidth": 2,
            "linecolor": "white",
            "showbackground": true,
            "ticks": "",
            "zerolinecolor": "white"
           },
           "yaxis": {
            "backgroundcolor": "#E5ECF6",
            "gridcolor": "white",
            "gridwidth": 2,
            "linecolor": "white",
            "showbackground": true,
            "ticks": "",
            "zerolinecolor": "white"
           },
           "zaxis": {
            "backgroundcolor": "#E5ECF6",
            "gridcolor": "white",
            "gridwidth": 2,
            "linecolor": "white",
            "showbackground": true,
            "ticks": "",
            "zerolinecolor": "white"
           }
          },
          "shapedefaults": {
           "line": {
            "color": "#2a3f5f"
           }
          },
          "ternary": {
           "aaxis": {
            "gridcolor": "white",
            "linecolor": "white",
            "ticks": ""
           },
           "baxis": {
            "gridcolor": "white",
            "linecolor": "white",
            "ticks": ""
           },
           "bgcolor": "#E5ECF6",
           "caxis": {
            "gridcolor": "white",
            "linecolor": "white",
            "ticks": ""
           }
          },
          "title": {
           "x": 0.05
          },
          "xaxis": {
           "automargin": true,
           "gridcolor": "white",
           "linecolor": "white",
           "ticks": "",
           "title": {
            "standoff": 15
           },
           "zerolinecolor": "white",
           "zerolinewidth": 2
          },
          "yaxis": {
           "automargin": true,
           "gridcolor": "white",
           "linecolor": "white",
           "ticks": "",
           "title": {
            "standoff": 15
           },
           "zerolinecolor": "white",
           "zerolinewidth": 2
          }
         }
        },
        "title": {
         "text": "Airline Routes Distribution Across Airlines"
        },
        "width": 900
       }
      },
      "image/png": "[encoded data removed]",
      "text/html": [
       "<div>                            <div id=\"757754cc-4c83-422d-a912-82b2e3fc2544\" class=\"plotly-graph-div\" style=\"height:900px; width:900px;\"></div>            <script type=\"text/javascript\">                require([\"plotly\"], function(Plotly) {                    window.PLOTLYENV=window.PLOTLYENV || {};                                    if (document.getElementById(\"757754cc-4c83-422d-a912-82b2e3fc2544\")) {                    Plotly.newPlot(                        \"757754cc-4c83-422d-a912-82b2e3fc2544\",                        [{\"branchvalues\":\"total\",\"domain\":{\"x\":[0.0,1.0],\"y\":[0.0,1.0]},\"hovertemplate\":\"labels=%{label}\\u003cbr\\u003eTotal Flights=%{value}\\u003cbr\\u003eparent=%{parent}\\u003cbr\\u003eid=%{id}\\u003cextra\\u003e\\u003c\\u002fextra\\u003e\",\"ids\":[\"Qatar Airways\\u002fADL-DOH\",\"Malaysia Airlines\\u002fADL-KUL\",\"Singapore Airlines\\u002fADL-SIN\",\"Air New Zealand\\u002fBNE-AKL\",\"Air New Zealand\\u002fBNE-CHC\",\"Air Niugini\\u002fBNE-CNS-POM\",\"Qatar Airways\\u002fBNE-DOH\",\"Emirates\\u002fBNE-DXB\",\"Solomon Airlines\\u002fBNE-HIR\",\"Nauru Airlines\\u002fBNE-INU\",\"Malaysia Airlines\\u002fBNE-KUL\",\"Philippine Airlines\\u002fBNE-MNL\",\"Fiji Airways\\u002fBNE-NAN\",\"Air Caledonie\\u002fBNE-NOU\",\"Air Niugini\\u002fBNE-POM\",\"Qantas Airways\\u002fBNE-SIN\",\"Singapore Airlines\\u002fBNE-SIN\",\"China Airlines\\u002fBNE-TPE\",\"Eva Air\\u002fBNE-TPE\",\"Air Vanuatu\\u002fBNE-VLI\",\"Air New Zealand\\u002fBNE-WLG\",\"Singapore Airlines\\u002fCNS-SIN\",\"Qantas Airways\\u002fDRW-DIL\",\"Jetstar Asia\\u002fDRW-SIN\",\"Singapore Airlines\\u002fDRW-SIN\",\"Qantas Airways\\u002fMEL-ADL-DEL\",\"Air New Zealand\\u002fMEL-AKL\",\"Etihad Airways\\u002fMEL-AUH\",\"Thai Airways International\\u002fMEL-BKK\",\"Royal Brunei Airlines\\u002fMEL-BWN\",\"Air New Zealand\\u002fMEL-CHC\",\"SriLankan Airlines\\u002fMEL-CMB\",\"Air India\\u002fMEL-DEL\",\"Qatar Airways\\u002fMEL-DOH\",\"Jetstar\\u002fMEL-DPS\",\"Qantas Airways\\u002fMEL-DRW-LON\",\"Emirates\\u002fMEL-DXB\",\"Jetstar\\u002fMEL-HKT\",\"Jetstar\\u002fMEL-HNL\",\"Malaysia Airlines\\u002fMEL-KUL\",\"Qantas Airways\\u002fMEL-LAX\",\"Philippine Airlines\\u002fMEL-MNL\",\"Fiji Airways\\u002fMEL-NAN\",\"Bamboo Airways\\u002fMEL-SGN\",\"Vietnam Airlines\\u002fMEL-SGN\",\"Jetstar\\u002fMEL-SIN\",\"Qantas Airways\\u002fMEL-SIN\",\"Scoot Tigerair\\u002fMEL-SIN\",\"Singapore Airlines\\u002fMEL-SIN\",\"China Airlines\\u002fMEL-TPE\",\"Japan Airlines\\u002fMEL-TYO\",\"Xiamen Airlines\\u002fMEL-XMN\",\"Air New Zealand\\u002fPER-AKL\",\"Qatar Airways\\u002fPER-DOH\",\"Emirates\\u002fPER-DXB\",\"Malaysia Airlines\\u002fPER-KUL\",\"Malindo Air\\u002fPER-KUL\",\"Jetstar Asia\\u002fPER-SIN\",\"Qantas Airways\\u002fPER-SIN\",\"Scoot Tigerair\\u002fPER-SIN\",\"Singapore Airlines\\u002fPER-SIN\",\"Qantas Airways\\u002fSYD-ADL-DEL\",\"Air New Zealand\\u002fSYD-AKL\",\"Qantas Airways\\u002fSYD-AKL\",\"LATAM Airlines\\u002fSYD-AKL-SCL\",\"Etihad Airways\\u002fSYD-AUH\",\"Qantas Airways\\u002fSYD-BKK\",\"Thai Airways International\\u002fSYD-BKK\",\"China Southern Airlines\\u002fSYD-CAN\",\"Air New Zealand\\u002fSYD-CHC\",\"SriLankan Airlines\\u002fSYD-CMB\",\"Air India\\u002fSYD-DEL\",\"Qantas Airways\\u002fSYD-DFW\",\"Qatar Airways\\u002fSYD-DOH\",\"Garuda Indonesia\\u002fSYD-DPS\",\"Qantas Airways\\u002fSYD-DRW-LON\",\"Emirates\\u002fSYD-DXB\",\"Vietnam Airlines\\u002fSYD-HAN\",\"Jetstar\\u002fSYD-HKT\",\"Thai Airways International\\u002fSYD-HKT-BKK\",\"Hawaiian Airlines\\u002fSYD-HNL\",\"Jetstar\\u002fSYD-HNL\",\"Qantas Airways\\u002fSYD-HNL\",\"Garuda Indonesia\\u002fSYD-JKT\",\"Qantas Airways\\u002fSYD-JNB\",\"China Eastern Airlines\\u002fSYD-KMG\",\"AirAsia X\\u002fSYD-KUL\",\"Malaysia Airlines\\u002fSYD-KUL\",\"American Airlines\\u002fSYD-LAX\",\"Delta Air Lines\\u002fSYD-LAX\",\"Qantas Airways\\u002fSYD-LAX\",\"United Airlines\\u002fSYD-LAX\",\"Philippine Airlines\\u002fSYD-MNL\",\"Qantas Airways\\u002fSYD-MNL\",\"Fiji Airways\\u002fSYD-NAN\",\"Jetstar\\u002fSYD-NAN\",\"Qantas Airways\\u002fSYD-NAN\",\"Virgin Australia\\u002fSYD-NAN\",\"Air Caledonie\\u002fSYD-NOU\",\"Air Niugini\\u002fSYD-POM\",\"Asiana Airlines\\u002fSYD-SEL\",\"Korean Air\\u002fSYD-SEL\",\"United Airlines\\u002fSYD-SFO\",\"Vietnam Airlines\\u002fSYD-SGN\",\"China Eastern Airlines\\u002fSYD-SHA\",\"Qantas Airways\\u002fSYD-SIN\",\"Scoot Tigerair\\u002fSYD-SIN\",\"Singapore Airlines\\u002fSYD-SIN\",\"British Airways\\u002fSYD-SIN-LON\",\"China Airlines\\u002fSYD-TPE\",\"All Nippon Airways\\u002fSYD-TYO\",\"Japan Airlines\\u002fSYD-TYO\",\"Air Vanuatu\\u002fSYD-VLI\",\"Xiamen Airlines\\u002fSYD-XMN\",\"Air Canada\\u002fSYD-YVR\",\"Qantas Airways\\u002fSYD-YVR\",\"Air Caledonie\",\"Air Canada\",\"Air India\",\"Air New Zealand\",\"Air Niugini\",\"Air Vanuatu\",\"AirAsia X\",\"All Nippon Airways\",\"American Airlines\",\"Asiana Airlines\",\"Bamboo Airways\",\"British Airways\",\"China Airlines\",\"China Eastern Airlines\",\"China Southern Airlines\",\"Delta Air Lines\",\"Emirates\",\"Etihad Airways\",\"Eva Air\",\"Fiji Airways\",\"Garuda Indonesia\",\"Hawaiian Airlines\",\"Japan Airlines\",\"Jetstar\",\"Jetstar Asia\",\"Korean Air\",\"LATAM Airlines\",\"Malaysia Airlines\",\"Malindo Air\",\"Nauru Airlines\",\"Philippine Airlines\",\"Qantas Airways\",\"Qatar Airways\",\"Royal Brunei Airlines\",\"Scoot Tigerair\",\"Singapore Airlines\",\"Solomon Airlines\",\"SriLankan Airlines\",\"Thai Airways International\",\"United Airlines\",\"Vietnam Airlines\",\"Virgin Australia\",\"Xiamen Airlines\"],\"labels\":[\"ADL-DOH\",\"ADL-KUL\",\"ADL-SIN\",\"BNE-AKL\",\"BNE-CHC\",\"BNE-CNS-POM\",\"BNE-DOH\",\"BNE-DXB\",\"BNE-HIR\",\"BNE-INU\",\"BNE-KUL\",\"BNE-MNL\",\"BNE-NAN\",\"BNE-NOU\",\"BNE-POM\",\"BNE-SIN\",\"BNE-SIN\",\"BNE-TPE\",\"BNE-TPE\",\"BNE-VLI\",\"BNE-WLG\",\"CNS-SIN\",\"DRW-DIL\",\"DRW-SIN\",\"DRW-SIN\",\"MEL-ADL-DEL\",\"MEL-AKL\",\"MEL-AUH\",\"MEL-BKK\",\"MEL-BWN\",\"MEL-CHC\",\"MEL-CMB\",\"MEL-DEL\",\"MEL-DOH\",\"MEL-DPS\",\"MEL-DRW-LON\",\"MEL-DXB\",\"MEL-HKT\",\"MEL-HNL\",\"MEL-KUL\",\"MEL-LAX\",\"MEL-MNL\",\"MEL-NAN\",\"MEL-SGN\",\"MEL-SGN\",\"MEL-SIN\",\"MEL-SIN\",\"MEL-SIN\",\"MEL-SIN\",\"MEL-TPE\",\"MEL-TYO\",\"MEL-XMN\",\"PER-AKL\",\"PER-DOH\",\"PER-DXB\",\"PER-KUL\",\"PER-KUL\",\"PER-SIN\",\"PER-SIN\",\"PER-SIN\",\"PER-SIN\",\"SYD-ADL-DEL\",\"SYD-AKL\",\"SYD-AKL\",\"SYD-AKL-SCL\",\"SYD-AUH\",\"SYD-BKK\",\"SYD-BKK\",\"SYD-CAN\",\"SYD-CHC\",\"SYD-CMB\",\"SYD-DEL\",\"SYD-DFW\",\"SYD-DOH\",\"SYD-DPS\",\"SYD-DRW-LON\",\"SYD-DXB\",\"SYD-HAN\",\"SYD-HKT\",\"SYD-HKT-BKK\",\"SYD-HNL\",\"SYD-HNL\",\"SYD-HNL\",\"SYD-JKT\",\"SYD-JNB\",\"SYD-KMG\",\"SYD-KUL\",\"SYD-KUL\",\"SYD-LAX\",\"SYD-LAX\",\"SYD-LAX\",\"SYD-LAX\",\"SYD-MNL\",\"SYD-MNL\",\"SYD-NAN\",\"SYD-NAN\",\"SYD-NAN\",\"SYD-NAN\",\"SYD-NOU\",\"SYD-POM\",\"SYD-SEL\",\"SYD-SEL\",\"SYD-SFO\",\"SYD-SGN\",\"SYD-SHA\",\"SYD-SIN\",\"SYD-SIN\",\"SYD-SIN\",\"SYD-SIN-LON\",\"SYD-TPE\",\"SYD-TYO\",\"SYD-TYO\",\"SYD-VLI\",\"SYD-XMN\",\"SYD-YVR\",\"SYD-YVR\",\"Air Caledonie\",\"Air Canada\",\"Air India\",\"Air New Zealand\",\"Air Niugini\",\"Air Vanuatu\",\"AirAsia X\",\"All Nippon Airways\",\"American Airlines\",\"Asiana Airlines\",\"Bamboo Airways\",\"British Airways\",\"China Airlines\",\"China Eastern Airlines\",\"China Southern Airlines\",\"Delta Air Lines\",\"Emirates\",\"Etihad Airways\",\"Eva Air\",\"Fiji Airways\",\"Garuda Indonesia\",\"Hawaiian Airlines\",\"Japan Airlines\",\"Jetstar\",\"Jetstar Asia\",\"Korean Air\",\"LATAM Airlines\",\"Malaysia Airlines\",\"Malindo Air\",\"Nauru Airlines\",\"Philippine Airlines\",\"Qantas Airways\",\"Qatar Airways\",\"Royal Brunei Airlines\",\"Scoot Tigerair\",\"Singapore Airlines\",\"Solomon Airlines\",\"SriLankan Airlines\",\"Thai Airways International\",\"United Airlines\",\"Vietnam Airlines\",\"Virgin Australia\",\"Xiamen Airlines\"],\"name\":\"\",\"parents\":[\"Qatar Airways\",\"Malaysia Airlines\",\"Singapore Airlines\",\"Air New Zealand\",\"Air New Zealand\",\"Air Niugini\",\"Qatar Airways\",\"Emirates\",\"Solomon Airlines\",\"Nauru Airlines\",\"Malaysia Airlines\",\"Philippine Airlines\",\"Fiji Airways\",\"Air Caledonie\",\"Air Niugini\",\"Qantas Airways\",\"Singapore Airlines\",\"China Airlines\",\"Eva Air\",\"Air Vanuatu\",\"Air New Zealand\",\"Singapore Airlines\",\"Qantas Airways\",\"Jetstar Asia\",\"Singapore Airlines\",\"Qantas Airways\",\"Air New Zealand\",\"Etihad Airways\",\"Thai Airways International\",\"Royal Brunei Airlines\",\"Air New Zealand\",\"SriLankan Airlines\",\"Air India\",\"Qatar Airways\",\"Jetstar\",\"Qantas Airways\",\"Emirates\",\"Jetstar\",\"Jetstar\",\"Malaysia Airlines\",\"Qantas Airways\",\"Philippine Airlines\",\"Fiji Airways\",\"Bamboo Airways\",\"Vietnam Airlines\",\"Jetstar\",\"Qantas Airways\",\"Scoot Tigerair\",\"Singapore Airlines\",\"China Airlines\",\"Japan Airlines\",\"Xiamen Airlines\",\"Air New Zealand\",\"Qatar Airways\",\"Emirates\",\"Malaysia Airlines\",\"Malindo Air\",\"Jetstar Asia\",\"Qantas Airways\",\"Scoot Tigerair\",\"Singapore Airlines\",\"Qantas Airways\",\"Air New Zealand\",\"Qantas Airways\",\"LATAM Airlines\",\"Etihad Airways\",\"Qantas Airways\",\"Thai Airways International\",\"China Southern Airlines\",\"Air New Zealand\",\"SriLankan Airlines\",\"Air India\",\"Qantas Airways\",\"Qatar Airways\",\"Garuda Indonesia\",\"Qantas Airways\",\"Emirates\",\"Vietnam Airlines\",\"Jetstar\",\"Thai Airways International\",\"Hawaiian Airlines\",\"Jetstar\",\"Qantas Airways\",\"Garuda Indonesia\",\"Qantas Airways\",\"China Eastern Airlines\",\"AirAsia X\",\"Malaysia Airlines\",\"American Airlines\",\"Delta Air Lines\",\"Qantas Airways\",\"United Airlines\",\"Philippine Airlines\",\"Qantas Airways\",\"Fiji Airways\",\"Jetstar\",\"Qantas Airways\",\"Virgin Australia\",\"Air Caledonie\",\"Air Niugini\",\"Asiana Airlines\",\"Korean Air\",\"United Airlines\",\"Vietnam Airlines\",\"China Eastern Airlines\",\"Qantas Airways\",\"Scoot Tigerair\",\"Singapore Airlines\",\"British Airways\",\"China Airlines\",\"All Nippon Airways\",\"Japan Airlines\",\"Air Vanuatu\",\"Xiamen Airlines\",\"Air Canada\",\"Qantas Airways\",\"\",\"\",\"\",\"\",\"\",\"\",\"\",\"\",\"\",\"\",\"\",\"\",\"\",\"\",\"\",\"\",\"\",\"\",\"\",\"\",\"\",\"\",\"\",\"\",\"\",\"\",\"\",\"\",\"\",\"\",\"\",\"\",\"\",\"\",\"\",\"\",\"\",\"\",\"\",\"\",\"\",\"\",\"\"],\"values\":[12,2,20,23,12,8,31,31,4,5,2,4,13,5,24,2,77,4,2,2,1,2,1,9,1,36,33,21,4,7,14,26,18,30,8,58,31,9,6,24,21,9,22,4,13,13,17,32,93,4,9,4,5,25,13,7,5,6,1,31,80,30,37,18,2,24,14,22,4,13,19,20,18,31,3,60,60,4,4,20,18,13,3,5,16,2,4,17,27,30,32,31,13,5,50,12,9,13,9,4,9,9,31,13,3,30,33,97,6,4,22,15,1,5,14,12,14,14,38,138,36,3,4,22,27,9,4,6,12,5,4,30,135,45,2,85,8,18,24,65,15,9,2,52,5,5,26,383,129,7,96,370,4,45,46,62,30,13,9],\"type\":\"sunburst\"}],                        {\"template\":{\"data\":{\"histogram2dcontour\":[{\"type\":\"histogram2dcontour\",\"colorbar\":{\"outlinewidth\":0,\"ticks\":\"\"},\"colorscale\":[[0.0,\"#0d0887\"],[0.1111111111111111,\"#46039f\"],[0.2222222222222222,\"#7201a8\"],[0.3333333333333333,\"#9c179e\"],[0.4444444444444444,\"#bd3786\"],[0.5555555555555556,\"#d8576b\"],[0.6666666666666666,\"#ed7953\"],[0.7777777777777778,\"#fb9f3a\"],[0.8888888888888888,\"#fdca26\"],[1.0,\"#f0f921\"]]}],\"choropleth\":[{\"type\":\"choropleth\",\"colorbar\":{\"outlinewidth\":0,\"ticks\":\"\"}}],\"histogram2d\":[{\"type\":\"histogram2d\",\"colorbar\":{\"outlinewidth\":0,\"ticks\":\"\"},\"colorscale\":[[0.0,\"#0d0887\"],[0.1111111111111111,\"#46039f\"],[0.2222222222222222,\"#7201a8\"],[0.3333333333333333,\"#9c179e\"],[0.4444444444444444,\"#bd3786\"],[0.5555555555555556,\"#d8576b\"],[0.6666666666666666,\"#ed7953\"],[0.7777777777777778,\"#fb9f3a\"],[0.8888888888888888,\"#fdca26\"],[1.0,\"#f0f921\"]]}],\"heatmap\":[{\"type\":\"heatmap\",\"colorbar\":{\"outlinewidth\":0,\"ticks\":\"\"},\"colorscale\":[[0.0,\"#0d0887\"],[0.1111111111111111,\"#46039f\"],[0.2222222222222222,\"#7201a8\"],[0.3333333333333333,\"#9c179e\"],[0.4444444444444444,\"#bd3786\"],[0.5555555555555556,\"#d8576b\"],[0.6666666666666666,\"#ed7953\"],[0.7777777777777778,\"#fb9f3a\"],[0.8888888888888888,\"#fdca26\"],[1.0,\"#f0f921\"]]}],\"heatmapgl\":[{\"type\":\"heatmapgl\",\"colorbar\":{\"outlinewidth\":0,\"ticks\":\"\"},\"colorscale\":[[0.0,\"#0d0887\"],[0.1111111111111111,\"#46039f\"],[0.2222222222222222,\"#7201a8\"],[0.3333333333333333,\"#9c179e\"],[0.4444444444444444,\"#bd3786\"],[0.5555555555555556,\"#d8576b\"],[0.6666666666666666,\"#ed7953\"],[0.7777777777777778,\"#fb9f3a\"],[0.8888888888888888,\"#fdca26\"],[1.0,\"#f0f921\"]]}],\"contourcarpet\":[{\"type\":\"contourcarpet\",\"colorbar\":{\"outlinewidth\":0,\"ticks\":\"\"}}],\"contour\":[{\"type\":\"contour\",\"colorbar\":{\"outlinewidth\":0,\"ticks\":\"\"},\"colorscale\":[[0.0,\"#0d0887\"],[0.1111111111111111,\"#46039f\"],[0.2222222222222222,\"#7201a8\"],[0.3333333333333333,\"#9c179e\"],[0.4444444444444444,\"#bd3786\"],[0.5555555555555556,\"#d8576b\"],[0.6666666666666666,\"#ed7953\"],[0.7777777777777778,\"#fb9f3a\"],[0.8888888888888888,\"#fdca26\"],[1.0,\"#f0f921\"]]}],\"surface\":[{\"type\":\"surface\",\"colorbar\":{\"outlinewidth\":0,\"ticks\":\"\"},\"colorscale\":[[0.0,\"#0d0887\"],[0.1111111111111111,\"#46039f\"],[0.2222222222222222,\"#7201a8\"],[0.3333333333333333,\"#9c179e\"],[0.4444444444444444,\"#bd3786\"],[0.5555555555555556,\"#d8576b\"],[0.6666666666666666,\"#ed7953\"],[0.7777777777777778,\"#fb9f3a\"],[0.8888888888888888,\"#fdca26\"],[1.0,\"#f0f921\"]]}],\"mesh3d\":[{\"type\":\"mesh3d\",\"colorbar\":{\"outlinewidth\":0,\"ticks\":\"\"}}],\"scatter\":[{\"fillpattern\":{\"fillmode\":\"overlay\",\"size\":10,\"solidity\":0.2},\"type\":\"scatter\"}],\"parcoords\":[{\"type\":\"parcoords\",\"line\":{\"colorbar\":{\"outlinewidth\":0,\"ticks\":\"\"}}}],\"scatterpolargl\":[{\"type\":\"scatterpolargl\",\"marker\":{\"colorbar\":{\"outlinewidth\":0,\"ticks\":\"\"}}}],\"bar\":[{\"error_x\":{\"color\":\"#2a3f5f\"},\"error_y\":{\"color\":\"#2a3f5f\"},\"marker\":{\"line\":{\"color\":\"#E5ECF6\",\"width\":0.5},\"pattern\":{\"fillmode\":\"overlay\",\"size\":10,\"solidity\":0.2}},\"type\":\"bar\"}],\"scattergeo\":[{\"type\":\"scattergeo\",\"marker\":{\"colorbar\":{\"outlinewidth\":0,\"ticks\":\"\"}}}],\"scatterpolar\":[{\"type\":\"scatterpolar\",\"marker\":{\"colorbar\":{\"outlinewidth\":0,\"ticks\":\"\"}}}],\"histogram\":[{\"marker\":{\"pattern\":{\"fillmode\":\"overlay\",\"size\":10,\"solidity\":0.2}},\"type\":\"histogram\"}],\"scattergl\":[{\"type\":\"scattergl\",\"marker\":{\"colorbar\":{\"outlinewidth\":0,\"ticks\":\"\"}}}],\"scatter3d\":[{\"type\":\"scatter3d\",\"line\":{\"colorbar\":{\"outlinewidth\":0,\"ticks\":\"\"}},\"marker\":{\"colorbar\":{\"outlinewidth\":0,\"ticks\":\"\"}}}],\"scattermapbox\":[{\"type\":\"scattermapbox\",\"marker\":{\"colorbar\":{\"outlinewidth\":0,\"ticks\":\"\"}}}],\"scatterternary\":[{\"type\":\"scatterternary\",\"marker\":{\"colorbar\":{\"outlinewidth\":0,\"ticks\":\"\"}}}],\"scattercarpet\":[{\"type\":\"scattercarpet\",\"marker\":{\"colorbar\":{\"outlinewidth\":0,\"ticks\":\"\"}}}],\"carpet\":[{\"aaxis\":{\"endlinecolor\":\"#2a3f5f\",\"gridcolor\":\"white\",\"linecolor\":\"white\",\"minorgridcolor\":\"white\",\"startlinecolor\":\"#2a3f5f\"},\"baxis\":{\"endlinecolor\":\"#2a3f5f\",\"gridcolor\":\"white\",\"linecolor\":\"white\",\"minorgridcolor\":\"white\",\"startlinecolor\":\"#2a3f5f\"},\"type\":\"carpet\"}],\"table\":[{\"cells\":{\"fill\":{\"color\":\"#EBF0F8\"},\"line\":{\"color\":\"white\"}},\"header\":{\"fill\":{\"color\":\"#C8D4E3\"},\"line\":{\"color\":\"white\"}},\"type\":\"table\"}],\"barpolar\":[{\"marker\":{\"line\":{\"color\":\"#E5ECF6\",\"width\":0.5},\"pattern\":{\"fillmode\":\"overlay\",\"size\":10,\"solidity\":0.2}},\"type\":\"barpolar\"}],\"pie\":[{\"automargin\":true,\"type\":\"pie\"}]},\"layout\":{\"autotypenumbers\":\"strict\",\"colorway\":[\"#636efa\",\"#EF553B\",\"#00cc96\",\"#ab63fa\",\"#FFA15A\",\"#19d3f3\",\"#FF6692\",\"#B6E880\",\"#FF97FF\",\"#FECB52\"],\"font\":{\"color\":\"#2a3f5f\"},\"hovermode\":\"closest\",\"hoverlabel\":{\"align\":\"left\"},\"paper_bgcolor\":\"white\",\"plot_bgcolor\":\"#E5ECF6\",\"polar\":{\"bgcolor\":\"#E5ECF6\",\"angularaxis\":{\"gridcolor\":\"white\",\"linecolor\":\"white\",\"ticks\":\"\"},\"radialaxis\":{\"gridcolor\":\"white\",\"linecolor\":\"white\",\"ticks\":\"\"}},\"ternary\":{\"bgcolor\":\"#E5ECF6\",\"aaxis\":{\"gridcolor\":\"white\",\"linecolor\":\"white\",\"ticks\":\"\"},\"baxis\":{\"gridcolor\":\"white\",\"linecolor\":\"white\",\"ticks\":\"\"},\"caxis\":{\"gridcolor\":\"white\",\"linecolor\":\"white\",\"ticks\":\"\"}},\"coloraxis\":{\"colorbar\":{\"outlinewidth\":0,\"ticks\":\"\"}},\"colorscale\":{\"sequential\":[[0.0,\"#0d0887\"],[0.1111111111111111,\"#46039f\"],[0.2222222222222222,\"#7201a8\"],[0.3333333333333333,\"#9c179e\"],[0.4444444444444444,\"#bd3786\"],[0.5555555555555556,\"#d8576b\"],[0.6666666666666666,\"#ed7953\"],[0.7777777777777778,\"#fb9f3a\"],[0.8888888888888888,\"#fdca26\"],[1.0,\"#f0f921\"]],\"sequentialminus\":[[0.0,\"#0d0887\"],[0.1111111111111111,\"#46039f\"],[0.2222222222222222,\"#7201a8\"],[0.3333333333333333,\"#9c179e\"],[0.4444444444444444,\"#bd3786\"],[0.5555555555555556,\"#d8576b\"],[0.6666666666666666,\"#ed7953\"],[0.7777777777777778,\"#fb9f3a\"],[0.8888888888888888,\"#fdca26\"],[1.0,\"#f0f921\"]],\"diverging\":[[0,\"#8e0152\"],[0.1,\"#c51b7d\"],[0.2,\"#de77ae\"],[0.3,\"#f1b6da\"],[0.4,\"#fde0ef\"],[0.5,\"#f7f7f7\"],[0.6,\"#e6f5d0\"],[0.7,\"#b8e186\"],[0.8,\"#7fbc41\"],[0.9,\"#4d9221\"],[1,\"#276419\"]]},\"xaxis\":{\"gridcolor\":\"white\",\"linecolor\":\"white\",\"ticks\":\"\",\"title\":{\"standoff\":15},\"zerolinecolor\":\"white\",\"automargin\":true,\"zerolinewidth\":2},\"yaxis\":{\"gridcolor\":\"white\",\"linecolor\":\"white\",\"ticks\":\"\",\"title\":{\"standoff\":15},\"zerolinecolor\":\"white\",\"automargin\":true,\"zerolinewidth\":2},\"scene\":{\"xaxis\":{\"backgroundcolor\":\"#E5ECF6\",\"gridcolor\":\"white\",\"linecolor\":\"white\",\"showbackground\":true,\"ticks\":\"\",\"zerolinecolor\":\"white\",\"gridwidth\":2},\"yaxis\":{\"backgroundcolor\":\"#E5ECF6\",\"gridcolor\":\"white\",\"linecolor\":\"white\",\"showbackground\":true,\"ticks\":\"\",\"zerolinecolor\":\"white\",\"gridwidth\":2},\"zaxis\":{\"backgroundcolor\":\"#E5ECF6\",\"gridcolor\":\"white\",\"linecolor\":\"white\",\"showbackground\":true,\"ticks\":\"\",\"zerolinecolor\":\"white\",\"gridwidth\":2}},\"shapedefaults\":{\"line\":{\"color\":\"#2a3f5f\"}},\"annotationdefaults\":{\"arrowcolor\":\"#2a3f5f\",\"arrowhead\":0,\"arrowwidth\":1},\"geo\":{\"bgcolor\":\"white\",\"landcolor\":\"#E5ECF6\",\"subunitcolor\":\"white\",\"showland\":true,\"showlakes\":true,\"lakecolor\":\"white\"},\"title\":{\"x\":0.05},\"mapbox\":{\"style\":\"light\"}}},\"legend\":{\"tracegroupgap\":0},\"title\":{\"text\":\"Airline Routes Distribution Across Airlines\"},\"width\":900,\"height\":900},                        {\"responsive\": true}                    ).then(function(){\n",
       "                            \n",
       "var gd = document.getElementById('757754cc-4c83-422d-a912-82b2e3fc2544');\n",
       "var x = new MutationObserver(function (mutations, observer) {{\n",
       "        var display = window.getComputedStyle(gd).display;\n",
       "        if (!display || display === 'none') {{\n",
       "            console.log([gd, 'removed!']);\n",
       "            Plotly.purge(gd);\n",
       "            observer.disconnect();\n",
       "        }}\n",
       "}});\n",
       "\n",
       "// Listen for the removal of the full notebook cells\n",
       "var notebookContainer = gd.closest('#notebook-container');\n",
       "if (notebookContainer) {{\n",
       "    x.observe(notebookContainer, {childList: true});\n",
       "}}\n",
       "\n",
       "// Listen for the clearing of the current output cell\n",
       "var outputEl = gd.closest('.output');\n",
       "if (outputEl) {{\n",
       "    x.observe(outputEl, {childList: true});\n",
       "}}\n",
       "\n",
       "                        })                };                });            </script>        </div>"
      ]
     },
     "metadata": {},
     "output_type": "display_data"
    }
   ],
   "source": [
    "# Group by Airline and Route and calculate total flights\n",
    "airline_route_data = Flights_Out.groupby(['Airline', 'Route'])['All_Flights'].sum().reset_index()\n",
    "\n",
    "# Plot an interactive sunburst chart\n",
    "fig = px.sunburst(airline_route_data, path=['Airline', 'Route'], values='All_Flights',\n",
    "                  title='Airline Routes Distribution Across Airlines', labels={'All_Flights': 'Total Flights'})\n",
    "\n",
    "fig.update_layout(width=900, height=900)\n",
    "\n",
    "fig.show()"
   ]
  },
  {
   "cell_type": "markdown",
   "id": "355d7bbf-0e7b-46c2-9477-3b09a2a4706c",
   "metadata": {},
   "source": [
    "## 5) Average Maximum Seats in Flights Across Australian Cities - Shenae\n",
    "- seaborn and matplotlib.pyplot"
   ]
  },
  {
   "cell_type": "code",
   "execution_count": 39,
   "id": "9b0ec7d2-bad6-4cb4-842a-651e2ebf1fe0",
   "metadata": {},
   "outputs": [
    {
     "data": {
      "image/png": "[encoded data removed]",
      "text/plain": [
       "<Figure size 900x700 with 2 Axes>"
      ]
     },
     "metadata": {},
     "output_type": "display_data"
    }
   ],
   "source": [
    "# Pivot the data for creating a heatmap\n",
    "# Calculate the mean of 'Max_Seats' for each city in 'Australian_City' column\n",
    "heatmap_data = Flights_Out.pivot_table(values='Max_Seats', index='Australian_City', aggfunc='mean')\n",
    "\n",
    "# Plot a heatmap using Seaborn\n",
    "plt.figure(figsize=(9, 7))\n",
    "sns.heatmap(heatmap_data, cmap='YlGnBu', annot=True, fmt=\".1f\", linewidths=.9)\n",
    "plt.title('Average Maximum Seats in Flights Across Australian Cities')\n",
    "\n",
    "plt.show()"
   ]
  },
  {
   "cell_type": "markdown",
   "id": "dde13421-0da0-4994-9445-cd5659ea3bb1",
   "metadata": {},
   "source": [
    "## 6) Heatmap of busiest airports - Sookie"
   ]
  },
  {
   "cell_type": "code",
   "execution_count": 40,
   "id": "a8527f23-af62-4978-9795-af5c3a7dd0ae",
   "metadata": {},
   "outputs": [
    {
     "data": {
      "text/html": [
       "<div>\n",
       "<style scoped>\n",
       "    .dataframe tbody tr th:only-of-type {\n",
       "        vertical-align: middle;\n",
       "    }\n",
       "\n",
       "    .dataframe tbody tr th {\n",
       "        vertical-align: top;\n",
       "    }\n",
       "\n",
       "    .dataframe thead th {\n",
       "        text-align: right;\n",
       "    }\n",
       "</style>\n",
       "<table border=\"1\" class=\"dataframe\">\n",
       "  <thead>\n",
       "    <tr style=\"text-align: right;\">\n",
       "      <th></th>\n",
       "      <th>Australian_City</th>\n",
       "      <th>All_Flights</th>\n",
       "    </tr>\n",
       "  </thead>\n",
       "  <tbody>\n",
       "    <tr>\n",
       "      <th>6</th>\n",
       "      <td>Sydney</td>\n",
       "      <td>975</td>\n",
       "    </tr>\n",
       "    <tr>\n",
       "      <th>4</th>\n",
       "      <td>Melbourne</td>\n",
       "      <td>519</td>\n",
       "    </tr>\n",
       "    <tr>\n",
       "      <th>1</th>\n",
       "      <td>Brisbane</td>\n",
       "      <td>246</td>\n",
       "    </tr>\n",
       "    <tr>\n",
       "      <th>5</th>\n",
       "      <td>Perth</td>\n",
       "      <td>173</td>\n",
       "    </tr>\n",
       "    <tr>\n",
       "      <th>3</th>\n",
       "      <td>Darwin</td>\n",
       "      <td>70</td>\n",
       "    </tr>\n",
       "    <tr>\n",
       "      <th>0</th>\n",
       "      <td>Adelaide</td>\n",
       "      <td>67</td>\n",
       "    </tr>\n",
       "    <tr>\n",
       "      <th>2</th>\n",
       "      <td>Cairns</td>\n",
       "      <td>6</td>\n",
       "    </tr>\n",
       "  </tbody>\n",
       "</table>\n",
       "</div>"
      ],
      "text/plain": [
       "  Australian_City  All_Flights\n",
       "6          Sydney          975\n",
       "4       Melbourne          519\n",
       "1        Brisbane          246\n",
       "5           Perth          173\n",
       "3          Darwin           70\n",
       "0        Adelaide           67\n",
       "2          Cairns            6"
      ]
     },
     "execution_count": 40,
     "metadata": {},
     "output_type": "execute_result"
    }
   ],
   "source": [
    "# All flights and group by airport\n",
    "busiest_airports = Flights_Out.groupby('Australian_City')['All_Flights'].sum().reset_index()\n",
    "\n",
    "# Sort by total flights and display the result\n",
    "busiest_airports_sorted = busiest_airports.sort_values(by='All_Flights', ascending=False)\n",
    "busiest_airports_sorted"
   ]
  },
  {
   "cell_type": "code",
   "execution_count": 41,
   "id": "a57ca53a-9ff5-4e30-be8f-f43e9c825af0",
   "metadata": {},
   "outputs": [
    {
     "data": {
      "text/html": [
       "<div>\n",
       "<style scoped>\n",
       "    .dataframe tbody tr th:only-of-type {\n",
       "        vertical-align: middle;\n",
       "    }\n",
       "\n",
       "    .dataframe tbody tr th {\n",
       "        vertical-align: top;\n",
       "    }\n",
       "\n",
       "    .dataframe thead th {\n",
       "        text-align: right;\n",
       "    }\n",
       "</style>\n",
       "<table border=\"1\" class=\"dataframe\">\n",
       "  <thead>\n",
       "    <tr style=\"text-align: right;\">\n",
       "      <th></th>\n",
       "      <th>City</th>\n",
       "      <th>Latitude</th>\n",
       "      <th>Longitude</th>\n",
       "    </tr>\n",
       "  </thead>\n",
       "  <tbody>\n",
       "    <tr>\n",
       "      <th>0</th>\n",
       "      <td>Adelaide</td>\n",
       "      <td>-34.928181</td>\n",
       "      <td>138.599931</td>\n",
       "    </tr>\n",
       "    <tr>\n",
       "      <th>1</th>\n",
       "      <td>Brisbane</td>\n",
       "      <td>-27.468968</td>\n",
       "      <td>153.023499</td>\n",
       "    </tr>\n",
       "    <tr>\n",
       "      <th>2</th>\n",
       "      <td>Cairns</td>\n",
       "      <td>-16.920666</td>\n",
       "      <td>145.772185</td>\n",
       "    </tr>\n",
       "    <tr>\n",
       "      <th>3</th>\n",
       "      <td>Darwin</td>\n",
       "      <td>-12.460440</td>\n",
       "      <td>130.841047</td>\n",
       "    </tr>\n",
       "    <tr>\n",
       "      <th>4</th>\n",
       "      <td>Melbourne</td>\n",
       "      <td>-37.814245</td>\n",
       "      <td>144.963173</td>\n",
       "    </tr>\n",
       "    <tr>\n",
       "      <th>5</th>\n",
       "      <td>Perth</td>\n",
       "      <td>-31.955893</td>\n",
       "      <td>115.860585</td>\n",
       "    </tr>\n",
       "    <tr>\n",
       "      <th>6</th>\n",
       "      <td>Sydney</td>\n",
       "      <td>-33.869844</td>\n",
       "      <td>151.208285</td>\n",
       "    </tr>\n",
       "  </tbody>\n",
       "</table>\n",
       "</div>"
      ],
      "text/plain": [
       "        City   Latitude   Longitude\n",
       "0   Adelaide -34.928181  138.599931\n",
       "1   Brisbane -27.468968  153.023499\n",
       "2     Cairns -16.920666  145.772185\n",
       "3     Darwin -12.460440  130.841047\n",
       "4  Melbourne -37.814245  144.963173\n",
       "5      Perth -31.955893  115.860585\n",
       "6     Sydney -33.869844  151.208285"
      ]
     },
     "execution_count": 41,
     "metadata": {},
     "output_type": "execute_result"
    }
   ],
   "source": [
    "from geopy.geocoders import Nominatim\n",
    "\n",
    "# Create a list of city names\n",
    "airports = [\n",
    "    'Adelaide',\n",
    "    'Brisbane',\n",
    "    'Cairns',\n",
    "    'Darwin',\n",
    "    'Melbourne',\n",
    "    'Perth',\n",
    "    'Sydney']\n",
    "\n",
    "# Initialize a geolocator\n",
    "geolocator = Nominatim(user_agent='city_coordinates')\n",
    "\n",
    "# Function to get latitude and longitude for a city\n",
    "def get_lat_lon(city):\n",
    "    location = geolocator.geocode(city)\n",
    "    return (location.latitude, location.longitude) if location else (None, None)\n",
    "\n",
    "# Create a DataFrame to store the city coordinates\n",
    "airport_cities = pd.DataFrame({'City': airports})\n",
    "airport_cities['Latitude'], airport_cities['Longitude'] = zip(*airport_cities['City'].apply(get_lat_lon))\n",
    "\n",
    "airport_cities"
   ]
  },
  {
   "cell_type": "code",
   "execution_count": 42,
   "id": "d977f683-507d-453d-9821-c8322c0a00ad",
   "metadata": {},
   "outputs": [
    {
     "data": {
      "text/html": [
       "<div>\n",
       "<style scoped>\n",
       "    .dataframe tbody tr th:only-of-type {\n",
       "        vertical-align: middle;\n",
       "    }\n",
       "\n",
       "    .dataframe tbody tr th {\n",
       "        vertical-align: top;\n",
       "    }\n",
       "\n",
       "    .dataframe thead th {\n",
       "        text-align: right;\n",
       "    }\n",
       "</style>\n",
       "<table border=\"1\" class=\"dataframe\">\n",
       "  <thead>\n",
       "    <tr style=\"text-align: right;\">\n",
       "      <th></th>\n",
       "      <th>City</th>\n",
       "      <th>Latitude</th>\n",
       "      <th>Longitude</th>\n",
       "      <th>All_Flights</th>\n",
       "    </tr>\n",
       "  </thead>\n",
       "  <tbody>\n",
       "    <tr>\n",
       "      <th>0</th>\n",
       "      <td>Adelaide</td>\n",
       "      <td>-34.928181</td>\n",
       "      <td>138.599931</td>\n",
       "      <td>67</td>\n",
       "    </tr>\n",
       "    <tr>\n",
       "      <th>1</th>\n",
       "      <td>Brisbane</td>\n",
       "      <td>-27.468968</td>\n",
       "      <td>153.023499</td>\n",
       "      <td>246</td>\n",
       "    </tr>\n",
       "    <tr>\n",
       "      <th>2</th>\n",
       "      <td>Cairns</td>\n",
       "      <td>-16.920666</td>\n",
       "      <td>145.772185</td>\n",
       "      <td>6</td>\n",
       "    </tr>\n",
       "    <tr>\n",
       "      <th>3</th>\n",
       "      <td>Darwin</td>\n",
       "      <td>-12.460440</td>\n",
       "      <td>130.841047</td>\n",
       "      <td>70</td>\n",
       "    </tr>\n",
       "    <tr>\n",
       "      <th>4</th>\n",
       "      <td>Melbourne</td>\n",
       "      <td>-37.814245</td>\n",
       "      <td>144.963173</td>\n",
       "      <td>519</td>\n",
       "    </tr>\n",
       "    <tr>\n",
       "      <th>5</th>\n",
       "      <td>Perth</td>\n",
       "      <td>-31.955893</td>\n",
       "      <td>115.860585</td>\n",
       "      <td>173</td>\n",
       "    </tr>\n",
       "    <tr>\n",
       "      <th>6</th>\n",
       "      <td>Sydney</td>\n",
       "      <td>-33.869844</td>\n",
       "      <td>151.208285</td>\n",
       "      <td>975</td>\n",
       "    </tr>\n",
       "  </tbody>\n",
       "</table>\n",
       "</div>"
      ],
      "text/plain": [
       "        City   Latitude   Longitude  All_Flights\n",
       "0   Adelaide -34.928181  138.599931           67\n",
       "1   Brisbane -27.468968  153.023499          246\n",
       "2     Cairns -16.920666  145.772185            6\n",
       "3     Darwin -12.460440  130.841047           70\n",
       "4  Melbourne -37.814245  144.963173          519\n",
       "5      Perth -31.955893  115.860585          173\n",
       "6     Sydney -33.869844  151.208285          975"
      ]
     },
     "execution_count": 42,
     "metadata": {},
     "output_type": "execute_result"
    }
   ],
   "source": [
    "# Merge the two DataFrames based on the 'City' column\n",
    "merged_airports_data = pd.merge(airport_cities, busiest_airports, left_on='City', right_on='Australian_City', how='left')\n",
    "\n",
    "# Rearrange columns and drop the duplicate 'Australian_City' column\n",
    "merged_airports_data = merged_airports_data[['City', 'Latitude', 'Longitude', 'All_Flights']]\n",
    "\n",
    "merged_airports_data\n"
   ]
  },
  {
   "cell_type": "code",
   "execution_count": 43,
   "id": "f3a6421e-1583-4b75-81a2-c500f669d2e7",
   "metadata": {},
   "outputs": [
    {
     "data": {
      "text/html": [
       "<div style=\"width:100%;\"><div style=\"position:relative;width:100%;height:0;padding-bottom:60%;\"><span style=\"color:#565656\">Make this Notebook Trusted to load map: File -> Trust Notebook</span><iframe srcdoc=\"&lt;!DOCTYPE html&gt;\n",
       "&lt;html&gt;\n",
       "&lt;head&gt;\n",
       "    \n",
       "    &lt;meta http-equiv=&quot;content-type&quot; content=&quot;text/html; charset=UTF-8&quot; /&gt;\n",
       "    \n",
       "        &lt;script&gt;\n",
       "            L_NO_TOUCH = false;\n",
       "            L_DISABLE_3D = false;\n",
       "        &lt;/script&gt;\n",
       "    \n",
       "    &lt;style&gt;html, body {width: 100%;height: 100%;margin: 0;padding: 0;}&lt;/style&gt;\n",
       "    &lt;style&gt;#map {position:absolute;top:0;bottom:0;right:0;left:0;}&lt;/style&gt;\n",
       "    &lt;script src=&quot;https://cdn.jsdelivr.net/npm/leaflet@1.9.3/dist/leaflet.js&quot;&gt;&lt;/script&gt;\n",
       "    &lt;script src=&quot;https://code.jquery.com/jquery-3.7.1.min.js&quot;&gt;&lt;/script&gt;\n",
       "    &lt;script src=&quot;https://cdn.jsdelivr.net/npm/bootstrap@5.2.2/dist/js/bootstrap.bundle.min.js&quot;&gt;&lt;/script&gt;\n",
       "    &lt;script src=&quot;https://cdnjs.cloudflare.com/ajax/libs/Leaflet.awesome-markers/2.0.2/leaflet.awesome-markers.js&quot;&gt;&lt;/script&gt;\n",
       "    &lt;link rel=&quot;stylesheet&quot; href=&quot;https://cdn.jsdelivr.net/npm/leaflet@1.9.3/dist/leaflet.css&quot;/&gt;\n",
       "    &lt;link rel=&quot;stylesheet&quot; href=&quot;https://cdn.jsdelivr.net/npm/bootstrap@5.2.2/dist/css/bootstrap.min.css&quot;/&gt;\n",
       "    &lt;link rel=&quot;stylesheet&quot; href=&quot;https://netdna.bootstrapcdn.com/bootstrap/3.0.0/css/bootstrap.min.css&quot;/&gt;\n",
       "    &lt;link rel=&quot;stylesheet&quot; href=&quot;https://cdn.jsdelivr.net/npm/@fortawesome/fontawesome-free@6.2.0/css/all.min.css&quot;/&gt;\n",
       "    &lt;link rel=&quot;stylesheet&quot; href=&quot;https://cdnjs.cloudflare.com/ajax/libs/Leaflet.awesome-markers/2.0.2/leaflet.awesome-markers.css&quot;/&gt;\n",
       "    &lt;link rel=&quot;stylesheet&quot; href=&quot;https://cdn.jsdelivr.net/gh/python-visualization/folium/folium/templates/leaflet.awesome.rotate.min.css&quot;/&gt;\n",
       "    \n",
       "            &lt;meta name=&quot;viewport&quot; content=&quot;width=device-width,\n",
       "                initial-scale=1.0, maximum-scale=1.0, user-scalable=no&quot; /&gt;\n",
       "            &lt;style&gt;\n",
       "                #map_ba48eb490a818402153fa6074895c319 {\n",
       "                    position: relative;\n",
       "                    width: 100.0%;\n",
       "                    height: 100.0%;\n",
       "                    left: 0.0%;\n",
       "                    top: 0.0%;\n",
       "                }\n",
       "                .leaflet-container { font-size: 1rem; }\n",
       "            &lt;/style&gt;\n",
       "        \n",
       "    &lt;script src=&quot;https://cdn.jsdelivr.net/gh/python-visualization/folium@main/folium/templates/leaflet_heat.min.js&quot;&gt;&lt;/script&gt;\n",
       "&lt;/head&gt;\n",
       "&lt;body&gt;\n",
       "    \n",
       "    \n",
       "            &lt;div class=&quot;folium-map&quot; id=&quot;map_ba48eb490a818402153fa6074895c319&quot; &gt;&lt;/div&gt;\n",
       "        \n",
       "&lt;/body&gt;\n",
       "&lt;script&gt;\n",
       "    \n",
       "    \n",
       "            var map_ba48eb490a818402153fa6074895c319 = L.map(\n",
       "                &quot;map_ba48eb490a818402153fa6074895c319&quot;,\n",
       "                {\n",
       "                    center: [-25.2744, 133.7751],\n",
       "                    crs: L.CRS.EPSG3857,\n",
       "                    zoom: 4,\n",
       "                    zoomControl: true,\n",
       "                    preferCanvas: false,\n",
       "                }\n",
       "            );\n",
       "\n",
       "            \n",
       "\n",
       "        \n",
       "    \n",
       "            var tile_layer_4025efc509f0450c69d9cf58e1f7219a = L.tileLayer(\n",
       "                &quot;https://tile.openstreetmap.org/{z}/{x}/{y}.png&quot;,\n",
       "                {&quot;attribution&quot;: &quot;\\u0026copy; \\u003ca href=\\&quot;https://www.openstreetmap.org/copyright\\&quot;\\u003eOpenStreetMap\\u003c/a\\u003e contributors&quot;, &quot;detectRetina&quot;: false, &quot;maxNativeZoom&quot;: 19, &quot;maxZoom&quot;: 19, &quot;minZoom&quot;: 0, &quot;noWrap&quot;: false, &quot;opacity&quot;: 1, &quot;subdomains&quot;: &quot;abc&quot;, &quot;tms&quot;: false}\n",
       "            );\n",
       "        \n",
       "    \n",
       "            tile_layer_4025efc509f0450c69d9cf58e1f7219a.addTo(map_ba48eb490a818402153fa6074895c319);\n",
       "        \n",
       "    \n",
       "            var heat_map_38455d8916f229ea7ae19fb8a97bbadd = L.heatLayer(\n",
       "                [[-34.9281805, 138.5999312, 67.0], [-27.4689682, 153.0234991, 246.0], [-16.9206657, 145.7721854, 6.0], [-12.46044, 130.8410469, 70.0], [-37.8142454, 144.9631732, 519.0], [-31.9558933, 115.8605855, 173.0], [-33.8698439, 151.2082848, 975.0]],\n",
       "                {&quot;blur&quot;: 15, &quot;maxZoom&quot;: 18, &quot;minOpacity&quot;: 0.5, &quot;radius&quot;: 25}\n",
       "            );\n",
       "        \n",
       "    \n",
       "            heat_map_38455d8916f229ea7ae19fb8a97bbadd.addTo(map_ba48eb490a818402153fa6074895c319);\n",
       "        \n",
       "    \n",
       "            var marker_69fdce53b7ab76211bc8df9f28c2e23e = L.marker(\n",
       "                [-34.9281805, 138.5999312],\n",
       "                {}\n",
       "            ).addTo(map_ba48eb490a818402153fa6074895c319);\n",
       "        \n",
       "    \n",
       "        var popup_691059925a1cce092ebebaaf3ab99da9 = L.popup({&quot;maxWidth&quot;: &quot;100%&quot;});\n",
       "\n",
       "        \n",
       "            \n",
       "                var html_3c43b8504ec7d0aaf6eccb1b7b1ecae1 = $(`&lt;div id=&quot;html_3c43b8504ec7d0aaf6eccb1b7b1ecae1&quot; style=&quot;width: 100.0%; height: 100.0%;&quot;&gt;Adelaide: 67 flights&lt;/div&gt;`)[0];\n",
       "                popup_691059925a1cce092ebebaaf3ab99da9.setContent(html_3c43b8504ec7d0aaf6eccb1b7b1ecae1);\n",
       "            \n",
       "        \n",
       "\n",
       "        marker_69fdce53b7ab76211bc8df9f28c2e23e.bindPopup(popup_691059925a1cce092ebebaaf3ab99da9)\n",
       "        ;\n",
       "\n",
       "        \n",
       "    \n",
       "    \n",
       "            var marker_c32c7076b284a00028d546e1e51aaec5 = L.marker(\n",
       "                [-27.4689682, 153.0234991],\n",
       "                {}\n",
       "            ).addTo(map_ba48eb490a818402153fa6074895c319);\n",
       "        \n",
       "    \n",
       "        var popup_0af6a3b59db965a276c2fd1d02f30b6c = L.popup({&quot;maxWidth&quot;: &quot;100%&quot;});\n",
       "\n",
       "        \n",
       "            \n",
       "                var html_86afccb04ef2853c8728f3f50cc53049 = $(`&lt;div id=&quot;html_86afccb04ef2853c8728f3f50cc53049&quot; style=&quot;width: 100.0%; height: 100.0%;&quot;&gt;Brisbane: 246 flights&lt;/div&gt;`)[0];\n",
       "                popup_0af6a3b59db965a276c2fd1d02f30b6c.setContent(html_86afccb04ef2853c8728f3f50cc53049);\n",
       "            \n",
       "        \n",
       "\n",
       "        marker_c32c7076b284a00028d546e1e51aaec5.bindPopup(popup_0af6a3b59db965a276c2fd1d02f30b6c)\n",
       "        ;\n",
       "\n",
       "        \n",
       "    \n",
       "    \n",
       "            var marker_5f40b5f07c0dad79fe4899b6a5754e53 = L.marker(\n",
       "                [-16.9206657, 145.7721854],\n",
       "                {}\n",
       "            ).addTo(map_ba48eb490a818402153fa6074895c319);\n",
       "        \n",
       "    \n",
       "        var popup_467724c973b3588b5d97e25fd8cd4849 = L.popup({&quot;maxWidth&quot;: &quot;100%&quot;});\n",
       "\n",
       "        \n",
       "            \n",
       "                var html_55b6bf8a18fc54f99a451acfe68d0b6c = $(`&lt;div id=&quot;html_55b6bf8a18fc54f99a451acfe68d0b6c&quot; style=&quot;width: 100.0%; height: 100.0%;&quot;&gt;Cairns: 6 flights&lt;/div&gt;`)[0];\n",
       "                popup_467724c973b3588b5d97e25fd8cd4849.setContent(html_55b6bf8a18fc54f99a451acfe68d0b6c);\n",
       "            \n",
       "        \n",
       "\n",
       "        marker_5f40b5f07c0dad79fe4899b6a5754e53.bindPopup(popup_467724c973b3588b5d97e25fd8cd4849)\n",
       "        ;\n",
       "\n",
       "        \n",
       "    \n",
       "    \n",
       "            var marker_7c21101b303c6a3351fdc49f9a05e568 = L.marker(\n",
       "                [-12.46044, 130.8410469],\n",
       "                {}\n",
       "            ).addTo(map_ba48eb490a818402153fa6074895c319);\n",
       "        \n",
       "    \n",
       "        var popup_118507f4ee003569b32296b891764628 = L.popup({&quot;maxWidth&quot;: &quot;100%&quot;});\n",
       "\n",
       "        \n",
       "            \n",
       "                var html_e2c7bf0312d9e9bf25adc4a19f7bda46 = $(`&lt;div id=&quot;html_e2c7bf0312d9e9bf25adc4a19f7bda46&quot; style=&quot;width: 100.0%; height: 100.0%;&quot;&gt;Darwin: 70 flights&lt;/div&gt;`)[0];\n",
       "                popup_118507f4ee003569b32296b891764628.setContent(html_e2c7bf0312d9e9bf25adc4a19f7bda46);\n",
       "            \n",
       "        \n",
       "\n",
       "        marker_7c21101b303c6a3351fdc49f9a05e568.bindPopup(popup_118507f4ee003569b32296b891764628)\n",
       "        ;\n",
       "\n",
       "        \n",
       "    \n",
       "    \n",
       "            var marker_055dbf5905e40378594d5ff0b621763a = L.marker(\n",
       "                [-37.8142454, 144.9631732],\n",
       "                {}\n",
       "            ).addTo(map_ba48eb490a818402153fa6074895c319);\n",
       "        \n",
       "    \n",
       "        var popup_cb63ab5b87d89470903ab03f0d499ac2 = L.popup({&quot;maxWidth&quot;: &quot;100%&quot;});\n",
       "\n",
       "        \n",
       "            \n",
       "                var html_6d125bf4f6360bc75f1308d82eee9017 = $(`&lt;div id=&quot;html_6d125bf4f6360bc75f1308d82eee9017&quot; style=&quot;width: 100.0%; height: 100.0%;&quot;&gt;Melbourne: 519 flights&lt;/div&gt;`)[0];\n",
       "                popup_cb63ab5b87d89470903ab03f0d499ac2.setContent(html_6d125bf4f6360bc75f1308d82eee9017);\n",
       "            \n",
       "        \n",
       "\n",
       "        marker_055dbf5905e40378594d5ff0b621763a.bindPopup(popup_cb63ab5b87d89470903ab03f0d499ac2)\n",
       "        ;\n",
       "\n",
       "        \n",
       "    \n",
       "    \n",
       "            var marker_283089857ebaf4007fa9b90a31ac1d93 = L.marker(\n",
       "                [-31.9558933, 115.8605855],\n",
       "                {}\n",
       "            ).addTo(map_ba48eb490a818402153fa6074895c319);\n",
       "        \n",
       "    \n",
       "        var popup_fb10484792807fe17596ecd3930c9e7b = L.popup({&quot;maxWidth&quot;: &quot;100%&quot;});\n",
       "\n",
       "        \n",
       "            \n",
       "                var html_b5d443e8388f8903f22ac65f2ead589c = $(`&lt;div id=&quot;html_b5d443e8388f8903f22ac65f2ead589c&quot; style=&quot;width: 100.0%; height: 100.0%;&quot;&gt;Perth: 173 flights&lt;/div&gt;`)[0];\n",
       "                popup_fb10484792807fe17596ecd3930c9e7b.setContent(html_b5d443e8388f8903f22ac65f2ead589c);\n",
       "            \n",
       "        \n",
       "\n",
       "        marker_283089857ebaf4007fa9b90a31ac1d93.bindPopup(popup_fb10484792807fe17596ecd3930c9e7b)\n",
       "        ;\n",
       "\n",
       "        \n",
       "    \n",
       "    \n",
       "            var marker_1889af7b67f47f014f6bf6cf7bd3f9b1 = L.marker(\n",
       "                [-33.8698439, 151.2082848],\n",
       "                {}\n",
       "            ).addTo(map_ba48eb490a818402153fa6074895c319);\n",
       "        \n",
       "    \n",
       "        var popup_3cf58f60d23503dda47072b85c842f42 = L.popup({&quot;maxWidth&quot;: &quot;100%&quot;});\n",
       "\n",
       "        \n",
       "            \n",
       "                var html_24e0b6024e41e0babb9bb418cb27f4b8 = $(`&lt;div id=&quot;html_24e0b6024e41e0babb9bb418cb27f4b8&quot; style=&quot;width: 100.0%; height: 100.0%;&quot;&gt;Sydney: 975 flights&lt;/div&gt;`)[0];\n",
       "                popup_3cf58f60d23503dda47072b85c842f42.setContent(html_24e0b6024e41e0babb9bb418cb27f4b8);\n",
       "            \n",
       "        \n",
       "\n",
       "        marker_1889af7b67f47f014f6bf6cf7bd3f9b1.bindPopup(popup_3cf58f60d23503dda47072b85c842f42)\n",
       "        ;\n",
       "\n",
       "        \n",
       "    \n",
       "&lt;/script&gt;\n",
       "&lt;/html&gt;\" style=\"position:absolute;width:100%;height:100%;left:0;top:0;border:none !important;\" allowfullscreen webkitallowfullscreen mozallowfullscreen></iframe></div></div>"
      ],
      "text/plain": [
       "<folium.folium.Map at 0x1ac20a79350>"
      ]
     },
     "execution_count": 43,
     "metadata": {},
     "output_type": "execute_result"
    }
   ],
   "source": [
    "import folium\n",
    "from folium.plugins import HeatMap\n",
    "\n",
    "# Create a folium map centered around a location that is centered around Australia\n",
    "map_center = [-25.2744, 133.7751]  \n",
    "airport_heatmap = folium.Map(location=map_center, zoom_start=4)\n",
    "\n",
    "# Add a heatmap layer based on the 'All_Flights' amount\n",
    "heat_data = merged_airports_data[['Latitude', 'Longitude', 'All_Flights']].values.tolist()\n",
    "HeatMap(heat_data, radius=25).add_to(airport_heatmap)\n",
    "\n",
    "# Add markers for each airport city\n",
    "for index, row in merged_airports_data.iterrows():\n",
    "    folium.Marker([row['Latitude'], row['Longitude']], popup=f\"{row['City']}: {row['All_Flights']} flights\").add_to(airport_heatmap)\n",
    "\n",
    "airport_heatmap\n"
   ]
  },
  {
   "cell_type": "markdown",
   "id": "55bd63fc-bd87-4c4d-a703-ad527e276eda",
   "metadata": {},
   "source": [
    "## 7) Top Routes filtered by Airways -Sookie\n",
    "- Plotly Express library used to produce the bar chart\n",
    "- IPython.display used to display rich content\n",
    "- ipywidgets library used to produce the interactive dropdown menu"
   ]
  },
  {
   "cell_type": "code",
   "execution_count": 44,
   "id": "e5cd872b-eea0-4558-8619-25c52533562b",
   "metadata": {},
   "outputs": [
    {
     "data": {
      "application/vnd.jupyter.widget-view+json": {
       "model_id": "8fbd3b1d2f294299921d22a003c54e4e",
       "version_major": 2,
       "version_minor": 0
      },
      "text/plain": [
       "interactive(children=(Dropdown(description='Airline:', options=('Qatar Airways', 'Malaysia Airlines', 'Qantas …"
      ]
     },
     "execution_count": 44,
     "metadata": {},
     "output_type": "execute_result"
    }
   ],
   "source": [
    "import plotly.express as px\n",
    "from IPython.display import display\n",
    "import ipywidgets as widgets\n",
    "\n",
    "# Get unique airlines for dropdown\n",
    "airlines_list = Flights_Out['Airline'].unique()\n",
    "\n",
    "# Dropdown for selecting airline\n",
    "dropdown_airline = widgets.Dropdown(options=airlines_list, value=airlines_list[0], description='Airline:')\n",
    "\n",
    "# Function to update the visual based on the selected airline\n",
    "def update_chart(selected_airline):\n",
    "    # Filter the DataFrame for the selected airline\n",
    "    airline_data = Flights_Out[Flights_Out['Airline'] == selected_airline]\n",
    "\n",
    "    # Group by Route and calculate total flights\n",
    "    top_routes_airline = airline_data.groupby('Route')['All_Flights'].sum().reset_index()\n",
    "\n",
    "    # Sort by total flights and get the top routes\n",
    "    top_routes_airline = top_routes_airline.sort_values(by='All_Flights', ascending=False).head(5)\n",
    "\n",
    "    # Create a bar chart using Plotly Express\n",
    "    fig = px.bar(top_routes_airline, x='Route', y='All_Flights',\n",
    "                 title=f'Top Routes for {selected_airline}',\n",
    "                 labels={'All_Flights': 'Total Flights', 'Route': 'Route'},\n",
    "                 color='All_Flights',\n",
    "                 color_continuous_scale='sunset',\n",
    "                 hover_name='Route')\n",
    "\n",
    "    # Customize the layout\n",
    "    fig.update_layout(xaxis_title='Route', yaxis_title='Total Flights',\n",
    "                      xaxis=dict(tickangle=45),\n",
    "                      showlegend=True,\n",
    "                      height=600)\n",
    "\n",
    "    fig.show()\n",
    "\n",
    "# Use interactive widgets to update the chart\n",
    "widgets.interactive(update_chart, selected_airline=dropdown_airline)"
   ]
  },
  {
   "cell_type": "markdown",
   "id": "a93345f7-2184-46e1-979b-d368a204b872",
   "metadata": {},
   "source": [
    "## 8) Top Airlines based on the amount of Flights - Swapna\n",
    "- ipywidgets as widgets\n",
    "- ipywidgets import interact\n",
    "- folium\n",
    "- geopy.geocoders import Nominatim\n",
    "- IPython.display import display"
   ]
  },
  {
   "cell_type": "code",
   "execution_count": 45,
   "id": "2689ff91-699d-418b-9551-98e242f6dd4a",
   "metadata": {},
   "outputs": [
    {
     "data": {
      "application/vnd.jupyter.widget-view+json": {
       "model_id": "fc35e1567376434fa5ea73e8290916b0",
       "version_major": 2,
       "version_minor": 0
      },
      "text/plain": [
       "interactive(children=(Dropdown(description='Australian City:', options=('Adelaide', 'Brisbane', 'Cairns', 'Dar…"
      ]
     },
     "metadata": {},
     "output_type": "display_data"
    }
   ],
   "source": [
    "import pandas as pd\n",
    "import ipywidgets as widgets\n",
    "from ipywidgets import interact\n",
    "import folium\n",
    "from geopy.geocoders import Nominatim\n",
    "from IPython.display import display\n",
    "\n",
    "# Create a geocoder\n",
    "geolocator = Nominatim(user_agent=\"my_geocoder\")\n",
    "\n",
    "# Function to get latitude and longitude for a given city\n",
    "def get_lat_lon(city):\n",
    "    try:\n",
    "        location = geolocator.geocode(city)\n",
    "        if location:\n",
    "            return location.latitude, location.longitude\n",
    "        else:\n",
    "            return None, None\n",
    "    except Exception as e:\n",
    "        print(f\"Error geocoding {city}: {e}\")\n",
    "        return None, None\n",
    "\n",
    "# Create a dropdown widget to select departing cities within Australia\n",
    "city_dropdown = widgets.Dropdown(\n",
    "    options=Flights_Out['Australian_City'].unique(),\n",
    "    value=Flights_Out['Australian_City'].iloc[0],\n",
    "    description='Australian City:',\n",
    ")\n",
    "\n",
    "# Create an initial list of international cities based on the first Australian city\n",
    "initial_international_cities = Flights_Out[Flights_Out['Australian_City'] == city_dropdown.value]['International_City'].unique()\n",
    "\n",
    "# Create a dropdown widget for selecting the related international city based on the selected Australian city\n",
    "international_city_dropdown = widgets.Dropdown(\n",
    "    options=initial_international_cities,\n",
    "    value=initial_international_cities[0],\n",
    "    description='International City:',\n",
    ")\n",
    "\n",
    "# Create a dropdown widget for selecting the airline based on the selected international city\n",
    "initial_airlines = Flights_Out[Flights_Out['International_City'] == international_city_dropdown.value]['Airline'].unique()\n",
    "airline_dropdown = widgets.Dropdown(\n",
    "    options=initial_airlines,\n",
    "    value=initial_airlines[0],\n",
    "    description='Airline:',\n",
    ")\n",
    "\n",
    "# Function to update the second dropdown based on the selected Australian city\n",
    "def update_international_city_dropdown(change):\n",
    "    new_international_cities = Flights_Out[Flights_Out['Australian_City'] == change.new]['International_City'].unique()\n",
    "    international_city_dropdown.options = new_international_cities\n",
    "    international_city_dropdown.value = new_international_cities[0]\n",
    "\n",
    "# Function to update the third dropdown based on the selected international city\n",
    "def update_airline_dropdown(change):\n",
    "    new_airlines = Flights_Out[Flights_Out['International_City'] == change.new]['Airline'].unique()\n",
    "    airline_dropdown.options = new_airlines\n",
    "    airline_dropdown.value = new_airlines[0]\n",
    "\n",
    "# Connect the widgets to the update functions\n",
    "city_dropdown.observe(update_international_city_dropdown, names='value')\n",
    "international_city_dropdown.observe(update_airline_dropdown, names='value')\n",
    "\n",
    "# Function to display flights and map\n",
    "@interact(Australian_City=city_dropdown, International_City=international_city_dropdown, Airline=airline_dropdown)\n",
    "def display_flights(Australian_City, International_City, Airline):\n",
    "    selected_data = Flights_Out[(Flights_Out['Australian_City'] == Australian_City) & \n",
    "                                (Flights_Out['International_City'] == International_City) & \n",
    "                                (Flights_Out['Airline'] == Airline)]\n",
    "    \n",
    "    if selected_data.empty:\n",
    "        display(\"No matching data found.\")\n",
    "    else:\n",
    "        # Display the number of flights\n",
    "        num_flights = selected_data['All_Flights'].iloc[0]\n",
    "        display(f\"The number of flights are: {num_flights}\")\n",
    "\n",
    "        # Get coordinates for selected cities\n",
    "        aus_lat, aus_lon = get_lat_lon(Australian_City)\n",
    "        int_lat, int_lon = get_lat_lon(International_City)\n",
    "\n",
    "        # Create a folium map centered around the selected Australian city\n",
    "        map_center = [aus_lat, aus_lon]\n",
    "        \n",
    "        # Adjust the width and height parameters to set the size of the map\n",
    "        my_map = folium.Map(location=map_center, zoom_start=2, width='100%', height='650px')\n",
    "\n",
    "        # Add circle markers for the selected Australian city and international city\n",
    "        folium.CircleMarker(location=[aus_lat, aus_lon],\n",
    "                            radius=num_flights/10 if not pd.isnull(num_flights) else 2,  # Adjust the scale as needed\n",
    "                            popup=f'<strong>{Australian_City}</strong><br>{num_flights} flights',\n",
    "                            color='blue',\n",
    "                            fill=True,\n",
    "                            fill_color='#a6bddb',  # Lighter shade of blue\n",
    "                            fill_opacity=0.7).add_to(my_map)\n",
    "\n",
    "        folium.CircleMarker(location=[int_lat, int_lon],\n",
    "                            radius=2,\n",
    "                            popup=f'<strong>{International_City}</strong>',\n",
    "                            color='green',\n",
    "                            fill=True,\n",
    "                            fill_color='#c7e9c0',  # Lighter shade of green\n",
    "                            fill_opacity=0.7).add_to(my_map)\n",
    "\n",
    "        # Draw a line between the selected cities\n",
    "        line = folium.PolyLine(locations=[(aus_lat, aus_lon), (int_lat, int_lon)],\n",
    "                               color='red').add_to(my_map)\n",
    "\n",
    "        # Display the map\n",
    "        display(my_map)\n"
   ]
  },
  {
   "cell_type": "code",
   "execution_count": null,
   "id": "e994ce12-eb20-4b93-90be-411adbc9d566",
   "metadata": {},
   "outputs": [],
   "source": []
  },
  {
   "cell_type": "code",
   "execution_count": null,
   "id": "e7ea552e-24a0-487d-90a5-000769f80bdc",
   "metadata": {},
   "outputs": [],
   "source": []
  }
 ],
 "metadata": {
  "kernelspec": {
   "display_name": "Python 3 (ipykernel)",
   "language": "python",
   "name": "python3"
  },
  "language_info": {
   "codemirror_mode": {
    "name": "ipython",
    "version": 3
   },
   "file_extension": ".py",
   "mimetype": "text/x-python",
   "name": "python",
   "nbconvert_exporter": "python",
   "pygments_lexer": "ipython3",
   "version": "3.11.5"
  }
 },
 "nbformat": 4,
 "nbformat_minor": 5
}
